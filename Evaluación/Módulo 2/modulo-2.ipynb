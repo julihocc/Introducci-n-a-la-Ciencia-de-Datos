{
 "cells": [
  {
   "cell_type": "markdown",
   "metadata": {},
   "source": [
    "# Introducción a la Ciencia de Datos+\n",
    "## Módulo 2: Estadística\n",
    "**Dr. Juliho Castillo Colmenares, INFOTEC**\n",
    "\n",
    "En este módulo, introduciremos los conceptos estadísticos más básicos, que nos permitirán analizar de manera más profunda nuestros datos. Con este objetivo, desarrollaremos proyecciones de la producción de carne a nivel global."
   ]
  },
  {
   "cell_type": "markdown",
   "metadata": {},
   "source": [
    "### Exploración de datos"
   ]
  },
  {
   "cell_type": "code",
   "execution_count": 1,
   "metadata": {},
   "outputs": [],
   "source": [
    "\"\"\"\n",
    "Importamos las librerías que utilizaremos en este proyecto\n",
    "\"\"\"\n",
    "import numpy as np\n",
    "import pandas as pd\n",
    "import matplotlib.pyplot as plt\n",
    "import seaborn as sns\n",
    "from scipy import stats\n",
    "import statsmodels.api as sm\n",
    "from sklearn.linear_model import LinearRegression"
   ]
  },
  {
   "cell_type": "code",
   "execution_count": 2,
   "metadata": {},
   "outputs": [
    {
     "data": {
      "text/html": [
       "<div>\n",
       "<style scoped>\n",
       "    .dataframe tbody tr th:only-of-type {\n",
       "        vertical-align: middle;\n",
       "    }\n",
       "\n",
       "    .dataframe tbody tr th {\n",
       "        vertical-align: top;\n",
       "    }\n",
       "\n",
       "    .dataframe thead th {\n",
       "        text-align: right;\n",
       "    }\n",
       "</style>\n",
       "<table border=\"1\" class=\"dataframe\">\n",
       "  <thead>\n",
       "    <tr style=\"text-align: right;\">\n",
       "      <th></th>\n",
       "      <th>Entity</th>\n",
       "      <th>Code</th>\n",
       "      <th>Year</th>\n",
       "      <th>Livestock Primary - Sheep and Goat Meat - 1807 - Production - 5510 - tonnes</th>\n",
       "      <th>Livestock Primary - Beef and Buffalo Meat - 1806 - Production - 5510 - tonnes</th>\n",
       "      <th>Livestock Primary - Meat, pig - 1035 - Production - 5510 - tonnes</th>\n",
       "      <th>Livestock Primary - Meat, game - 1163 - Production - 5510 - tonnes</th>\n",
       "      <th>Livestock Primary - Meat, duck - 1069 - Production - 5510 - tonnes</th>\n",
       "      <th>Livestock Primary - Meat, Poultry - 1808 - Production - 5510 - tonnes</th>\n",
       "      <th>Livestock Primary - Meat, horse - 1097 - Production - 5510 - tonnes</th>\n",
       "      <th>Livestock Primary - Meat, camel - 1127 - Production - 5510 - tonnes</th>\n",
       "      <th>Livestock Primary - Meat, goose and guinea fowl - 1073 - Production - 5510 - tonnes</th>\n",
       "    </tr>\n",
       "  </thead>\n",
       "  <tbody>\n",
       "    <tr>\n",
       "      <th>0</th>\n",
       "      <td>Afghanistan</td>\n",
       "      <td>AFG</td>\n",
       "      <td>1961</td>\n",
       "      <td>73220.0</td>\n",
       "      <td>43000.0</td>\n",
       "      <td>NaN</td>\n",
       "      <td>4000.0</td>\n",
       "      <td>NaN</td>\n",
       "      <td>5600.0</td>\n",
       "      <td>NaN</td>\n",
       "      <td>3600.0</td>\n",
       "      <td>NaN</td>\n",
       "    </tr>\n",
       "    <tr>\n",
       "      <th>1</th>\n",
       "      <td>Afghanistan</td>\n",
       "      <td>AFG</td>\n",
       "      <td>1962</td>\n",
       "      <td>72375.0</td>\n",
       "      <td>45800.0</td>\n",
       "      <td>NaN</td>\n",
       "      <td>4000.0</td>\n",
       "      <td>NaN</td>\n",
       "      <td>6000.0</td>\n",
       "      <td>NaN</td>\n",
       "      <td>4031.0</td>\n",
       "      <td>NaN</td>\n",
       "    </tr>\n",
       "    <tr>\n",
       "      <th>2</th>\n",
       "      <td>Afghanistan</td>\n",
       "      <td>AFG</td>\n",
       "      <td>1963</td>\n",
       "      <td>75530.0</td>\n",
       "      <td>47250.0</td>\n",
       "      <td>NaN</td>\n",
       "      <td>5000.0</td>\n",
       "      <td>NaN</td>\n",
       "      <td>6160.0</td>\n",
       "      <td>NaN</td>\n",
       "      <td>5031.0</td>\n",
       "      <td>NaN</td>\n",
       "    </tr>\n",
       "    <tr>\n",
       "      <th>3</th>\n",
       "      <td>Afghanistan</td>\n",
       "      <td>AFG</td>\n",
       "      <td>1964</td>\n",
       "      <td>79750.0</td>\n",
       "      <td>48000.0</td>\n",
       "      <td>NaN</td>\n",
       "      <td>5000.0</td>\n",
       "      <td>NaN</td>\n",
       "      <td>6400.0</td>\n",
       "      <td>NaN</td>\n",
       "      <td>4680.0</td>\n",
       "      <td>NaN</td>\n",
       "    </tr>\n",
       "    <tr>\n",
       "      <th>4</th>\n",
       "      <td>Afghanistan</td>\n",
       "      <td>AFG</td>\n",
       "      <td>1965</td>\n",
       "      <td>84375.0</td>\n",
       "      <td>48700.0</td>\n",
       "      <td>NaN</td>\n",
       "      <td>6000.0</td>\n",
       "      <td>NaN</td>\n",
       "      <td>6800.0</td>\n",
       "      <td>NaN</td>\n",
       "      <td>4320.0</td>\n",
       "      <td>NaN</td>\n",
       "    </tr>\n",
       "  </tbody>\n",
       "</table>\n",
       "</div>"
      ],
      "text/plain": [
       "        Entity Code  Year  \\\n",
       "0  Afghanistan  AFG  1961   \n",
       "1  Afghanistan  AFG  1962   \n",
       "2  Afghanistan  AFG  1963   \n",
       "3  Afghanistan  AFG  1964   \n",
       "4  Afghanistan  AFG  1965   \n",
       "\n",
       "   Livestock Primary - Sheep and Goat Meat - 1807 - Production - 5510 - tonnes  \\\n",
       "0                                            73220.0                             \n",
       "1                                            72375.0                             \n",
       "2                                            75530.0                             \n",
       "3                                            79750.0                             \n",
       "4                                            84375.0                             \n",
       "\n",
       "   Livestock Primary - Beef and Buffalo Meat - 1806 - Production - 5510 - tonnes  \\\n",
       "0                                            43000.0                               \n",
       "1                                            45800.0                               \n",
       "2                                            47250.0                               \n",
       "3                                            48000.0                               \n",
       "4                                            48700.0                               \n",
       "\n",
       "   Livestock Primary - Meat, pig - 1035 - Production - 5510 - tonnes  \\\n",
       "0                                                NaN                   \n",
       "1                                                NaN                   \n",
       "2                                                NaN                   \n",
       "3                                                NaN                   \n",
       "4                                                NaN                   \n",
       "\n",
       "   Livestock Primary - Meat, game - 1163 - Production - 5510 - tonnes  \\\n",
       "0                                             4000.0                    \n",
       "1                                             4000.0                    \n",
       "2                                             5000.0                    \n",
       "3                                             5000.0                    \n",
       "4                                             6000.0                    \n",
       "\n",
       "   Livestock Primary - Meat, duck - 1069 - Production - 5510 - tonnes  \\\n",
       "0                                                NaN                    \n",
       "1                                                NaN                    \n",
       "2                                                NaN                    \n",
       "3                                                NaN                    \n",
       "4                                                NaN                    \n",
       "\n",
       "   Livestock Primary - Meat, Poultry - 1808 - Production - 5510 - tonnes  \\\n",
       "0                                             5600.0                       \n",
       "1                                             6000.0                       \n",
       "2                                             6160.0                       \n",
       "3                                             6400.0                       \n",
       "4                                             6800.0                       \n",
       "\n",
       "   Livestock Primary - Meat, horse - 1097 - Production - 5510 - tonnes  \\\n",
       "0                                                NaN                     \n",
       "1                                                NaN                     \n",
       "2                                                NaN                     \n",
       "3                                                NaN                     \n",
       "4                                                NaN                     \n",
       "\n",
       "   Livestock Primary - Meat, camel - 1127 - Production - 5510 - tonnes  \\\n",
       "0                                             3600.0                     \n",
       "1                                             4031.0                     \n",
       "2                                             5031.0                     \n",
       "3                                             4680.0                     \n",
       "4                                             4320.0                     \n",
       "\n",
       "   Livestock Primary - Meat, goose and guinea fowl - 1073 - Production - 5510 - tonnes  \n",
       "0                                                NaN                                    \n",
       "1                                                NaN                                    \n",
       "2                                                NaN                                    \n",
       "3                                                NaN                                    \n",
       "4                                                NaN                                    "
      ]
     },
     "execution_count": 2,
     "metadata": {},
     "output_type": "execute_result"
    }
   ],
   "source": [
    "\"\"\"\n",
    "Analizaremos la producción mundial de carne medida en toneladas\n",
    "\"\"\"\n",
    "# https://ourworldindata.org/meat-production\n",
    "data = pd.read_csv(\"global-meat-production-by-livestock-type.csv\")\n",
    "data.head()"
   ]
  },
  {
   "cell_type": "code",
   "execution_count": 3,
   "metadata": {},
   "outputs": [
    {
     "data": {
      "text/plain": [
       "Index(['Entity', 'Code', 'Year',\n",
       "       'Livestock Primary - Sheep and Goat Meat - 1807 - Production - 5510 - tonnes',\n",
       "       'Livestock Primary - Beef and Buffalo Meat - 1806 - Production - 5510 - tonnes',\n",
       "       'Livestock Primary - Meat, pig - 1035 - Production - 5510 - tonnes',\n",
       "       'Livestock Primary - Meat, game - 1163 - Production - 5510 - tonnes',\n",
       "       'Livestock Primary - Meat, duck - 1069 - Production - 5510 - tonnes',\n",
       "       'Livestock Primary - Meat, Poultry - 1808 - Production - 5510 - tonnes',\n",
       "       'Livestock Primary - Meat, horse - 1097 - Production - 5510 - tonnes',\n",
       "       'Livestock Primary - Meat, camel - 1127 - Production - 5510 - tonnes',\n",
       "       'Livestock Primary - Meat, goose and guinea fowl - 1073 - Production - 5510 - tonnes'],\n",
       "      dtype='object')"
      ]
     },
     "execution_count": 3,
     "metadata": {},
     "output_type": "execute_result"
    }
   ],
   "source": [
    "\"\"\"\n",
    "Veamos las características de este conjunto de datos\n",
    "\"\"\"\n",
    "data.columns\n"
   ]
  },
  {
   "cell_type": "code",
   "execution_count": 4,
   "metadata": {},
   "outputs": [],
   "source": [
    "\"\"\"\n",
    "Renombraremos las columnas para facilitar la manipulación \n",
    "\"\"\"\n",
    "new_names = [\n",
    "    \"sheep\", \"beef\", \"pig\", \"game\", \"duck\", \"poultry\", \"horse\", \"camel\", \"goose\"\n",
    "]"
   ]
  },
  {
   "cell_type": "code",
   "execution_count": 5,
   "metadata": {},
   "outputs": [],
   "source": [
    "\"\"\"\n",
    "Guardaremos los cambios en un diccionario\n",
    "\"\"\"\n",
    "to_substitute = {\n",
    "    key:val for key, val in zip(data.columns[3:], new_names)\n",
    "}"
   ]
  },
  {
   "cell_type": "code",
   "execution_count": 6,
   "metadata": {},
   "outputs": [
    {
     "data": {
      "text/html": [
       "<div>\n",
       "<style scoped>\n",
       "    .dataframe tbody tr th:only-of-type {\n",
       "        vertical-align: middle;\n",
       "    }\n",
       "\n",
       "    .dataframe tbody tr th {\n",
       "        vertical-align: top;\n",
       "    }\n",
       "\n",
       "    .dataframe thead th {\n",
       "        text-align: right;\n",
       "    }\n",
       "</style>\n",
       "<table border=\"1\" class=\"dataframe\">\n",
       "  <thead>\n",
       "    <tr style=\"text-align: right;\">\n",
       "      <th></th>\n",
       "      <th>Entity</th>\n",
       "      <th>Code</th>\n",
       "      <th>Year</th>\n",
       "      <th>sheep</th>\n",
       "      <th>beef</th>\n",
       "      <th>pig</th>\n",
       "      <th>game</th>\n",
       "      <th>duck</th>\n",
       "      <th>poultry</th>\n",
       "      <th>horse</th>\n",
       "      <th>camel</th>\n",
       "      <th>goose</th>\n",
       "    </tr>\n",
       "  </thead>\n",
       "  <tbody>\n",
       "    <tr>\n",
       "      <th>0</th>\n",
       "      <td>Afghanistan</td>\n",
       "      <td>AFG</td>\n",
       "      <td>1961</td>\n",
       "      <td>73220.0</td>\n",
       "      <td>43000.0</td>\n",
       "      <td>NaN</td>\n",
       "      <td>4000.0</td>\n",
       "      <td>NaN</td>\n",
       "      <td>5600.0</td>\n",
       "      <td>NaN</td>\n",
       "      <td>3600.0</td>\n",
       "      <td>NaN</td>\n",
       "    </tr>\n",
       "    <tr>\n",
       "      <th>1</th>\n",
       "      <td>Afghanistan</td>\n",
       "      <td>AFG</td>\n",
       "      <td>1962</td>\n",
       "      <td>72375.0</td>\n",
       "      <td>45800.0</td>\n",
       "      <td>NaN</td>\n",
       "      <td>4000.0</td>\n",
       "      <td>NaN</td>\n",
       "      <td>6000.0</td>\n",
       "      <td>NaN</td>\n",
       "      <td>4031.0</td>\n",
       "      <td>NaN</td>\n",
       "    </tr>\n",
       "    <tr>\n",
       "      <th>2</th>\n",
       "      <td>Afghanistan</td>\n",
       "      <td>AFG</td>\n",
       "      <td>1963</td>\n",
       "      <td>75530.0</td>\n",
       "      <td>47250.0</td>\n",
       "      <td>NaN</td>\n",
       "      <td>5000.0</td>\n",
       "      <td>NaN</td>\n",
       "      <td>6160.0</td>\n",
       "      <td>NaN</td>\n",
       "      <td>5031.0</td>\n",
       "      <td>NaN</td>\n",
       "    </tr>\n",
       "    <tr>\n",
       "      <th>3</th>\n",
       "      <td>Afghanistan</td>\n",
       "      <td>AFG</td>\n",
       "      <td>1964</td>\n",
       "      <td>79750.0</td>\n",
       "      <td>48000.0</td>\n",
       "      <td>NaN</td>\n",
       "      <td>5000.0</td>\n",
       "      <td>NaN</td>\n",
       "      <td>6400.0</td>\n",
       "      <td>NaN</td>\n",
       "      <td>4680.0</td>\n",
       "      <td>NaN</td>\n",
       "    </tr>\n",
       "    <tr>\n",
       "      <th>4</th>\n",
       "      <td>Afghanistan</td>\n",
       "      <td>AFG</td>\n",
       "      <td>1965</td>\n",
       "      <td>84375.0</td>\n",
       "      <td>48700.0</td>\n",
       "      <td>NaN</td>\n",
       "      <td>6000.0</td>\n",
       "      <td>NaN</td>\n",
       "      <td>6800.0</td>\n",
       "      <td>NaN</td>\n",
       "      <td>4320.0</td>\n",
       "      <td>NaN</td>\n",
       "    </tr>\n",
       "  </tbody>\n",
       "</table>\n",
       "</div>"
      ],
      "text/plain": [
       "        Entity Code  Year    sheep     beef  pig    game  duck  poultry  \\\n",
       "0  Afghanistan  AFG  1961  73220.0  43000.0  NaN  4000.0   NaN   5600.0   \n",
       "1  Afghanistan  AFG  1962  72375.0  45800.0  NaN  4000.0   NaN   6000.0   \n",
       "2  Afghanistan  AFG  1963  75530.0  47250.0  NaN  5000.0   NaN   6160.0   \n",
       "3  Afghanistan  AFG  1964  79750.0  48000.0  NaN  5000.0   NaN   6400.0   \n",
       "4  Afghanistan  AFG  1965  84375.0  48700.0  NaN  6000.0   NaN   6800.0   \n",
       "\n",
       "   horse   camel  goose  \n",
       "0    NaN  3600.0    NaN  \n",
       "1    NaN  4031.0    NaN  \n",
       "2    NaN  5031.0    NaN  \n",
       "3    NaN  4680.0    NaN  \n",
       "4    NaN  4320.0    NaN  "
      ]
     },
     "execution_count": 6,
     "metadata": {},
     "output_type": "execute_result"
    }
   ],
   "source": [
    "\"\"\"\n",
    "Renombraremos las columnas con este diccionario\n",
    "\"\"\"\n",
    "data = data.rename(columns=to_substitute)\n",
    "data.head()"
   ]
  },
  {
   "cell_type": "code",
   "execution_count": 7,
   "metadata": {},
   "outputs": [
    {
     "data": {
      "text/plain": [
       "array(['Afghanistan', 'Africa', 'Albania', 'Algeria', 'American Samoa',\n",
       "       'Americas', 'Angola', 'Antigua and Barbuda', 'Argentina',\n",
       "       'Armenia', 'Asia', 'Asia, Central', 'Australia',\n",
       "       'Australia & New Zealand', 'Austria', 'Azerbaijan', 'Bahamas',\n",
       "       'Bahrain', 'Bangladesh', 'Barbados', 'Belarus', 'Belgium',\n",
       "       'Belgium-Luxembourg', 'Belize', 'Benin', 'Bermuda', 'Bhutan',\n",
       "       'Bolivia', 'Bosnia and Herzegovina', 'Botswana', 'Brazil',\n",
       "       'British Virgin Islands', 'Brunei', 'Bulgaria', 'Burkina Faso',\n",
       "       'Burundi', 'Cambodia', 'Cameroon', 'Canada', 'Cape Verde',\n",
       "       'Caribbean', 'Central African Republic', 'Central America', 'Chad',\n",
       "       'Chile', 'China', 'Colombia', 'Comoros', 'Congo', 'Cook Islands',\n",
       "       'Costa Rica', \"Cote d'Ivoire\", 'Croatia', 'Cuba', 'Cyprus',\n",
       "       'Czechia', 'Czechoslovakia', 'Democratic Republic of Congo',\n",
       "       'Denmark', 'Djibouti', 'Dominica', 'Dominican Republic',\n",
       "       'Eastern Africa', 'Eastern Asia', 'Eastern Europe', 'Ecuador',\n",
       "       'Egypt', 'El Salvador', 'Equatorial Guinea', 'Eritrea', 'Estonia',\n",
       "       'Eswatini', 'Ethiopia', 'Ethiopia PDR', 'Europe',\n",
       "       'Europe, Western', 'European Union', 'Faeroe Islands',\n",
       "       'Falkland Islands', 'Fiji', 'Finland', 'France', 'French Guiana',\n",
       "       'French Polynesia', 'Gabon', 'Gambia', 'Georgia', 'Germany',\n",
       "       'Ghana', 'Greece', 'Greenland', 'Grenada', 'Guadeloupe', 'Guam',\n",
       "       'Guatemala', 'Guinea', 'Guinea-Bissau', 'Guyana', 'Haiti',\n",
       "       'Honduras', 'Hong Kong', 'Hungary', 'Iceland', 'India',\n",
       "       'Indonesia', 'Iran', 'Iraq', 'Ireland', 'Israel', 'Italy',\n",
       "       'Jamaica', 'Japan', 'Jordan', 'Kazakhstan', 'Kenya', 'Kiribati',\n",
       "       'Kuwait', 'Kyrgyzstan', 'Land Locked Developing Countries', 'Laos',\n",
       "       'Latvia', 'Least Developed Countries', 'Lebanon', 'Lesotho',\n",
       "       'Liberia', 'Libya', 'Lithuania',\n",
       "       'Low Income Food Deficit Countries', 'Luxembourg', 'Macao',\n",
       "       'Madagascar', 'Malawi', 'Malaysia', 'Mali', 'Malta', 'Martinique',\n",
       "       'Mauritania', 'Mauritius', 'Melanesia', 'Mexico',\n",
       "       'Micronesia (country)', 'Micronesia (region)', 'Middle Africa',\n",
       "       'Moldova', 'Mongolia', 'Montenegro', 'Montserrat', 'Morocco',\n",
       "       'Mozambique', 'Myanmar', 'Namibia', 'Nauru', 'Nepal',\n",
       "       'Net Food Importing Developing Countries', 'Netherlands',\n",
       "       'Netherlands Antilles', 'New Caledonia', 'New Zealand',\n",
       "       'Nicaragua', 'Niger', 'Nigeria', 'Niue', 'North Korea',\n",
       "       'North Macedonia', 'Northern Africa', 'Northern America',\n",
       "       'Northern Europe', 'Norway', 'Oceania', 'Oman',\n",
       "       'Pacific Islands Trust Territory', 'Pakistan', 'Palestine',\n",
       "       'Panama', 'Papua New Guinea', 'Paraguay', 'Peru', 'Philippines',\n",
       "       'Poland', 'Polynesia', 'Portugal', 'Puerto Rico', 'Qatar',\n",
       "       'Reunion', 'Romania', 'Russia', 'Rwanda', 'Saint Kitts and Nevis',\n",
       "       'Saint Lucia', 'Saint Pierre and Miquelon',\n",
       "       'Saint Vincent and the Grenadines', 'Samoa',\n",
       "       'Sao Tome and Principe', 'Saudi Arabia', 'Senegal', 'Serbia',\n",
       "       'Serbia and Montenegro', 'Seychelles', 'Sierra Leone', 'Singapore',\n",
       "       'Slovakia', 'Slovenia', 'Small island developing States',\n",
       "       'Solomon Islands', 'Somalia', 'South Africa', 'South America',\n",
       "       'South Eastern Asia', 'South Korea', 'South Sudan',\n",
       "       'Southern Africa', 'Southern Asia', 'Southern Europe', 'Spain',\n",
       "       'Sri Lanka', 'Sudan', 'Sudan (former)', 'Suriname', 'Sweden',\n",
       "       'Switzerland', 'Syria', 'Taiwan', 'Tajikistan', 'Tanzania',\n",
       "       'Thailand', 'Timor', 'Togo', 'Tokelau', 'Tonga',\n",
       "       'Trinidad and Tobago', 'Tunisia', 'Turkey', 'Turkmenistan',\n",
       "       'Tuvalu', 'USSR', 'Uganda', 'Ukraine', 'United Arab Emirates',\n",
       "       'United Kingdom', 'United States', 'United States Virgin Islands',\n",
       "       'Uruguay', 'Uzbekistan', 'Vanuatu', 'Venezuela', 'Vietnam',\n",
       "       'Wallis and Futuna', 'Western Africa', 'Western Asia',\n",
       "       'Western Sahara', 'World', 'Yemen', 'Yugoslavia', 'Zambia',\n",
       "       'Zimbabwe'], dtype=object)"
      ]
     },
     "execution_count": 7,
     "metadata": {},
     "output_type": "execute_result"
    }
   ],
   "source": [
    "\"\"\"\n",
    "Ahora veremos las categorías correspondiente a las entidades\n",
    "\"\"\"\n",
    "data[\"Entity\"].unique()"
   ]
  },
  {
   "cell_type": "code",
   "execution_count": 8,
   "metadata": {},
   "outputs": [
    {
     "data": {
      "text/html": [
       "<div>\n",
       "<style scoped>\n",
       "    .dataframe tbody tr th:only-of-type {\n",
       "        vertical-align: middle;\n",
       "    }\n",
       "\n",
       "    .dataframe tbody tr th {\n",
       "        vertical-align: top;\n",
       "    }\n",
       "\n",
       "    .dataframe thead th {\n",
       "        text-align: right;\n",
       "    }\n",
       "</style>\n",
       "<table border=\"1\" class=\"dataframe\">\n",
       "  <thead>\n",
       "    <tr style=\"text-align: right;\">\n",
       "      <th></th>\n",
       "      <th>Entity</th>\n",
       "      <th>Code</th>\n",
       "      <th>Year</th>\n",
       "      <th>sheep</th>\n",
       "      <th>beef</th>\n",
       "      <th>pig</th>\n",
       "      <th>game</th>\n",
       "      <th>duck</th>\n",
       "      <th>poultry</th>\n",
       "      <th>horse</th>\n",
       "      <th>camel</th>\n",
       "      <th>goose</th>\n",
       "    </tr>\n",
       "  </thead>\n",
       "  <tbody>\n",
       "    <tr>\n",
       "      <th>290</th>\n",
       "      <td>Americas</td>\n",
       "      <td>NaN</td>\n",
       "      <td>1961</td>\n",
       "      <td>817969.0</td>\n",
       "      <td>13486597.0</td>\n",
       "      <td>7238952.0</td>\n",
       "      <td>247000.0</td>\n",
       "      <td>34994.0</td>\n",
       "      <td>4095642.0</td>\n",
       "      <td>152074.0</td>\n",
       "      <td>NaN</td>\n",
       "      <td>1741.0</td>\n",
       "    </tr>\n",
       "    <tr>\n",
       "      <th>291</th>\n",
       "      <td>Americas</td>\n",
       "      <td>NaN</td>\n",
       "      <td>1962</td>\n",
       "      <td>812122.0</td>\n",
       "      <td>13822119.0</td>\n",
       "      <td>7462867.0</td>\n",
       "      <td>233000.0</td>\n",
       "      <td>35803.0</td>\n",
       "      <td>4065507.0</td>\n",
       "      <td>157679.0</td>\n",
       "      <td>NaN</td>\n",
       "      <td>1767.0</td>\n",
       "    </tr>\n",
       "    <tr>\n",
       "      <th>292</th>\n",
       "      <td>Americas</td>\n",
       "      <td>NaN</td>\n",
       "      <td>1963</td>\n",
       "      <td>772645.0</td>\n",
       "      <td>14654649.0</td>\n",
       "      <td>7720522.0</td>\n",
       "      <td>247000.0</td>\n",
       "      <td>38731.0</td>\n",
       "      <td>4289898.0</td>\n",
       "      <td>176610.0</td>\n",
       "      <td>NaN</td>\n",
       "      <td>1848.0</td>\n",
       "    </tr>\n",
       "    <tr>\n",
       "      <th>293</th>\n",
       "      <td>Americas</td>\n",
       "      <td>NaN</td>\n",
       "      <td>1964</td>\n",
       "      <td>734023.0</td>\n",
       "      <td>15306404.0</td>\n",
       "      <td>7811009.0</td>\n",
       "      <td>247800.0</td>\n",
       "      <td>40865.0</td>\n",
       "      <td>4502575.0</td>\n",
       "      <td>210253.0</td>\n",
       "      <td>NaN</td>\n",
       "      <td>1985.0</td>\n",
       "    </tr>\n",
       "    <tr>\n",
       "      <th>294</th>\n",
       "      <td>Americas</td>\n",
       "      <td>NaN</td>\n",
       "      <td>1965</td>\n",
       "      <td>744383.0</td>\n",
       "      <td>15515875.0</td>\n",
       "      <td>7246741.0</td>\n",
       "      <td>248500.0</td>\n",
       "      <td>41410.0</td>\n",
       "      <td>4873793.0</td>\n",
       "      <td>203646.0</td>\n",
       "      <td>NaN</td>\n",
       "      <td>2133.0</td>\n",
       "    </tr>\n",
       "  </tbody>\n",
       "</table>\n",
       "</div>"
      ],
      "text/plain": [
       "       Entity Code  Year     sheep        beef        pig      game     duck  \\\n",
       "290  Americas  NaN  1961  817969.0  13486597.0  7238952.0  247000.0  34994.0   \n",
       "291  Americas  NaN  1962  812122.0  13822119.0  7462867.0  233000.0  35803.0   \n",
       "292  Americas  NaN  1963  772645.0  14654649.0  7720522.0  247000.0  38731.0   \n",
       "293  Americas  NaN  1964  734023.0  15306404.0  7811009.0  247800.0  40865.0   \n",
       "294  Americas  NaN  1965  744383.0  15515875.0  7246741.0  248500.0  41410.0   \n",
       "\n",
       "       poultry     horse  camel   goose  \n",
       "290  4095642.0  152074.0    NaN  1741.0  \n",
       "291  4065507.0  157679.0    NaN  1767.0  \n",
       "292  4289898.0  176610.0    NaN  1848.0  \n",
       "293  4502575.0  210253.0    NaN  1985.0  \n",
       "294  4873793.0  203646.0    NaN  2133.0  "
      ]
     },
     "execution_count": 8,
     "metadata": {},
     "output_type": "execute_result"
    }
   ],
   "source": [
    "\"\"\"\n",
    "Algunas entidades carecen de código\n",
    "\"\"\"\n",
    "americas = data[\"Entity\"]==\"Americas\"\n",
    "data[americas].head()"
   ]
  },
  {
   "cell_type": "code",
   "execution_count": 9,
   "metadata": {},
   "outputs": [
    {
     "data": {
      "text/plain": [
       "array(['Africa', 'Americas', 'Asia', 'Asia, Central',\n",
       "       'Australia & New Zealand', 'Belgium-Luxembourg', 'Caribbean',\n",
       "       'Central America', 'Eastern Africa', 'Eastern Asia',\n",
       "       'Eastern Europe', 'Ethiopia PDR', 'Europe', 'Europe, Western',\n",
       "       'European Union', 'Land Locked Developing Countries',\n",
       "       'Least Developed Countries', 'Low Income Food Deficit Countries',\n",
       "       'Micronesia (region)', 'Middle Africa',\n",
       "       'Net Food Importing Developing Countries', 'Northern Africa',\n",
       "       'Northern America', 'Northern Europe', 'Oceania',\n",
       "       'Pacific Islands Trust Territory',\n",
       "       'Small island developing States', 'South America',\n",
       "       'South Eastern Asia', 'Southern Africa', 'Southern Asia',\n",
       "       'Southern Europe', 'Sudan (former)', 'Western Africa',\n",
       "       'Western Asia'], dtype=object)"
      ]
     },
     "execution_count": 9,
     "metadata": {},
     "output_type": "execute_result"
    }
   ],
   "source": [
    "\"\"\"\n",
    "Revisemos cuales entidades no poseen código\n",
    "\"\"\"\n",
    "no_code = data[\"Code\"].isna()\n",
    "data[no_code][\"Entity\"].unique()"
   ]
  },
  {
   "cell_type": "code",
   "execution_count": 10,
   "metadata": {},
   "outputs": [
    {
     "data": {
      "text/plain": [
       "array(['AFG', 'ALB', 'DZA', 'ASM', 'AGO', 'ATG', 'ARG', 'ARM', 'AUS',\n",
       "       'AUT', 'AZE', 'BHS', 'BHR', 'BGD', 'BRB', 'BLR', 'BEL', 'BLZ',\n",
       "       'BEN', 'BMU', 'BTN', 'BOL', 'BIH', 'BWA', 'BRA', 'VGB', 'BRN',\n",
       "       'BGR', 'BFA', 'BDI', 'KHM', 'CMR', 'CAN', 'CPV', 'CAF', 'TCD',\n",
       "       'CHL', 'CHN', 'COL', 'COM', 'COG', 'COK', 'CRI', 'CIV', 'HRV',\n",
       "       'CUB', 'CYP', 'CZE', 'OWID_CZS', 'COD', 'DNK', 'DJI', 'DMA', 'DOM',\n",
       "       'ECU', 'EGY', 'SLV', 'GNQ', 'ERI', 'EST', 'SWZ', 'ETH', 'FRO',\n",
       "       'FLK', 'FJI', 'FIN', 'FRA', 'GUF', 'PYF', 'GAB', 'GMB', 'GEO',\n",
       "       'DEU', 'GHA', 'GRC', 'GRL', 'GRD', 'GLP', 'GUM', 'GTM', 'GIN',\n",
       "       'GNB', 'GUY', 'HTI', 'HND', 'HKG', 'HUN', 'ISL', 'IND', 'IDN',\n",
       "       'IRN', 'IRQ', 'IRL', 'ISR', 'ITA', 'JAM', 'JPN', 'JOR', 'KAZ',\n",
       "       'KEN', 'KIR', 'KWT', 'KGZ', 'LAO', 'LVA', 'LBN', 'LSO', 'LBR',\n",
       "       'LBY', 'LTU', 'LUX', 'MAC', 'MDG', 'MWI', 'MYS', 'MLI', 'MLT',\n",
       "       'MTQ', 'MRT', 'MUS', 'OWID_MNS', 'MEX', 'FSM', 'MDA', 'MNG', 'MNE',\n",
       "       'MSR', 'MAR', 'MOZ', 'MMR', 'NAM', 'NRU', 'NPL', 'NLD', 'ANT',\n",
       "       'NCL', 'NZL', 'NIC', 'NER', 'NGA', 'NIU', 'PRK', 'MKD', 'NOR',\n",
       "       'OMN', 'PAK', 'PSE', 'PAN', 'PNG', 'PRY', 'PER', 'PHL', 'POL',\n",
       "       'OWID_PYA', 'PRT', 'PRI', 'QAT', 'REU', 'ROU', 'RUS', 'RWA', 'KNA',\n",
       "       'LCA', 'SPM', 'VCT', 'WSM', 'STP', 'SAU', 'SEN', 'SRB', 'OWID_SRM',\n",
       "       'SYC', 'SLE', 'SGP', 'SVK', 'SVN', 'SLB', 'SOM', 'ZAF', 'KOR',\n",
       "       'SSD', 'ESP', 'LKA', 'SDN', 'SUR', 'SWE', 'CHE', 'SYR', 'TWN',\n",
       "       'TJK', 'TZA', 'THA', 'TLS', 'TGO', 'TKL', 'TON', 'TTO', 'TUN',\n",
       "       'TUR', 'TKM', 'TUV', 'OWID_USS', 'UGA', 'UKR', 'ARE', 'GBR', 'USA',\n",
       "       'VIR', 'URY', 'UZB', 'VUT', 'VEN', 'VNM', 'WLF', 'ESH', 'OWID_WRL',\n",
       "       'YEM', 'OWID_YGS', 'ZMB', 'ZWE'], dtype=object)"
      ]
     },
     "execution_count": 10,
     "metadata": {},
     "output_type": "execute_result"
    }
   ],
   "source": [
    "\"\"\"\n",
    "Ahora, inspeccionaremos los códigos de las entidades \n",
    "\"\"\"\n",
    "codes = data[~no_code][\"Code\"].unique()\n",
    "codes"
   ]
  },
  {
   "cell_type": "code",
   "execution_count": 11,
   "metadata": {},
   "outputs": [
    {
     "name": "stdout",
     "output_type": "stream",
     "text": [
      "OWID_CZS\n",
      "OWID_MNS\n",
      "OWID_PYA\n",
      "OWID_SRM\n",
      "OWID_USS\n",
      "OWID_WRL\n",
      "OWID_YGS\n"
     ]
    }
   ],
   "source": [
    "\"\"\"\n",
    "Algunos códigos, van precedidos de la palabra OWID (Our World In Data), para indicar países que ya no existen\n",
    "\"\"\"\n",
    "for code in codes:\n",
    "    if code[:4]==\"OWID\":\n",
    "        print(code)"
   ]
  },
  {
   "cell_type": "code",
   "execution_count": 12,
   "metadata": {},
   "outputs": [
    {
     "data": {
      "text/plain": [
       "['AFG',\n",
       " 'ALB',\n",
       " 'DZA',\n",
       " 'ASM',\n",
       " 'AGO',\n",
       " 'ATG',\n",
       " 'ARG',\n",
       " 'ARM',\n",
       " 'AUS',\n",
       " 'AUT',\n",
       " 'AZE',\n",
       " 'BHS',\n",
       " 'BHR',\n",
       " 'BGD',\n",
       " 'BRB',\n",
       " 'BLR',\n",
       " 'BEL',\n",
       " 'BLZ',\n",
       " 'BEN',\n",
       " 'BMU',\n",
       " 'BTN',\n",
       " 'BOL',\n",
       " 'BIH',\n",
       " 'BWA',\n",
       " 'BRA',\n",
       " 'VGB',\n",
       " 'BRN',\n",
       " 'BGR',\n",
       " 'BFA',\n",
       " 'BDI',\n",
       " 'KHM',\n",
       " 'CMR',\n",
       " 'CAN',\n",
       " 'CPV',\n",
       " 'CAF',\n",
       " 'TCD',\n",
       " 'CHL',\n",
       " 'CHN',\n",
       " 'COL',\n",
       " 'COM',\n",
       " 'COG',\n",
       " 'COK',\n",
       " 'CRI',\n",
       " 'CIV',\n",
       " 'HRV',\n",
       " 'CUB',\n",
       " 'CYP',\n",
       " 'CZE',\n",
       " 'COD',\n",
       " 'DNK',\n",
       " 'DJI',\n",
       " 'DMA',\n",
       " 'DOM',\n",
       " 'ECU',\n",
       " 'EGY',\n",
       " 'SLV',\n",
       " 'GNQ',\n",
       " 'ERI',\n",
       " 'EST',\n",
       " 'SWZ',\n",
       " 'ETH',\n",
       " 'FRO',\n",
       " 'FLK',\n",
       " 'FJI',\n",
       " 'FIN',\n",
       " 'FRA',\n",
       " 'GUF',\n",
       " 'PYF',\n",
       " 'GAB',\n",
       " 'GMB',\n",
       " 'GEO',\n",
       " 'DEU',\n",
       " 'GHA',\n",
       " 'GRC',\n",
       " 'GRL',\n",
       " 'GRD',\n",
       " 'GLP',\n",
       " 'GUM',\n",
       " 'GTM',\n",
       " 'GIN',\n",
       " 'GNB',\n",
       " 'GUY',\n",
       " 'HTI',\n",
       " 'HND',\n",
       " 'HKG',\n",
       " 'HUN',\n",
       " 'ISL',\n",
       " 'IND',\n",
       " 'IDN',\n",
       " 'IRN',\n",
       " 'IRQ',\n",
       " 'IRL',\n",
       " 'ISR',\n",
       " 'ITA',\n",
       " 'JAM',\n",
       " 'JPN',\n",
       " 'JOR',\n",
       " 'KAZ',\n",
       " 'KEN',\n",
       " 'KIR',\n",
       " 'KWT',\n",
       " 'KGZ',\n",
       " 'LAO',\n",
       " 'LVA',\n",
       " 'LBN',\n",
       " 'LSO',\n",
       " 'LBR',\n",
       " 'LBY',\n",
       " 'LTU',\n",
       " 'LUX',\n",
       " 'MAC',\n",
       " 'MDG',\n",
       " 'MWI',\n",
       " 'MYS',\n",
       " 'MLI',\n",
       " 'MLT',\n",
       " 'MTQ',\n",
       " 'MRT',\n",
       " 'MUS',\n",
       " 'MEX',\n",
       " 'FSM',\n",
       " 'MDA',\n",
       " 'MNG',\n",
       " 'MNE',\n",
       " 'MSR',\n",
       " 'MAR',\n",
       " 'MOZ',\n",
       " 'MMR',\n",
       " 'NAM',\n",
       " 'NRU',\n",
       " 'NPL',\n",
       " 'NLD',\n",
       " 'ANT',\n",
       " 'NCL',\n",
       " 'NZL',\n",
       " 'NIC',\n",
       " 'NER',\n",
       " 'NGA',\n",
       " 'NIU',\n",
       " 'PRK',\n",
       " 'MKD',\n",
       " 'NOR',\n",
       " 'OMN',\n",
       " 'PAK',\n",
       " 'PSE',\n",
       " 'PAN',\n",
       " 'PNG',\n",
       " 'PRY',\n",
       " 'PER',\n",
       " 'PHL',\n",
       " 'POL',\n",
       " 'PRT',\n",
       " 'PRI',\n",
       " 'QAT',\n",
       " 'REU',\n",
       " 'ROU',\n",
       " 'RUS',\n",
       " 'RWA',\n",
       " 'KNA',\n",
       " 'LCA',\n",
       " 'SPM',\n",
       " 'VCT',\n",
       " 'WSM',\n",
       " 'STP',\n",
       " 'SAU',\n",
       " 'SEN',\n",
       " 'SRB',\n",
       " 'SYC',\n",
       " 'SLE',\n",
       " 'SGP',\n",
       " 'SVK',\n",
       " 'SVN',\n",
       " 'SLB',\n",
       " 'SOM',\n",
       " 'ZAF',\n",
       " 'KOR',\n",
       " 'SSD',\n",
       " 'ESP',\n",
       " 'LKA',\n",
       " 'SDN',\n",
       " 'SUR',\n",
       " 'SWE',\n",
       " 'CHE',\n",
       " 'SYR',\n",
       " 'TWN',\n",
       " 'TJK',\n",
       " 'TZA',\n",
       " 'THA',\n",
       " 'TLS',\n",
       " 'TGO',\n",
       " 'TKL',\n",
       " 'TON',\n",
       " 'TTO',\n",
       " 'TUN',\n",
       " 'TUR',\n",
       " 'TKM',\n",
       " 'TUV',\n",
       " 'UGA',\n",
       " 'UKR',\n",
       " 'ARE',\n",
       " 'GBR',\n",
       " 'USA',\n",
       " 'VIR',\n",
       " 'URY',\n",
       " 'UZB',\n",
       " 'VUT',\n",
       " 'VEN',\n",
       " 'VNM',\n",
       " 'WLF',\n",
       " 'ESH',\n",
       " 'YEM',\n",
       " 'ZMB',\n",
       " 'ZWE']"
      ]
     },
     "execution_count": 12,
     "metadata": {},
     "output_type": "execute_result"
    }
   ],
   "source": [
    "\"\"\"\n",
    "Vamos a eliminar los registros de dichos países\n",
    "\"\"\"\n",
    "country_codes = [code  for code in codes if code[:4]!=\"OWID\"]\n",
    "country_codes"
   ]
  },
  {
   "cell_type": "code",
   "execution_count": 13,
   "metadata": {},
   "outputs": [
    {
     "data": {
      "text/html": [
       "<div>\n",
       "<style scoped>\n",
       "    .dataframe tbody tr th:only-of-type {\n",
       "        vertical-align: middle;\n",
       "    }\n",
       "\n",
       "    .dataframe tbody tr th {\n",
       "        vertical-align: top;\n",
       "    }\n",
       "\n",
       "    .dataframe thead th {\n",
       "        text-align: right;\n",
       "    }\n",
       "</style>\n",
       "<table border=\"1\" class=\"dataframe\">\n",
       "  <thead>\n",
       "    <tr style=\"text-align: right;\">\n",
       "      <th></th>\n",
       "      <th>Entity</th>\n",
       "      <th>Code</th>\n",
       "      <th>Year</th>\n",
       "      <th>sheep</th>\n",
       "      <th>beef</th>\n",
       "      <th>pig</th>\n",
       "      <th>game</th>\n",
       "      <th>duck</th>\n",
       "      <th>poultry</th>\n",
       "      <th>horse</th>\n",
       "      <th>camel</th>\n",
       "      <th>goose</th>\n",
       "    </tr>\n",
       "  </thead>\n",
       "  <tbody>\n",
       "    <tr>\n",
       "      <th>0</th>\n",
       "      <td>Afghanistan</td>\n",
       "      <td>AFG</td>\n",
       "      <td>1961</td>\n",
       "      <td>73220.0</td>\n",
       "      <td>43000.0</td>\n",
       "      <td>NaN</td>\n",
       "      <td>4000.0</td>\n",
       "      <td>NaN</td>\n",
       "      <td>5600.0</td>\n",
       "      <td>NaN</td>\n",
       "      <td>3600.0</td>\n",
       "      <td>NaN</td>\n",
       "    </tr>\n",
       "    <tr>\n",
       "      <th>1</th>\n",
       "      <td>Afghanistan</td>\n",
       "      <td>AFG</td>\n",
       "      <td>1962</td>\n",
       "      <td>72375.0</td>\n",
       "      <td>45800.0</td>\n",
       "      <td>NaN</td>\n",
       "      <td>4000.0</td>\n",
       "      <td>NaN</td>\n",
       "      <td>6000.0</td>\n",
       "      <td>NaN</td>\n",
       "      <td>4031.0</td>\n",
       "      <td>NaN</td>\n",
       "    </tr>\n",
       "    <tr>\n",
       "      <th>2</th>\n",
       "      <td>Afghanistan</td>\n",
       "      <td>AFG</td>\n",
       "      <td>1963</td>\n",
       "      <td>75530.0</td>\n",
       "      <td>47250.0</td>\n",
       "      <td>NaN</td>\n",
       "      <td>5000.0</td>\n",
       "      <td>NaN</td>\n",
       "      <td>6160.0</td>\n",
       "      <td>NaN</td>\n",
       "      <td>5031.0</td>\n",
       "      <td>NaN</td>\n",
       "    </tr>\n",
       "    <tr>\n",
       "      <th>3</th>\n",
       "      <td>Afghanistan</td>\n",
       "      <td>AFG</td>\n",
       "      <td>1964</td>\n",
       "      <td>79750.0</td>\n",
       "      <td>48000.0</td>\n",
       "      <td>NaN</td>\n",
       "      <td>5000.0</td>\n",
       "      <td>NaN</td>\n",
       "      <td>6400.0</td>\n",
       "      <td>NaN</td>\n",
       "      <td>4680.0</td>\n",
       "      <td>NaN</td>\n",
       "    </tr>\n",
       "    <tr>\n",
       "      <th>4</th>\n",
       "      <td>Afghanistan</td>\n",
       "      <td>AFG</td>\n",
       "      <td>1965</td>\n",
       "      <td>84375.0</td>\n",
       "      <td>48700.0</td>\n",
       "      <td>NaN</td>\n",
       "      <td>6000.0</td>\n",
       "      <td>NaN</td>\n",
       "      <td>6800.0</td>\n",
       "      <td>NaN</td>\n",
       "      <td>4320.0</td>\n",
       "      <td>NaN</td>\n",
       "    </tr>\n",
       "  </tbody>\n",
       "</table>\n",
       "</div>"
      ],
      "text/plain": [
       "        Entity Code  Year    sheep     beef  pig    game  duck  poultry  \\\n",
       "0  Afghanistan  AFG  1961  73220.0  43000.0  NaN  4000.0   NaN   5600.0   \n",
       "1  Afghanistan  AFG  1962  72375.0  45800.0  NaN  4000.0   NaN   6000.0   \n",
       "2  Afghanistan  AFG  1963  75530.0  47250.0  NaN  5000.0   NaN   6160.0   \n",
       "3  Afghanistan  AFG  1964  79750.0  48000.0  NaN  5000.0   NaN   6400.0   \n",
       "4  Afghanistan  AFG  1965  84375.0  48700.0  NaN  6000.0   NaN   6800.0   \n",
       "\n",
       "   horse   camel  goose  \n",
       "0    NaN  3600.0    NaN  \n",
       "1    NaN  4031.0    NaN  \n",
       "2    NaN  5031.0    NaN  \n",
       "3    NaN  4680.0    NaN  \n",
       "4    NaN  4320.0    NaN  "
      ]
     },
     "execution_count": 13,
     "metadata": {},
     "output_type": "execute_result"
    }
   ],
   "source": [
    "\"\"\"\n",
    "Finalmente, nos quedaremos con los registros de países que actualmente existen\n",
    "\"\"\"\n",
    "data = data[data[\"Code\"].isin(country_codes)]\n",
    "data.head()"
   ]
  },
  {
   "cell_type": "code",
   "execution_count": 14,
   "metadata": {},
   "outputs": [
    {
     "data": {
      "text/html": [
       "<div>\n",
       "<style scoped>\n",
       "    .dataframe tbody tr th:only-of-type {\n",
       "        vertical-align: middle;\n",
       "    }\n",
       "\n",
       "    .dataframe tbody tr th {\n",
       "        vertical-align: top;\n",
       "    }\n",
       "\n",
       "    .dataframe thead th {\n",
       "        text-align: right;\n",
       "    }\n",
       "</style>\n",
       "<table border=\"1\" class=\"dataframe\">\n",
       "  <thead>\n",
       "    <tr style=\"text-align: right;\">\n",
       "      <th></th>\n",
       "      <th></th>\n",
       "      <th>sheep</th>\n",
       "      <th>beef</th>\n",
       "      <th>pig</th>\n",
       "      <th>game</th>\n",
       "      <th>duck</th>\n",
       "      <th>poultry</th>\n",
       "      <th>horse</th>\n",
       "      <th>camel</th>\n",
       "      <th>goose</th>\n",
       "    </tr>\n",
       "    <tr>\n",
       "      <th>Entity</th>\n",
       "      <th>Year</th>\n",
       "      <th></th>\n",
       "      <th></th>\n",
       "      <th></th>\n",
       "      <th></th>\n",
       "      <th></th>\n",
       "      <th></th>\n",
       "      <th></th>\n",
       "      <th></th>\n",
       "      <th></th>\n",
       "    </tr>\n",
       "  </thead>\n",
       "  <tbody>\n",
       "    <tr>\n",
       "      <th rowspan=\"5\" valign=\"top\">Afghanistan</th>\n",
       "      <th>1961</th>\n",
       "      <td>73220.0</td>\n",
       "      <td>43000.0</td>\n",
       "      <td>NaN</td>\n",
       "      <td>4000.0</td>\n",
       "      <td>NaN</td>\n",
       "      <td>5600.0</td>\n",
       "      <td>NaN</td>\n",
       "      <td>3600.0</td>\n",
       "      <td>NaN</td>\n",
       "    </tr>\n",
       "    <tr>\n",
       "      <th>1962</th>\n",
       "      <td>72375.0</td>\n",
       "      <td>45800.0</td>\n",
       "      <td>NaN</td>\n",
       "      <td>4000.0</td>\n",
       "      <td>NaN</td>\n",
       "      <td>6000.0</td>\n",
       "      <td>NaN</td>\n",
       "      <td>4031.0</td>\n",
       "      <td>NaN</td>\n",
       "    </tr>\n",
       "    <tr>\n",
       "      <th>1963</th>\n",
       "      <td>75530.0</td>\n",
       "      <td>47250.0</td>\n",
       "      <td>NaN</td>\n",
       "      <td>5000.0</td>\n",
       "      <td>NaN</td>\n",
       "      <td>6160.0</td>\n",
       "      <td>NaN</td>\n",
       "      <td>5031.0</td>\n",
       "      <td>NaN</td>\n",
       "    </tr>\n",
       "    <tr>\n",
       "      <th>1964</th>\n",
       "      <td>79750.0</td>\n",
       "      <td>48000.0</td>\n",
       "      <td>NaN</td>\n",
       "      <td>5000.0</td>\n",
       "      <td>NaN</td>\n",
       "      <td>6400.0</td>\n",
       "      <td>NaN</td>\n",
       "      <td>4680.0</td>\n",
       "      <td>NaN</td>\n",
       "    </tr>\n",
       "    <tr>\n",
       "      <th>1965</th>\n",
       "      <td>84375.0</td>\n",
       "      <td>48700.0</td>\n",
       "      <td>NaN</td>\n",
       "      <td>6000.0</td>\n",
       "      <td>NaN</td>\n",
       "      <td>6800.0</td>\n",
       "      <td>NaN</td>\n",
       "      <td>4320.0</td>\n",
       "      <td>NaN</td>\n",
       "    </tr>\n",
       "    <tr>\n",
       "      <th>...</th>\n",
       "      <th>...</th>\n",
       "      <td>...</td>\n",
       "      <td>...</td>\n",
       "      <td>...</td>\n",
       "      <td>...</td>\n",
       "      <td>...</td>\n",
       "      <td>...</td>\n",
       "      <td>...</td>\n",
       "      <td>...</td>\n",
       "      <td>...</td>\n",
       "    </tr>\n",
       "    <tr>\n",
       "      <th rowspan=\"5\" valign=\"top\">Zimbabwe</th>\n",
       "      <th>2014</th>\n",
       "      <td>24892.0</td>\n",
       "      <td>97891.0</td>\n",
       "      <td>20800.0</td>\n",
       "      <td>35000.0</td>\n",
       "      <td>68.0</td>\n",
       "      <td>57676.0</td>\n",
       "      <td>NaN</td>\n",
       "      <td>NaN</td>\n",
       "      <td>NaN</td>\n",
       "    </tr>\n",
       "    <tr>\n",
       "      <th>2015</th>\n",
       "      <td>21140.0</td>\n",
       "      <td>114297.0</td>\n",
       "      <td>21351.0</td>\n",
       "      <td>35419.0</td>\n",
       "      <td>68.0</td>\n",
       "      <td>61128.0</td>\n",
       "      <td>NaN</td>\n",
       "      <td>NaN</td>\n",
       "      <td>NaN</td>\n",
       "    </tr>\n",
       "    <tr>\n",
       "      <th>2016</th>\n",
       "      <td>18143.0</td>\n",
       "      <td>111470.0</td>\n",
       "      <td>20850.0</td>\n",
       "      <td>36629.0</td>\n",
       "      <td>71.0</td>\n",
       "      <td>66883.0</td>\n",
       "      <td>NaN</td>\n",
       "      <td>NaN</td>\n",
       "      <td>NaN</td>\n",
       "    </tr>\n",
       "    <tr>\n",
       "      <th>2017</th>\n",
       "      <td>25661.0</td>\n",
       "      <td>107633.0</td>\n",
       "      <td>17328.0</td>\n",
       "      <td>36769.0</td>\n",
       "      <td>71.0</td>\n",
       "      <td>69183.0</td>\n",
       "      <td>NaN</td>\n",
       "      <td>NaN</td>\n",
       "      <td>NaN</td>\n",
       "    </tr>\n",
       "    <tr>\n",
       "      <th>2018</th>\n",
       "      <td>25882.0</td>\n",
       "      <td>111133.0</td>\n",
       "      <td>17748.0</td>\n",
       "      <td>37059.0</td>\n",
       "      <td>71.0</td>\n",
       "      <td>66022.0</td>\n",
       "      <td>NaN</td>\n",
       "      <td>NaN</td>\n",
       "      <td>NaN</td>\n",
       "    </tr>\n",
       "  </tbody>\n",
       "</table>\n",
       "<p>11302 rows × 9 columns</p>\n",
       "</div>"
      ],
      "text/plain": [
       "                    sheep      beef      pig     game  duck  poultry  horse  \\\n",
       "Entity      Year                                                              \n",
       "Afghanistan 1961  73220.0   43000.0      NaN   4000.0   NaN   5600.0    NaN   \n",
       "            1962  72375.0   45800.0      NaN   4000.0   NaN   6000.0    NaN   \n",
       "            1963  75530.0   47250.0      NaN   5000.0   NaN   6160.0    NaN   \n",
       "            1964  79750.0   48000.0      NaN   5000.0   NaN   6400.0    NaN   \n",
       "            1965  84375.0   48700.0      NaN   6000.0   NaN   6800.0    NaN   \n",
       "...                   ...       ...      ...      ...   ...      ...    ...   \n",
       "Zimbabwe    2014  24892.0   97891.0  20800.0  35000.0  68.0  57676.0    NaN   \n",
       "            2015  21140.0  114297.0  21351.0  35419.0  68.0  61128.0    NaN   \n",
       "            2016  18143.0  111470.0  20850.0  36629.0  71.0  66883.0    NaN   \n",
       "            2017  25661.0  107633.0  17328.0  36769.0  71.0  69183.0    NaN   \n",
       "            2018  25882.0  111133.0  17748.0  37059.0  71.0  66022.0    NaN   \n",
       "\n",
       "                   camel  goose  \n",
       "Entity      Year                 \n",
       "Afghanistan 1961  3600.0    NaN  \n",
       "            1962  4031.0    NaN  \n",
       "            1963  5031.0    NaN  \n",
       "            1964  4680.0    NaN  \n",
       "            1965  4320.0    NaN  \n",
       "...                  ...    ...  \n",
       "Zimbabwe    2014     NaN    NaN  \n",
       "            2015     NaN    NaN  \n",
       "            2016     NaN    NaN  \n",
       "            2017     NaN    NaN  \n",
       "            2018     NaN    NaN  \n",
       "\n",
       "[11302 rows x 9 columns]"
      ]
     },
     "execution_count": 14,
     "metadata": {},
     "output_type": "execute_result"
    }
   ],
   "source": [
    "\"\"\"\n",
    "Para acceder a los registros de manera más sencilla, utilizaremos el par entidad/año como índice\n",
    "\"\"\"\n",
    "data = data.drop(columns=\"Code\").set_index([\"Entity\", \"Year\"])\n",
    "data"
   ]
  },
  {
   "cell_type": "code",
   "execution_count": 15,
   "metadata": {},
   "outputs": [
    {
     "data": {
      "text/plain": [
       "<AxesSubplot:ylabel='None'>"
      ]
     },
     "execution_count": 15,
     "metadata": {},
     "output_type": "execute_result"
    },
    {
     "data": {
      "image/png": "[encoded data removed]",
      "text/plain": [
       "<Figure size 432x288 with 1 Axes>"
      ]
     },
     "metadata": {},
     "output_type": "display_data"
    }
   ],
   "source": [
    "\"\"\"\n",
    "Visualicemos el total de cada tipo de carne producida desde 1961\n",
    "\"\"\"\n",
    "data.sum().plot(kind=\"pie\", autopct='%1.1f%%')"
   ]
  },
  {
   "cell_type": "code",
   "execution_count": 16,
   "metadata": {},
   "outputs": [
    {
     "data": {
      "text/plain": [
       "sheep      5.238204e+08\n",
       "beef       2.804376e+09\n",
       "pig        3.911758e+09\n",
       "game       7.839057e+07\n",
       "duck       1.145854e+08\n",
       "poultry    2.921682e+09\n",
       "horse      3.548891e+07\n",
       "camel      1.404844e+07\n",
       "goose      6.485208e+07\n",
       "dtype: float64"
      ]
     },
     "execution_count": 16,
     "metadata": {},
     "output_type": "execute_result"
    }
   ],
   "source": [
    "\"\"\"\n",
    "Por default, la suma se hace recorriendo las filas\n",
    "\"\"\"\n",
    "data.sum(axis=\"rows\")"
   ]
  },
  {
   "cell_type": "code",
   "execution_count": 17,
   "metadata": {},
   "outputs": [
    {
     "data": {
      "text/plain": [
       "Entity       Year\n",
       "Afghanistan  1961    129420.0\n",
       "             1962    132206.0\n",
       "             1963    138971.0\n",
       "             1964    143830.0\n",
       "             1965    150195.0\n",
       "                       ...   \n",
       "Zimbabwe     2014    236327.0\n",
       "             2015    253403.0\n",
       "             2016    254046.0\n",
       "             2017    256645.0\n",
       "             2018    257915.0\n",
       "Length: 11302, dtype: float64"
      ]
     },
     "execution_count": 17,
     "metadata": {},
     "output_type": "execute_result"
    }
   ],
   "source": [
    "\"\"\"\n",
    "Pero también podemos sumar recorriendo las columnas\n",
    "\"\"\"\n",
    "data.sum(axis=\"columns\")"
   ]
  },
  {
   "cell_type": "code",
   "execution_count": 18,
   "metadata": {},
   "outputs": [
    {
     "data": {
      "text/html": [
       "<div>\n",
       "<style scoped>\n",
       "    .dataframe tbody tr th:only-of-type {\n",
       "        vertical-align: middle;\n",
       "    }\n",
       "\n",
       "    .dataframe tbody tr th {\n",
       "        vertical-align: top;\n",
       "    }\n",
       "\n",
       "    .dataframe thead th {\n",
       "        text-align: right;\n",
       "    }\n",
       "</style>\n",
       "<table border=\"1\" class=\"dataframe\">\n",
       "  <thead>\n",
       "    <tr style=\"text-align: right;\">\n",
       "      <th></th>\n",
       "      <th>sheep</th>\n",
       "      <th>beef</th>\n",
       "      <th>pig</th>\n",
       "      <th>game</th>\n",
       "      <th>duck</th>\n",
       "      <th>poultry</th>\n",
       "      <th>horse</th>\n",
       "      <th>camel</th>\n",
       "      <th>goose</th>\n",
       "    </tr>\n",
       "    <tr>\n",
       "      <th>Entity</th>\n",
       "      <th></th>\n",
       "      <th></th>\n",
       "      <th></th>\n",
       "      <th></th>\n",
       "      <th></th>\n",
       "      <th></th>\n",
       "      <th></th>\n",
       "      <th></th>\n",
       "      <th></th>\n",
       "    </tr>\n",
       "  </thead>\n",
       "  <tbody>\n",
       "    <tr>\n",
       "      <th>Afghanistan</th>\n",
       "      <td>7477537.0</td>\n",
       "      <td>5598202.0</td>\n",
       "      <td>0.0</td>\n",
       "      <td>440936.0</td>\n",
       "      <td>0.0</td>\n",
       "      <td>878431.0</td>\n",
       "      <td>0.0</td>\n",
       "      <td>222136.0</td>\n",
       "      <td>0.0</td>\n",
       "    </tr>\n",
       "    <tr>\n",
       "      <th>Albania</th>\n",
       "      <td>938970.0</td>\n",
       "      <td>1385203.0</td>\n",
       "      <td>513890.0</td>\n",
       "      <td>0.0</td>\n",
       "      <td>0.0</td>\n",
       "      <td>418026.0</td>\n",
       "      <td>0.0</td>\n",
       "      <td>0.0</td>\n",
       "      <td>0.0</td>\n",
       "    </tr>\n",
       "    <tr>\n",
       "      <th>Algeria</th>\n",
       "      <td>8227999.0</td>\n",
       "      <td>4814851.0</td>\n",
       "      <td>5810.0</td>\n",
       "      <td>0.0</td>\n",
       "      <td>0.0</td>\n",
       "      <td>9195897.0</td>\n",
       "      <td>44041.0</td>\n",
       "      <td>158439.0</td>\n",
       "      <td>0.0</td>\n",
       "    </tr>\n",
       "    <tr>\n",
       "      <th>American Samoa</th>\n",
       "      <td>0.0</td>\n",
       "      <td>251.0</td>\n",
       "      <td>19047.0</td>\n",
       "      <td>0.0</td>\n",
       "      <td>0.0</td>\n",
       "      <td>1537.0</td>\n",
       "      <td>0.0</td>\n",
       "      <td>0.0</td>\n",
       "      <td>0.0</td>\n",
       "    </tr>\n",
       "    <tr>\n",
       "      <th>Angola</th>\n",
       "      <td>537081.0</td>\n",
       "      <td>3756792.0</td>\n",
       "      <td>1861566.0</td>\n",
       "      <td>398206.0</td>\n",
       "      <td>0.0</td>\n",
       "      <td>567079.0</td>\n",
       "      <td>0.0</td>\n",
       "      <td>0.0</td>\n",
       "      <td>0.0</td>\n",
       "    </tr>\n",
       "    <tr>\n",
       "      <th>...</th>\n",
       "      <td>...</td>\n",
       "      <td>...</td>\n",
       "      <td>...</td>\n",
       "      <td>...</td>\n",
       "      <td>...</td>\n",
       "      <td>...</td>\n",
       "      <td>...</td>\n",
       "      <td>...</td>\n",
       "      <td>...</td>\n",
       "    </tr>\n",
       "    <tr>\n",
       "      <th>Wallis and Futuna</th>\n",
       "      <td>827.0</td>\n",
       "      <td>370.0</td>\n",
       "      <td>14538.0</td>\n",
       "      <td>0.0</td>\n",
       "      <td>0.0</td>\n",
       "      <td>1922.0</td>\n",
       "      <td>0.0</td>\n",
       "      <td>0.0</td>\n",
       "      <td>0.0</td>\n",
       "    </tr>\n",
       "    <tr>\n",
       "      <th>Western Sahara</th>\n",
       "      <td>33823.0</td>\n",
       "      <td>0.0</td>\n",
       "      <td>0.0</td>\n",
       "      <td>0.0</td>\n",
       "      <td>0.0</td>\n",
       "      <td>0.0</td>\n",
       "      <td>0.0</td>\n",
       "      <td>68969.0</td>\n",
       "      <td>0.0</td>\n",
       "    </tr>\n",
       "    <tr>\n",
       "      <th>Yemen</th>\n",
       "      <td>2729633.0</td>\n",
       "      <td>2857919.0</td>\n",
       "      <td>0.0</td>\n",
       "      <td>0.0</td>\n",
       "      <td>0.0</td>\n",
       "      <td>3507454.0</td>\n",
       "      <td>0.0</td>\n",
       "      <td>137533.0</td>\n",
       "      <td>0.0</td>\n",
       "    </tr>\n",
       "    <tr>\n",
       "      <th>Zambia</th>\n",
       "      <td>230394.0</td>\n",
       "      <td>3577106.0</td>\n",
       "      <td>668105.0</td>\n",
       "      <td>1576449.0</td>\n",
       "      <td>0.0</td>\n",
       "      <td>1454300.0</td>\n",
       "      <td>0.0</td>\n",
       "      <td>0.0</td>\n",
       "      <td>0.0</td>\n",
       "    </tr>\n",
       "    <tr>\n",
       "      <th>Zimbabwe</th>\n",
       "      <td>655440.0</td>\n",
       "      <td>5105193.0</td>\n",
       "      <td>846187.0</td>\n",
       "      <td>1202431.0</td>\n",
       "      <td>2904.0</td>\n",
       "      <td>1443117.0</td>\n",
       "      <td>0.0</td>\n",
       "      <td>0.0</td>\n",
       "      <td>0.0</td>\n",
       "    </tr>\n",
       "  </tbody>\n",
       "</table>\n",
       "<p>213 rows × 9 columns</p>\n",
       "</div>"
      ],
      "text/plain": [
       "                       sheep       beef        pig       game    duck  \\\n",
       "Entity                                                                  \n",
       "Afghanistan        7477537.0  5598202.0        0.0   440936.0     0.0   \n",
       "Albania             938970.0  1385203.0   513890.0        0.0     0.0   \n",
       "Algeria            8227999.0  4814851.0     5810.0        0.0     0.0   \n",
       "American Samoa           0.0      251.0    19047.0        0.0     0.0   \n",
       "Angola              537081.0  3756792.0  1861566.0   398206.0     0.0   \n",
       "...                      ...        ...        ...        ...     ...   \n",
       "Wallis and Futuna      827.0      370.0    14538.0        0.0     0.0   \n",
       "Western Sahara       33823.0        0.0        0.0        0.0     0.0   \n",
       "Yemen              2729633.0  2857919.0        0.0        0.0     0.0   \n",
       "Zambia              230394.0  3577106.0   668105.0  1576449.0     0.0   \n",
       "Zimbabwe            655440.0  5105193.0   846187.0  1202431.0  2904.0   \n",
       "\n",
       "                     poultry    horse     camel  goose  \n",
       "Entity                                                  \n",
       "Afghanistan         878431.0      0.0  222136.0    0.0  \n",
       "Albania             418026.0      0.0       0.0    0.0  \n",
       "Algeria            9195897.0  44041.0  158439.0    0.0  \n",
       "American Samoa        1537.0      0.0       0.0    0.0  \n",
       "Angola              567079.0      0.0       0.0    0.0  \n",
       "...                      ...      ...       ...    ...  \n",
       "Wallis and Futuna     1922.0      0.0       0.0    0.0  \n",
       "Western Sahara           0.0      0.0   68969.0    0.0  \n",
       "Yemen              3507454.0      0.0  137533.0    0.0  \n",
       "Zambia             1454300.0      0.0       0.0    0.0  \n",
       "Zimbabwe           1443117.0      0.0       0.0    0.0  \n",
       "\n",
       "[213 rows x 9 columns]"
      ]
     },
     "execution_count": 18,
     "metadata": {},
     "output_type": "execute_result"
    }
   ],
   "source": [
    "\"\"\"\n",
    "También podemos sumar todos los datos correspondientes a una entidad\n",
    "\"\"\"\n",
    "data.groupby(\"Entity\").sum()"
   ]
  },
  {
   "cell_type": "code",
   "execution_count": 19,
   "metadata": {},
   "outputs": [
    {
     "data": {
      "text/html": [
       "<div>\n",
       "<style scoped>\n",
       "    .dataframe tbody tr th:only-of-type {\n",
       "        vertical-align: middle;\n",
       "    }\n",
       "\n",
       "    .dataframe tbody tr th {\n",
       "        vertical-align: top;\n",
       "    }\n",
       "\n",
       "    .dataframe thead th {\n",
       "        text-align: right;\n",
       "    }\n",
       "</style>\n",
       "<table border=\"1\" class=\"dataframe\">\n",
       "  <thead>\n",
       "    <tr style=\"text-align: right;\">\n",
       "      <th></th>\n",
       "      <th>sheep</th>\n",
       "      <th>beef</th>\n",
       "      <th>pig</th>\n",
       "      <th>game</th>\n",
       "      <th>duck</th>\n",
       "      <th>poultry</th>\n",
       "      <th>horse</th>\n",
       "      <th>camel</th>\n",
       "      <th>goose</th>\n",
       "    </tr>\n",
       "    <tr>\n",
       "      <th>Year</th>\n",
       "      <th></th>\n",
       "      <th></th>\n",
       "      <th></th>\n",
       "      <th></th>\n",
       "      <th></th>\n",
       "      <th></th>\n",
       "      <th></th>\n",
       "      <th></th>\n",
       "      <th></th>\n",
       "    </tr>\n",
       "  </thead>\n",
       "  <tbody>\n",
       "    <tr>\n",
       "      <th>1961</th>\n",
       "      <td>4765326.0</td>\n",
       "      <td>25018135.0</td>\n",
       "      <td>20078914.0</td>\n",
       "      <td>804069.0</td>\n",
       "      <td>349100.0</td>\n",
       "      <td>7969007.0</td>\n",
       "      <td>528663.0</td>\n",
       "      <td>100878.0</td>\n",
       "      <td>152043.0</td>\n",
       "    </tr>\n",
       "    <tr>\n",
       "      <th>1962</th>\n",
       "      <td>4825488.0</td>\n",
       "      <td>26065384.0</td>\n",
       "      <td>21140840.0</td>\n",
       "      <td>796729.0</td>\n",
       "      <td>359606.0</td>\n",
       "      <td>8208557.0</td>\n",
       "      <td>511857.0</td>\n",
       "      <td>104522.0</td>\n",
       "      <td>158861.0</td>\n",
       "    </tr>\n",
       "    <tr>\n",
       "      <th>1963</th>\n",
       "      <td>4783678.0</td>\n",
       "      <td>27265945.0</td>\n",
       "      <td>22901727.0</td>\n",
       "      <td>819008.0</td>\n",
       "      <td>380653.0</td>\n",
       "      <td>8768904.0</td>\n",
       "      <td>520893.0</td>\n",
       "      <td>109362.0</td>\n",
       "      <td>159803.0</td>\n",
       "    </tr>\n",
       "    <tr>\n",
       "      <th>1964</th>\n",
       "      <td>4842498.0</td>\n",
       "      <td>27931151.0</td>\n",
       "      <td>24907463.0</td>\n",
       "      <td>841107.0</td>\n",
       "      <td>397002.0</td>\n",
       "      <td>9341678.0</td>\n",
       "      <td>556687.0</td>\n",
       "      <td>112932.0</td>\n",
       "      <td>168809.0</td>\n",
       "    </tr>\n",
       "    <tr>\n",
       "      <th>1965</th>\n",
       "      <td>4929189.0</td>\n",
       "      <td>28168057.0</td>\n",
       "      <td>26002850.0</td>\n",
       "      <td>852838.0</td>\n",
       "      <td>420766.0</td>\n",
       "      <td>10068308.0</td>\n",
       "      <td>537880.0</td>\n",
       "      <td>121219.0</td>\n",
       "      <td>183106.0</td>\n",
       "    </tr>\n",
       "    <tr>\n",
       "      <th>1966</th>\n",
       "      <td>5112463.0</td>\n",
       "      <td>29344655.0</td>\n",
       "      <td>27012039.0</td>\n",
       "      <td>866070.0</td>\n",
       "      <td>436441.0</td>\n",
       "      <td>10727879.0</td>\n",
       "      <td>502336.0</td>\n",
       "      <td>124842.0</td>\n",
       "      <td>189495.0</td>\n",
       "    </tr>\n",
       "    <tr>\n",
       "      <th>1967</th>\n",
       "      <td>5185630.0</td>\n",
       "      <td>30302534.0</td>\n",
       "      <td>28420567.0</td>\n",
       "      <td>893807.0</td>\n",
       "      <td>454140.0</td>\n",
       "      <td>11396907.0</td>\n",
       "      <td>490135.0</td>\n",
       "      <td>122992.0</td>\n",
       "      <td>201384.0</td>\n",
       "    </tr>\n",
       "    <tr>\n",
       "      <th>1968</th>\n",
       "      <td>5356044.0</td>\n",
       "      <td>31521070.0</td>\n",
       "      <td>29263322.0</td>\n",
       "      <td>914415.0</td>\n",
       "      <td>474332.0</td>\n",
       "      <td>11721601.0</td>\n",
       "      <td>502776.0</td>\n",
       "      <td>127437.0</td>\n",
       "      <td>217993.0</td>\n",
       "    </tr>\n",
       "    <tr>\n",
       "      <th>1969</th>\n",
       "      <td>5393574.0</td>\n",
       "      <td>32454782.0</td>\n",
       "      <td>29078473.0</td>\n",
       "      <td>944901.0</td>\n",
       "      <td>488692.0</td>\n",
       "      <td>12605830.0</td>\n",
       "      <td>515070.0</td>\n",
       "      <td>126207.0</td>\n",
       "      <td>214356.0</td>\n",
       "    </tr>\n",
       "    <tr>\n",
       "      <th>1970</th>\n",
       "      <td>5547555.0</td>\n",
       "      <td>33082276.0</td>\n",
       "      <td>30151128.0</td>\n",
       "      <td>955493.0</td>\n",
       "      <td>524246.0</td>\n",
       "      <td>13709189.0</td>\n",
       "      <td>514744.0</td>\n",
       "      <td>128666.0</td>\n",
       "      <td>230386.0</td>\n",
       "    </tr>\n",
       "    <tr>\n",
       "      <th>1971</th>\n",
       "      <td>5702447.0</td>\n",
       "      <td>32688089.0</td>\n",
       "      <td>32935122.0</td>\n",
       "      <td>955872.0</td>\n",
       "      <td>547692.0</td>\n",
       "      <td>14229307.0</td>\n",
       "      <td>501069.0</td>\n",
       "      <td>129189.0</td>\n",
       "      <td>251795.0</td>\n",
       "    </tr>\n",
       "    <tr>\n",
       "      <th>1972</th>\n",
       "      <td>5817726.0</td>\n",
       "      <td>33024778.0</td>\n",
       "      <td>33966322.0</td>\n",
       "      <td>985157.0</td>\n",
       "      <td>561100.0</td>\n",
       "      <td>15300118.0</td>\n",
       "      <td>495948.0</td>\n",
       "      <td>136777.0</td>\n",
       "      <td>238239.0</td>\n",
       "    </tr>\n",
       "    <tr>\n",
       "      <th>1973</th>\n",
       "      <td>5545772.0</td>\n",
       "      <td>33157849.0</td>\n",
       "      <td>34267783.0</td>\n",
       "      <td>957058.0</td>\n",
       "      <td>583202.0</td>\n",
       "      <td>16002194.0</td>\n",
       "      <td>496190.0</td>\n",
       "      <td>140216.0</td>\n",
       "      <td>243570.0</td>\n",
       "    </tr>\n",
       "    <tr>\n",
       "      <th>1974</th>\n",
       "      <td>5317525.0</td>\n",
       "      <td>35568976.0</td>\n",
       "      <td>35554957.0</td>\n",
       "      <td>975871.0</td>\n",
       "      <td>608767.0</td>\n",
       "      <td>16526942.0</td>\n",
       "      <td>460819.0</td>\n",
       "      <td>157085.0</td>\n",
       "      <td>243188.0</td>\n",
       "    </tr>\n",
       "    <tr>\n",
       "      <th>1975</th>\n",
       "      <td>5526075.0</td>\n",
       "      <td>37377050.0</td>\n",
       "      <td>34495330.0</td>\n",
       "      <td>981238.0</td>\n",
       "      <td>602795.0</td>\n",
       "      <td>16799718.0</td>\n",
       "      <td>490356.0</td>\n",
       "      <td>144888.0</td>\n",
       "      <td>254756.0</td>\n",
       "    </tr>\n",
       "    <tr>\n",
       "      <th>1976</th>\n",
       "      <td>5634727.0</td>\n",
       "      <td>39697085.0</td>\n",
       "      <td>35268439.0</td>\n",
       "      <td>987820.0</td>\n",
       "      <td>624803.0</td>\n",
       "      <td>18257375.0</td>\n",
       "      <td>531391.0</td>\n",
       "      <td>144893.0</td>\n",
       "      <td>253629.0</td>\n",
       "    </tr>\n",
       "    <tr>\n",
       "      <th>1977</th>\n",
       "      <td>5683247.0</td>\n",
       "      <td>39757549.0</td>\n",
       "      <td>36661766.0</td>\n",
       "      <td>1018404.0</td>\n",
       "      <td>667641.0</td>\n",
       "      <td>19201717.0</td>\n",
       "      <td>539009.0</td>\n",
       "      <td>145630.0</td>\n",
       "      <td>259717.0</td>\n",
       "    </tr>\n",
       "    <tr>\n",
       "      <th>1978</th>\n",
       "      <td>5805267.0</td>\n",
       "      <td>40067668.0</td>\n",
       "      <td>38795793.0</td>\n",
       "      <td>1022080.0</td>\n",
       "      <td>713388.0</td>\n",
       "      <td>20461649.0</td>\n",
       "      <td>549950.0</td>\n",
       "      <td>140933.0</td>\n",
       "      <td>276770.0</td>\n",
       "    </tr>\n",
       "    <tr>\n",
       "      <th>1979</th>\n",
       "      <td>5849310.0</td>\n",
       "      <td>38950220.0</td>\n",
       "      <td>43427810.0</td>\n",
       "      <td>1046695.0</td>\n",
       "      <td>770776.0</td>\n",
       "      <td>22159425.0</td>\n",
       "      <td>536028.0</td>\n",
       "      <td>142340.0</td>\n",
       "      <td>283237.0</td>\n",
       "    </tr>\n",
       "    <tr>\n",
       "      <th>1980</th>\n",
       "      <td>6155775.0</td>\n",
       "      <td>39090025.0</td>\n",
       "      <td>46019964.0</td>\n",
       "      <td>1062949.0</td>\n",
       "      <td>770534.0</td>\n",
       "      <td>23451839.0</td>\n",
       "      <td>495514.0</td>\n",
       "      <td>145034.0</td>\n",
       "      <td>287641.0</td>\n",
       "    </tr>\n",
       "    <tr>\n",
       "      <th>1981</th>\n",
       "      <td>6442069.0</td>\n",
       "      <td>39565159.0</td>\n",
       "      <td>46222290.0</td>\n",
       "      <td>1084762.0</td>\n",
       "      <td>820170.0</td>\n",
       "      <td>24925030.0</td>\n",
       "      <td>482317.0</td>\n",
       "      <td>142621.0</td>\n",
       "      <td>296138.0</td>\n",
       "    </tr>\n",
       "    <tr>\n",
       "      <th>1982</th>\n",
       "      <td>6582866.0</td>\n",
       "      <td>39692544.0</td>\n",
       "      <td>46500040.0</td>\n",
       "      <td>1110332.0</td>\n",
       "      <td>862338.0</td>\n",
       "      <td>25716429.0</td>\n",
       "      <td>452136.0</td>\n",
       "      <td>157246.0</td>\n",
       "      <td>311531.0</td>\n",
       "    </tr>\n",
       "    <tr>\n",
       "      <th>1983</th>\n",
       "      <td>6836005.0</td>\n",
       "      <td>40562442.0</td>\n",
       "      <td>48255494.0</td>\n",
       "      <td>1125032.0</td>\n",
       "      <td>902487.0</td>\n",
       "      <td>26335633.0</td>\n",
       "      <td>448272.0</td>\n",
       "      <td>162167.0</td>\n",
       "      <td>328120.0</td>\n",
       "    </tr>\n",
       "    <tr>\n",
       "      <th>1984</th>\n",
       "      <td>6879015.0</td>\n",
       "      <td>41660787.0</td>\n",
       "      <td>50012337.0</td>\n",
       "      <td>1126091.0</td>\n",
       "      <td>916037.0</td>\n",
       "      <td>26790041.0</td>\n",
       "      <td>467228.0</td>\n",
       "      <td>175891.0</td>\n",
       "      <td>335426.0</td>\n",
       "    </tr>\n",
       "    <tr>\n",
       "      <th>1985</th>\n",
       "      <td>7088161.0</td>\n",
       "      <td>42423021.0</td>\n",
       "      <td>52731409.0</td>\n",
       "      <td>1142712.0</td>\n",
       "      <td>947972.0</td>\n",
       "      <td>28096881.0</td>\n",
       "      <td>477594.0</td>\n",
       "      <td>178770.0</td>\n",
       "      <td>331843.0</td>\n",
       "    </tr>\n",
       "    <tr>\n",
       "      <th>1986</th>\n",
       "      <td>7125826.0</td>\n",
       "      <td>43678535.0</td>\n",
       "      <td>53360572.0</td>\n",
       "      <td>1158560.0</td>\n",
       "      <td>1033704.0</td>\n",
       "      <td>30010781.0</td>\n",
       "      <td>468520.0</td>\n",
       "      <td>176865.0</td>\n",
       "      <td>374747.0</td>\n",
       "    </tr>\n",
       "    <tr>\n",
       "      <th>1987</th>\n",
       "      <td>7430211.0</td>\n",
       "      <td>43342708.0</td>\n",
       "      <td>55749368.0</td>\n",
       "      <td>1173601.0</td>\n",
       "      <td>1139022.0</td>\n",
       "      <td>32526745.0</td>\n",
       "      <td>491184.0</td>\n",
       "      <td>167938.0</td>\n",
       "      <td>417854.0</td>\n",
       "    </tr>\n",
       "    <tr>\n",
       "      <th>1988</th>\n",
       "      <td>7720664.0</td>\n",
       "      <td>43538829.0</td>\n",
       "      <td>58838039.0</td>\n",
       "      <td>1189137.0</td>\n",
       "      <td>1196466.0</td>\n",
       "      <td>34199870.0</td>\n",
       "      <td>491512.0</td>\n",
       "      <td>179132.0</td>\n",
       "      <td>534347.0</td>\n",
       "    </tr>\n",
       "    <tr>\n",
       "      <th>1989</th>\n",
       "      <td>8048660.0</td>\n",
       "      <td>43541142.0</td>\n",
       "      <td>59804637.0</td>\n",
       "      <td>1210083.0</td>\n",
       "      <td>1244180.0</td>\n",
       "      <td>35122200.0</td>\n",
       "      <td>498559.0</td>\n",
       "      <td>198056.0</td>\n",
       "      <td>556789.0</td>\n",
       "    </tr>\n",
       "    <tr>\n",
       "      <th>1990</th>\n",
       "      <td>8355510.0</td>\n",
       "      <td>44986334.0</td>\n",
       "      <td>61743242.0</td>\n",
       "      <td>1178566.0</td>\n",
       "      <td>1333074.0</td>\n",
       "      <td>37465562.0</td>\n",
       "      <td>505480.0</td>\n",
       "      <td>213233.0</td>\n",
       "      <td>618878.0</td>\n",
       "    </tr>\n",
       "    <tr>\n",
       "      <th>1991</th>\n",
       "      <td>8630108.0</td>\n",
       "      <td>46159200.0</td>\n",
       "      <td>64110483.0</td>\n",
       "      <td>1231045.0</td>\n",
       "      <td>1470082.0</td>\n",
       "      <td>40565755.0</td>\n",
       "      <td>516457.0</td>\n",
       "      <td>221298.0</td>\n",
       "      <td>769819.0</td>\n",
       "    </tr>\n",
       "    <tr>\n",
       "      <th>1992</th>\n",
       "      <td>9664577.0</td>\n",
       "      <td>53788293.0</td>\n",
       "      <td>72239561.0</td>\n",
       "      <td>1280283.0</td>\n",
       "      <td>1682036.0</td>\n",
       "      <td>46016343.0</td>\n",
       "      <td>676213.0</td>\n",
       "      <td>226196.0</td>\n",
       "      <td>875822.0</td>\n",
       "    </tr>\n",
       "    <tr>\n",
       "      <th>1993</th>\n",
       "      <td>9917794.0</td>\n",
       "      <td>53822912.0</td>\n",
       "      <td>75508752.0</td>\n",
       "      <td>1371128.0</td>\n",
       "      <td>1913564.0</td>\n",
       "      <td>49281383.0</td>\n",
       "      <td>636972.0</td>\n",
       "      <td>222401.0</td>\n",
       "      <td>989729.0</td>\n",
       "    </tr>\n",
       "    <tr>\n",
       "      <th>1994</th>\n",
       "      <td>10089838.0</td>\n",
       "      <td>53842892.0</td>\n",
       "      <td>79077548.0</td>\n",
       "      <td>1399479.0</td>\n",
       "      <td>2049216.0</td>\n",
       "      <td>52005580.0</td>\n",
       "      <td>669688.0</td>\n",
       "      <td>230099.0</td>\n",
       "      <td>1079963.0</td>\n",
       "    </tr>\n",
       "    <tr>\n",
       "      <th>1995</th>\n",
       "      <td>10296602.0</td>\n",
       "      <td>54599588.0</td>\n",
       "      <td>83677376.0</td>\n",
       "      <td>1482980.0</td>\n",
       "      <td>2256572.0</td>\n",
       "      <td>55522846.0</td>\n",
       "      <td>681942.0</td>\n",
       "      <td>229273.0</td>\n",
       "      <td>1488853.0</td>\n",
       "    </tr>\n",
       "    <tr>\n",
       "      <th>1996</th>\n",
       "      <td>9994536.0</td>\n",
       "      <td>55457073.0</td>\n",
       "      <td>78985515.0</td>\n",
       "      <td>1484917.0</td>\n",
       "      <td>2315815.0</td>\n",
       "      <td>57452271.0</td>\n",
       "      <td>736877.0</td>\n",
       "      <td>252109.0</td>\n",
       "      <td>1521518.0</td>\n",
       "    </tr>\n",
       "    <tr>\n",
       "      <th>1997</th>\n",
       "      <td>10323262.0</td>\n",
       "      <td>56678953.0</td>\n",
       "      <td>82730102.0</td>\n",
       "      <td>1505341.0</td>\n",
       "      <td>2523495.0</td>\n",
       "      <td>61090109.0</td>\n",
       "      <td>740587.0</td>\n",
       "      <td>242716.0</td>\n",
       "      <td>1660726.0</td>\n",
       "    </tr>\n",
       "    <tr>\n",
       "      <th>1998</th>\n",
       "      <td>10711609.0</td>\n",
       "      <td>56260157.0</td>\n",
       "      <td>88147196.0</td>\n",
       "      <td>1544505.0</td>\n",
       "      <td>2678534.0</td>\n",
       "      <td>63585592.0</td>\n",
       "      <td>729723.0</td>\n",
       "      <td>245182.0</td>\n",
       "      <td>1812609.0</td>\n",
       "    </tr>\n",
       "    <tr>\n",
       "      <th>1999</th>\n",
       "      <td>10923094.0</td>\n",
       "      <td>57724145.0</td>\n",
       "      <td>90123436.0</td>\n",
       "      <td>1582820.0</td>\n",
       "      <td>2978752.0</td>\n",
       "      <td>66373841.0</td>\n",
       "      <td>747180.0</td>\n",
       "      <td>246754.0</td>\n",
       "      <td>1871939.0</td>\n",
       "    </tr>\n",
       "    <tr>\n",
       "      <th>2000</th>\n",
       "      <td>11217154.0</td>\n",
       "      <td>58384782.0</td>\n",
       "      <td>90330420.0</td>\n",
       "      <td>1589231.0</td>\n",
       "      <td>2969727.0</td>\n",
       "      <td>69322528.0</td>\n",
       "      <td>759543.0</td>\n",
       "      <td>258483.0</td>\n",
       "      <td>1901547.0</td>\n",
       "    </tr>\n",
       "    <tr>\n",
       "      <th>2001</th>\n",
       "      <td>11292077.0</td>\n",
       "      <td>57827346.0</td>\n",
       "      <td>91334412.0</td>\n",
       "      <td>1594276.0</td>\n",
       "      <td>3074573.0</td>\n",
       "      <td>71886089.0</td>\n",
       "      <td>795439.0</td>\n",
       "      <td>280830.0</td>\n",
       "      <td>1894235.0</td>\n",
       "    </tr>\n",
       "    <tr>\n",
       "      <th>2002</th>\n",
       "      <td>11282593.0</td>\n",
       "      <td>58974430.0</td>\n",
       "      <td>93648583.0</td>\n",
       "      <td>1624928.0</td>\n",
       "      <td>3025303.0</td>\n",
       "      <td>75137683.0</td>\n",
       "      <td>764257.0</td>\n",
       "      <td>276253.0</td>\n",
       "      <td>1845653.0</td>\n",
       "    </tr>\n",
       "    <tr>\n",
       "      <th>2003</th>\n",
       "      <td>11606718.0</td>\n",
       "      <td>59809581.0</td>\n",
       "      <td>96081543.0</td>\n",
       "      <td>1650251.0</td>\n",
       "      <td>3116096.0</td>\n",
       "      <td>76687326.0</td>\n",
       "      <td>764521.0</td>\n",
       "      <td>279706.0</td>\n",
       "      <td>1915656.0</td>\n",
       "    </tr>\n",
       "    <tr>\n",
       "      <th>2004</th>\n",
       "      <td>11966267.0</td>\n",
       "      <td>61511696.0</td>\n",
       "      <td>97187725.0</td>\n",
       "      <td>1680468.0</td>\n",
       "      <td>3163556.0</td>\n",
       "      <td>79156477.0</td>\n",
       "      <td>756511.0</td>\n",
       "      <td>291439.0</td>\n",
       "      <td>1951808.0</td>\n",
       "    </tr>\n",
       "    <tr>\n",
       "      <th>2005</th>\n",
       "      <td>12338730.0</td>\n",
       "      <td>61935904.0</td>\n",
       "      <td>99291024.0</td>\n",
       "      <td>1714491.0</td>\n",
       "      <td>3432844.0</td>\n",
       "      <td>81902296.0</td>\n",
       "      <td>751571.0</td>\n",
       "      <td>285769.0</td>\n",
       "      <td>2080927.0</td>\n",
       "    </tr>\n",
       "    <tr>\n",
       "      <th>2006</th>\n",
       "      <td>12634260.0</td>\n",
       "      <td>63552048.0</td>\n",
       "      <td>101845717.0</td>\n",
       "      <td>1766952.0</td>\n",
       "      <td>3495481.0</td>\n",
       "      <td>84122991.0</td>\n",
       "      <td>745443.0</td>\n",
       "      <td>291102.0</td>\n",
       "      <td>2079496.0</td>\n",
       "    </tr>\n",
       "    <tr>\n",
       "      <th>2007</th>\n",
       "      <td>13136111.0</td>\n",
       "      <td>65510185.0</td>\n",
       "      <td>100418782.0</td>\n",
       "      <td>1802274.0</td>\n",
       "      <td>3727117.0</td>\n",
       "      <td>89130601.0</td>\n",
       "      <td>718153.0</td>\n",
       "      <td>342018.0</td>\n",
       "      <td>2267771.0</td>\n",
       "    </tr>\n",
       "    <tr>\n",
       "      <th>2008</th>\n",
       "      <td>13117907.0</td>\n",
       "      <td>65615113.0</td>\n",
       "      <td>104549292.0</td>\n",
       "      <td>1859167.0</td>\n",
       "      <td>3902269.0</td>\n",
       "      <td>93311239.0</td>\n",
       "      <td>723430.0</td>\n",
       "      <td>373829.0</td>\n",
       "      <td>2295059.0</td>\n",
       "    </tr>\n",
       "    <tr>\n",
       "      <th>2009</th>\n",
       "      <td>13234241.0</td>\n",
       "      <td>65987904.0</td>\n",
       "      <td>107138548.0</td>\n",
       "      <td>1888473.0</td>\n",
       "      <td>4006886.0</td>\n",
       "      <td>95389933.0</td>\n",
       "      <td>725200.0</td>\n",
       "      <td>351092.0</td>\n",
       "      <td>2379568.0</td>\n",
       "    </tr>\n",
       "    <tr>\n",
       "      <th>2010</th>\n",
       "      <td>13217820.0</td>\n",
       "      <td>66226286.0</td>\n",
       "      <td>109954033.0</td>\n",
       "      <td>1893249.0</td>\n",
       "      <td>4149623.0</td>\n",
       "      <td>99940582.0</td>\n",
       "      <td>719161.0</td>\n",
       "      <td>377353.0</td>\n",
       "      <td>2457937.0</td>\n",
       "    </tr>\n",
       "    <tr>\n",
       "      <th>2011</th>\n",
       "      <td>13270721.0</td>\n",
       "      <td>65962770.0</td>\n",
       "      <td>110613241.0</td>\n",
       "      <td>1956751.0</td>\n",
       "      <td>4295295.0</td>\n",
       "      <td>103959176.0</td>\n",
       "      <td>733948.0</td>\n",
       "      <td>371211.0</td>\n",
       "      <td>2541242.0</td>\n",
       "    </tr>\n",
       "    <tr>\n",
       "      <th>2012</th>\n",
       "      <td>13955042.0</td>\n",
       "      <td>66903024.0</td>\n",
       "      <td>114135322.0</td>\n",
       "      <td>1983268.0</td>\n",
       "      <td>4425959.0</td>\n",
       "      <td>107662607.0</td>\n",
       "      <td>745323.0</td>\n",
       "      <td>513936.0</td>\n",
       "      <td>2687077.0</td>\n",
       "    </tr>\n",
       "    <tr>\n",
       "      <th>2013</th>\n",
       "      <td>14321878.0</td>\n",
       "      <td>67967957.0</td>\n",
       "      <td>116091184.0</td>\n",
       "      <td>1994245.0</td>\n",
       "      <td>4502047.0</td>\n",
       "      <td>111080843.0</td>\n",
       "      <td>717028.0</td>\n",
       "      <td>531600.0</td>\n",
       "      <td>2724367.0</td>\n",
       "    </tr>\n",
       "    <tr>\n",
       "      <th>2014</th>\n",
       "      <td>14719531.0</td>\n",
       "      <td>68489341.0</td>\n",
       "      <td>118001600.0</td>\n",
       "      <td>2013839.0</td>\n",
       "      <td>4448227.0</td>\n",
       "      <td>113742401.0</td>\n",
       "      <td>742920.0</td>\n",
       "      <td>533946.0</td>\n",
       "      <td>2617029.0</td>\n",
       "    </tr>\n",
       "    <tr>\n",
       "      <th>2015</th>\n",
       "      <td>15106507.0</td>\n",
       "      <td>67992165.0</td>\n",
       "      <td>120368675.0</td>\n",
       "      <td>2043261.0</td>\n",
       "      <td>4377475.0</td>\n",
       "      <td>116928731.0</td>\n",
       "      <td>779518.0</td>\n",
       "      <td>547080.0</td>\n",
       "      <td>2551220.0</td>\n",
       "    </tr>\n",
       "    <tr>\n",
       "      <th>2016</th>\n",
       "      <td>15371905.0</td>\n",
       "      <td>68668231.0</td>\n",
       "      <td>119909062.0</td>\n",
       "      <td>2071919.0</td>\n",
       "      <td>4500524.0</td>\n",
       "      <td>120408544.0</td>\n",
       "      <td>779078.0</td>\n",
       "      <td>547873.0</td>\n",
       "      <td>2633324.0</td>\n",
       "    </tr>\n",
       "    <tr>\n",
       "      <th>2017</th>\n",
       "      <td>15420839.0</td>\n",
       "      <td>69574869.0</td>\n",
       "      <td>120863364.0</td>\n",
       "      <td>2087733.0</td>\n",
       "      <td>4421685.0</td>\n",
       "      <td>123885862.0</td>\n",
       "      <td>780124.0</td>\n",
       "      <td>563496.0</td>\n",
       "      <td>2725284.0</td>\n",
       "    </tr>\n",
       "    <tr>\n",
       "      <th>2018</th>\n",
       "      <td>15770345.0</td>\n",
       "      <td>71624485.0</td>\n",
       "      <td>121827772.0</td>\n",
       "      <td>2112836.0</td>\n",
       "      <td>4551565.0</td>\n",
       "      <td>128034784.0</td>\n",
       "      <td>791988.0</td>\n",
       "      <td>557430.0</td>\n",
       "      <td>2657450.0</td>\n",
       "    </tr>\n",
       "  </tbody>\n",
       "</table>\n",
       "</div>"
      ],
      "text/plain": [
       "           sheep        beef          pig       game       duck      poultry  \\\n",
       "Year                                                                           \n",
       "1961   4765326.0  25018135.0   20078914.0   804069.0   349100.0    7969007.0   \n",
       "1962   4825488.0  26065384.0   21140840.0   796729.0   359606.0    8208557.0   \n",
       "1963   4783678.0  27265945.0   22901727.0   819008.0   380653.0    8768904.0   \n",
       "1964   4842498.0  27931151.0   24907463.0   841107.0   397002.0    9341678.0   \n",
       "1965   4929189.0  28168057.0   26002850.0   852838.0   420766.0   10068308.0   \n",
       "1966   5112463.0  29344655.0   27012039.0   866070.0   436441.0   10727879.0   \n",
       "1967   5185630.0  30302534.0   28420567.0   893807.0   454140.0   11396907.0   \n",
       "1968   5356044.0  31521070.0   29263322.0   914415.0   474332.0   11721601.0   \n",
       "1969   5393574.0  32454782.0   29078473.0   944901.0   488692.0   12605830.0   \n",
       "1970   5547555.0  33082276.0   30151128.0   955493.0   524246.0   13709189.0   \n",
       "1971   5702447.0  32688089.0   32935122.0   955872.0   547692.0   14229307.0   \n",
       "1972   5817726.0  33024778.0   33966322.0   985157.0   561100.0   15300118.0   \n",
       "1973   5545772.0  33157849.0   34267783.0   957058.0   583202.0   16002194.0   \n",
       "1974   5317525.0  35568976.0   35554957.0   975871.0   608767.0   16526942.0   \n",
       "1975   5526075.0  37377050.0   34495330.0   981238.0   602795.0   16799718.0   \n",
       "1976   5634727.0  39697085.0   35268439.0   987820.0   624803.0   18257375.0   \n",
       "1977   5683247.0  39757549.0   36661766.0  1018404.0   667641.0   19201717.0   \n",
       "1978   5805267.0  40067668.0   38795793.0  1022080.0   713388.0   20461649.0   \n",
       "1979   5849310.0  38950220.0   43427810.0  1046695.0   770776.0   22159425.0   \n",
       "1980   6155775.0  39090025.0   46019964.0  1062949.0   770534.0   23451839.0   \n",
       "1981   6442069.0  39565159.0   46222290.0  1084762.0   820170.0   24925030.0   \n",
       "1982   6582866.0  39692544.0   46500040.0  1110332.0   862338.0   25716429.0   \n",
       "1983   6836005.0  40562442.0   48255494.0  1125032.0   902487.0   26335633.0   \n",
       "1984   6879015.0  41660787.0   50012337.0  1126091.0   916037.0   26790041.0   \n",
       "1985   7088161.0  42423021.0   52731409.0  1142712.0   947972.0   28096881.0   \n",
       "1986   7125826.0  43678535.0   53360572.0  1158560.0  1033704.0   30010781.0   \n",
       "1987   7430211.0  43342708.0   55749368.0  1173601.0  1139022.0   32526745.0   \n",
       "1988   7720664.0  43538829.0   58838039.0  1189137.0  1196466.0   34199870.0   \n",
       "1989   8048660.0  43541142.0   59804637.0  1210083.0  1244180.0   35122200.0   \n",
       "1990   8355510.0  44986334.0   61743242.0  1178566.0  1333074.0   37465562.0   \n",
       "1991   8630108.0  46159200.0   64110483.0  1231045.0  1470082.0   40565755.0   \n",
       "1992   9664577.0  53788293.0   72239561.0  1280283.0  1682036.0   46016343.0   \n",
       "1993   9917794.0  53822912.0   75508752.0  1371128.0  1913564.0   49281383.0   \n",
       "1994  10089838.0  53842892.0   79077548.0  1399479.0  2049216.0   52005580.0   \n",
       "1995  10296602.0  54599588.0   83677376.0  1482980.0  2256572.0   55522846.0   \n",
       "1996   9994536.0  55457073.0   78985515.0  1484917.0  2315815.0   57452271.0   \n",
       "1997  10323262.0  56678953.0   82730102.0  1505341.0  2523495.0   61090109.0   \n",
       "1998  10711609.0  56260157.0   88147196.0  1544505.0  2678534.0   63585592.0   \n",
       "1999  10923094.0  57724145.0   90123436.0  1582820.0  2978752.0   66373841.0   \n",
       "2000  11217154.0  58384782.0   90330420.0  1589231.0  2969727.0   69322528.0   \n",
       "2001  11292077.0  57827346.0   91334412.0  1594276.0  3074573.0   71886089.0   \n",
       "2002  11282593.0  58974430.0   93648583.0  1624928.0  3025303.0   75137683.0   \n",
       "2003  11606718.0  59809581.0   96081543.0  1650251.0  3116096.0   76687326.0   \n",
       "2004  11966267.0  61511696.0   97187725.0  1680468.0  3163556.0   79156477.0   \n",
       "2005  12338730.0  61935904.0   99291024.0  1714491.0  3432844.0   81902296.0   \n",
       "2006  12634260.0  63552048.0  101845717.0  1766952.0  3495481.0   84122991.0   \n",
       "2007  13136111.0  65510185.0  100418782.0  1802274.0  3727117.0   89130601.0   \n",
       "2008  13117907.0  65615113.0  104549292.0  1859167.0  3902269.0   93311239.0   \n",
       "2009  13234241.0  65987904.0  107138548.0  1888473.0  4006886.0   95389933.0   \n",
       "2010  13217820.0  66226286.0  109954033.0  1893249.0  4149623.0   99940582.0   \n",
       "2011  13270721.0  65962770.0  110613241.0  1956751.0  4295295.0  103959176.0   \n",
       "2012  13955042.0  66903024.0  114135322.0  1983268.0  4425959.0  107662607.0   \n",
       "2013  14321878.0  67967957.0  116091184.0  1994245.0  4502047.0  111080843.0   \n",
       "2014  14719531.0  68489341.0  118001600.0  2013839.0  4448227.0  113742401.0   \n",
       "2015  15106507.0  67992165.0  120368675.0  2043261.0  4377475.0  116928731.0   \n",
       "2016  15371905.0  68668231.0  119909062.0  2071919.0  4500524.0  120408544.0   \n",
       "2017  15420839.0  69574869.0  120863364.0  2087733.0  4421685.0  123885862.0   \n",
       "2018  15770345.0  71624485.0  121827772.0  2112836.0  4551565.0  128034784.0   \n",
       "\n",
       "         horse     camel      goose  \n",
       "Year                                 \n",
       "1961  528663.0  100878.0   152043.0  \n",
       "1962  511857.0  104522.0   158861.0  \n",
       "1963  520893.0  109362.0   159803.0  \n",
       "1964  556687.0  112932.0   168809.0  \n",
       "1965  537880.0  121219.0   183106.0  \n",
       "1966  502336.0  124842.0   189495.0  \n",
       "1967  490135.0  122992.0   201384.0  \n",
       "1968  502776.0  127437.0   217993.0  \n",
       "1969  515070.0  126207.0   214356.0  \n",
       "1970  514744.0  128666.0   230386.0  \n",
       "1971  501069.0  129189.0   251795.0  \n",
       "1972  495948.0  136777.0   238239.0  \n",
       "1973  496190.0  140216.0   243570.0  \n",
       "1974  460819.0  157085.0   243188.0  \n",
       "1975  490356.0  144888.0   254756.0  \n",
       "1976  531391.0  144893.0   253629.0  \n",
       "1977  539009.0  145630.0   259717.0  \n",
       "1978  549950.0  140933.0   276770.0  \n",
       "1979  536028.0  142340.0   283237.0  \n",
       "1980  495514.0  145034.0   287641.0  \n",
       "1981  482317.0  142621.0   296138.0  \n",
       "1982  452136.0  157246.0   311531.0  \n",
       "1983  448272.0  162167.0   328120.0  \n",
       "1984  467228.0  175891.0   335426.0  \n",
       "1985  477594.0  178770.0   331843.0  \n",
       "1986  468520.0  176865.0   374747.0  \n",
       "1987  491184.0  167938.0   417854.0  \n",
       "1988  491512.0  179132.0   534347.0  \n",
       "1989  498559.0  198056.0   556789.0  \n",
       "1990  505480.0  213233.0   618878.0  \n",
       "1991  516457.0  221298.0   769819.0  \n",
       "1992  676213.0  226196.0   875822.0  \n",
       "1993  636972.0  222401.0   989729.0  \n",
       "1994  669688.0  230099.0  1079963.0  \n",
       "1995  681942.0  229273.0  1488853.0  \n",
       "1996  736877.0  252109.0  1521518.0  \n",
       "1997  740587.0  242716.0  1660726.0  \n",
       "1998  729723.0  245182.0  1812609.0  \n",
       "1999  747180.0  246754.0  1871939.0  \n",
       "2000  759543.0  258483.0  1901547.0  \n",
       "2001  795439.0  280830.0  1894235.0  \n",
       "2002  764257.0  276253.0  1845653.0  \n",
       "2003  764521.0  279706.0  1915656.0  \n",
       "2004  756511.0  291439.0  1951808.0  \n",
       "2005  751571.0  285769.0  2080927.0  \n",
       "2006  745443.0  291102.0  2079496.0  \n",
       "2007  718153.0  342018.0  2267771.0  \n",
       "2008  723430.0  373829.0  2295059.0  \n",
       "2009  725200.0  351092.0  2379568.0  \n",
       "2010  719161.0  377353.0  2457937.0  \n",
       "2011  733948.0  371211.0  2541242.0  \n",
       "2012  745323.0  513936.0  2687077.0  \n",
       "2013  717028.0  531600.0  2724367.0  \n",
       "2014  742920.0  533946.0  2617029.0  \n",
       "2015  779518.0  547080.0  2551220.0  \n",
       "2016  779078.0  547873.0  2633324.0  \n",
       "2017  780124.0  563496.0  2725284.0  \n",
       "2018  791988.0  557430.0  2657450.0  "
      ]
     },
     "execution_count": 19,
     "metadata": {},
     "output_type": "execute_result"
    }
   ],
   "source": [
    "\"\"\"\n",
    "O bien, correspondiente a un año \n",
    "\"\"\"\n",
    "data.groupby(\"Year\").sum()"
   ]
  },
  {
   "cell_type": "code",
   "execution_count": 20,
   "metadata": {},
   "outputs": [
    {
     "data": {
      "text/plain": [
       "Entity\n",
       "Afghanistan          14617242.0\n",
       "Albania               3256089.0\n",
       "Algeria              22447037.0\n",
       "American Samoa          20835.0\n",
       "Angola                7120724.0\n",
       "                        ...    \n",
       "Wallis and Futuna       17657.0\n",
       "Western Sahara         102792.0\n",
       "Yemen                 9232539.0\n",
       "Zambia                7506354.0\n",
       "Zimbabwe              9255272.0\n",
       "Length: 213, dtype: float64"
      ]
     },
     "execution_count": 20,
     "metadata": {},
     "output_type": "execute_result"
    }
   ],
   "source": [
    "\"\"\"\n",
    "Podemos concatenar estas técnicas, para obtener la producción total de un país desde 1961\n",
    "\"\"\"\n",
    "data.groupby(\"Entity\").sum().sum(axis=\"columns\")"
   ]
  },
  {
   "cell_type": "code",
   "execution_count": 21,
   "metadata": {},
   "outputs": [
    {
     "data": {
      "text/plain": [
       "<AxesSubplot:xlabel='Entity'>"
      ]
     },
     "execution_count": 21,
     "metadata": {},
     "output_type": "execute_result"
    },
    {
     "data": {
      "image/png": "[encoded data removed]",
      "text/plain": [
       "<Figure size 3600x360 with 1 Axes>"
      ]
     },
     "metadata": {
      "needs_background": "light"
     },
     "output_type": "display_data"
    }
   ],
   "source": [
    "\"\"\"\n",
    "Visualicemos la producción total de carne de cada país\n",
    "\"\"\"\n",
    "data.groupby(\"Entity\").sum().sum(axis=\"columns\").plot(kind=\"bar\", figsize=(50,5))"
   ]
  },
  {
   "cell_type": "code",
   "execution_count": 22,
   "metadata": {},
   "outputs": [
    {
     "data": {
      "text/plain": [
       "Entity\n",
       "China            2372.0\n",
       "United States    1774.0\n",
       "Brazil            660.0\n",
       "Germany           380.0\n",
       "France            309.0\n",
       "Argentina         223.0\n",
       "India             217.0\n",
       "Mexico            202.0\n",
       "Spain             200.0\n",
       "Italy             188.0\n",
       "dtype: float64"
      ]
     },
     "execution_count": 22,
     "metadata": {},
     "output_type": "execute_result"
    }
   ],
   "source": [
    "\"\"\"\n",
    "Vamos a localizar a los diez mayores productores históricos de carne\n",
    "\"\"\"\n",
    "data.groupby(\"Entity\").sum().sum(axis=\"columns\").sort_values(ascending=False).head(n=10)//10**6"
   ]
  },
  {
   "cell_type": "code",
   "execution_count": 23,
   "metadata": {},
   "outputs": [
    {
     "data": {
      "text/plain": [
       "<AxesSubplot:xlabel='Year'>"
      ]
     },
     "execution_count": 23,
     "metadata": {},
     "output_type": "execute_result"
    },
    {
     "data": {
      "image/png": "[encoded data removed]",
      "text/plain": [
       "<Figure size 432x288 with 1 Axes>"
      ]
     },
     "metadata": {
      "needs_background": "light"
     },
     "output_type": "display_data"
    }
   ],
   "source": [
    "\"\"\"\n",
    "Visualicemos la producción mundial de carne\n",
    "\"\"\"\n",
    "data.groupby(\"Year\").sum().sum(axis=\"columns\").plot()"
   ]
  },
  {
   "cell_type": "code",
   "execution_count": 24,
   "metadata": {},
   "outputs": [
    {
     "data": {
      "text/plain": [
       "<AxesSubplot:xlabel='Year'>"
      ]
     },
     "execution_count": 24,
     "metadata": {},
     "output_type": "execute_result"
    },
    {
     "data": {
      "image/png": "[encoded data removed]",
      "text/plain": [
       "<Figure size 432x288 with 1 Axes>"
      ]
     },
     "metadata": {
      "needs_background": "light"
     },
     "output_type": "display_data"
    }
   ],
   "source": [
    "\"\"\"\n",
    "Realicemos el mismo análisis, pero ahora para cda tipo de carne\n",
    "\"\"\"\n",
    "data.groupby(\"Year\").sum().plot()"
   ]
  },
  {
   "cell_type": "markdown",
   "metadata": {},
   "source": [
    "### Media, varianza y desviación estándar"
   ]
  },
  {
   "cell_type": "code",
   "execution_count": 25,
   "metadata": {},
   "outputs": [
    {
     "data": {
      "text/plain": [
       "Entity\n",
       "Afghanistan           28850.0\n",
       "Albania               15587.0\n",
       "Algeria              294663.0\n",
       "American Samoa           25.0\n",
       "Angola                27208.0\n",
       "                       ...   \n",
       "Vietnam              947018.0\n",
       "Wallis and Futuna        48.0\n",
       "Yemen                179768.0\n",
       "Zambia                49487.0\n",
       "Zimbabwe              66022.0\n",
       "Name: poultry, Length: 208, dtype: float64"
      ]
     },
     "execution_count": 25,
     "metadata": {},
     "output_type": "execute_result"
    }
   ],
   "source": [
    "\"\"\"\n",
    "Vamos a analizar la producción de pollo en 2018\n",
    "\"\"\"\n",
    "poultry18 = data[\"poultry\"].loc[:, 2018].dropna()\n",
    "poultry18"
   ]
  },
  {
   "cell_type": "code",
   "execution_count": 26,
   "metadata": {},
   "outputs": [
    {
     "data": {
      "text/plain": [
       "<AxesSubplot:>"
      ]
     },
     "execution_count": 26,
     "metadata": {},
     "output_type": "execute_result"
    },
    {
     "data": {
      "image/png": "[encoded data removed]",
      "text/plain": [
       "<Figure size 432x288 with 1 Axes>"
      ]
     },
     "metadata": {
      "needs_background": "light"
     },
     "output_type": "display_data"
    }
   ],
   "source": [
    "\"\"\"\n",
    "Es claro que la producción de la mayoría de los países producen muy poca carne. \n",
    "\n",
    "Si bien, muchas veces se supone que las distribuciones son normales, este no es el caso. \n",
    "\"\"\"\n",
    "n = len(poultry18)\n",
    "nbins = np.round(np.sqrt(n),0).astype(\"int\")\n",
    "poultry18.hist(bins=nbins)"
   ]
  },
  {
   "cell_type": "code",
   "execution_count": 27,
   "metadata": {},
   "outputs": [
    {
     "data": {
      "text/plain": [
       "<AxesSubplot:>"
      ]
     },
     "execution_count": 27,
     "metadata": {},
     "output_type": "execute_result"
    },
    {
     "data": {
      "image/png": "[encoded data removed]",
      "text/plain": [
       "<Figure size 432x288 with 1 Axes>"
      ]
     },
     "metadata": {
      "needs_background": "light"
     },
     "output_type": "display_data"
    }
   ],
   "source": [
    "\"\"\"\n",
    "Por esta razón, trataremos de convertir los datos, y así obtener una distribución más parecida a la normal\n",
    "\"\"\"\n",
    "np.log(poultry18).hist(bins=nbins)"
   ]
  },
  {
   "cell_type": "code",
   "execution_count": 28,
   "metadata": {},
   "outputs": [
    {
     "data": {
      "image/png": "[encoded data removed]",
      "text/plain": [
       "<Figure size 432x288 with 1 Axes>"
      ]
     },
     "metadata": {
      "needs_background": "light"
     },
     "output_type": "display_data"
    }
   ],
   "source": [
    "\"\"\"\n",
    "La transformación anterior no ha funcionado muy bien, ya que está cargada a la derecha.\n",
    "Pero esta pertenece a una familia más amplia de transformaciones.\n",
    "\"\"\"\n",
    "transformed_p18 = stats.boxcox(poultry18, 0)\n",
    "plt.hist(transformed_p18, bins=nbins)\n",
    "plt.show()"
   ]
  },
  {
   "cell_type": "code",
   "execution_count": 29,
   "metadata": {},
   "outputs": [
    {
     "data": {
      "image/png": "[encoded data removed]",
      "text/plain": [
       "<Figure size 432x288 with 1 Axes>"
      ]
     },
     "metadata": {
      "needs_background": "light"
     },
     "output_type": "display_data"
    }
   ],
   "source": [
    "\"\"\"\n",
    "Sin entrar en más detalles, buscaremos la mejor transformación de este tipo.\n",
    "\"\"\"\n",
    "transformed_p18, lambda_par = stats.boxcox(poultry18)\n",
    "plt.hist(transformed_p18, bins = nbins)\n",
    "plt.show()"
   ]
  },
  {
   "cell_type": "code",
   "execution_count": 30,
   "metadata": {},
   "outputs": [
    {
     "data": {
      "text/plain": [
       "0.07023104262129665"
      ]
     },
     "execution_count": 30,
     "metadata": {},
     "output_type": "execute_result"
    }
   ],
   "source": [
    "\"\"\"\n",
    "El parámetro que da esta transformación es muy cercano a cero\n",
    "\"\"\"\n",
    "lambda_par"
   ]
  },
  {
   "cell_type": "code",
   "execution_count": 31,
   "metadata": {},
   "outputs": [
    {
     "data": {
      "text/plain": [
       "numpy.ndarray"
      ]
     },
     "execution_count": 31,
     "metadata": {},
     "output_type": "execute_result"
    }
   ],
   "source": [
    "\"\"\"\n",
    "Los datos transformado están contenidos en un array\n",
    "\"\"\"\n",
    "type(transformed_p18)"
   ]
  },
  {
   "cell_type": "code",
   "execution_count": 32,
   "metadata": {},
   "outputs": [
    {
     "data": {
      "text/plain": [
       "15.756316519276615"
      ]
     },
     "execution_count": 32,
     "metadata": {},
     "output_type": "execute_result"
    }
   ],
   "source": [
    "\"\"\"\n",
    "Ahora calculemos el promedio de los datos transformados.\n",
    "\"\"\"\n",
    "total = 0\n",
    "\n",
    "for x in transformed_p18:\n",
    "    total = total + x \n",
    "\n",
    "\n",
    "n = len(transformed_p18)\n",
    "\n",
    "total/n \n"
   ]
  },
  {
   "cell_type": "code",
   "execution_count": 33,
   "metadata": {},
   "outputs": [
    {
     "data": {
      "text/plain": [
       "15.76"
      ]
     },
     "execution_count": 33,
     "metadata": {},
     "output_type": "execute_result"
    }
   ],
   "source": [
    "\"\"\"\n",
    "Estos mismo se puede obtener con el método .mean()\n",
    "\"\"\"\n",
    "tp18_mean = np.round(transformed_p18.mean(),2)\n",
    "tp18_mean"
   ]
  },
  {
   "cell_type": "code",
   "execution_count": 34,
   "metadata": {},
   "outputs": [
    {
     "data": {
      "text/plain": [
       "0.46634615384615385"
      ]
     },
     "execution_count": 34,
     "metadata": {},
     "output_type": "execute_result"
    }
   ],
   "source": [
    "\"\"\"\n",
    "Verifiquemos que es una buena medida de tendencia central\n",
    "\"\"\"\n",
    "np.mean(transformed_p18 <= tp18_mean)"
   ]
  },
  {
   "cell_type": "code",
   "execution_count": 35,
   "metadata": {},
   "outputs": [
    {
     "data": {
      "text/plain": [
       "0.8221153846153846"
      ]
     },
     "execution_count": 35,
     "metadata": {},
     "output_type": "execute_result"
    }
   ],
   "source": [
    "\"\"\"\n",
    "Esto contrasta con los datos sin transformar, en la que la media no está al centro\n",
    "\"\"\"\n",
    "np.mean(poultry18 <= poultry18.mean())"
   ]
  },
  {
   "cell_type": "code",
   "execution_count": 36,
   "metadata": {},
   "outputs": [
    {
     "data": {
      "text/plain": [
       "(40.07086233262027, 6.330155000678915)"
      ]
     },
     "execution_count": 36,
     "metadata": {},
     "output_type": "execute_result"
    }
   ],
   "source": [
    "\"\"\"\n",
    "Ahora analizaremos que tan dispersos están los datos respecto a la media\n",
    "\"\"\"\n",
    "total_quad_diff = 0\n",
    "\n",
    "for x in transformed_p18:\n",
    "    dx = x-tp18_mean\n",
    "    total_quad_diff += dx**2\n",
    "\n",
    "total_quad_diff/(n-1), np.sqrt(total_quad_diff/(n-1))"
   ]
  },
  {
   "cell_type": "code",
   "execution_count": 37,
   "metadata": {},
   "outputs": [
    {
     "data": {
      "text/plain": [
       "39.88"
      ]
     },
     "execution_count": 37,
     "metadata": {},
     "output_type": "execute_result"
    }
   ],
   "source": [
    "\"\"\"\n",
    "Esto mismo se puede conseguir con el método .var()...\n",
    "\"\"\"\n",
    "tp18_var = np.round(transformed_p18.var(), 2)\n",
    "tp18_var"
   ]
  },
  {
   "cell_type": "code",
   "execution_count": 38,
   "metadata": {},
   "outputs": [
    {
     "data": {
      "text/plain": [
       "6.31"
      ]
     },
     "execution_count": 38,
     "metadata": {},
     "output_type": "execute_result"
    }
   ],
   "source": [
    "\"\"\"\n",
    "...y con el método .std()\n",
    "\"\"\"\n",
    "tp18_std = np.round(transformed_p18.std(), 2)\n",
    "tp18_std"
   ]
  },
  {
   "cell_type": "code",
   "execution_count": 39,
   "metadata": {},
   "outputs": [],
   "source": [
    "\"\"\"\n",
    "Ahora vamos a comprar con la distribución normal teórica en el intervalo correspondiente\n",
    "\"\"\"\n",
    "X = stats.norm(tp18_mean, tp18_std)\n",
    "a = transformed_p18.min()\n",
    "b = transformed_p18.max()\n"
   ]
  },
  {
   "cell_type": "code",
   "execution_count": 40,
   "metadata": {},
   "outputs": [],
   "source": [
    "\"\"\"\n",
    "Preparamos los valores teóricos que graficaremos. El método .pdf() \n",
    "es la función de densidad de probabilidad. \n",
    "\"\"\"\n",
    "x_range = np.linspace(a,b)\n",
    "y_image = X.pdf(x_range)"
   ]
  },
  {
   "cell_type": "code",
   "execution_count": 41,
   "metadata": {},
   "outputs": [
    {
     "data": {
      "image/png": "[encoded data removed]",
      "text/plain": [
       "<Figure size 432x288 with 1 Axes>"
      ]
     },
     "metadata": {
      "needs_background": "light"
     },
     "output_type": "display_data"
    }
   ],
   "source": [
    "\"\"\"\n",
    "Ahora visualizaremos los datos normalizados con la distribución teórica\n",
    "\"\"\"\n",
    "plt.hist(transformed_p18, density=True)\n",
    "plt.plot(x_range, y_image)\n",
    "plt.show()"
   ]
  },
  {
   "cell_type": "code",
   "execution_count": 42,
   "metadata": {},
   "outputs": [
    {
     "name": "stderr",
     "output_type": "stream",
     "text": [
      "c:\\Users\\julih\\anaconda3\\envs\\workspace\\lib\\site-packages\\statsmodels\\graphics\\gofplots.py:993: UserWarning: marker is redundantly defined by the 'marker' keyword argument and the fmt string \"bo\" (-> marker='o'). The keyword argument will take precedence.\n",
      "  ax.plot(x, y, fmt, **plot_style)\n"
     ]
    },
    {
     "data": {
      "image/png": "[encoded data removed]",
      "text/plain": [
       "<Figure size 432x288 with 1 Axes>"
      ]
     },
     "execution_count": 42,
     "metadata": {},
     "output_type": "execute_result"
    },
    {
     "data": {
      "image/png": "[encoded data removed]",
      "text/plain": [
       "<Figure size 432x288 with 1 Axes>"
      ]
     },
     "metadata": {
      "needs_background": "light"
     },
     "output_type": "display_data"
    }
   ],
   "source": [
    "\n",
    "\"\"\"\n",
    "Un gráfico QQ nos indicará que tan cercana está la distribución de ser normal\n",
    "\"\"\"\n",
    "transformed_p18_standarized  = (transformed_p18-transformed_p18.mean())/transformed_p18.std()\n",
    "sm.qqplot(transformed_p18_standarized, line=\"45\")"
   ]
  },
  {
   "cell_type": "code",
   "execution_count": 43,
   "metadata": {},
   "outputs": [
    {
     "name": "stdout",
     "output_type": "stream",
     "text": [
      "0.6394230769230769\n",
      "0.9663461538461539\n",
      "1.0\n",
      "1.0\n"
     ]
    }
   ],
   "source": [
    "\"\"\"\n",
    "Verifiquemos la regla empírica para nuestra distribución\n",
    "\"\"\"\n",
    "for k in [1,2,3,4]:\n",
    "    liminf = tp18_mean-k*tp18_std\n",
    "    limsup = tp18_mean+k*tp18_std\n",
    "    event = (transformed_p18>=liminf)&(transformed_p18<=limsup)\n",
    "    print(np.mean(event))"
   ]
  },
  {
   "cell_type": "markdown",
   "metadata": {},
   "source": [
    "### Mediana, cuartiles y diagramas de caja\n",
    "\n",
    "Hemos visto que cuando la distribución no tiene características apropiadas, la media no es una buena medida de tendencia central. Un problema recurrente es que tampoco conocemos a priori una distribución teórica subyacente en nuestros datos. \n",
    "En esta sección aprenderemos a analizarlos en este caso, echando mano de otras herramientas."
   ]
  },
  {
   "cell_type": "code",
   "execution_count": 44,
   "metadata": {},
   "outputs": [
    {
     "data": {
      "text/plain": [
       "0.5"
      ]
     },
     "execution_count": 44,
     "metadata": {},
     "output_type": "execute_result"
    }
   ],
   "source": [
    "\"\"\"\n",
    "La mediana es \"el\" valor que divide a la mitad un conjunto ordenado. \n",
    "\"\"\"\n",
    "np.mean(poultry18 <= poultry18.median())"
   ]
  },
  {
   "cell_type": "code",
   "execution_count": 45,
   "metadata": {},
   "outputs": [
    {
     "data": {
      "text/plain": [
       "104.0"
      ]
     },
     "execution_count": 45,
     "metadata": {},
     "output_type": "execute_result"
    }
   ],
   "source": [
    "\"\"\"\n",
    "En nuestro caso, debería ser un valor entre la posición 103 y 104 de los datos ordenados.\n",
    "\"\"\"\n",
    "n = len(poultry18)\n",
    "n/2 "
   ]
  },
  {
   "cell_type": "code",
   "execution_count": 46,
   "metadata": {},
   "outputs": [
    {
     "data": {
      "text/plain": [
       "array([48200., 48216.])"
      ]
     },
     "execution_count": 46,
     "metadata": {},
     "output_type": "execute_result"
    }
   ],
   "source": [
    "\"\"\"\n",
    "Vamos a ubicar estos datos\n",
    "\"\"\"\n",
    "ordered_p18 = poultry18.sort_values().values\n",
    "ordered_p18[[n//2-1,n//2]]"
   ]
  },
  {
   "cell_type": "code",
   "execution_count": 47,
   "metadata": {},
   "outputs": [
    {
     "data": {
      "text/plain": [
       "48208.0"
      ]
     },
     "execution_count": 47,
     "metadata": {},
     "output_type": "execute_result"
    }
   ],
   "source": [
    "\"\"\"\n",
    "Elegimos un valor a la mitad de estos dos, para ser la mediana\n",
    "\"\"\"\n",
    "(ordered_p18[n//2-1]+ordered_p18[n//2])/2"
   ]
  },
  {
   "cell_type": "code",
   "execution_count": 48,
   "metadata": {},
   "outputs": [
    {
     "data": {
      "text/plain": [
       "48208.0"
      ]
     },
     "execution_count": 48,
     "metadata": {},
     "output_type": "execute_result"
    }
   ],
   "source": [
    "\"\"\"\n",
    "Este mismo resultado lo podemos obtener con el método .median()\n",
    "\"\"\"\n",
    "p18_median = poultry18.median()\n",
    "p18_median"
   ]
  },
  {
   "cell_type": "code",
   "execution_count": 49,
   "metadata": {},
   "outputs": [
    {
     "data": {
      "text/plain": [
       "4481.0"
      ]
     },
     "execution_count": 49,
     "metadata": {},
     "output_type": "execute_result"
    }
   ],
   "source": [
    "\"\"\"\n",
    "Ahora bien, podemos calcular la mediana de la parte inferior de la tabla.\n",
    "\"\"\"\n",
    "low_production = poultry18[poultry18<=p18_median]\n",
    "low_production.median()"
   ]
  },
  {
   "cell_type": "code",
   "execution_count": 50,
   "metadata": {},
   "outputs": [
    {
     "data": {
      "text/plain": [
       "0.25"
      ]
     },
     "execution_count": 50,
     "metadata": {},
     "output_type": "execute_result"
    }
   ],
   "source": [
    "\"\"\"\n",
    "Correspondería con el cuarto inferior de la tabla. \n",
    "\"\"\"\n",
    "np.mean(poultry18<=low_production.median())"
   ]
  },
  {
   "cell_type": "code",
   "execution_count": 51,
   "metadata": {},
   "outputs": [
    {
     "data": {
      "text/plain": [
       "212632.5"
      ]
     },
     "execution_count": 51,
     "metadata": {},
     "output_type": "execute_result"
    }
   ],
   "source": [
    "\"\"\"\n",
    "De manera similar, calculemos la mediana de la parte superior de la tabla.\n",
    "\"\"\"\n",
    "high_production =  poultry18[poultry18>p18_median]\n",
    "high_production.median()"
   ]
  },
  {
   "cell_type": "code",
   "execution_count": 52,
   "metadata": {},
   "outputs": [
    {
     "data": {
      "text/plain": [
       "0.25"
      ]
     },
     "execution_count": 52,
     "metadata": {},
     "output_type": "execute_result"
    }
   ],
   "source": [
    "\"\"\"\n",
    "Esta marca correspondería con el cuarto superior. \n",
    "\"\"\"\n",
    "np.mean(poultry18>high_production.median())"
   ]
  },
  {
   "cell_type": "code",
   "execution_count": 53,
   "metadata": {},
   "outputs": [
    {
     "data": {
      "text/plain": [
       "array([2.0000000e+00, 4.5980000e+03, 4.8208000e+04, 2.1057575e+05,\n",
       "       2.2298230e+07])"
      ]
     },
     "execution_count": 53,
     "metadata": {},
     "output_type": "execute_result"
    }
   ],
   "source": [
    "\"\"\"\n",
    "Estos números se conocen como cuartiles. Pero recuerda, su definición no es única. \n",
    "\n",
    "Por convención el cuartil 0 es el mínimo de los datos y el cuartir 4, el máximo. \n",
    "\"\"\"\n",
    "quartiles = np.percentile(poultry18, [0,25,50,75,100])\n",
    "quartiles"
   ]
  },
  {
   "cell_type": "code",
   "execution_count": 54,
   "metadata": {},
   "outputs": [
    {
     "name": "stdout",
     "output_type": "stream",
     "text": [
      "0.004807692307692308\n",
      "0.25\n",
      "0.5\n",
      "0.75\n",
      "1.0\n"
     ]
    }
   ],
   "source": [
    "\"\"\"\n",
    "Aun así podemos verificar que la definición se cumple. \n",
    "\"\"\"\n",
    "for q in quartiles:\n",
    "    print(np.mean(poultry18<=q))"
   ]
  },
  {
   "cell_type": "code",
   "execution_count": 55,
   "metadata": {},
   "outputs": [
    {
     "data": {
      "text/plain": [
       "0.5"
      ]
     },
     "execution_count": 55,
     "metadata": {},
     "output_type": "execute_result"
    }
   ],
   "source": [
    " \"\"\"\n",
    " La mitad de los datos al centro se ubicarán entre el primer y tercer cuartiles. \n",
    " \"\"\"\n",
    " central_half = (poultry18>=quartiles[1])&(poultry18<=quartiles[3])\n",
    " np.mean(central_half)"
   ]
  },
  {
   "cell_type": "code",
   "execution_count": 56,
   "metadata": {},
   "outputs": [
    {
     "data": {
      "text/plain": [
       "205977.75"
      ]
     },
     "execution_count": 56,
     "metadata": {},
     "output_type": "execute_result"
    }
   ],
   "source": [
    "\"\"\"\n",
    "La amplitud de este intervalo se conoce como rango intercuartil\n",
    "\"\"\"\n",
    "quartiles[3]-quartiles[1]"
   ]
  },
  {
   "cell_type": "code",
   "execution_count": 57,
   "metadata": {},
   "outputs": [
    {
     "data": {
      "text/plain": [
       "205977.75"
      ]
     },
     "execution_count": 57,
     "metadata": {},
     "output_type": "execute_result"
    }
   ],
   "source": [
    "\"\"\"\n",
    "Que se puede calcular de la siguiente manera en Python. \n",
    "\"\"\"\n",
    "iqr = stats.iqr(poultry18)\n",
    "iqr"
   ]
  },
  {
   "cell_type": "code",
   "execution_count": 58,
   "metadata": {},
   "outputs": [
    {
     "data": {
      "text/plain": [
       "(22.29823, 0.519542375)"
      ]
     },
     "execution_count": 58,
     "metadata": {},
     "output_type": "execute_result"
    }
   ],
   "source": [
    "\"\"\"\n",
    "Consideraremos valores atípicos a los datos que estén \n",
    "más allá de 1.5 veces el rango intercuartil a partir \n",
    "del tercer cuartil. \n",
    "\"\"\"\n",
    "np.max(poultry18)/10**6, (quartiles[3] + 1.5*iqr)/10**6"
   ]
  },
  {
   "cell_type": "code",
   "execution_count": 59,
   "metadata": {},
   "outputs": [
    {
     "data": {
      "text/plain": [
       "519542.375"
      ]
     },
     "execution_count": 59,
     "metadata": {},
     "output_type": "execute_result"
    }
   ],
   "source": [
    "\"\"\"\n",
    "Pero si no hay datos que superen la marca anterior, eligiremos\n",
    "como marca superior al máximo de nuestros datos.\n",
    "\"\"\"\n",
    "upper_outliers = np.min([np.max(poultry18), quartiles[3] + 1.5*iqr])\n",
    "upper_outliers"
   ]
  },
  {
   "cell_type": "code",
   "execution_count": 60,
   "metadata": {},
   "outputs": [
    {
     "data": {
      "text/plain": [
       "(2.0, -304368.625)"
      ]
     },
     "execution_count": 60,
     "metadata": {},
     "output_type": "execute_result"
    }
   ],
   "source": [
    "\"\"\"\n",
    "De manera similar, consideraremos valores atípicos a los datos\n",
    "que estén más allá de 1.5 veces el rango intercuartil a partir\n",
    "del primer cuartil. \n",
    "\"\"\"\n",
    "np.min(poultry18), quartiles[1] - 1.5*iqr"
   ]
  },
  {
   "cell_type": "code",
   "execution_count": 61,
   "metadata": {},
   "outputs": [
    {
     "data": {
      "text/plain": [
       "2.0"
      ]
     },
     "execution_count": 61,
     "metadata": {},
     "output_type": "execute_result"
    }
   ],
   "source": [
    "\"\"\"\n",
    "Pero si no hay datos por debajo de la marca anterior, eligiremos\n",
    "como marca inferior al mínimo de nuestros datos.\n",
    "\"\"\"\n",
    "lower_outliers = np.max([np.min(poultry18), quartiles[1] - 1.5*iqr])\n",
    "lower_outliers"
   ]
  },
  {
   "cell_type": "code",
   "execution_count": 62,
   "metadata": {},
   "outputs": [
    {
     "data": {
      "text/plain": [
       "39"
      ]
     },
     "execution_count": 62,
     "metadata": {},
     "output_type": "execute_result"
    }
   ],
   "source": [
    "\"\"\"\n",
    "De esta manera, ya podemos detectar a los datos atípicos\n",
    "\"\"\"\n",
    "outliers = poultry18[poultry18>upper_outliers]\n",
    "outliers.count()"
   ]
  },
  {
   "cell_type": "code",
   "execution_count": 63,
   "metadata": {},
   "outputs": [
    {
     "data": {
      "text/plain": [
       "<AxesSubplot:>"
      ]
     },
     "execution_count": 63,
     "metadata": {},
     "output_type": "execute_result"
    },
    {
     "data": {
      "image/png": "[encoded data removed]",
      "text/plain": [
       "<Figure size 432x288 with 1 Axes>"
      ]
     },
     "metadata": {
      "needs_background": "light"
     },
     "output_type": "display_data"
    }
   ],
   "source": [
    "\"\"\"\n",
    "Podemos visualizar esta información a través de un diagrama de caja.\n",
    "\"\"\"\n",
    "poultry18.plot.box()"
   ]
  },
  {
   "cell_type": "code",
   "execution_count": 64,
   "metadata": {},
   "outputs": [
    {
     "data": {
      "image/png": "[encoded data removed]",
      "text/plain": [
       "<Figure size 432x288 with 1 Axes>"
      ]
     },
     "metadata": {
      "needs_background": "light"
     },
     "output_type": "display_data"
    }
   ],
   "source": [
    "\"\"\"\n",
    "Pero omitamos los valores atípicos, para ver la estructura central\n",
    "\"\"\"\n",
    "plt.boxplot(poultry18, showfliers=False)\n",
    "plt.show()"
   ]
  },
  {
   "cell_type": "code",
   "execution_count": 65,
   "metadata": {},
   "outputs": [
    {
     "data": {
      "text/html": [
       "<div>\n",
       "<style scoped>\n",
       "    .dataframe tbody tr th:only-of-type {\n",
       "        vertical-align: middle;\n",
       "    }\n",
       "\n",
       "    .dataframe tbody tr th {\n",
       "        vertical-align: top;\n",
       "    }\n",
       "\n",
       "    .dataframe thead th {\n",
       "        text-align: right;\n",
       "    }\n",
       "</style>\n",
       "<table border=\"1\" class=\"dataframe\">\n",
       "  <thead>\n",
       "    <tr style=\"text-align: right;\">\n",
       "      <th></th>\n",
       "      <th></th>\n",
       "      <th>beef</th>\n",
       "      <th>pig</th>\n",
       "      <th>poultry</th>\n",
       "    </tr>\n",
       "    <tr>\n",
       "      <th>Entity</th>\n",
       "      <th>Year</th>\n",
       "      <th></th>\n",
       "      <th></th>\n",
       "      <th></th>\n",
       "    </tr>\n",
       "  </thead>\n",
       "  <tbody>\n",
       "    <tr>\n",
       "      <th>Afghanistan</th>\n",
       "      <th>2018</th>\n",
       "      <td>129691.0</td>\n",
       "      <td>NaN</td>\n",
       "      <td>28850.0</td>\n",
       "    </tr>\n",
       "    <tr>\n",
       "      <th>Albania</th>\n",
       "      <th>2018</th>\n",
       "      <td>38544.0</td>\n",
       "      <td>10317.0</td>\n",
       "      <td>15587.0</td>\n",
       "    </tr>\n",
       "    <tr>\n",
       "      <th>Algeria</th>\n",
       "      <th>2018</th>\n",
       "      <td>153192.0</td>\n",
       "      <td>112.0</td>\n",
       "      <td>294663.0</td>\n",
       "    </tr>\n",
       "    <tr>\n",
       "      <th>American Samoa</th>\n",
       "      <th>2018</th>\n",
       "      <td>4.0</td>\n",
       "      <td>315.0</td>\n",
       "      <td>25.0</td>\n",
       "    </tr>\n",
       "    <tr>\n",
       "      <th>Angola</th>\n",
       "      <th>2018</th>\n",
       "      <td>104761.0</td>\n",
       "      <td>96149.0</td>\n",
       "      <td>27208.0</td>\n",
       "    </tr>\n",
       "  </tbody>\n",
       "</table>\n",
       "</div>"
      ],
      "text/plain": [
       "                         beef      pig   poultry\n",
       "Entity         Year                             \n",
       "Afghanistan    2018  129691.0      NaN   28850.0\n",
       "Albania        2018   38544.0  10317.0   15587.0\n",
       "Algeria        2018  153192.0    112.0  294663.0\n",
       "American Samoa 2018       4.0    315.0      25.0\n",
       "Angola         2018  104761.0  96149.0   27208.0"
      ]
     },
     "execution_count": 65,
     "metadata": {},
     "output_type": "execute_result"
    }
   ],
   "source": [
    "\"\"\"\n",
    "De nuestros datos originales, subseleccionamos la producción de res, puerco y pollo, en el año 2018. \n",
    "\"\"\"\n",
    "# https://stackoverflow.com/questions/18835077/selecting-from-multi-index-pandas\n",
    "meat18 = data[[\"beef\", \"pig\", \"poultry\"]].query(\"Year==2018\")\n",
    "meat18.head()"
   ]
  },
  {
   "cell_type": "code",
   "execution_count": 66,
   "metadata": {},
   "outputs": [
    {
     "data": {
      "text/plain": [
       "beef        7\n",
       "pig        27\n",
       "poultry     5\n",
       "dtype: int64"
      ]
     },
     "execution_count": 66,
     "metadata": {},
     "output_type": "execute_result"
    }
   ],
   "source": [
    "\"\"\"\n",
    "Verificamos cuantos datos nulos hay en cada columna\n",
    "\"\"\"\n",
    "meat18.isna().sum()"
   ]
  },
  {
   "cell_type": "code",
   "execution_count": 67,
   "metadata": {},
   "outputs": [
    {
     "data": {
      "text/html": [
       "<div>\n",
       "<style scoped>\n",
       "    .dataframe tbody tr th:only-of-type {\n",
       "        vertical-align: middle;\n",
       "    }\n",
       "\n",
       "    .dataframe tbody tr th {\n",
       "        vertical-align: top;\n",
       "    }\n",
       "\n",
       "    .dataframe thead th {\n",
       "        text-align: right;\n",
       "    }\n",
       "</style>\n",
       "<table border=\"1\" class=\"dataframe\">\n",
       "  <thead>\n",
       "    <tr style=\"text-align: right;\">\n",
       "      <th></th>\n",
       "      <th></th>\n",
       "      <th>beef</th>\n",
       "      <th>pig</th>\n",
       "      <th>poultry</th>\n",
       "    </tr>\n",
       "    <tr>\n",
       "      <th>Entity</th>\n",
       "      <th>Year</th>\n",
       "      <th></th>\n",
       "      <th></th>\n",
       "      <th></th>\n",
       "    </tr>\n",
       "  </thead>\n",
       "  <tbody>\n",
       "    <tr>\n",
       "      <th>Afghanistan</th>\n",
       "      <th>2018</th>\n",
       "      <td>129691.0</td>\n",
       "      <td>NaN</td>\n",
       "      <td>28850.0</td>\n",
       "    </tr>\n",
       "    <tr>\n",
       "      <th>Bahrain</th>\n",
       "      <th>2018</th>\n",
       "      <td>986.0</td>\n",
       "      <td>NaN</td>\n",
       "      <td>6956.0</td>\n",
       "    </tr>\n",
       "    <tr>\n",
       "      <th>Bangladesh</th>\n",
       "      <th>2018</th>\n",
       "      <td>205684.0</td>\n",
       "      <td>NaN</td>\n",
       "      <td>254433.0</td>\n",
       "    </tr>\n",
       "    <tr>\n",
       "      <th>Comoros</th>\n",
       "      <th>2018</th>\n",
       "      <td>1282.0</td>\n",
       "      <td>NaN</td>\n",
       "      <td>601.0</td>\n",
       "    </tr>\n",
       "    <tr>\n",
       "      <th>Djibouti</th>\n",
       "      <th>2018</th>\n",
       "      <td>6414.0</td>\n",
       "      <td>NaN</td>\n",
       "      <td>NaN</td>\n",
       "    </tr>\n",
       "    <tr>\n",
       "      <th>Eritrea</th>\n",
       "      <th>2018</th>\n",
       "      <td>23242.0</td>\n",
       "      <td>NaN</td>\n",
       "      <td>1559.0</td>\n",
       "    </tr>\n",
       "    <tr>\n",
       "      <th>Faeroe Islands</th>\n",
       "      <th>2018</th>\n",
       "      <td>94.0</td>\n",
       "      <td>NaN</td>\n",
       "      <td>NaN</td>\n",
       "    </tr>\n",
       "    <tr>\n",
       "      <th>Falkland Islands</th>\n",
       "      <th>2018</th>\n",
       "      <td>141.0</td>\n",
       "      <td>NaN</td>\n",
       "      <td>9.0</td>\n",
       "    </tr>\n",
       "    <tr>\n",
       "      <th>Greenland</th>\n",
       "      <th>2018</th>\n",
       "      <td>NaN</td>\n",
       "      <td>NaN</td>\n",
       "      <td>NaN</td>\n",
       "    </tr>\n",
       "    <tr>\n",
       "      <th>Iran</th>\n",
       "      <th>2018</th>\n",
       "      <td>463378.0</td>\n",
       "      <td>NaN</td>\n",
       "      <td>2198994.0</td>\n",
       "    </tr>\n",
       "    <tr>\n",
       "      <th>Iraq</th>\n",
       "      <th>2018</th>\n",
       "      <td>43570.0</td>\n",
       "      <td>NaN</td>\n",
       "      <td>90225.0</td>\n",
       "    </tr>\n",
       "    <tr>\n",
       "      <th>Jordan</th>\n",
       "      <th>2018</th>\n",
       "      <td>28280.0</td>\n",
       "      <td>NaN</td>\n",
       "      <td>193586.0</td>\n",
       "    </tr>\n",
       "    <tr>\n",
       "      <th>Kuwait</th>\n",
       "      <th>2018</th>\n",
       "      <td>1936.0</td>\n",
       "      <td>NaN</td>\n",
       "      <td>61122.0</td>\n",
       "    </tr>\n",
       "    <tr>\n",
       "      <th>Libya</th>\n",
       "      <th>2018</th>\n",
       "      <td>9801.0</td>\n",
       "      <td>NaN</td>\n",
       "      <td>128782.0</td>\n",
       "    </tr>\n",
       "    <tr>\n",
       "      <th>Oman</th>\n",
       "      <th>2018</th>\n",
       "      <td>14738.0</td>\n",
       "      <td>NaN</td>\n",
       "      <td>6561.0</td>\n",
       "    </tr>\n",
       "    <tr>\n",
       "      <th>Pakistan</th>\n",
       "      <th>2018</th>\n",
       "      <td>1934000.0</td>\n",
       "      <td>NaN</td>\n",
       "      <td>1396127.0</td>\n",
       "    </tr>\n",
       "    <tr>\n",
       "      <th>Palestine</th>\n",
       "      <th>2018</th>\n",
       "      <td>8286.0</td>\n",
       "      <td>NaN</td>\n",
       "      <td>61356.0</td>\n",
       "    </tr>\n",
       "    <tr>\n",
       "      <th>Qatar</th>\n",
       "      <th>2018</th>\n",
       "      <td>581.0</td>\n",
       "      <td>NaN</td>\n",
       "      <td>10004.0</td>\n",
       "    </tr>\n",
       "    <tr>\n",
       "      <th>Saint Pierre and Miquelon</th>\n",
       "      <th>2018</th>\n",
       "      <td>NaN</td>\n",
       "      <td>NaN</td>\n",
       "      <td>2.0</td>\n",
       "    </tr>\n",
       "    <tr>\n",
       "      <th>Saudi Arabia</th>\n",
       "      <th>2018</th>\n",
       "      <td>42023.0</td>\n",
       "      <td>NaN</td>\n",
       "      <td>554332.0</td>\n",
       "    </tr>\n",
       "    <tr>\n",
       "      <th>South Sudan</th>\n",
       "      <th>2018</th>\n",
       "      <td>227739.0</td>\n",
       "      <td>NaN</td>\n",
       "      <td>20000.0</td>\n",
       "    </tr>\n",
       "    <tr>\n",
       "      <th>Sudan</th>\n",
       "      <th>2018</th>\n",
       "      <td>388987.0</td>\n",
       "      <td>NaN</td>\n",
       "      <td>70000.0</td>\n",
       "    </tr>\n",
       "    <tr>\n",
       "      <th>Syria</th>\n",
       "      <th>2018</th>\n",
       "      <td>74227.0</td>\n",
       "      <td>NaN</td>\n",
       "      <td>115797.0</td>\n",
       "    </tr>\n",
       "    <tr>\n",
       "      <th>Turkey</th>\n",
       "      <th>2018</th>\n",
       "      <td>1004261.0</td>\n",
       "      <td>NaN</td>\n",
       "      <td>2229096.0</td>\n",
       "    </tr>\n",
       "    <tr>\n",
       "      <th>United Arab Emirates</th>\n",
       "      <th>2018</th>\n",
       "      <td>19917.0</td>\n",
       "      <td>NaN</td>\n",
       "      <td>48200.0</td>\n",
       "    </tr>\n",
       "    <tr>\n",
       "      <th>Western Sahara</th>\n",
       "      <th>2018</th>\n",
       "      <td>NaN</td>\n",
       "      <td>NaN</td>\n",
       "      <td>NaN</td>\n",
       "    </tr>\n",
       "    <tr>\n",
       "      <th>Yemen</th>\n",
       "      <th>2018</th>\n",
       "      <td>117617.0</td>\n",
       "      <td>NaN</td>\n",
       "      <td>179768.0</td>\n",
       "    </tr>\n",
       "  </tbody>\n",
       "</table>\n",
       "</div>"
      ],
      "text/plain": [
       "                                     beef  pig    poultry\n",
       "Entity                    Year                           \n",
       "Afghanistan               2018   129691.0  NaN    28850.0\n",
       "Bahrain                   2018      986.0  NaN     6956.0\n",
       "Bangladesh                2018   205684.0  NaN   254433.0\n",
       "Comoros                   2018     1282.0  NaN      601.0\n",
       "Djibouti                  2018     6414.0  NaN        NaN\n",
       "Eritrea                   2018    23242.0  NaN     1559.0\n",
       "Faeroe Islands            2018       94.0  NaN        NaN\n",
       "Falkland Islands          2018      141.0  NaN        9.0\n",
       "Greenland                 2018        NaN  NaN        NaN\n",
       "Iran                      2018   463378.0  NaN  2198994.0\n",
       "Iraq                      2018    43570.0  NaN    90225.0\n",
       "Jordan                    2018    28280.0  NaN   193586.0\n",
       "Kuwait                    2018     1936.0  NaN    61122.0\n",
       "Libya                     2018     9801.0  NaN   128782.0\n",
       "Oman                      2018    14738.0  NaN     6561.0\n",
       "Pakistan                  2018  1934000.0  NaN  1396127.0\n",
       "Palestine                 2018     8286.0  NaN    61356.0\n",
       "Qatar                     2018      581.0  NaN    10004.0\n",
       "Saint Pierre and Miquelon 2018        NaN  NaN        2.0\n",
       "Saudi Arabia              2018    42023.0  NaN   554332.0\n",
       "South Sudan               2018   227739.0  NaN    20000.0\n",
       "Sudan                     2018   388987.0  NaN    70000.0\n",
       "Syria                     2018    74227.0  NaN   115797.0\n",
       "Turkey                    2018  1004261.0  NaN  2229096.0\n",
       "United Arab Emirates      2018    19917.0  NaN    48200.0\n",
       "Western Sahara            2018        NaN  NaN        NaN\n",
       "Yemen                     2018   117617.0  NaN   179768.0"
      ]
     },
     "execution_count": 67,
     "metadata": {},
     "output_type": "execute_result"
    }
   ],
   "source": [
    "\"\"\"\n",
    "¿Existirá algún patrón entre los países que no producen carne de puerco?\n",
    "\"\"\"\n",
    "meat18[meat18[\"pig\"].isna()]"
   ]
  },
  {
   "cell_type": "code",
   "execution_count": 68,
   "metadata": {},
   "outputs": [
    {
     "data": {
      "text/html": [
       "<div>\n",
       "<style scoped>\n",
       "    .dataframe tbody tr th:only-of-type {\n",
       "        vertical-align: middle;\n",
       "    }\n",
       "\n",
       "    .dataframe tbody tr th {\n",
       "        vertical-align: top;\n",
       "    }\n",
       "\n",
       "    .dataframe thead th {\n",
       "        text-align: right;\n",
       "    }\n",
       "</style>\n",
       "<table border=\"1\" class=\"dataframe\">\n",
       "  <thead>\n",
       "    <tr style=\"text-align: right;\">\n",
       "      <th></th>\n",
       "      <th>beef</th>\n",
       "      <th>pig</th>\n",
       "      <th>poultry</th>\n",
       "    </tr>\n",
       "    <tr>\n",
       "      <th>Year</th>\n",
       "      <th></th>\n",
       "      <th></th>\n",
       "      <th></th>\n",
       "    </tr>\n",
       "  </thead>\n",
       "  <tbody>\n",
       "    <tr>\n",
       "      <th>2018</th>\n",
       "      <td>563161.0</td>\n",
       "      <td>327215.0</td>\n",
       "      <td>2588164.0</td>\n",
       "    </tr>\n",
       "  </tbody>\n",
       "</table>\n",
       "</div>"
      ],
      "text/plain": [
       "          beef       pig    poultry\n",
       "Year                               \n",
       "2018  563161.0  327215.0  2588164.0"
      ]
     },
     "execution_count": 68,
     "metadata": {},
     "output_type": "execute_result"
    }
   ],
   "source": [
    "\"\"\"\n",
    "¿Qué pasa con Indonesia?\n",
    "\"\"\"\n",
    "meat18.loc[\"Indonesia\"]"
   ]
  },
  {
   "cell_type": "code",
   "execution_count": 69,
   "metadata": {},
   "outputs": [
    {
     "data": {
      "text/plain": [
       "Entity             Year\n",
       "Afghanistan        2018    False\n",
       "Albania            2018    False\n",
       "Algeria            2018    False\n",
       "American Samoa     2018    False\n",
       "Angola             2018    False\n",
       "                           ...  \n",
       "Wallis and Futuna  2018    False\n",
       "Western Sahara     2018     True\n",
       "Yemen              2018    False\n",
       "Zambia             2018    False\n",
       "Zimbabwe           2018    False\n",
       "Length: 213, dtype: bool"
      ]
     },
     "execution_count": 69,
     "metadata": {},
     "output_type": "execute_result"
    }
   ],
   "source": [
    "\"\"\"\n",
    "¿Qué países no tienen registro alguno?\n",
    "\"\"\"\n",
    "meat18.isna().sum(axis=\"columns\")==3"
   ]
  },
  {
   "cell_type": "code",
   "execution_count": 70,
   "metadata": {},
   "outputs": [
    {
     "data": {
      "text/html": [
       "<div>\n",
       "<style scoped>\n",
       "    .dataframe tbody tr th:only-of-type {\n",
       "        vertical-align: middle;\n",
       "    }\n",
       "\n",
       "    .dataframe tbody tr th {\n",
       "        vertical-align: top;\n",
       "    }\n",
       "\n",
       "    .dataframe thead th {\n",
       "        text-align: right;\n",
       "    }\n",
       "</style>\n",
       "<table border=\"1\" class=\"dataframe\">\n",
       "  <thead>\n",
       "    <tr style=\"text-align: right;\">\n",
       "      <th></th>\n",
       "      <th></th>\n",
       "      <th>beef</th>\n",
       "      <th>pig</th>\n",
       "      <th>poultry</th>\n",
       "    </tr>\n",
       "    <tr>\n",
       "      <th>Entity</th>\n",
       "      <th>Year</th>\n",
       "      <th></th>\n",
       "      <th></th>\n",
       "      <th></th>\n",
       "    </tr>\n",
       "  </thead>\n",
       "  <tbody>\n",
       "    <tr>\n",
       "      <th>Greenland</th>\n",
       "      <th>2018</th>\n",
       "      <td>NaN</td>\n",
       "      <td>NaN</td>\n",
       "      <td>NaN</td>\n",
       "    </tr>\n",
       "    <tr>\n",
       "      <th>Western Sahara</th>\n",
       "      <th>2018</th>\n",
       "      <td>NaN</td>\n",
       "      <td>NaN</td>\n",
       "      <td>NaN</td>\n",
       "    </tr>\n",
       "  </tbody>\n",
       "</table>\n",
       "</div>"
      ],
      "text/plain": [
       "                     beef  pig  poultry\n",
       "Entity         Year                    \n",
       "Greenland      2018   NaN  NaN      NaN\n",
       "Western Sahara 2018   NaN  NaN      NaN"
      ]
     },
     "execution_count": 70,
     "metadata": {},
     "output_type": "execute_result"
    }
   ],
   "source": [
    "\"\"\"\n",
    "¿Qué explica que estos países carezcan de registro en 2018?\n",
    "\"\"\"\n",
    "meat18[meat18.isna().sum(axis=\"columns\")==3]"
   ]
  },
  {
   "cell_type": "code",
   "execution_count": 71,
   "metadata": {},
   "outputs": [
    {
     "data": {
      "text/html": [
       "<div>\n",
       "<style scoped>\n",
       "    .dataframe tbody tr th:only-of-type {\n",
       "        vertical-align: middle;\n",
       "    }\n",
       "\n",
       "    .dataframe tbody tr th {\n",
       "        vertical-align: top;\n",
       "    }\n",
       "\n",
       "    .dataframe thead th {\n",
       "        text-align: right;\n",
       "    }\n",
       "</style>\n",
       "<table border=\"1\" class=\"dataframe\">\n",
       "  <thead>\n",
       "    <tr style=\"text-align: right;\">\n",
       "      <th></th>\n",
       "      <th></th>\n",
       "      <th>beef</th>\n",
       "      <th>pig</th>\n",
       "      <th>poultry</th>\n",
       "    </tr>\n",
       "    <tr>\n",
       "      <th>Entity</th>\n",
       "      <th>Year</th>\n",
       "      <th></th>\n",
       "      <th></th>\n",
       "      <th></th>\n",
       "    </tr>\n",
       "  </thead>\n",
       "  <tbody>\n",
       "    <tr>\n",
       "      <th>Afghanistan</th>\n",
       "      <th>2018</th>\n",
       "      <td>129691.0</td>\n",
       "      <td>NaN</td>\n",
       "      <td>28850.0</td>\n",
       "    </tr>\n",
       "    <tr>\n",
       "      <th>Albania</th>\n",
       "      <th>2018</th>\n",
       "      <td>38544.0</td>\n",
       "      <td>10317.0</td>\n",
       "      <td>15587.0</td>\n",
       "    </tr>\n",
       "    <tr>\n",
       "      <th>Algeria</th>\n",
       "      <th>2018</th>\n",
       "      <td>153192.0</td>\n",
       "      <td>112.0</td>\n",
       "      <td>294663.0</td>\n",
       "    </tr>\n",
       "    <tr>\n",
       "      <th>American Samoa</th>\n",
       "      <th>2018</th>\n",
       "      <td>4.0</td>\n",
       "      <td>315.0</td>\n",
       "      <td>25.0</td>\n",
       "    </tr>\n",
       "    <tr>\n",
       "      <th>Angola</th>\n",
       "      <th>2018</th>\n",
       "      <td>104761.0</td>\n",
       "      <td>96149.0</td>\n",
       "      <td>27208.0</td>\n",
       "    </tr>\n",
       "    <tr>\n",
       "      <th>...</th>\n",
       "      <th>...</th>\n",
       "      <td>...</td>\n",
       "      <td>...</td>\n",
       "      <td>...</td>\n",
       "    </tr>\n",
       "    <tr>\n",
       "      <th>Vietnam</th>\n",
       "      <th>2018</th>\n",
       "      <td>426582.0</td>\n",
       "      <td>3816414.0</td>\n",
       "      <td>947018.0</td>\n",
       "    </tr>\n",
       "    <tr>\n",
       "      <th>Wallis and Futuna</th>\n",
       "      <th>2018</th>\n",
       "      <td>3.0</td>\n",
       "      <td>317.0</td>\n",
       "      <td>48.0</td>\n",
       "    </tr>\n",
       "    <tr>\n",
       "      <th>Yemen</th>\n",
       "      <th>2018</th>\n",
       "      <td>117617.0</td>\n",
       "      <td>NaN</td>\n",
       "      <td>179768.0</td>\n",
       "    </tr>\n",
       "    <tr>\n",
       "      <th>Zambia</th>\n",
       "      <th>2018</th>\n",
       "      <td>187197.0</td>\n",
       "      <td>32641.0</td>\n",
       "      <td>49487.0</td>\n",
       "    </tr>\n",
       "    <tr>\n",
       "      <th>Zimbabwe</th>\n",
       "      <th>2018</th>\n",
       "      <td>111133.0</td>\n",
       "      <td>17748.0</td>\n",
       "      <td>66022.0</td>\n",
       "    </tr>\n",
       "  </tbody>\n",
       "</table>\n",
       "<p>211 rows × 3 columns</p>\n",
       "</div>"
      ],
      "text/plain": [
       "                            beef        pig   poultry\n",
       "Entity            Year                               \n",
       "Afghanistan       2018  129691.0        NaN   28850.0\n",
       "Albania           2018   38544.0    10317.0   15587.0\n",
       "Algeria           2018  153192.0      112.0  294663.0\n",
       "American Samoa    2018       4.0      315.0      25.0\n",
       "Angola            2018  104761.0    96149.0   27208.0\n",
       "...                          ...        ...       ...\n",
       "Vietnam           2018  426582.0  3816414.0  947018.0\n",
       "Wallis and Futuna 2018       3.0      317.0      48.0\n",
       "Yemen             2018  117617.0        NaN  179768.0\n",
       "Zambia            2018  187197.0    32641.0   49487.0\n",
       "Zimbabwe          2018  111133.0    17748.0   66022.0\n",
       "\n",
       "[211 rows x 3 columns]"
      ]
     },
     "execution_count": 71,
     "metadata": {},
     "output_type": "execute_result"
    }
   ],
   "source": [
    "\"\"\"\n",
    "Vamos a eliminar a los países que no tienen registros \n",
    "\"\"\"\n",
    "meat18 = meat18[meat18.isna().sum(axis=\"columns\")<3]\n",
    "meat18"
   ]
  },
  {
   "cell_type": "code",
   "execution_count": 72,
   "metadata": {},
   "outputs": [
    {
     "data": {
      "text/html": [
       "<div>\n",
       "<style scoped>\n",
       "    .dataframe tbody tr th:only-of-type {\n",
       "        vertical-align: middle;\n",
       "    }\n",
       "\n",
       "    .dataframe tbody tr th {\n",
       "        vertical-align: top;\n",
       "    }\n",
       "\n",
       "    .dataframe thead th {\n",
       "        text-align: right;\n",
       "    }\n",
       "</style>\n",
       "<table border=\"1\" class=\"dataframe\">\n",
       "  <thead>\n",
       "    <tr style=\"text-align: right;\">\n",
       "      <th></th>\n",
       "      <th></th>\n",
       "      <th>beef</th>\n",
       "      <th>pig</th>\n",
       "      <th>poultry</th>\n",
       "    </tr>\n",
       "    <tr>\n",
       "      <th>Entity</th>\n",
       "      <th>Year</th>\n",
       "      <th></th>\n",
       "      <th></th>\n",
       "      <th></th>\n",
       "    </tr>\n",
       "  </thead>\n",
       "  <tbody>\n",
       "    <tr>\n",
       "      <th>Afghanistan</th>\n",
       "      <th>2018</th>\n",
       "      <td>129691.0</td>\n",
       "      <td>0.0</td>\n",
       "      <td>28850.0</td>\n",
       "    </tr>\n",
       "    <tr>\n",
       "      <th>Albania</th>\n",
       "      <th>2018</th>\n",
       "      <td>38544.0</td>\n",
       "      <td>10317.0</td>\n",
       "      <td>15587.0</td>\n",
       "    </tr>\n",
       "    <tr>\n",
       "      <th>Algeria</th>\n",
       "      <th>2018</th>\n",
       "      <td>153192.0</td>\n",
       "      <td>112.0</td>\n",
       "      <td>294663.0</td>\n",
       "    </tr>\n",
       "    <tr>\n",
       "      <th>American Samoa</th>\n",
       "      <th>2018</th>\n",
       "      <td>4.0</td>\n",
       "      <td>315.0</td>\n",
       "      <td>25.0</td>\n",
       "    </tr>\n",
       "    <tr>\n",
       "      <th>Angola</th>\n",
       "      <th>2018</th>\n",
       "      <td>104761.0</td>\n",
       "      <td>96149.0</td>\n",
       "      <td>27208.0</td>\n",
       "    </tr>\n",
       "    <tr>\n",
       "      <th>...</th>\n",
       "      <th>...</th>\n",
       "      <td>...</td>\n",
       "      <td>...</td>\n",
       "      <td>...</td>\n",
       "    </tr>\n",
       "    <tr>\n",
       "      <th>Vietnam</th>\n",
       "      <th>2018</th>\n",
       "      <td>426582.0</td>\n",
       "      <td>3816414.0</td>\n",
       "      <td>947018.0</td>\n",
       "    </tr>\n",
       "    <tr>\n",
       "      <th>Wallis and Futuna</th>\n",
       "      <th>2018</th>\n",
       "      <td>3.0</td>\n",
       "      <td>317.0</td>\n",
       "      <td>48.0</td>\n",
       "    </tr>\n",
       "    <tr>\n",
       "      <th>Yemen</th>\n",
       "      <th>2018</th>\n",
       "      <td>117617.0</td>\n",
       "      <td>0.0</td>\n",
       "      <td>179768.0</td>\n",
       "    </tr>\n",
       "    <tr>\n",
       "      <th>Zambia</th>\n",
       "      <th>2018</th>\n",
       "      <td>187197.0</td>\n",
       "      <td>32641.0</td>\n",
       "      <td>49487.0</td>\n",
       "    </tr>\n",
       "    <tr>\n",
       "      <th>Zimbabwe</th>\n",
       "      <th>2018</th>\n",
       "      <td>111133.0</td>\n",
       "      <td>17748.0</td>\n",
       "      <td>66022.0</td>\n",
       "    </tr>\n",
       "  </tbody>\n",
       "</table>\n",
       "<p>211 rows × 3 columns</p>\n",
       "</div>"
      ],
      "text/plain": [
       "                            beef        pig   poultry\n",
       "Entity            Year                               \n",
       "Afghanistan       2018  129691.0        0.0   28850.0\n",
       "Albania           2018   38544.0    10317.0   15587.0\n",
       "Algeria           2018  153192.0      112.0  294663.0\n",
       "American Samoa    2018       4.0      315.0      25.0\n",
       "Angola            2018  104761.0    96149.0   27208.0\n",
       "...                          ...        ...       ...\n",
       "Vietnam           2018  426582.0  3816414.0  947018.0\n",
       "Wallis and Futuna 2018       3.0      317.0      48.0\n",
       "Yemen             2018  117617.0        0.0  179768.0\n",
       "Zambia            2018  187197.0    32641.0   49487.0\n",
       "Zimbabwe          2018  111133.0    17748.0   66022.0\n",
       "\n",
       "[211 rows x 3 columns]"
      ]
     },
     "execution_count": 72,
     "metadata": {},
     "output_type": "execute_result"
    }
   ],
   "source": [
    "\"\"\"\n",
    "Decidimos rellenar los espacios nulos con ceros, suponiendo que la falta\n",
    "del registro es porque no hay producción (al menos oficial).\n",
    "\"\"\"\n",
    "meat18 = meat18.fillna(0)\n",
    "meat18 "
   ]
  },
  {
   "cell_type": "code",
   "execution_count": 73,
   "metadata": {},
   "outputs": [
    {
     "data": {
      "text/plain": [
       "beef       194508.5\n",
       "pig        112682.5\n",
       "poultry    207021.0\n",
       "Name: 0.75, dtype: float64"
      ]
     },
     "execution_count": 73,
     "metadata": {},
     "output_type": "execute_result"
    }
   ],
   "source": [
    "\"\"\"\n",
    "Calculemos el tercer cuartil de cada columna.\n",
    "\"\"\"\n",
    "q3 = meat18.quantile(.75)\n",
    "q3"
   ]
  },
  {
   "cell_type": "code",
   "execution_count": 74,
   "metadata": {},
   "outputs": [
    {
     "data": {
      "text/plain": [
       "beef       2541.5\n",
       "pig         462.5\n",
       "poultry    3996.5\n",
       "Name: 0.25, dtype: float64"
      ]
     },
     "execution_count": 74,
     "metadata": {},
     "output_type": "execute_result"
    }
   ],
   "source": [
    "\"\"\"\n",
    "Ahora, el primer cuartil...\n",
    "\"\"\"\n",
    "q1 = meat18.quantile(.25)\n",
    "q1"
   ]
  },
  {
   "cell_type": "code",
   "execution_count": 75,
   "metadata": {},
   "outputs": [
    {
     "data": {
      "text/plain": [
       "beef       191967.0\n",
       "pig        112220.0\n",
       "poultry    203024.5\n",
       "dtype: float64"
      ]
     },
     "execution_count": 75,
     "metadata": {},
     "output_type": "execute_result"
    }
   ],
   "source": [
    "\"\"\"\n",
    "Finalmente, el rango intercuartil.\n",
    "\"\"\"\n",
    "iqr = q3-q1\n",
    "iqr"
   ]
  },
  {
   "cell_type": "code",
   "execution_count": 76,
   "metadata": {},
   "outputs": [],
   "source": [
    "\"\"\"\n",
    "Con estos datos, podemos ya ubicar el bigote superior, que nos indicara los \n",
    "datos atípicos superiores para cada tipo de carne. \n",
    "\"\"\"\n",
    "upper_whisker = q3+1.5*iqr"
   ]
  },
  {
   "cell_type": "code",
   "execution_count": 77,
   "metadata": {},
   "outputs": [
    {
     "data": {
      "text/html": [
       "<div>\n",
       "<style scoped>\n",
       "    .dataframe tbody tr th:only-of-type {\n",
       "        vertical-align: middle;\n",
       "    }\n",
       "\n",
       "    .dataframe tbody tr th {\n",
       "        vertical-align: top;\n",
       "    }\n",
       "\n",
       "    .dataframe thead th {\n",
       "        text-align: right;\n",
       "    }\n",
       "</style>\n",
       "<table border=\"1\" class=\"dataframe\">\n",
       "  <thead>\n",
       "    <tr style=\"text-align: right;\">\n",
       "      <th></th>\n",
       "      <th></th>\n",
       "      <th>beef</th>\n",
       "      <th>pig</th>\n",
       "      <th>poultry</th>\n",
       "    </tr>\n",
       "    <tr>\n",
       "      <th>Entity</th>\n",
       "      <th>Year</th>\n",
       "      <th></th>\n",
       "      <th></th>\n",
       "      <th></th>\n",
       "    </tr>\n",
       "  </thead>\n",
       "  <tbody>\n",
       "    <tr>\n",
       "      <th>Afghanistan</th>\n",
       "      <th>2018</th>\n",
       "      <td>False</td>\n",
       "      <td>False</td>\n",
       "      <td>False</td>\n",
       "    </tr>\n",
       "    <tr>\n",
       "      <th>Albania</th>\n",
       "      <th>2018</th>\n",
       "      <td>False</td>\n",
       "      <td>False</td>\n",
       "      <td>False</td>\n",
       "    </tr>\n",
       "    <tr>\n",
       "      <th>Algeria</th>\n",
       "      <th>2018</th>\n",
       "      <td>False</td>\n",
       "      <td>False</td>\n",
       "      <td>False</td>\n",
       "    </tr>\n",
       "    <tr>\n",
       "      <th>American Samoa</th>\n",
       "      <th>2018</th>\n",
       "      <td>False</td>\n",
       "      <td>False</td>\n",
       "      <td>False</td>\n",
       "    </tr>\n",
       "    <tr>\n",
       "      <th>Angola</th>\n",
       "      <th>2018</th>\n",
       "      <td>False</td>\n",
       "      <td>False</td>\n",
       "      <td>False</td>\n",
       "    </tr>\n",
       "    <tr>\n",
       "      <th>...</th>\n",
       "      <th>...</th>\n",
       "      <td>...</td>\n",
       "      <td>...</td>\n",
       "      <td>...</td>\n",
       "    </tr>\n",
       "    <tr>\n",
       "      <th>Vietnam</th>\n",
       "      <th>2018</th>\n",
       "      <td>False</td>\n",
       "      <td>True</td>\n",
       "      <td>True</td>\n",
       "    </tr>\n",
       "    <tr>\n",
       "      <th>Wallis and Futuna</th>\n",
       "      <th>2018</th>\n",
       "      <td>False</td>\n",
       "      <td>False</td>\n",
       "      <td>False</td>\n",
       "    </tr>\n",
       "    <tr>\n",
       "      <th>Yemen</th>\n",
       "      <th>2018</th>\n",
       "      <td>False</td>\n",
       "      <td>False</td>\n",
       "      <td>False</td>\n",
       "    </tr>\n",
       "    <tr>\n",
       "      <th>Zambia</th>\n",
       "      <th>2018</th>\n",
       "      <td>False</td>\n",
       "      <td>False</td>\n",
       "      <td>False</td>\n",
       "    </tr>\n",
       "    <tr>\n",
       "      <th>Zimbabwe</th>\n",
       "      <th>2018</th>\n",
       "      <td>False</td>\n",
       "      <td>False</td>\n",
       "      <td>False</td>\n",
       "    </tr>\n",
       "  </tbody>\n",
       "</table>\n",
       "<p>211 rows × 3 columns</p>\n",
       "</div>"
      ],
      "text/plain": [
       "                         beef    pig  poultry\n",
       "Entity            Year                       \n",
       "Afghanistan       2018  False  False    False\n",
       "Albania           2018  False  False    False\n",
       "Algeria           2018  False  False    False\n",
       "American Samoa    2018  False  False    False\n",
       "Angola            2018  False  False    False\n",
       "...                       ...    ...      ...\n",
       "Vietnam           2018  False   True     True\n",
       "Wallis and Futuna 2018  False  False    False\n",
       "Yemen             2018  False  False    False\n",
       "Zambia            2018  False  False    False\n",
       "Zimbabwe          2018  False  False    False\n",
       "\n",
       "[211 rows x 3 columns]"
      ]
     },
     "execution_count": 77,
     "metadata": {},
     "output_type": "execute_result"
    }
   ],
   "source": [
    "\"\"\"\n",
    "Ahora, localizaremos los países que destacan en la producción de cada uno de \n",
    "los tipo de carne\n",
    "\"\"\"\n",
    "meat18 >= upper_whisker"
   ]
  },
  {
   "cell_type": "code",
   "execution_count": 78,
   "metadata": {},
   "outputs": [
    {
     "data": {
      "text/plain": [
       "Entity             Year\n",
       "Afghanistan        2018    0\n",
       "Albania            2018    0\n",
       "Algeria            2018    0\n",
       "American Samoa     2018    0\n",
       "Angola             2018    0\n",
       "                          ..\n",
       "Vietnam            2018    2\n",
       "Wallis and Futuna  2018    0\n",
       "Yemen              2018    0\n",
       "Zambia             2018    0\n",
       "Zimbabwe           2018    0\n",
       "Length: 211, dtype: int64"
      ]
     },
     "execution_count": 78,
     "metadata": {},
     "output_type": "execute_result"
    }
   ],
   "source": [
    "\"\"\"\n",
    "Contabilicemos en cuantros rubros destacan.\n",
    "\"\"\"\n",
    "(meat18 >= upper_whisker).sum(axis=\"columns\")"
   ]
  },
  {
   "cell_type": "code",
   "execution_count": 79,
   "metadata": {},
   "outputs": [
    {
     "data": {
      "text/plain": [
       "Entity             Year\n",
       "Afghanistan        2018    False\n",
       "Albania            2018    False\n",
       "Algeria            2018    False\n",
       "American Samoa     2018    False\n",
       "Angola             2018    False\n",
       "                           ...  \n",
       "Vietnam            2018    False\n",
       "Wallis and Futuna  2018    False\n",
       "Yemen              2018    False\n",
       "Zambia             2018    False\n",
       "Zimbabwe           2018    False\n",
       "Length: 211, dtype: bool"
      ]
     },
     "execution_count": 79,
     "metadata": {},
     "output_type": "execute_result"
    }
   ],
   "source": [
    "\"\"\"\n",
    "Nos interesan solo los países que destaquen en la producción de los tres productos\n",
    "\"\"\"\n",
    "(meat18 >= upper_whisker).sum(axis=\"columns\")==3"
   ]
  },
  {
   "cell_type": "code",
   "execution_count": 80,
   "metadata": {},
   "outputs": [
    {
     "data": {
      "text/html": [
       "<div>\n",
       "<style scoped>\n",
       "    .dataframe tbody tr th:only-of-type {\n",
       "        vertical-align: middle;\n",
       "    }\n",
       "\n",
       "    .dataframe tbody tr th {\n",
       "        vertical-align: top;\n",
       "    }\n",
       "\n",
       "    .dataframe thead th {\n",
       "        text-align: right;\n",
       "    }\n",
       "</style>\n",
       "<table border=\"1\" class=\"dataframe\">\n",
       "  <thead>\n",
       "    <tr style=\"text-align: right;\">\n",
       "      <th></th>\n",
       "      <th></th>\n",
       "      <th>beef</th>\n",
       "      <th>pig</th>\n",
       "      <th>poultry</th>\n",
       "    </tr>\n",
       "    <tr>\n",
       "      <th>Entity</th>\n",
       "      <th>Year</th>\n",
       "      <th></th>\n",
       "      <th></th>\n",
       "      <th></th>\n",
       "    </tr>\n",
       "  </thead>\n",
       "  <tbody>\n",
       "    <tr>\n",
       "      <th>Argentina</th>\n",
       "      <th>2018</th>\n",
       "      <td>3066000.0</td>\n",
       "      <td>620549.0</td>\n",
       "      <td>2114952.0</td>\n",
       "    </tr>\n",
       "    <tr>\n",
       "      <th>Australia</th>\n",
       "      <th>2018</th>\n",
       "      <td>2219103.0</td>\n",
       "      <td>417426.0</td>\n",
       "      <td>1235197.0</td>\n",
       "    </tr>\n",
       "    <tr>\n",
       "      <th>Brazil</th>\n",
       "      <th>2018</th>\n",
       "      <td>9900000.0</td>\n",
       "      <td>3787660.0</td>\n",
       "      <td>15497606.0</td>\n",
       "    </tr>\n",
       "    <tr>\n",
       "      <th>Canada</th>\n",
       "      <th>2018</th>\n",
       "      <td>1231352.0</td>\n",
       "      <td>2142283.0</td>\n",
       "      <td>1474253.0</td>\n",
       "    </tr>\n",
       "    <tr>\n",
       "      <th>China</th>\n",
       "      <th>2018</th>\n",
       "      <td>6455137.0</td>\n",
       "      <td>54983905.0</td>\n",
       "      <td>20116635.0</td>\n",
       "    </tr>\n",
       "    <tr>\n",
       "      <th>Colombia</th>\n",
       "      <th>2018</th>\n",
       "      <td>885929.0</td>\n",
       "      <td>335884.0</td>\n",
       "      <td>1592830.0</td>\n",
       "    </tr>\n",
       "    <tr>\n",
       "      <th>France</th>\n",
       "      <th>2018</th>\n",
       "      <td>1436358.0</td>\n",
       "      <td>2166417.0</td>\n",
       "      <td>1786112.0</td>\n",
       "    </tr>\n",
       "    <tr>\n",
       "      <th>Germany</th>\n",
       "      <th>2018</th>\n",
       "      <td>1123452.0</td>\n",
       "      <td>5369944.0</td>\n",
       "      <td>1570644.0</td>\n",
       "    </tr>\n",
       "    <tr>\n",
       "      <th>India</th>\n",
       "      <th>2018</th>\n",
       "      <td>2610256.0</td>\n",
       "      <td>296145.0</td>\n",
       "      <td>3616432.0</td>\n",
       "    </tr>\n",
       "    <tr>\n",
       "      <th>Indonesia</th>\n",
       "      <th>2018</th>\n",
       "      <td>563161.0</td>\n",
       "      <td>327215.0</td>\n",
       "      <td>2588164.0</td>\n",
       "    </tr>\n",
       "    <tr>\n",
       "      <th>Italy</th>\n",
       "      <th>2018</th>\n",
       "      <td>809218.0</td>\n",
       "      <td>1470671.0</td>\n",
       "      <td>1273195.0</td>\n",
       "    </tr>\n",
       "    <tr>\n",
       "      <th>Mexico</th>\n",
       "      <th>2018</th>\n",
       "      <td>1980846.0</td>\n",
       "      <td>1502521.0</td>\n",
       "      <td>3376715.0</td>\n",
       "    </tr>\n",
       "    <tr>\n",
       "      <th>Poland</th>\n",
       "      <th>2018</th>\n",
       "      <td>595100.0</td>\n",
       "      <td>2135800.0</td>\n",
       "      <td>1711195.0</td>\n",
       "    </tr>\n",
       "    <tr>\n",
       "      <th>Russia</th>\n",
       "      <th>2018</th>\n",
       "      <td>1608136.0</td>\n",
       "      <td>3744170.0</td>\n",
       "      <td>4543002.0</td>\n",
       "    </tr>\n",
       "    <tr>\n",
       "      <th>Spain</th>\n",
       "      <th>2018</th>\n",
       "      <td>669008.0</td>\n",
       "      <td>4530474.0</td>\n",
       "      <td>1621718.0</td>\n",
       "    </tr>\n",
       "    <tr>\n",
       "      <th>United Kingdom</th>\n",
       "      <th>2018</th>\n",
       "      <td>922000.0</td>\n",
       "      <td>927000.0</td>\n",
       "      <td>1939132.0</td>\n",
       "    </tr>\n",
       "    <tr>\n",
       "      <th>United States</th>\n",
       "      <th>2018</th>\n",
       "      <td>12219203.0</td>\n",
       "      <td>11942965.0</td>\n",
       "      <td>22298230.0</td>\n",
       "    </tr>\n",
       "  </tbody>\n",
       "</table>\n",
       "</div>"
      ],
      "text/plain": [
       "                           beef         pig     poultry\n",
       "Entity         Year                                    \n",
       "Argentina      2018   3066000.0    620549.0   2114952.0\n",
       "Australia      2018   2219103.0    417426.0   1235197.0\n",
       "Brazil         2018   9900000.0   3787660.0  15497606.0\n",
       "Canada         2018   1231352.0   2142283.0   1474253.0\n",
       "China          2018   6455137.0  54983905.0  20116635.0\n",
       "Colombia       2018    885929.0    335884.0   1592830.0\n",
       "France         2018   1436358.0   2166417.0   1786112.0\n",
       "Germany        2018   1123452.0   5369944.0   1570644.0\n",
       "India          2018   2610256.0    296145.0   3616432.0\n",
       "Indonesia      2018    563161.0    327215.0   2588164.0\n",
       "Italy          2018    809218.0   1470671.0   1273195.0\n",
       "Mexico         2018   1980846.0   1502521.0   3376715.0\n",
       "Poland         2018    595100.0   2135800.0   1711195.0\n",
       "Russia         2018   1608136.0   3744170.0   4543002.0\n",
       "Spain          2018    669008.0   4530474.0   1621718.0\n",
       "United Kingdom 2018    922000.0    927000.0   1939132.0\n",
       "United States  2018  12219203.0  11942965.0  22298230.0"
      ]
     },
     "execution_count": 80,
     "metadata": {},
     "output_type": "execute_result"
    }
   ],
   "source": [
    "\"\"\"\n",
    "Guardamos los resultados de nuestro análisis.\n",
    "\"\"\"\n",
    "top_producers = meat18[(meat18 >= upper_whisker).sum(axis=\"columns\")==3]\n",
    "top_producers"
   ]
  },
  {
   "cell_type": "code",
   "execution_count": 81,
   "metadata": {},
   "outputs": [
    {
     "data": {
      "text/plain": [
       "beef       0.674270\n",
       "pig        0.793752\n",
       "poultry    0.690094\n",
       "dtype: float64"
      ]
     },
     "execution_count": 81,
     "metadata": {},
     "output_type": "execute_result"
    }
   ],
   "source": [
    "\"\"\"\n",
    "Analicemos la proporción de la producción que se alcanza solo con estos países.\n",
    "\"\"\"\n",
    "top_producers.sum()/meat18.sum()"
   ]
  },
  {
   "cell_type": "code",
   "execution_count": 82,
   "metadata": {},
   "outputs": [
    {
     "data": {
      "text/plain": [
       "Entity          Year\n",
       "China           2018    81555677.0\n",
       "United States   2018    46460398.0\n",
       "Brazil          2018    29185266.0\n",
       "Russia          2018     9895308.0\n",
       "Germany         2018     8064040.0\n",
       "Mexico          2018     6860082.0\n",
       "Spain           2018     6821200.0\n",
       "India           2018     6522833.0\n",
       "Argentina       2018     5801501.0\n",
       "France          2018     5388887.0\n",
       "Canada          2018     4847888.0\n",
       "Poland          2018     4442095.0\n",
       "Australia       2018     3871726.0\n",
       "United Kingdom  2018     3788132.0\n",
       "Italy           2018     3553084.0\n",
       "Indonesia       2018     3478540.0\n",
       "Colombia        2018     2814643.0\n",
       "dtype: float64"
      ]
     },
     "execution_count": 82,
     "metadata": {},
     "output_type": "execute_result"
    }
   ],
   "source": [
    "\"\"\"\n",
    "Revisemos la capacidad de producción de mayor a menor\n",
    "\"\"\"\n",
    "top_producers.sum(axis=\"columns\").sort_values(ascending=False)"
   ]
  },
  {
   "cell_type": "code",
   "execution_count": 83,
   "metadata": {},
   "outputs": [
    {
     "data": {
      "text/plain": [
       "['Argentina',\n",
       " 'Australia',\n",
       " 'Brazil',\n",
       " 'Canada',\n",
       " 'China',\n",
       " 'Colombia',\n",
       " 'France',\n",
       " 'Germany',\n",
       " 'India',\n",
       " 'Indonesia',\n",
       " 'Italy',\n",
       " 'Mexico',\n",
       " 'Poland',\n",
       " 'Russia',\n",
       " 'Spain',\n",
       " 'United Kingdom',\n",
       " 'United States']"
      ]
     },
     "execution_count": 83,
     "metadata": {},
     "output_type": "execute_result"
    }
   ],
   "source": [
    "\"\"\"\n",
    "Para nuestros análisis posteriores, haremos una lista con los países productores más importantes\n",
    "\"\"\"\n",
    "top_producers_2018 = [country for country, year in top_producers.index]\n",
    "top_producers_2018"
   ]
  },
  {
   "cell_type": "code",
   "execution_count": 84,
   "metadata": {},
   "outputs": [
    {
     "data": {
      "text/html": [
       "<div>\n",
       "<style scoped>\n",
       "    .dataframe tbody tr th:only-of-type {\n",
       "        vertical-align: middle;\n",
       "    }\n",
       "\n",
       "    .dataframe tbody tr th {\n",
       "        vertical-align: top;\n",
       "    }\n",
       "\n",
       "    .dataframe thead th {\n",
       "        text-align: right;\n",
       "    }\n",
       "</style>\n",
       "<table border=\"1\" class=\"dataframe\">\n",
       "  <thead>\n",
       "    <tr style=\"text-align: right;\">\n",
       "      <th></th>\n",
       "      <th></th>\n",
       "      <th>beef</th>\n",
       "      <th>pig</th>\n",
       "      <th>poultry</th>\n",
       "    </tr>\n",
       "    <tr>\n",
       "      <th>Entity</th>\n",
       "      <th>Year</th>\n",
       "      <th></th>\n",
       "      <th></th>\n",
       "      <th></th>\n",
       "    </tr>\n",
       "  </thead>\n",
       "  <tbody>\n",
       "    <tr>\n",
       "      <th rowspan=\"5\" valign=\"top\">Argentina</th>\n",
       "      <th>2000</th>\n",
       "      <td>2718000.0</td>\n",
       "      <td>213965.0</td>\n",
       "      <td>1000260.0</td>\n",
       "    </tr>\n",
       "    <tr>\n",
       "      <th>2001</th>\n",
       "      <td>2461000.0</td>\n",
       "      <td>197504.0</td>\n",
       "      <td>993122.0</td>\n",
       "    </tr>\n",
       "    <tr>\n",
       "      <th>2002</th>\n",
       "      <td>2493000.0</td>\n",
       "      <td>165292.0</td>\n",
       "      <td>742310.0</td>\n",
       "    </tr>\n",
       "    <tr>\n",
       "      <th>2003</th>\n",
       "      <td>2658000.0</td>\n",
       "      <td>149755.0</td>\n",
       "      <td>781365.0</td>\n",
       "    </tr>\n",
       "    <tr>\n",
       "      <th>2004</th>\n",
       "      <td>3024000.0</td>\n",
       "      <td>160000.0</td>\n",
       "      <td>909153.0</td>\n",
       "    </tr>\n",
       "    <tr>\n",
       "      <th>...</th>\n",
       "      <th>...</th>\n",
       "      <td>...</td>\n",
       "      <td>...</td>\n",
       "      <td>...</td>\n",
       "    </tr>\n",
       "    <tr>\n",
       "      <th rowspan=\"5\" valign=\"top\">United States</th>\n",
       "      <th>2014</th>\n",
       "      <td>11698116.0</td>\n",
       "      <td>10368227.0</td>\n",
       "      <td>20399386.0</td>\n",
       "    </tr>\n",
       "    <tr>\n",
       "      <th>2015</th>\n",
       "      <td>10777601.0</td>\n",
       "      <td>11120748.0</td>\n",
       "      <td>21017380.0</td>\n",
       "    </tr>\n",
       "    <tr>\n",
       "      <th>2016</th>\n",
       "      <td>11470607.0</td>\n",
       "      <td>11320182.0</td>\n",
       "      <td>21483082.0</td>\n",
       "    </tr>\n",
       "    <tr>\n",
       "      <th>2017</th>\n",
       "      <td>11907239.0</td>\n",
       "      <td>11610981.0</td>\n",
       "      <td>21914241.0</td>\n",
       "    </tr>\n",
       "    <tr>\n",
       "      <th>2018</th>\n",
       "      <td>12219203.0</td>\n",
       "      <td>11942965.0</td>\n",
       "      <td>22298230.0</td>\n",
       "    </tr>\n",
       "  </tbody>\n",
       "</table>\n",
       "<p>323 rows × 3 columns</p>\n",
       "</div>"
      ],
      "text/plain": [
       "                          beef         pig     poultry\n",
       "Entity        Year                                    \n",
       "Argentina     2000   2718000.0    213965.0   1000260.0\n",
       "              2001   2461000.0    197504.0    993122.0\n",
       "              2002   2493000.0    165292.0    742310.0\n",
       "              2003   2658000.0    149755.0    781365.0\n",
       "              2004   3024000.0    160000.0    909153.0\n",
       "...                        ...         ...         ...\n",
       "United States 2014  11698116.0  10368227.0  20399386.0\n",
       "              2015  10777601.0  11120748.0  21017380.0\n",
       "              2016  11470607.0  11320182.0  21483082.0\n",
       "              2017  11907239.0  11610981.0  21914241.0\n",
       "              2018  12219203.0  11942965.0  22298230.0\n",
       "\n",
       "[323 rows x 3 columns]"
      ]
     },
     "execution_count": 84,
     "metadata": {},
     "output_type": "execute_result"
    }
   ],
   "source": [
    "\"\"\"\n",
    "Finalmente, crearemos un marco de datos del historias de estos productores desde el año 2000\n",
    "\"\"\"\n",
    "top2000 = data[[\"beef\", \"pig\", \"poultry\"]].loc[top_producers_2018].query(\"Year>=2000\")\n",
    "top2000"
   ]
  },
  {
   "cell_type": "code",
   "execution_count": 85,
   "metadata": {},
   "outputs": [
    {
     "data": {
      "text/plain": [
       "beef       0\n",
       "pig        0\n",
       "poultry    0\n",
       "dtype: int64"
      ]
     },
     "execution_count": 85,
     "metadata": {},
     "output_type": "execute_result"
    }
   ],
   "source": [
    "\"\"\"\n",
    "Verificamos que no hay datos nulos\n",
    "\"\"\"\n",
    "top2000.isna().sum()"
   ]
  },
  {
   "cell_type": "code",
   "execution_count": 86,
   "metadata": {},
   "outputs": [
    {
     "data": {
      "text/plain": [
       "Entity     Year\n",
       "Argentina  2000    3932225.0\n",
       "           2001    3651626.0\n",
       "           2002    3400602.0\n",
       "           2003    3589120.0\n",
       "           2004    4093153.0\n",
       "dtype: float64"
      ]
     },
     "execution_count": 86,
     "metadata": {},
     "output_type": "execute_result"
    }
   ],
   "source": [
    "\"\"\"\n",
    "Ahora sumaremos el total de producción para cada par país/año\n",
    "\"\"\"\n",
    "top2000_total = top2000.sum(axis=\"columns\")\n",
    "top2000_total.head()"
   ]
  },
  {
   "cell_type": "code",
   "execution_count": 87,
   "metadata": {},
   "outputs": [
    {
     "data": {
      "text/html": [
       "<div>\n",
       "<style scoped>\n",
       "    .dataframe tbody tr th:only-of-type {\n",
       "        vertical-align: middle;\n",
       "    }\n",
       "\n",
       "    .dataframe tbody tr th {\n",
       "        vertical-align: top;\n",
       "    }\n",
       "\n",
       "    .dataframe thead th {\n",
       "        text-align: right;\n",
       "    }\n",
       "</style>\n",
       "<table border=\"1\" class=\"dataframe\">\n",
       "  <thead>\n",
       "    <tr style=\"text-align: right;\">\n",
       "      <th>Entity</th>\n",
       "      <th>Argentina</th>\n",
       "      <th>Australia</th>\n",
       "      <th>Brazil</th>\n",
       "      <th>Canada</th>\n",
       "      <th>China</th>\n",
       "      <th>Colombia</th>\n",
       "      <th>France</th>\n",
       "      <th>Germany</th>\n",
       "      <th>India</th>\n",
       "      <th>Indonesia</th>\n",
       "      <th>Italy</th>\n",
       "      <th>Mexico</th>\n",
       "      <th>Poland</th>\n",
       "      <th>Russia</th>\n",
       "      <th>Spain</th>\n",
       "      <th>United Kingdom</th>\n",
       "      <th>United States</th>\n",
       "    </tr>\n",
       "    <tr>\n",
       "      <th>Year</th>\n",
       "      <th></th>\n",
       "      <th></th>\n",
       "      <th></th>\n",
       "      <th></th>\n",
       "      <th></th>\n",
       "      <th></th>\n",
       "      <th></th>\n",
       "      <th></th>\n",
       "      <th></th>\n",
       "      <th></th>\n",
       "      <th></th>\n",
       "      <th></th>\n",
       "      <th></th>\n",
       "      <th></th>\n",
       "      <th></th>\n",
       "      <th></th>\n",
       "      <th></th>\n",
       "    </tr>\n",
       "  </thead>\n",
       "  <tbody>\n",
       "    <tr>\n",
       "      <th>2000</th>\n",
       "      <td>3932225.0</td>\n",
       "      <td>2995540.0</td>\n",
       "      <td>15303550.0</td>\n",
       "      <td>3968230.0</td>\n",
       "      <td>58596315.0</td>\n",
       "      <td>1354395.0</td>\n",
       "      <td>5987273.0</td>\n",
       "      <td>6075602.0</td>\n",
       "      <td>3611915.0</td>\n",
       "      <td>1616035.0</td>\n",
       "      <td>3724202.0</td>\n",
       "      <td>4307307.0</td>\n",
       "      <td>2860900.0</td>\n",
       "      <td>4251085.0</td>\n",
       "      <td>4545708.0</td>\n",
       "      <td>3117200.0</td>\n",
       "      <td>37189009.0</td>\n",
       "    </tr>\n",
       "    <tr>\n",
       "      <th>2001</th>\n",
       "      <td>3651626.0</td>\n",
       "      <td>3106471.0</td>\n",
       "      <td>15840750.0</td>\n",
       "      <td>4107780.0</td>\n",
       "      <td>59286109.0</td>\n",
       "      <td>1394017.0</td>\n",
       "      <td>6050811.0</td>\n",
       "      <td>6285607.0</td>\n",
       "      <td>3678451.0</td>\n",
       "      <td>1723849.0</td>\n",
       "      <td>3782523.0</td>\n",
       "      <td>4475002.0</td>\n",
       "      <td>2868800.0</td>\n",
       "      <td>4277143.0</td>\n",
       "      <td>4676966.0</td>\n",
       "      <td>2988828.0</td>\n",
       "      <td>37881995.0</td>\n",
       "    </tr>\n",
       "    <tr>\n",
       "      <th>2002</th>\n",
       "      <td>3400602.0</td>\n",
       "      <td>3215794.0</td>\n",
       "      <td>17176215.0</td>\n",
       "      <td>4266260.0</td>\n",
       "      <td>60294798.0</td>\n",
       "      <td>1433226.0</td>\n",
       "      <td>6037796.0</td>\n",
       "      <td>6307192.0</td>\n",
       "      <td>3851504.0</td>\n",
       "      <td>1944889.0</td>\n",
       "      <td>3844416.0</td>\n",
       "      <td>4660737.0</td>\n",
       "      <td>3127500.0</td>\n",
       "      <td>4538260.0</td>\n",
       "      <td>4959418.0</td>\n",
       "      <td>3024275.0</td>\n",
       "      <td>38335121.0</td>\n",
       "    </tr>\n",
       "    <tr>\n",
       "      <th>2003</th>\n",
       "      <td>3589120.0</td>\n",
       "      <td>3120875.0</td>\n",
       "      <td>18256410.0</td>\n",
       "      <td>4197970.0</td>\n",
       "      <td>62013778.0</td>\n",
       "      <td>1444198.0</td>\n",
       "      <td>5923968.0</td>\n",
       "      <td>6419519.0</td>\n",
       "      <td>3981630.0</td>\n",
       "      <td>2044310.0</td>\n",
       "      <td>3669845.0</td>\n",
       "      <td>4740286.0</td>\n",
       "      <td>3221126.0</td>\n",
       "      <td>4803322.0</td>\n",
       "      <td>5104646.0</td>\n",
       "      <td>2984489.0</td>\n",
       "      <td>39091077.0</td>\n",
       "    </tr>\n",
       "    <tr>\n",
       "      <th>2004</th>\n",
       "      <td>4093153.0</td>\n",
       "      <td>3252236.0</td>\n",
       "      <td>19779410.0</td>\n",
       "      <td>4559020.0</td>\n",
       "      <td>63340301.0</td>\n",
       "      <td>1556336.0</td>\n",
       "      <td>5764071.0</td>\n",
       "      <td>6620247.0</td>\n",
       "      <td>4091639.0</td>\n",
       "      <td>1895614.0</td>\n",
       "      <td>3725173.0</td>\n",
       "      <td>4932513.0</td>\n",
       "      <td>3062418.0</td>\n",
       "      <td>4826916.0</td>\n",
       "      <td>4893590.0</td>\n",
       "      <td>2990973.0</td>\n",
       "      <td>39471934.0</td>\n",
       "    </tr>\n",
       "  </tbody>\n",
       "</table>\n",
       "</div>"
      ],
      "text/plain": [
       "Entity  Argentina  Australia      Brazil     Canada       China   Colombia  \\\n",
       "Year                                                                         \n",
       "2000    3932225.0  2995540.0  15303550.0  3968230.0  58596315.0  1354395.0   \n",
       "2001    3651626.0  3106471.0  15840750.0  4107780.0  59286109.0  1394017.0   \n",
       "2002    3400602.0  3215794.0  17176215.0  4266260.0  60294798.0  1433226.0   \n",
       "2003    3589120.0  3120875.0  18256410.0  4197970.0  62013778.0  1444198.0   \n",
       "2004    4093153.0  3252236.0  19779410.0  4559020.0  63340301.0  1556336.0   \n",
       "\n",
       "Entity     France    Germany      India  Indonesia      Italy     Mexico  \\\n",
       "Year                                                                       \n",
       "2000    5987273.0  6075602.0  3611915.0  1616035.0  3724202.0  4307307.0   \n",
       "2001    6050811.0  6285607.0  3678451.0  1723849.0  3782523.0  4475002.0   \n",
       "2002    6037796.0  6307192.0  3851504.0  1944889.0  3844416.0  4660737.0   \n",
       "2003    5923968.0  6419519.0  3981630.0  2044310.0  3669845.0  4740286.0   \n",
       "2004    5764071.0  6620247.0  4091639.0  1895614.0  3725173.0  4932513.0   \n",
       "\n",
       "Entity     Poland     Russia      Spain  United Kingdom  United States  \n",
       "Year                                                                    \n",
       "2000    2860900.0  4251085.0  4545708.0       3117200.0     37189009.0  \n",
       "2001    2868800.0  4277143.0  4676966.0       2988828.0     37881995.0  \n",
       "2002    3127500.0  4538260.0  4959418.0       3024275.0     38335121.0  \n",
       "2003    3221126.0  4803322.0  5104646.0       2984489.0     39091077.0  \n",
       "2004    3062418.0  4826916.0  4893590.0       2990973.0     39471934.0  "
      ]
     },
     "execution_count": 87,
     "metadata": {},
     "output_type": "execute_result"
    }
   ],
   "source": [
    "\"\"\"\n",
    "Realizaremos dos tipos de análisis. El primero haciendo énfasis en los países, \n",
    "mientras que el segundo, con énfasis en los años. \n",
    "\"\"\"\n",
    "top2000_countries = top2000_total.unstack(0)\n",
    "top2000_countries.head()"
   ]
  },
  {
   "cell_type": "code",
   "execution_count": 88,
   "metadata": {},
   "outputs": [
    {
     "data": {
      "image/png": "[encoded data removed]",
      "text/plain": [
       "<Figure size 1800x1080 with 1 Axes>"
      ]
     },
     "metadata": {
      "needs_background": "light"
     },
     "output_type": "display_data"
    }
   ],
   "source": [
    "\"\"\"\n",
    "Trazamos una serie de tiempo para la producción país por país\n",
    "\"\"\"\n",
    "top2000_countries.plot(figsize=(25,15))\n",
    "plt.show()"
   ]
  },
  {
   "cell_type": "code",
   "execution_count": 89,
   "metadata": {},
   "outputs": [
    {
     "data": {
      "text/html": [
       "<div>\n",
       "<style scoped>\n",
       "    .dataframe tbody tr th:only-of-type {\n",
       "        vertical-align: middle;\n",
       "    }\n",
       "\n",
       "    .dataframe tbody tr th {\n",
       "        vertical-align: top;\n",
       "    }\n",
       "\n",
       "    .dataframe thead th {\n",
       "        text-align: right;\n",
       "    }\n",
       "</style>\n",
       "<table border=\"1\" class=\"dataframe\">\n",
       "  <thead>\n",
       "    <tr style=\"text-align: right;\">\n",
       "      <th>Year</th>\n",
       "      <th>2000</th>\n",
       "      <th>2001</th>\n",
       "      <th>2002</th>\n",
       "      <th>2003</th>\n",
       "      <th>2004</th>\n",
       "      <th>2005</th>\n",
       "      <th>2006</th>\n",
       "      <th>2007</th>\n",
       "      <th>2008</th>\n",
       "      <th>2009</th>\n",
       "      <th>2010</th>\n",
       "      <th>2011</th>\n",
       "      <th>2012</th>\n",
       "      <th>2013</th>\n",
       "      <th>2014</th>\n",
       "      <th>2015</th>\n",
       "      <th>2016</th>\n",
       "      <th>2017</th>\n",
       "      <th>2018</th>\n",
       "    </tr>\n",
       "    <tr>\n",
       "      <th>Entity</th>\n",
       "      <th></th>\n",
       "      <th></th>\n",
       "      <th></th>\n",
       "      <th></th>\n",
       "      <th></th>\n",
       "      <th></th>\n",
       "      <th></th>\n",
       "      <th></th>\n",
       "      <th></th>\n",
       "      <th></th>\n",
       "      <th></th>\n",
       "      <th></th>\n",
       "      <th></th>\n",
       "      <th></th>\n",
       "      <th></th>\n",
       "      <th></th>\n",
       "      <th></th>\n",
       "      <th></th>\n",
       "      <th></th>\n",
       "    </tr>\n",
       "  </thead>\n",
       "  <tbody>\n",
       "    <tr>\n",
       "      <th>Argentina</th>\n",
       "      <td>3932225.0</td>\n",
       "      <td>3651626.0</td>\n",
       "      <td>3400602.0</td>\n",
       "      <td>3589120.0</td>\n",
       "      <td>4093153.0</td>\n",
       "      <td>4368953.0</td>\n",
       "      <td>4465870.0</td>\n",
       "      <td>4751610.0</td>\n",
       "      <td>4850845.0</td>\n",
       "      <td>5213651.0</td>\n",
       "      <td>4552735.0</td>\n",
       "      <td>4624217.0</td>\n",
       "      <td>4875737.0</td>\n",
       "      <td>5205792.0</td>\n",
       "      <td>5096940.0</td>\n",
       "      <td>5348751.0</td>\n",
       "      <td>5266749.0</td>\n",
       "      <td>5569935.0</td>\n",
       "      <td>5801501.0</td>\n",
       "    </tr>\n",
       "    <tr>\n",
       "      <th>Australia</th>\n",
       "      <td>2995540.0</td>\n",
       "      <td>3106471.0</td>\n",
       "      <td>3215794.0</td>\n",
       "      <td>3120875.0</td>\n",
       "      <td>3252236.0</td>\n",
       "      <td>3257255.0</td>\n",
       "      <td>3401016.0</td>\n",
       "      <td>3414217.0</td>\n",
       "      <td>3327127.0</td>\n",
       "      <td>3299324.0</td>\n",
       "      <td>3440534.0</td>\n",
       "      <td>3523279.0</td>\n",
       "      <td>3588766.0</td>\n",
       "      <td>3822404.0</td>\n",
       "      <td>4099169.0</td>\n",
       "      <td>4187655.0</td>\n",
       "      <td>3926722.0</td>\n",
       "      <td>3716791.0</td>\n",
       "      <td>3871726.0</td>\n",
       "    </tr>\n",
       "    <tr>\n",
       "      <th>Brazil</th>\n",
       "      <td>15303550.0</td>\n",
       "      <td>15840750.0</td>\n",
       "      <td>17176215.0</td>\n",
       "      <td>18256410.0</td>\n",
       "      <td>19779410.0</td>\n",
       "      <td>19540190.0</td>\n",
       "      <td>20311543.0</td>\n",
       "      <td>21683575.0</td>\n",
       "      <td>22727080.0</td>\n",
       "      <td>22479020.0</td>\n",
       "      <td>23495226.0</td>\n",
       "      <td>24175530.0</td>\n",
       "      <td>24509628.0</td>\n",
       "      <td>25284370.0</td>\n",
       "      <td>25898331.0</td>\n",
       "      <td>26492573.0</td>\n",
       "      <td>26772876.0</td>\n",
       "      <td>27542668.0</td>\n",
       "      <td>29185266.0</td>\n",
       "    </tr>\n",
       "    <tr>\n",
       "      <th>Canada</th>\n",
       "      <td>3968230.0</td>\n",
       "      <td>4107780.0</td>\n",
       "      <td>4266260.0</td>\n",
       "      <td>4197970.0</td>\n",
       "      <td>4559020.0</td>\n",
       "      <td>4553040.0</td>\n",
       "      <td>4397840.0</td>\n",
       "      <td>4392970.0</td>\n",
       "      <td>4486240.0</td>\n",
       "      <td>4402060.0</td>\n",
       "      <td>4396375.0</td>\n",
       "      <td>4306405.0</td>\n",
       "      <td>4264298.0</td>\n",
       "      <td>4263415.0</td>\n",
       "      <td>4307718.0</td>\n",
       "      <td>4398717.0</td>\n",
       "      <td>4569268.0</td>\n",
       "      <td>4727179.0</td>\n",
       "      <td>4847888.0</td>\n",
       "    </tr>\n",
       "    <tr>\n",
       "      <th>China</th>\n",
       "      <td>58596315.0</td>\n",
       "      <td>59286109.0</td>\n",
       "      <td>60294798.0</td>\n",
       "      <td>62013778.0</td>\n",
       "      <td>63340301.0</td>\n",
       "      <td>66379544.0</td>\n",
       "      <td>67800405.0</td>\n",
       "      <td>65386255.0</td>\n",
       "      <td>69374667.0</td>\n",
       "      <td>72791903.0</td>\n",
       "      <td>75243357.0</td>\n",
       "      <td>75515873.0</td>\n",
       "      <td>79294526.0</td>\n",
       "      <td>80970665.0</td>\n",
       "      <td>82021781.0</td>\n",
       "      <td>81502700.0</td>\n",
       "      <td>80411525.0</td>\n",
       "      <td>81881931.0</td>\n",
       "      <td>81555677.0</td>\n",
       "    </tr>\n",
       "  </tbody>\n",
       "</table>\n",
       "</div>"
      ],
      "text/plain": [
       "Year             2000        2001        2002        2003        2004  \\\n",
       "Entity                                                                  \n",
       "Argentina   3932225.0   3651626.0   3400602.0   3589120.0   4093153.0   \n",
       "Australia   2995540.0   3106471.0   3215794.0   3120875.0   3252236.0   \n",
       "Brazil     15303550.0  15840750.0  17176215.0  18256410.0  19779410.0   \n",
       "Canada      3968230.0   4107780.0   4266260.0   4197970.0   4559020.0   \n",
       "China      58596315.0  59286109.0  60294798.0  62013778.0  63340301.0   \n",
       "\n",
       "Year             2005        2006        2007        2008        2009  \\\n",
       "Entity                                                                  \n",
       "Argentina   4368953.0   4465870.0   4751610.0   4850845.0   5213651.0   \n",
       "Australia   3257255.0   3401016.0   3414217.0   3327127.0   3299324.0   \n",
       "Brazil     19540190.0  20311543.0  21683575.0  22727080.0  22479020.0   \n",
       "Canada      4553040.0   4397840.0   4392970.0   4486240.0   4402060.0   \n",
       "China      66379544.0  67800405.0  65386255.0  69374667.0  72791903.0   \n",
       "\n",
       "Year             2010        2011        2012        2013        2014  \\\n",
       "Entity                                                                  \n",
       "Argentina   4552735.0   4624217.0   4875737.0   5205792.0   5096940.0   \n",
       "Australia   3440534.0   3523279.0   3588766.0   3822404.0   4099169.0   \n",
       "Brazil     23495226.0  24175530.0  24509628.0  25284370.0  25898331.0   \n",
       "Canada      4396375.0   4306405.0   4264298.0   4263415.0   4307718.0   \n",
       "China      75243357.0  75515873.0  79294526.0  80970665.0  82021781.0   \n",
       "\n",
       "Year             2015        2016        2017        2018  \n",
       "Entity                                                     \n",
       "Argentina   5348751.0   5266749.0   5569935.0   5801501.0  \n",
       "Australia   4187655.0   3926722.0   3716791.0   3871726.0  \n",
       "Brazil     26492573.0  26772876.0  27542668.0  29185266.0  \n",
       "Canada      4398717.0   4569268.0   4727179.0   4847888.0  \n",
       "China      81502700.0  80411525.0  81881931.0  81555677.0  "
      ]
     },
     "execution_count": 89,
     "metadata": {},
     "output_type": "execute_result"
    }
   ],
   "source": [
    "\"\"\"\n",
    "Ahora hagamos revisemos la producción año por año, agrupada por países\n",
    "\"\"\"\n",
    "top2000_years = top2000_total.unstack(1)\n",
    "top2000_years.head()"
   ]
  },
  {
   "cell_type": "code",
   "execution_count": 90,
   "metadata": {},
   "outputs": [
    {
     "data": {
      "image/png": "[encoded data removed]",
      "text/plain": [
       "<Figure size 1800x1080 with 1 Axes>"
      ]
     },
     "metadata": {
      "needs_background": "light"
     },
     "output_type": "display_data"
    }
   ],
   "source": [
    "\"\"\"\n",
    "En lugar de una serie de tiempo, utilizaremos un diagrama de barras\n",
    "\"\"\"\n",
    "top2000_years.plot.bar(figsize=(25,15))\n",
    "plt.show()"
   ]
  },
  {
   "cell_type": "markdown",
   "metadata": {},
   "source": [
    "### Covarianza y correlación. \n",
    "\n",
    "Esta sección será más técnica. Así que antes de profundizar en los detalles, presentaremos el resultado y lo interpretaremos de forma intuitiva. "
   ]
  },
  {
   "cell_type": "markdown",
   "metadata": {},
   "source": [
    "1. La siguiente matriz nos indica la \"fuerza\" de la relación entre la producción de dos países. \n",
    "2. En valor absoluto, si la relación es cercana a cero, la relación es débil y si es cercana a uno, es fuerte.\n",
    "3. Si el signo es positivo, quiere decir que si una tiende a crecer, la otra también lo hará. \n",
    "4. Si por el contrario, el signo es negativo, si una tiende a crecer, la otra decrecerá.\n"
   ]
  },
  {
   "cell_type": "code",
   "execution_count": 91,
   "metadata": {},
   "outputs": [
    {
     "data": {
      "text/html": [
       "<div>\n",
       "<style scoped>\n",
       "    .dataframe tbody tr th:only-of-type {\n",
       "        vertical-align: middle;\n",
       "    }\n",
       "\n",
       "    .dataframe tbody tr th {\n",
       "        vertical-align: top;\n",
       "    }\n",
       "\n",
       "    .dataframe thead th {\n",
       "        text-align: right;\n",
       "    }\n",
       "</style>\n",
       "<table border=\"1\" class=\"dataframe\">\n",
       "  <thead>\n",
       "    <tr style=\"text-align: right;\">\n",
       "      <th>Entity</th>\n",
       "      <th>Argentina</th>\n",
       "      <th>Australia</th>\n",
       "      <th>Brazil</th>\n",
       "      <th>Canada</th>\n",
       "      <th>China</th>\n",
       "      <th>Colombia</th>\n",
       "      <th>France</th>\n",
       "      <th>Germany</th>\n",
       "      <th>India</th>\n",
       "      <th>Indonesia</th>\n",
       "      <th>Italy</th>\n",
       "      <th>Mexico</th>\n",
       "      <th>Poland</th>\n",
       "      <th>Russia</th>\n",
       "      <th>Spain</th>\n",
       "      <th>United Kingdom</th>\n",
       "      <th>United States</th>\n",
       "    </tr>\n",
       "    <tr>\n",
       "      <th>Entity</th>\n",
       "      <th></th>\n",
       "      <th></th>\n",
       "      <th></th>\n",
       "      <th></th>\n",
       "      <th></th>\n",
       "      <th></th>\n",
       "      <th></th>\n",
       "      <th></th>\n",
       "      <th></th>\n",
       "      <th></th>\n",
       "      <th></th>\n",
       "      <th></th>\n",
       "      <th></th>\n",
       "      <th></th>\n",
       "      <th></th>\n",
       "      <th></th>\n",
       "      <th></th>\n",
       "    </tr>\n",
       "  </thead>\n",
       "  <tbody>\n",
       "    <tr>\n",
       "      <th>Argentina</th>\n",
       "      <td>1.000000</td>\n",
       "      <td>0.794964</td>\n",
       "      <td>0.929069</td>\n",
       "      <td>0.638278</td>\n",
       "      <td>0.894104</td>\n",
       "      <td>0.945708</td>\n",
       "      <td>-0.848619</td>\n",
       "      <td>0.872960</td>\n",
       "      <td>0.912064</td>\n",
       "      <td>0.808425</td>\n",
       "      <td>-0.373745</td>\n",
       "      <td>0.931368</td>\n",
       "      <td>0.854613</td>\n",
       "      <td>0.885633</td>\n",
       "      <td>0.796703</td>\n",
       "      <td>0.784369</td>\n",
       "      <td>0.919691</td>\n",
       "    </tr>\n",
       "    <tr>\n",
       "      <th>Australia</th>\n",
       "      <td>0.794964</td>\n",
       "      <td>1.000000</td>\n",
       "      <td>0.881760</td>\n",
       "      <td>0.427206</td>\n",
       "      <td>0.903749</td>\n",
       "      <td>0.904141</td>\n",
       "      <td>-0.735411</td>\n",
       "      <td>0.837360</td>\n",
       "      <td>0.913261</td>\n",
       "      <td>0.874195</td>\n",
       "      <td>-0.543829</td>\n",
       "      <td>0.862793</td>\n",
       "      <td>0.903498</td>\n",
       "      <td>0.900630</td>\n",
       "      <td>0.755246</td>\n",
       "      <td>0.827636</td>\n",
       "      <td>0.787255</td>\n",
       "    </tr>\n",
       "    <tr>\n",
       "      <th>Brazil</th>\n",
       "      <td>0.929069</td>\n",
       "      <td>0.881760</td>\n",
       "      <td>1.000000</td>\n",
       "      <td>0.659968</td>\n",
       "      <td>0.962559</td>\n",
       "      <td>0.983792</td>\n",
       "      <td>-0.814289</td>\n",
       "      <td>0.944322</td>\n",
       "      <td>0.981685</td>\n",
       "      <td>0.918411</td>\n",
       "      <td>-0.352413</td>\n",
       "      <td>0.991146</td>\n",
       "      <td>0.944889</td>\n",
       "      <td>0.958014</td>\n",
       "      <td>0.881983</td>\n",
       "      <td>0.858896</td>\n",
       "      <td>0.971142</td>\n",
       "    </tr>\n",
       "    <tr>\n",
       "      <th>Canada</th>\n",
       "      <td>0.638278</td>\n",
       "      <td>0.427206</td>\n",
       "      <td>0.659968</td>\n",
       "      <td>1.000000</td>\n",
       "      <td>0.495213</td>\n",
       "      <td>0.614650</td>\n",
       "      <td>-0.506325</td>\n",
       "      <td>0.459464</td>\n",
       "      <td>0.566490</td>\n",
       "      <td>0.576812</td>\n",
       "      <td>-0.291617</td>\n",
       "      <td>0.694540</td>\n",
       "      <td>0.592650</td>\n",
       "      <td>0.569762</td>\n",
       "      <td>0.745191</td>\n",
       "      <td>0.545767</td>\n",
       "      <td>0.735288</td>\n",
       "    </tr>\n",
       "    <tr>\n",
       "      <th>China</th>\n",
       "      <td>0.894104</td>\n",
       "      <td>0.903749</td>\n",
       "      <td>0.962559</td>\n",
       "      <td>0.495213</td>\n",
       "      <td>1.000000</td>\n",
       "      <td>0.958843</td>\n",
       "      <td>-0.801099</td>\n",
       "      <td>0.957763</td>\n",
       "      <td>0.978016</td>\n",
       "      <td>0.893106</td>\n",
       "      <td>-0.352650</td>\n",
       "      <td>0.951052</td>\n",
       "      <td>0.917408</td>\n",
       "      <td>0.949846</td>\n",
       "      <td>0.789506</td>\n",
       "      <td>0.840143</td>\n",
       "      <td>0.892448</td>\n",
       "    </tr>\n",
       "    <tr>\n",
       "      <th>Colombia</th>\n",
       "      <td>0.945708</td>\n",
       "      <td>0.904141</td>\n",
       "      <td>0.983792</td>\n",
       "      <td>0.614650</td>\n",
       "      <td>0.958843</td>\n",
       "      <td>1.000000</td>\n",
       "      <td>-0.811287</td>\n",
       "      <td>0.924400</td>\n",
       "      <td>0.987125</td>\n",
       "      <td>0.931256</td>\n",
       "      <td>-0.393474</td>\n",
       "      <td>0.984946</td>\n",
       "      <td>0.956289</td>\n",
       "      <td>0.973149</td>\n",
       "      <td>0.891671</td>\n",
       "      <td>0.893839</td>\n",
       "      <td>0.963631</td>\n",
       "    </tr>\n",
       "    <tr>\n",
       "      <th>France</th>\n",
       "      <td>-0.848619</td>\n",
       "      <td>-0.735411</td>\n",
       "      <td>-0.814289</td>\n",
       "      <td>-0.506325</td>\n",
       "      <td>-0.801099</td>\n",
       "      <td>-0.811287</td>\n",
       "      <td>1.000000</td>\n",
       "      <td>-0.794688</td>\n",
       "      <td>-0.766451</td>\n",
       "      <td>-0.621091</td>\n",
       "      <td>0.377351</td>\n",
       "      <td>-0.798245</td>\n",
       "      <td>-0.746372</td>\n",
       "      <td>-0.699824</td>\n",
       "      <td>-0.580783</td>\n",
       "      <td>-0.568788</td>\n",
       "      <td>-0.750238</td>\n",
       "    </tr>\n",
       "    <tr>\n",
       "      <th>Germany</th>\n",
       "      <td>0.872960</td>\n",
       "      <td>0.837360</td>\n",
       "      <td>0.944322</td>\n",
       "      <td>0.459464</td>\n",
       "      <td>0.957763</td>\n",
       "      <td>0.924400</td>\n",
       "      <td>-0.794688</td>\n",
       "      <td>1.000000</td>\n",
       "      <td>0.936863</td>\n",
       "      <td>0.811915</td>\n",
       "      <td>-0.189190</td>\n",
       "      <td>0.917579</td>\n",
       "      <td>0.850169</td>\n",
       "      <td>0.886735</td>\n",
       "      <td>0.727207</td>\n",
       "      <td>0.747618</td>\n",
       "      <td>0.881647</td>\n",
       "    </tr>\n",
       "    <tr>\n",
       "      <th>India</th>\n",
       "      <td>0.912064</td>\n",
       "      <td>0.913261</td>\n",
       "      <td>0.981685</td>\n",
       "      <td>0.566490</td>\n",
       "      <td>0.978016</td>\n",
       "      <td>0.987125</td>\n",
       "      <td>-0.766451</td>\n",
       "      <td>0.936863</td>\n",
       "      <td>1.000000</td>\n",
       "      <td>0.954019</td>\n",
       "      <td>-0.378520</td>\n",
       "      <td>0.981281</td>\n",
       "      <td>0.967331</td>\n",
       "      <td>0.989891</td>\n",
       "      <td>0.886871</td>\n",
       "      <td>0.911800</td>\n",
       "      <td>0.945404</td>\n",
       "    </tr>\n",
       "    <tr>\n",
       "      <th>Indonesia</th>\n",
       "      <td>0.808425</td>\n",
       "      <td>0.874195</td>\n",
       "      <td>0.918411</td>\n",
       "      <td>0.576812</td>\n",
       "      <td>0.893106</td>\n",
       "      <td>0.931256</td>\n",
       "      <td>-0.621091</td>\n",
       "      <td>0.811915</td>\n",
       "      <td>0.954019</td>\n",
       "      <td>1.000000</td>\n",
       "      <td>-0.412497</td>\n",
       "      <td>0.933703</td>\n",
       "      <td>0.969636</td>\n",
       "      <td>0.981403</td>\n",
       "      <td>0.946825</td>\n",
       "      <td>0.959090</td>\n",
       "      <td>0.913038</td>\n",
       "    </tr>\n",
       "    <tr>\n",
       "      <th>Italy</th>\n",
       "      <td>-0.373745</td>\n",
       "      <td>-0.543829</td>\n",
       "      <td>-0.352413</td>\n",
       "      <td>-0.291617</td>\n",
       "      <td>-0.352650</td>\n",
       "      <td>-0.393474</td>\n",
       "      <td>0.377351</td>\n",
       "      <td>-0.189190</td>\n",
       "      <td>-0.378520</td>\n",
       "      <td>-0.412497</td>\n",
       "      <td>1.000000</td>\n",
       "      <td>-0.363723</td>\n",
       "      <td>-0.433714</td>\n",
       "      <td>-0.407984</td>\n",
       "      <td>-0.384408</td>\n",
       "      <td>-0.408411</td>\n",
       "      <td>-0.309779</td>\n",
       "    </tr>\n",
       "    <tr>\n",
       "      <th>Mexico</th>\n",
       "      <td>0.931368</td>\n",
       "      <td>0.862793</td>\n",
       "      <td>0.991146</td>\n",
       "      <td>0.694540</td>\n",
       "      <td>0.951052</td>\n",
       "      <td>0.984946</td>\n",
       "      <td>-0.798245</td>\n",
       "      <td>0.917579</td>\n",
       "      <td>0.981281</td>\n",
       "      <td>0.933703</td>\n",
       "      <td>-0.363723</td>\n",
       "      <td>1.000000</td>\n",
       "      <td>0.959821</td>\n",
       "      <td>0.966572</td>\n",
       "      <td>0.918444</td>\n",
       "      <td>0.891728</td>\n",
       "      <td>0.979019</td>\n",
       "    </tr>\n",
       "    <tr>\n",
       "      <th>Poland</th>\n",
       "      <td>0.854613</td>\n",
       "      <td>0.903498</td>\n",
       "      <td>0.944889</td>\n",
       "      <td>0.592650</td>\n",
       "      <td>0.917408</td>\n",
       "      <td>0.956289</td>\n",
       "      <td>-0.746372</td>\n",
       "      <td>0.850169</td>\n",
       "      <td>0.967331</td>\n",
       "      <td>0.969636</td>\n",
       "      <td>-0.433714</td>\n",
       "      <td>0.959821</td>\n",
       "      <td>1.000000</td>\n",
       "      <td>0.973075</td>\n",
       "      <td>0.930405</td>\n",
       "      <td>0.940266</td>\n",
       "      <td>0.921096</td>\n",
       "    </tr>\n",
       "    <tr>\n",
       "      <th>Russia</th>\n",
       "      <td>0.885633</td>\n",
       "      <td>0.900630</td>\n",
       "      <td>0.958014</td>\n",
       "      <td>0.569762</td>\n",
       "      <td>0.949846</td>\n",
       "      <td>0.973149</td>\n",
       "      <td>-0.699824</td>\n",
       "      <td>0.886735</td>\n",
       "      <td>0.989891</td>\n",
       "      <td>0.981403</td>\n",
       "      <td>-0.407984</td>\n",
       "      <td>0.966572</td>\n",
       "      <td>0.973075</td>\n",
       "      <td>1.000000</td>\n",
       "      <td>0.919427</td>\n",
       "      <td>0.949159</td>\n",
       "      <td>0.937800</td>\n",
       "    </tr>\n",
       "    <tr>\n",
       "      <th>Spain</th>\n",
       "      <td>0.796703</td>\n",
       "      <td>0.755246</td>\n",
       "      <td>0.881983</td>\n",
       "      <td>0.745191</td>\n",
       "      <td>0.789506</td>\n",
       "      <td>0.891671</td>\n",
       "      <td>-0.580783</td>\n",
       "      <td>0.727207</td>\n",
       "      <td>0.886871</td>\n",
       "      <td>0.946825</td>\n",
       "      <td>-0.384408</td>\n",
       "      <td>0.918444</td>\n",
       "      <td>0.930405</td>\n",
       "      <td>0.919427</td>\n",
       "      <td>1.000000</td>\n",
       "      <td>0.927423</td>\n",
       "      <td>0.934105</td>\n",
       "    </tr>\n",
       "    <tr>\n",
       "      <th>United Kingdom</th>\n",
       "      <td>0.784369</td>\n",
       "      <td>0.827636</td>\n",
       "      <td>0.858896</td>\n",
       "      <td>0.545767</td>\n",
       "      <td>0.840143</td>\n",
       "      <td>0.893839</td>\n",
       "      <td>-0.568788</td>\n",
       "      <td>0.747618</td>\n",
       "      <td>0.911800</td>\n",
       "      <td>0.959090</td>\n",
       "      <td>-0.408411</td>\n",
       "      <td>0.891728</td>\n",
       "      <td>0.940266</td>\n",
       "      <td>0.949159</td>\n",
       "      <td>0.927423</td>\n",
       "      <td>1.000000</td>\n",
       "      <td>0.860244</td>\n",
       "    </tr>\n",
       "    <tr>\n",
       "      <th>United States</th>\n",
       "      <td>0.919691</td>\n",
       "      <td>0.787255</td>\n",
       "      <td>0.971142</td>\n",
       "      <td>0.735288</td>\n",
       "      <td>0.892448</td>\n",
       "      <td>0.963631</td>\n",
       "      <td>-0.750238</td>\n",
       "      <td>0.881647</td>\n",
       "      <td>0.945404</td>\n",
       "      <td>0.913038</td>\n",
       "      <td>-0.309779</td>\n",
       "      <td>0.979019</td>\n",
       "      <td>0.921096</td>\n",
       "      <td>0.937800</td>\n",
       "      <td>0.934105</td>\n",
       "      <td>0.860244</td>\n",
       "      <td>1.000000</td>\n",
       "    </tr>\n",
       "  </tbody>\n",
       "</table>\n",
       "</div>"
      ],
      "text/plain": [
       "Entity          Argentina  Australia    Brazil    Canada     China  Colombia  \\\n",
       "Entity                                                                         \n",
       "Argentina        1.000000   0.794964  0.929069  0.638278  0.894104  0.945708   \n",
       "Australia        0.794964   1.000000  0.881760  0.427206  0.903749  0.904141   \n",
       "Brazil           0.929069   0.881760  1.000000  0.659968  0.962559  0.983792   \n",
       "Canada           0.638278   0.427206  0.659968  1.000000  0.495213  0.614650   \n",
       "China            0.894104   0.903749  0.962559  0.495213  1.000000  0.958843   \n",
       "Colombia         0.945708   0.904141  0.983792  0.614650  0.958843  1.000000   \n",
       "France          -0.848619  -0.735411 -0.814289 -0.506325 -0.801099 -0.811287   \n",
       "Germany          0.872960   0.837360  0.944322  0.459464  0.957763  0.924400   \n",
       "India            0.912064   0.913261  0.981685  0.566490  0.978016  0.987125   \n",
       "Indonesia        0.808425   0.874195  0.918411  0.576812  0.893106  0.931256   \n",
       "Italy           -0.373745  -0.543829 -0.352413 -0.291617 -0.352650 -0.393474   \n",
       "Mexico           0.931368   0.862793  0.991146  0.694540  0.951052  0.984946   \n",
       "Poland           0.854613   0.903498  0.944889  0.592650  0.917408  0.956289   \n",
       "Russia           0.885633   0.900630  0.958014  0.569762  0.949846  0.973149   \n",
       "Spain            0.796703   0.755246  0.881983  0.745191  0.789506  0.891671   \n",
       "United Kingdom   0.784369   0.827636  0.858896  0.545767  0.840143  0.893839   \n",
       "United States    0.919691   0.787255  0.971142  0.735288  0.892448  0.963631   \n",
       "\n",
       "Entity            France   Germany     India  Indonesia     Italy    Mexico  \\\n",
       "Entity                                                                        \n",
       "Argentina      -0.848619  0.872960  0.912064   0.808425 -0.373745  0.931368   \n",
       "Australia      -0.735411  0.837360  0.913261   0.874195 -0.543829  0.862793   \n",
       "Brazil         -0.814289  0.944322  0.981685   0.918411 -0.352413  0.991146   \n",
       "Canada         -0.506325  0.459464  0.566490   0.576812 -0.291617  0.694540   \n",
       "China          -0.801099  0.957763  0.978016   0.893106 -0.352650  0.951052   \n",
       "Colombia       -0.811287  0.924400  0.987125   0.931256 -0.393474  0.984946   \n",
       "France          1.000000 -0.794688 -0.766451  -0.621091  0.377351 -0.798245   \n",
       "Germany        -0.794688  1.000000  0.936863   0.811915 -0.189190  0.917579   \n",
       "India          -0.766451  0.936863  1.000000   0.954019 -0.378520  0.981281   \n",
       "Indonesia      -0.621091  0.811915  0.954019   1.000000 -0.412497  0.933703   \n",
       "Italy           0.377351 -0.189190 -0.378520  -0.412497  1.000000 -0.363723   \n",
       "Mexico         -0.798245  0.917579  0.981281   0.933703 -0.363723  1.000000   \n",
       "Poland         -0.746372  0.850169  0.967331   0.969636 -0.433714  0.959821   \n",
       "Russia         -0.699824  0.886735  0.989891   0.981403 -0.407984  0.966572   \n",
       "Spain          -0.580783  0.727207  0.886871   0.946825 -0.384408  0.918444   \n",
       "United Kingdom -0.568788  0.747618  0.911800   0.959090 -0.408411  0.891728   \n",
       "United States  -0.750238  0.881647  0.945404   0.913038 -0.309779  0.979019   \n",
       "\n",
       "Entity            Poland    Russia     Spain  United Kingdom  United States  \n",
       "Entity                                                                       \n",
       "Argentina       0.854613  0.885633  0.796703        0.784369       0.919691  \n",
       "Australia       0.903498  0.900630  0.755246        0.827636       0.787255  \n",
       "Brazil          0.944889  0.958014  0.881983        0.858896       0.971142  \n",
       "Canada          0.592650  0.569762  0.745191        0.545767       0.735288  \n",
       "China           0.917408  0.949846  0.789506        0.840143       0.892448  \n",
       "Colombia        0.956289  0.973149  0.891671        0.893839       0.963631  \n",
       "France         -0.746372 -0.699824 -0.580783       -0.568788      -0.750238  \n",
       "Germany         0.850169  0.886735  0.727207        0.747618       0.881647  \n",
       "India           0.967331  0.989891  0.886871        0.911800       0.945404  \n",
       "Indonesia       0.969636  0.981403  0.946825        0.959090       0.913038  \n",
       "Italy          -0.433714 -0.407984 -0.384408       -0.408411      -0.309779  \n",
       "Mexico          0.959821  0.966572  0.918444        0.891728       0.979019  \n",
       "Poland          1.000000  0.973075  0.930405        0.940266       0.921096  \n",
       "Russia          0.973075  1.000000  0.919427        0.949159       0.937800  \n",
       "Spain           0.930405  0.919427  1.000000        0.927423       0.934105  \n",
       "United Kingdom  0.940266  0.949159  0.927423        1.000000       0.860244  \n",
       "United States   0.921096  0.937800  0.934105        0.860244       1.000000  "
      ]
     },
     "execution_count": 91,
     "metadata": {},
     "output_type": "execute_result"
    }
   ],
   "source": [
    "\"\"\"\n",
    "¿Qué países van en contra de la tendencia global de producción?\n",
    "\"\"\"\n",
    "top2000_countries.corr()"
   ]
  },
  {
   "cell_type": "code",
   "execution_count": 92,
   "metadata": {},
   "outputs": [
    {
     "data": {
      "text/plain": [
       "<AxesSubplot:xlabel='Entity', ylabel='Entity'>"
      ]
     },
     "execution_count": 92,
     "metadata": {},
     "output_type": "execute_result"
    },
    {
     "data": {
      "image/png": "[encoded data removed]",
      "text/plain": [
       "<Figure size 432x288 with 2 Axes>"
      ]
     },
     "metadata": {
      "needs_background": "light"
     },
     "output_type": "display_data"
    }
   ],
   "source": [
    "\"\"\"\n",
    "Con todos estos números, es dificil tener un panorama global de la correlación productiva entre países. \n",
    "Por eso utilizaremos un mapa de calor, que refleja la correlación con intensidades de colores. \n",
    "\"\"\"\n",
    "sns.heatmap(top2000_countries.corr())"
   ]
  },
  {
   "cell_type": "code",
   "execution_count": 93,
   "metadata": {},
   "outputs": [
    {
     "data": {
      "text/plain": [
       "<AxesSubplot:xlabel='Entity', ylabel='Entity'>"
      ]
     },
     "execution_count": 93,
     "metadata": {},
     "output_type": "execute_result"
    },
    {
     "data": {
      "image/png": "[encoded data removed]",
      "text/plain": [
       "<Figure size 1152x432 with 2 Axes>"
      ]
     },
     "metadata": {
      "needs_background": "light"
     },
     "output_type": "display_data"
    }
   ],
   "source": [
    "\"\"\"\n",
    "Mejoraremos la visualización utilizando algunos parámetros extras.\n",
    "\"\"\"\n",
    "plt.figure(figsize=(16, 6))\n",
    "sns.heatmap(top2000_countries.corr(), vmin=-1, vmax=1, annot=True)"
   ]
  },
  {
   "cell_type": "markdown",
   "metadata": {},
   "source": [
    "Para entender el significado de este número, así como sus limitaciones, describiremos como se obtiene para el caso de la relación entre México y Estados Unidos. "
   ]
  },
  {
   "cell_type": "code",
   "execution_count": 94,
   "metadata": {},
   "outputs": [
    {
     "data": {
      "text/plain": [
       "Year\n",
       "2014    6037566.0\n",
       "2015    6169974.0\n",
       "2016    6370688.0\n",
       "2017    6617959.0\n",
       "2018    6860082.0\n",
       "Name: Mexico, dtype: float64"
      ]
     },
     "execution_count": 94,
     "metadata": {},
     "output_type": "execute_result"
    }
   ],
   "source": [
    "\"\"\"\n",
    "Seleccionamos los datos correspondientes a México\n",
    "\"\"\"\n",
    "mex = top2000_countries[\"Mexico\"]\n",
    "mex.tail()"
   ]
  },
  {
   "cell_type": "code",
   "execution_count": 95,
   "metadata": {},
   "outputs": [
    {
     "data": {
      "text/plain": [
       "Year\n",
       "2014    42465729.0\n",
       "2015    42915729.0\n",
       "2016    44273871.0\n",
       "2017    45432461.0\n",
       "2018    46460398.0\n",
       "Name: United States, dtype: float64"
      ]
     },
     "execution_count": 95,
     "metadata": {},
     "output_type": "execute_result"
    }
   ],
   "source": [
    "\"\"\"\n",
    "Seleccionamos los datos correspondientes a los Estados Unidos\n",
    "\"\"\"\n",
    "usa = top2000_countries[\"United States\"]\n",
    "usa.tail()"
   ]
  },
  {
   "cell_type": "code",
   "execution_count": 96,
   "metadata": {},
   "outputs": [
    {
     "data": {
      "text/plain": [
       "5.536553789473684"
      ]
     },
     "execution_count": 96,
     "metadata": {},
     "output_type": "execute_result"
    }
   ],
   "source": [
    "\"\"\"\n",
    "Calculamos y guardamos la media de producción en México\n",
    "\"\"\"\n",
    "mex_mean = mex.mean()\n",
    "mex_mean/10**6"
   ]
  },
  {
   "cell_type": "code",
   "execution_count": 97,
   "metadata": {},
   "outputs": [
    {
     "data": {
      "text/plain": [
       "41.38385068421052"
      ]
     },
     "execution_count": 97,
     "metadata": {},
     "output_type": "execute_result"
    }
   ],
   "source": [
    "\"\"\"\n",
    "Calculamos y guardamos la media de producción en Estados Unidos\n",
    "\"\"\"\n",
    "usa_mean = usa.mean()\n",
    "usa_mean/10**6"
   ]
  },
  {
   "cell_type": "code",
   "execution_count": 98,
   "metadata": {},
   "outputs": [
    {
     "data": {
      "text/plain": [
       "1760561660668.9297"
      ]
     },
     "execution_count": 98,
     "metadata": {},
     "output_type": "execute_result"
    }
   ],
   "source": [
    "\"\"\"\n",
    "La covarianza nos indica que tan lejanos están los pares de datos para un año dado, del par promedio.\n",
    "\"\"\"\n",
    "covariance = 0\n",
    "\n",
    "for x,y in zip(mex, usa):\n",
    "    dx = x - mex_mean\n",
    "    dy = y - usa_mean\n",
    "    covariance += dx*dy \n",
    "\n",
    "covariance/(len(mex)-1)\n"
   ]
  },
  {
   "cell_type": "code",
   "execution_count": 99,
   "metadata": {},
   "outputs": [
    {
     "data": {
      "text/plain": [
       "array([[5.18520099e+11, 1.76056166e+12],\n",
       "       [1.76056166e+12, 6.23669294e+12]])"
      ]
     },
     "execution_count": 99,
     "metadata": {},
     "output_type": "execute_result"
    }
   ],
   "source": [
    "\"\"\"\n",
    "Este resultado se puede obtener de la función numpy.cov()\n",
    "\"\"\"\n",
    "np.cov(mex, usa)"
   ]
  },
  {
   "cell_type": "markdown",
   "metadata": {},
   "source": [
    "Un problema importante con la covarianza es que es sensible al cambio de unidades de medición. Por ejemplo, si decidimos medir en kilogramos en lugar de toneladas, ¡la covarianza se multiplicará por un millón! Por esta razón, estandarizaremos nuestros datos. "
   ]
  },
  {
   "cell_type": "code",
   "execution_count": 100,
   "metadata": {},
   "outputs": [
    {
     "data": {
      "text/plain": [
       "720083.3970300152"
      ]
     },
     "execution_count": 100,
     "metadata": {},
     "output_type": "execute_result"
    }
   ],
   "source": [
    "\"\"\"\n",
    "Calculamos y guardamos la desviación estándar de los datos correspondientes a México.\n",
    "\"\"\"\n",
    "mex_std = mex.std()\n",
    "mex_std\n"
   ]
  },
  {
   "cell_type": "code",
   "execution_count": 101,
   "metadata": {},
   "outputs": [
    {
     "data": {
      "text/plain": [
       "(-4.2071609354216456e-16, 1.0)"
      ]
     },
     "execution_count": 101,
     "metadata": {},
     "output_type": "execute_result"
    }
   ],
   "source": [
    "\"\"\"\n",
    "Estandarizamos los datos correspondientes a México.\n",
    "\"\"\"\n",
    "mex_standard = (mex-mex_mean)/mex_std\n",
    "mex_standard.mean(), mex_standard.std()"
   ]
  },
  {
   "cell_type": "code",
   "execution_count": 102,
   "metadata": {},
   "outputs": [
    {
     "data": {
      "text/plain": [
       "2497337.1705373633"
      ]
     },
     "execution_count": 102,
     "metadata": {},
     "output_type": "execute_result"
    }
   ],
   "source": [
    "\"\"\"\n",
    "Calculamos y guardamos la desviación estándar de los datos correspondientes a Estados Unidos.\n",
    "\"\"\"\n",
    "usa_std = usa.std()\n",
    "usa_std"
   ]
  },
  {
   "cell_type": "code",
   "execution_count": 103,
   "metadata": {},
   "outputs": [
    {
     "data": {
      "text/plain": [
       "(9.816708849317175e-16, 0.9999999999999998)"
      ]
     },
     "execution_count": 103,
     "metadata": {},
     "output_type": "execute_result"
    }
   ],
   "source": [
    "\"\"\"\n",
    "Estandarizamos los datos correspondientes a Estados Unidos.\n",
    "\"\"\"\n",
    "usa_standard = (usa-usa_mean)/usa_std\n",
    "usa_standard.mean(), usa_standard.std()"
   ]
  },
  {
   "cell_type": "code",
   "execution_count": 104,
   "metadata": {},
   "outputs": [
    {
     "data": {
      "text/plain": [
       "array([[1.        , 0.97901932],\n",
       "       [0.97901932, 1.        ]])"
      ]
     },
     "execution_count": 104,
     "metadata": {},
     "output_type": "execute_result"
    }
   ],
   "source": [
    "\"\"\"\n",
    "Caculemos ahora la covarianza de las series normalizadas. \n",
    "\"\"\"\n",
    "np.cov(mex_standard, usa_standard)"
   ]
  },
  {
   "cell_type": "code",
   "execution_count": 105,
   "metadata": {},
   "outputs": [
    {
     "data": {
      "text/plain": [
       "array([[1.        , 0.97901932],\n",
       "       [0.97901932, 1.        ]])"
      ]
     },
     "execution_count": 105,
     "metadata": {},
     "output_type": "execute_result"
    }
   ],
   "source": [
    "\"\"\"\n",
    "Este es el mismo resultado que obtenemos con la función numpy.corrcoef(),\n",
    "que calcula los coeficientes de correlación entre dos arreglos.\n",
    "\"\"\"\n",
    "np.corrcoef(mex, usa)"
   ]
  },
  {
   "cell_type": "code",
   "execution_count": 106,
   "metadata": {},
   "outputs": [
    {
     "data": {
      "text/plain": [
       "0.979019317828707"
      ]
     },
     "execution_count": 106,
     "metadata": {},
     "output_type": "execute_result"
    }
   ],
   "source": [
    "\"\"\"\n",
    "Observa que coincide con el resultado arrojado por el método .corr()\n",
    "\"\"\"\n",
    "top2000_countries.corr()[\"Mexico\"].loc[\"United States\"]"
   ]
  },
  {
   "cell_type": "markdown",
   "metadata": {},
   "source": [
    "### Regresiones lineales\n",
    "\n",
    "Ahora veremos como hacer proyecciones, utilizando regresiones lineales. Crudamente, trataremos de aproximas los datos correspondientes con funciones lineales, de manera que los residuales (errores puntuales entre el datos y la proyección) se minimicen. "
   ]
  },
  {
   "cell_type": "markdown",
   "metadata": {},
   "source": [
    "En esta sección final del módulo, nos centraremos en las regresiones lineales univariadas, pero en los próximos módulos abarcaremos regresiones de muchas otras clases, tanto univariadas como multivariadas, implementándolas desde cero. "
   ]
  },
  {
   "cell_type": "markdown",
   "metadata": {},
   "source": [
    "\n",
    "Analizaremos el caso de México, para después generalizar el resultado a todos los países productores que estamos considerando. "
   ]
  },
  {
   "cell_type": "code",
   "execution_count": 107,
   "metadata": {},
   "outputs": [
    {
     "data": {
      "text/plain": [
       "array([2000, 2001, 2002, 2003, 2004, 2005, 2006, 2007, 2008, 2009, 2010,\n",
       "       2011, 2012, 2013, 2014, 2015, 2016, 2017, 2018], dtype=int64)"
      ]
     },
     "execution_count": 107,
     "metadata": {},
     "output_type": "execute_result"
    }
   ],
   "source": [
    "\"\"\"\n",
    "Primero extraemos el periodo de tiempo a considerar. Lo convertimos en un array para\n",
    "manipularlo de manera más sencilla. \n",
    "\"\"\"\n",
    "t = np.array(mex.index)\n",
    "t \n"
   ]
  },
  {
   "cell_type": "code",
   "execution_count": 108,
   "metadata": {},
   "outputs": [
    {
     "data": {
      "text/plain": [
       "array([4307307., 4475002., 4660737., 4740286., 4932513., 5141212.,\n",
       "       5227368., 5371742., 5452906., 5545243., 5642039., 5812934.,\n",
       "       5892326., 5936638., 6037566., 6169974., 6370688., 6617959.,\n",
       "       6860082.])"
      ]
     },
     "execution_count": 108,
     "metadata": {},
     "output_type": "execute_result"
    }
   ],
   "source": [
    "\"\"\"\n",
    "Hacemos lo mismo con los valores de la producción total correspondiente a cada año. \n",
    "\"\"\"\n",
    "y = mex.values\n",
    "y"
   ]
  },
  {
   "cell_type": "code",
   "execution_count": 109,
   "metadata": {},
   "outputs": [
    {
     "data": {
      "text/plain": [
       "array([[1.       , 0.9931632],\n",
       "       [0.9931632, 1.       ]])"
      ]
     },
     "execution_count": 109,
     "metadata": {},
     "output_type": "execute_result"
    }
   ],
   "source": [
    "\"\"\"\n",
    "Calculemos la correlación entre el tiempo y la producción.\n",
    "\"\"\"\n",
    "np.corrcoef(t,y)"
   ]
  },
  {
   "cell_type": "code",
   "execution_count": 110,
   "metadata": {},
   "outputs": [
    {
     "data": {
      "text/plain": [
       "array([[3.16666667e+01, 4.02443200e+06],\n",
       "       [4.02443200e+06, 5.18520099e+11]])"
      ]
     },
     "execution_count": 110,
     "metadata": {},
     "output_type": "execute_result"
    }
   ],
   "source": [
    "\"\"\"\n",
    "Ahora, calculamos la covarianza. Esta información nos será útil para \n",
    "calcular los coeficientes de la regresión lineal.  \n",
    "\"\"\"\n",
    "np.cov(t, y)"
   ]
  },
  {
   "cell_type": "code",
   "execution_count": 111,
   "metadata": {},
   "outputs": [
    {
     "data": {
      "text/plain": [
       "True"
      ]
     },
     "execution_count": 111,
     "metadata": {},
     "output_type": "execute_result"
    }
   ],
   "source": [
    "\"\"\"\n",
    "Vamos a extraer la información en cuatro diferentes variables, que nos indicarán \n",
    "el valor de una variable respecto a otra. \n",
    "\"\"\"\n",
    "stt, sty, syt, syy = np.cov(t, y).ravel()\n",
    "np.isclose(sty,syt)"
   ]
  },
  {
   "cell_type": "code",
   "execution_count": 112,
   "metadata": {},
   "outputs": [
    {
     "data": {
      "text/plain": [
       "127087.3263157895"
      ]
     },
     "execution_count": 112,
     "metadata": {},
     "output_type": "execute_result"
    }
   ],
   "source": [
    "\"\"\"\n",
    "La pendiente b de nuestra regresión lineal está dada por esta sencilla fórmula\n",
    "\"\"\"\n",
    "b = sty/stt\n",
    "b"
   ]
  },
  {
   "cell_type": "code",
   "execution_count": 113,
   "metadata": {},
   "outputs": [
    {
     "data": {
      "text/plain": [
       "2009.0"
      ]
     },
     "execution_count": 113,
     "metadata": {},
     "output_type": "execute_result"
    }
   ],
   "source": [
    "\"\"\"\n",
    "Calculemos ahora el año promedio de nuestro rango de tiempo. \n",
    "\"\"\"\n",
    "t_mean = t.mean()\n",
    "t_mean"
   ]
  },
  {
   "cell_type": "code",
   "execution_count": 114,
   "metadata": {},
   "outputs": [
    {
     "data": {
      "text/plain": [
       "5536553.7894736845"
      ]
     },
     "execution_count": 114,
     "metadata": {},
     "output_type": "execute_result"
    }
   ],
   "source": [
    "\"\"\"\n",
    "Calculemos la producción promedio en este intervalo. \n",
    "\"\"\"\n",
    "y_mean = y.mean()\n",
    "y_mean"
   ]
  },
  {
   "cell_type": "code",
   "execution_count": 115,
   "metadata": {},
   "outputs": [
    {
     "data": {
      "text/plain": [
       "-249781884.7789474"
      ]
     },
     "execution_count": 115,
     "metadata": {},
     "output_type": "execute_result"
    }
   ],
   "source": [
    "\"\"\"\n",
    "Finalmente, apoyándonos en un teorema que nos dice que la regresión lineal pasa por \n",
    "el punto promedio, despejamos para obtener la ordenada al origen.\n",
    "\"\"\"\n",
    "a = y_mean - b*t_mean\n",
    "a "
   ]
  },
  {
   "cell_type": "code",
   "execution_count": 116,
   "metadata": {},
   "outputs": [
    {
     "data": {
      "text/plain": [
       "array([2000, 2001, 2002, 2003, 2004, 2005, 2006, 2007, 2008, 2009, 2010,\n",
       "       2011, 2012, 2013, 2014, 2015, 2016, 2017, 2018, 2019, 2020, 2021,\n",
       "       2022])"
      ]
     },
     "execution_count": 116,
     "metadata": {},
     "output_type": "execute_result"
    }
   ],
   "source": [
    "\"\"\"\n",
    "Declararemos un nuevo rango de tiempo, que incluya el anterior, y algunos años\n",
    "a futuro para realizar nuestras proyecciones. \n",
    "\"\"\"\n",
    "t_range = np.arange(2000, 2023)\n",
    "t_range"
   ]
  },
  {
   "cell_type": "code",
   "execution_count": 117,
   "metadata": {},
   "outputs": [
    {
     "data": {
      "text/plain": [
       "array([4392768., 4519855., 4646943., 4774030., 4901117., 5028204.,\n",
       "       5155292., 5282379., 5409466., 5536554., 5663641., 5790728.,\n",
       "       5917816., 6044903., 6171990., 6299078., 6426165., 6553252.,\n",
       "       6680340., 6807427., 6934514., 7061602., 7188689.])"
      ]
     },
     "execution_count": 117,
     "metadata": {},
     "output_type": "execute_result"
    }
   ],
   "source": [
    "\"\"\"\n",
    "Finalmente, calculamos los valores de la proyección utilizando la fórmula \n",
    "y=a+b*t de nuestra regresión lineal.\n",
    "\"\"\"\n",
    "y_pred = a + b*t_range\n",
    "np.round(y_pred, 0)"
   ]
  },
  {
   "cell_type": "code",
   "execution_count": 118,
   "metadata": {},
   "outputs": [
    {
     "data": {
      "image/png": "[encoded data removed]",
      "text/plain": [
       "<Figure size 432x288 with 1 Axes>"
      ]
     },
     "metadata": {
      "needs_background": "light"
     },
     "output_type": "display_data"
    }
   ],
   "source": [
    "\"\"\"\n",
    "Comparemos visualmente los datos con las proyecciones\n",
    "\"\"\"\n",
    "plt.scatter(t, y, color=\"red\")\n",
    "plt.plot(t_range, y_pred)\n",
    "plt.show()"
   ]
  },
  {
   "cell_type": "code",
   "execution_count": 119,
   "metadata": {},
   "outputs": [
    {
     "data": {
      "text/plain": [
       "0.986373149514181"
      ]
     },
     "execution_count": 119,
     "metadata": {},
     "output_type": "execute_result"
    }
   ],
   "source": [
    "\"\"\"\n",
    "Una medida de la calidad de nuestra regresión esta dada por el número R2.\n",
    "Si es cercano a cero, la regresión es casi tan buena como tomar el promedio.\n",
    "En cambio si se acerca a uno, la regresión es casi perfecta. \n",
    "\"\"\"\n",
    "r2 = (sty*syt)/(stt*syy)\n",
    "r2"
   ]
  },
  {
   "cell_type": "markdown",
   "metadata": {},
   "source": [
    "Finalmente, vamos a aprender como ajustar un modelo linear con el módulo `SciKit Learn`. "
   ]
  },
  {
   "cell_type": "code",
   "execution_count": 120,
   "metadata": {},
   "outputs": [
    {
     "name": "stdout",
     "output_type": "stream",
     "text": [
      "Expected 2D array, got 1D array instead:\n",
      "array=[2000 2001 2002 2003 2004 2005 2006 2007 2008 2009 2010 2011 2012 2013\n",
      " 2014 2015 2016 2017 2018].\n",
      "Reshape your data either using array.reshape(-1, 1) if your data has a single feature or array.reshape(1, -1) if it contains a single sample.\n"
     ]
    }
   ],
   "source": [
    "\"\"\"\n",
    "Podríamos decir que se puede hacer en dos renglones, \n",
    "pero debemos tener cuidado con la clase de objetos que recibe como argumentos. \n",
    "\"\"\"\n",
    "try:\n",
    "    reg = LinearRegression()\n",
    "    reg.fit(t,y)\n",
    "except Exception as e:\n",
    "    print(e)"
   ]
  },
  {
   "cell_type": "code",
   "execution_count": 121,
   "metadata": {},
   "outputs": [
    {
     "data": {
      "text/plain": [
       "array([[2000],\n",
       "       [2001],\n",
       "       [2002],\n",
       "       [2003],\n",
       "       [2004],\n",
       "       [2005],\n",
       "       [2006],\n",
       "       [2007],\n",
       "       [2008],\n",
       "       [2009],\n",
       "       [2010],\n",
       "       [2011],\n",
       "       [2012],\n",
       "       [2013],\n",
       "       [2014],\n",
       "       [2015],\n",
       "       [2016],\n",
       "       [2017],\n",
       "       [2018]], dtype=int64)"
      ]
     },
     "execution_count": 121,
     "metadata": {},
     "output_type": "execute_result"
    }
   ],
   "source": [
    "\"\"\"\n",
    "El método fit recibe como primer argumento una matriz. Así que si nuestros datos están en forma de vector, \n",
    "sera necesario reacomodarlos como una matriz columna.\n",
    "\"\"\"\n",
    "t = t.reshape(-1,1)\n",
    "t"
   ]
  },
  {
   "cell_type": "code",
   "execution_count": 122,
   "metadata": {},
   "outputs": [
    {
     "data": {
      "text/plain": [
       "LinearRegression()"
      ]
     },
     "execution_count": 122,
     "metadata": {},
     "output_type": "execute_result"
    }
   ],
   "source": [
    "\"\"\"\n",
    "Ahora sí, en dos sencillos pasos ajustamos el modelo lineal.\n",
    "\"\"\"\n",
    "reg = LinearRegression()\n",
    "reg.fit(t,y)\n",
    "reg"
   ]
  },
  {
   "cell_type": "code",
   "execution_count": 123,
   "metadata": {},
   "outputs": [
    {
     "data": {
      "text/plain": [
       "(array([127087.32631579]), -249781884.7789474)"
      ]
     },
     "execution_count": 123,
     "metadata": {},
     "output_type": "execute_result"
    }
   ],
   "source": [
    "\"\"\"\n",
    "Extraigamos la pendiente y la ordenada al origen\n",
    "\"\"\"\n",
    "reg.coef_, reg.intercept_"
   ]
  },
  {
   "cell_type": "code",
   "execution_count": 124,
   "metadata": {},
   "outputs": [
    {
     "data": {
      "text/plain": [
       "True"
      ]
     },
     "execution_count": 124,
     "metadata": {},
     "output_type": "execute_result"
    }
   ],
   "source": [
    "\"\"\"\n",
    "Verifiquemos que el valor anterior es el mismo que la pendiente que obtuvimos con la fórmula\n",
    "\"\"\"\n",
    "np.isclose(reg.coef_[0], b)"
   ]
  },
  {
   "cell_type": "code",
   "execution_count": 125,
   "metadata": {},
   "outputs": [
    {
     "data": {
      "text/plain": [
       "True"
      ]
     },
     "execution_count": 125,
     "metadata": {},
     "output_type": "execute_result"
    }
   ],
   "source": [
    "\"\"\"\n",
    "Hagamos los mismo con la ordenada al origen.\n",
    "\"\"\"\n",
    "np.isclose(reg.intercept_, a)"
   ]
  },
  {
   "cell_type": "code",
   "execution_count": 126,
   "metadata": {},
   "outputs": [
    {
     "data": {
      "text/plain": [
       "0.9863731495141806"
      ]
     },
     "execution_count": 126,
     "metadata": {},
     "output_type": "execute_result"
    }
   ],
   "source": [
    "\"\"\"\n",
    "El método .score nos devuelve el valor R2 calculado anteriormente\n",
    "\"\"\"\n",
    "reg.score(t, y)"
   ]
  },
  {
   "cell_type": "code",
   "execution_count": 127,
   "metadata": {},
   "outputs": [
    {
     "data": {
      "text/plain": [
       "True"
      ]
     },
     "execution_count": 127,
     "metadata": {},
     "output_type": "execute_result"
    }
   ],
   "source": [
    "\"\"\"\n",
    "Verifiquemos que en efecto son iguales\n",
    "\"\"\"\n",
    "np.isclose(r2, reg.score(t, y))"
   ]
  },
  {
   "cell_type": "code",
   "execution_count": 128,
   "metadata": {},
   "outputs": [
    {
     "data": {
      "text/plain": [
       "array([4392767.85263157, 4519855.17894736, 4646942.50526315,\n",
       "       4774029.83157894, 4901117.15789473, 5028204.48421052,\n",
       "       5155291.81052631, 5282379.1368421 , 5409466.46315789,\n",
       "       5536553.78947368, 5663641.11578947, 5790728.44210526,\n",
       "       5917815.76842105, 6044903.09473684, 6171990.42105263,\n",
       "       6299077.74736843, 6426165.07368422, 6553252.40000001,\n",
       "       6680339.7263158 , 6807427.05263159, 6934514.37894738,\n",
       "       7061601.70526317, 7188689.03157896])"
      ]
     },
     "execution_count": 128,
     "metadata": {},
     "output_type": "execute_result"
    }
   ],
   "source": [
    "\"\"\"\n",
    "Finalmente, utilicemos el método predict para hacer las regresiones.\n",
    "\"\"\"\n",
    "y_pred = reg.predict(t_range.reshape(-1,1))\n",
    "y_pred"
   ]
  },
  {
   "cell_type": "code",
   "execution_count": 129,
   "metadata": {},
   "outputs": [
    {
     "data": {
      "image/png": "[encoded data removed]",
      "text/plain": [
       "<Figure size 432x288 with 1 Axes>"
      ]
     },
     "metadata": {
      "needs_background": "light"
     },
     "output_type": "display_data"
    }
   ],
   "source": [
    "\"\"\"\n",
    "Comparemos ahora nuestras proyecciones con los datos\n",
    "\"\"\"\n",
    "plt.scatter(t, y, color=\"red\")\n",
    "plt.plot(t_range, y_pred)\n",
    "plt.show()"
   ]
  },
  {
   "cell_type": "code",
   "execution_count": 130,
   "metadata": {},
   "outputs": [
    {
     "data": {
      "text/plain": [
       "{'Argentina': array([3642625.3631579 , 3756368.81403509, 3870112.26491228,\n",
       "        3983855.71578947, 4097599.16666666, 4211342.61754385,\n",
       "        4325086.06842104, 4438829.51929823, 4552572.97017542,\n",
       "        4666316.42105263, 4780059.87192982, 4893803.32280701,\n",
       "        5007546.7736842 , 5121290.22456139, 5235033.67543858,\n",
       "        5348777.12631577, 5462520.57719296, 5576264.02807015,\n",
       "        5690007.47894737, 5803750.92982456, 5917494.38070175,\n",
       "        6031237.83157894, 6144981.28245613]),\n",
       " 'Australia': array([3005592.91578947, 3060918.27017543, 3116243.6245614 ,\n",
       "        3171568.97894736, 3226894.33333333, 3282219.6877193 ,\n",
       "        3337545.04210526, 3392870.39649123, 3448195.75087719,\n",
       "        3503521.10526316, 3558846.45964912, 3614171.81403509,\n",
       "        3669497.16842104, 3724822.52280702, 3780147.87719297,\n",
       "        3835473.23157895, 3890798.5859649 , 3946123.94035088,\n",
       "        4001449.29473683, 4056774.6491228 , 4112100.00350876,\n",
       "        4167425.35789473, 4222750.71228069]),\n",
       " 'Brazil': array([16017663.27894759, 16731807.18947387, 17445951.10000014,\n",
       "        18160095.01052642, 18874238.92105293, 19588382.83157921,\n",
       "        20302526.74210548, 21016670.65263176, 21730814.56315804,\n",
       "        22444958.47368431, 23159102.38421082, 23873246.2947371 ,\n",
       "        24587390.20526338, 25301534.11578965, 26015678.02631593,\n",
       "        26729821.9368422 , 27443965.84736872, 28158109.75789499,\n",
       "        28872253.66842127, 29586397.57894754, 30300541.48947382,\n",
       "        31014685.4000001 , 31728829.31052661]),\n",
       " 'Canada': array([4182998.24736842, 4206014.07368421, 4229029.9       ,\n",
       "        4252045.72631579, 4275061.55263158, 4298077.37894736,\n",
       "        4321093.20526315, 4344109.03157894, 4367124.85789473,\n",
       "        4390140.68421052, 4413156.51052631, 4436172.3368421 ,\n",
       "        4459188.1631579 , 4482203.98947368, 4505219.81578947,\n",
       "        4528235.64210526, 4551251.46842105, 4574267.29473684,\n",
       "        4597283.12105263, 4620298.94736842, 4643314.77368421,\n",
       "        4666330.59999999, 4689346.42631578]),\n",
       " 'China': array([58231685.34736824, 59736130.30877161, 61240575.27017546,\n",
       "        62745020.23157883, 64249465.1929822 , 65753910.15438557,\n",
       "        67258355.11578941, 68762800.07719278, 70267245.03859615,\n",
       "        71771690.        , 73276134.96140337, 74780579.92280674,\n",
       "        76285024.88421059, 77789469.84561396, 79293914.80701733,\n",
       "        80798359.7684207 , 82302804.72982454, 83807249.69122791,\n",
       "        85311694.65263128, 86816139.61403513, 88320584.5754385 ,\n",
       "        89825029.53684187, 91329474.49824524]),\n",
       " 'Colombia': array([1287968.33157894, 1371274.24210528, 1454580.15263158,\n",
       "        1537886.06315789, 1621191.97368422, 1704497.88421053,\n",
       "        1787803.79473683, 1871109.70526317, 1954415.61578947,\n",
       "        2037721.52631578, 2121027.43684211, 2204333.34736842,\n",
       "        2287639.25789472, 2370945.16842106, 2454251.07894737,\n",
       "        2537556.9894737 , 2620862.90000001, 2704168.81052631,\n",
       "        2787474.72105265, 2870780.63157895, 2954086.54210526,\n",
       "        3037392.45263159, 3120698.3631579 ]),\n",
       " 'France': array([5906638.18947369, 5869023.29122807, 5831408.39298247,\n",
       "        5793793.49473685, 5756178.59649123, 5718563.69824561,\n",
       "        5680948.80000001, 5643333.90175439, 5605719.00350878,\n",
       "        5568104.10526316, 5530489.20701756, 5492874.30877194,\n",
       "        5455259.41052632, 5417644.5122807 , 5380029.6140351 ,\n",
       "        5342414.71578948, 5304799.81754386, 5267184.91929825,\n",
       "        5229570.02105264, 5191955.12280703, 5154340.22456141,\n",
       "        5116725.32631579, 5079110.42807019]),\n",
       " 'Germany': array([6219621.91578946, 6354630.42807016, 6489638.94035086,\n",
       "        6624647.45263156, 6759655.96491227, 6894664.47719297,\n",
       "        7029672.98947367, 7164681.50175437, 7299690.01403508,\n",
       "        7434698.52631578, 7569707.03859648, 7704715.55087718,\n",
       "        7839724.06315783, 7974732.57543853, 8109741.08771923,\n",
       "        8244749.59999993, 8379758.11228064, 8514766.62456134,\n",
       "        8649775.13684204, 8784783.64912274, 8919792.16140345,\n",
       "        9054800.67368415, 9189809.18596485]),\n",
       " 'India': array([3446429.11578947, 3622042.26666665, 3797655.41754383,\n",
       "        3973268.56842101, 4148881.71929824, 4324494.87017542,\n",
       "        4500108.0210526 , 4675721.17192978, 4851334.32280701,\n",
       "        5026947.47368419, 5202560.62456137, 5378173.77543855,\n",
       "        5553786.92631578, 5729400.07719296, 5905013.22807014,\n",
       "        6080626.37894738, 6256239.52982455, 6431852.68070173,\n",
       "        6607465.83157891, 6783078.98245615, 6958692.13333333,\n",
       "        7134305.2842105 , 7309918.43508768]),\n",
       " 'Indonesia': array([1480402.35263157, 1576280.44210523, 1672158.53157893,\n",
       "        1768036.62105262, 1863914.71052629, 1959792.79999998,\n",
       "        2055670.88947368, 2151548.97894734, 2247427.06842104,\n",
       "        2343305.15789473, 2439183.2473684 , 2535061.33684209,\n",
       "        2630939.42631575, 2726817.51578945, 2822695.60526314,\n",
       "        2918573.69473681, 3014451.7842105 , 3110329.8736842 ,\n",
       "        3206207.96315786, 3302086.05263156, 3397964.14210525,\n",
       "        3493842.23157892, 3589720.32105261]),\n",
       " 'Italy': array([3787654.1631579 , 3777500.13333333, 3767346.10350877,\n",
       "        3757192.07368421, 3747038.04385965, 3736884.01403509,\n",
       "        3726729.98421052, 3716575.95438596, 3706421.9245614 ,\n",
       "        3696267.89473684, 3686113.86491228, 3675959.83508772,\n",
       "        3665805.80526316, 3655651.7754386 , 3645497.74561403,\n",
       "        3635343.71578947, 3625189.68596491, 3615035.65614035,\n",
       "        3604881.62631579, 3594727.59649123, 3584573.56666667,\n",
       "        3574419.5368421 , 3564265.50701754]),\n",
       " 'Mexico': array([4392767.85263157, 4519855.17894736, 4646942.50526315,\n",
       "        4774029.83157894, 4901117.15789473, 5028204.48421052,\n",
       "        5155291.81052631, 5282379.1368421 , 5409466.46315789,\n",
       "        5536553.78947368, 5663641.11578947, 5790728.44210526,\n",
       "        5917815.76842105, 6044903.09473684, 6171990.42105263,\n",
       "        6299077.74736843, 6426165.07368422, 6553252.40000001,\n",
       "        6680339.7263158 , 6807427.05263159, 6934514.37894738,\n",
       "        7061601.70526317, 7188689.03157896]),\n",
       " 'Poland': array([2800564.38947368, 2885326.07719299, 2970087.76491228,\n",
       "        3054849.45263159, 3139611.14035088, 3224372.82807019,\n",
       "        3309134.51578948, 3393896.20350876, 3478657.89122808,\n",
       "        3563419.57894737, 3648181.26666668, 3732942.95438597,\n",
       "        3817704.64210528, 3902466.32982457, 3987228.01754385,\n",
       "        4071989.70526317, 4156751.39298245, 4241513.08070177,\n",
       "        4326274.76842105, 4411036.45614037, 4495798.14385965,\n",
       "        4580559.83157894, 4665321.51929826]),\n",
       " 'Russia': array([ 3542905.73157895,  3879552.34035087,  4216198.94912279,\n",
       "         4552845.55789471,  4889492.16666663,  5226138.77543867,\n",
       "         5562785.38421059,  5899431.99298251,  6236078.60175443,\n",
       "         6572725.21052635,  6909371.81929827,  7246018.42807019,\n",
       "         7582665.03684211,  7919311.64561403,  8255958.25438595,\n",
       "         8592604.86315787,  8929251.47192979,  9265898.08070171,\n",
       "         9602544.68947375,  9939191.29824567, 10275837.90701759,\n",
       "        10612484.51578951, 10949131.12456143]),\n",
       " 'Spain': array([4505634.54210523, 4601862.62807015, 4698090.71403506,\n",
       "        4794318.79999998, 4890546.8859649 , 4986774.97192979,\n",
       "        5083003.05789471, 5179231.14385962, 5275459.22982454,\n",
       "        5371687.31578946, 5467915.40175435, 5564143.48771927,\n",
       "        5660371.57368419, 5756599.6596491 , 5852827.74561402,\n",
       "        5949055.83157891, 6045283.91754383, 6141512.00350875,\n",
       "        6237740.08947366, 6333968.17543858, 6430196.26140347,\n",
       "        6526424.34736839, 6622652.43333331]),\n",
       " 'United Kingdom': array([2868800.81052631, 2909811.84912281, 2950822.8877193 ,\n",
       "        2991833.92631578, 3032844.96491228, 3073856.00350878,\n",
       "        3114867.04210526, 3155878.08070175, 3196889.11929825,\n",
       "        3237900.15789473, 3278911.19649123, 3319922.23508772,\n",
       "        3360933.2736842 , 3401944.3122807 , 3442955.3508772 ,\n",
       "        3483966.38947369, 3524977.42807017, 3565988.46666667,\n",
       "        3606999.50526316, 3648010.54385965, 3689021.58245614,\n",
       "        3730032.62105264, 3771043.65964912]),\n",
       " 'United States': array([37538515.57894731, 37965775.0350877 , 38393034.4912281 ,\n",
       "        38820293.94736838, 39247553.40350878, 39674812.85964906,\n",
       "        40102072.31578946, 40529331.77192986, 40956591.22807014,\n",
       "        41383850.68421054, 41811110.14035082, 42238369.59649122,\n",
       "        42665629.05263162, 43092888.5087719 , 43520147.9649123 ,\n",
       "        43947407.42105258, 44374666.87719297, 44801926.33333325,\n",
       "        45229185.78947365, 45656445.24561405, 46083704.70175433,\n",
       "        46510964.15789473, 46938223.61403501])}"
      ]
     },
     "execution_count": 130,
     "metadata": {},
     "output_type": "execute_result"
    }
   ],
   "source": [
    "\"\"\"\n",
    "Finalmente, utilizando todas las herramientas aprendidas en estos dos módulos, \n",
    "haremos la proyección de la producción total de res, puerco y pollo para los\n",
    "mayores productores de carne en el mundo. \n",
    "\"\"\"\n",
    "future_production = dict()\n",
    "\n",
    "for country in top2000_countries:\n",
    "    reg = LinearRegression()\n",
    "    y = top2000_countries[country]\n",
    "    reg.fit(t, y)\n",
    "    future_production[country] = reg.predict(t_range.reshape(-1,1))\n",
    "\n",
    "future_production\n",
    "    "
   ]
  },
  {
   "cell_type": "code",
   "execution_count": 131,
   "metadata": {},
   "outputs": [
    {
     "data": {
      "text/html": [
       "<div>\n",
       "<style scoped>\n",
       "    .dataframe tbody tr th:only-of-type {\n",
       "        vertical-align: middle;\n",
       "    }\n",
       "\n",
       "    .dataframe tbody tr th {\n",
       "        vertical-align: top;\n",
       "    }\n",
       "\n",
       "    .dataframe thead th {\n",
       "        text-align: right;\n",
       "    }\n",
       "</style>\n",
       "<table border=\"1\" class=\"dataframe\">\n",
       "  <thead>\n",
       "    <tr style=\"text-align: right;\">\n",
       "      <th></th>\n",
       "      <th>Argentina</th>\n",
       "      <th>Australia</th>\n",
       "      <th>Brazil</th>\n",
       "      <th>Canada</th>\n",
       "      <th>China</th>\n",
       "      <th>Colombia</th>\n",
       "      <th>France</th>\n",
       "      <th>Germany</th>\n",
       "      <th>India</th>\n",
       "      <th>Indonesia</th>\n",
       "      <th>Italy</th>\n",
       "      <th>Mexico</th>\n",
       "      <th>Poland</th>\n",
       "      <th>Russia</th>\n",
       "      <th>Spain</th>\n",
       "      <th>United Kingdom</th>\n",
       "      <th>United States</th>\n",
       "    </tr>\n",
       "  </thead>\n",
       "  <tbody>\n",
       "    <tr>\n",
       "      <th>2018</th>\n",
       "      <td>5.690007e+06</td>\n",
       "      <td>4.001449e+06</td>\n",
       "      <td>2.887225e+07</td>\n",
       "      <td>4.597283e+06</td>\n",
       "      <td>8.531169e+07</td>\n",
       "      <td>2.787475e+06</td>\n",
       "      <td>5.229570e+06</td>\n",
       "      <td>8.649775e+06</td>\n",
       "      <td>6.607466e+06</td>\n",
       "      <td>3.206208e+06</td>\n",
       "      <td>3.604882e+06</td>\n",
       "      <td>6.680340e+06</td>\n",
       "      <td>4.326275e+06</td>\n",
       "      <td>9.602545e+06</td>\n",
       "      <td>6.237740e+06</td>\n",
       "      <td>3.607000e+06</td>\n",
       "      <td>4.522919e+07</td>\n",
       "    </tr>\n",
       "    <tr>\n",
       "      <th>2019</th>\n",
       "      <td>5.803751e+06</td>\n",
       "      <td>4.056775e+06</td>\n",
       "      <td>2.958640e+07</td>\n",
       "      <td>4.620299e+06</td>\n",
       "      <td>8.681614e+07</td>\n",
       "      <td>2.870781e+06</td>\n",
       "      <td>5.191955e+06</td>\n",
       "      <td>8.784784e+06</td>\n",
       "      <td>6.783079e+06</td>\n",
       "      <td>3.302086e+06</td>\n",
       "      <td>3.594728e+06</td>\n",
       "      <td>6.807427e+06</td>\n",
       "      <td>4.411036e+06</td>\n",
       "      <td>9.939191e+06</td>\n",
       "      <td>6.333968e+06</td>\n",
       "      <td>3.648011e+06</td>\n",
       "      <td>4.565645e+07</td>\n",
       "    </tr>\n",
       "    <tr>\n",
       "      <th>2020</th>\n",
       "      <td>5.917494e+06</td>\n",
       "      <td>4.112100e+06</td>\n",
       "      <td>3.030054e+07</td>\n",
       "      <td>4.643315e+06</td>\n",
       "      <td>8.832058e+07</td>\n",
       "      <td>2.954087e+06</td>\n",
       "      <td>5.154340e+06</td>\n",
       "      <td>8.919792e+06</td>\n",
       "      <td>6.958692e+06</td>\n",
       "      <td>3.397964e+06</td>\n",
       "      <td>3.584574e+06</td>\n",
       "      <td>6.934514e+06</td>\n",
       "      <td>4.495798e+06</td>\n",
       "      <td>1.027584e+07</td>\n",
       "      <td>6.430196e+06</td>\n",
       "      <td>3.689022e+06</td>\n",
       "      <td>4.608370e+07</td>\n",
       "    </tr>\n",
       "    <tr>\n",
       "      <th>2021</th>\n",
       "      <td>6.031238e+06</td>\n",
       "      <td>4.167425e+06</td>\n",
       "      <td>3.101469e+07</td>\n",
       "      <td>4.666331e+06</td>\n",
       "      <td>8.982503e+07</td>\n",
       "      <td>3.037392e+06</td>\n",
       "      <td>5.116725e+06</td>\n",
       "      <td>9.054801e+06</td>\n",
       "      <td>7.134305e+06</td>\n",
       "      <td>3.493842e+06</td>\n",
       "      <td>3.574420e+06</td>\n",
       "      <td>7.061602e+06</td>\n",
       "      <td>4.580560e+06</td>\n",
       "      <td>1.061248e+07</td>\n",
       "      <td>6.526424e+06</td>\n",
       "      <td>3.730033e+06</td>\n",
       "      <td>4.651096e+07</td>\n",
       "    </tr>\n",
       "    <tr>\n",
       "      <th>2022</th>\n",
       "      <td>6.144981e+06</td>\n",
       "      <td>4.222751e+06</td>\n",
       "      <td>3.172883e+07</td>\n",
       "      <td>4.689346e+06</td>\n",
       "      <td>9.132947e+07</td>\n",
       "      <td>3.120698e+06</td>\n",
       "      <td>5.079110e+06</td>\n",
       "      <td>9.189809e+06</td>\n",
       "      <td>7.309918e+06</td>\n",
       "      <td>3.589720e+06</td>\n",
       "      <td>3.564266e+06</td>\n",
       "      <td>7.188689e+06</td>\n",
       "      <td>4.665322e+06</td>\n",
       "      <td>1.094913e+07</td>\n",
       "      <td>6.622652e+06</td>\n",
       "      <td>3.771044e+06</td>\n",
       "      <td>4.693822e+07</td>\n",
       "    </tr>\n",
       "  </tbody>\n",
       "</table>\n",
       "</div>"
      ],
      "text/plain": [
       "         Argentina     Australia        Brazil        Canada         China  \\\n",
       "2018  5.690007e+06  4.001449e+06  2.887225e+07  4.597283e+06  8.531169e+07   \n",
       "2019  5.803751e+06  4.056775e+06  2.958640e+07  4.620299e+06  8.681614e+07   \n",
       "2020  5.917494e+06  4.112100e+06  3.030054e+07  4.643315e+06  8.832058e+07   \n",
       "2021  6.031238e+06  4.167425e+06  3.101469e+07  4.666331e+06  8.982503e+07   \n",
       "2022  6.144981e+06  4.222751e+06  3.172883e+07  4.689346e+06  9.132947e+07   \n",
       "\n",
       "          Colombia        France       Germany         India     Indonesia  \\\n",
       "2018  2.787475e+06  5.229570e+06  8.649775e+06  6.607466e+06  3.206208e+06   \n",
       "2019  2.870781e+06  5.191955e+06  8.784784e+06  6.783079e+06  3.302086e+06   \n",
       "2020  2.954087e+06  5.154340e+06  8.919792e+06  6.958692e+06  3.397964e+06   \n",
       "2021  3.037392e+06  5.116725e+06  9.054801e+06  7.134305e+06  3.493842e+06   \n",
       "2022  3.120698e+06  5.079110e+06  9.189809e+06  7.309918e+06  3.589720e+06   \n",
       "\n",
       "             Italy        Mexico        Poland        Russia         Spain  \\\n",
       "2018  3.604882e+06  6.680340e+06  4.326275e+06  9.602545e+06  6.237740e+06   \n",
       "2019  3.594728e+06  6.807427e+06  4.411036e+06  9.939191e+06  6.333968e+06   \n",
       "2020  3.584574e+06  6.934514e+06  4.495798e+06  1.027584e+07  6.430196e+06   \n",
       "2021  3.574420e+06  7.061602e+06  4.580560e+06  1.061248e+07  6.526424e+06   \n",
       "2022  3.564266e+06  7.188689e+06  4.665322e+06  1.094913e+07  6.622652e+06   \n",
       "\n",
       "      United Kingdom  United States  \n",
       "2018    3.607000e+06   4.522919e+07  \n",
       "2019    3.648011e+06   4.565645e+07  \n",
       "2020    3.689022e+06   4.608370e+07  \n",
       "2021    3.730033e+06   4.651096e+07  \n",
       "2022    3.771044e+06   4.693822e+07  "
      ]
     },
     "execution_count": 131,
     "metadata": {},
     "output_type": "execute_result"
    }
   ],
   "source": [
    "\"\"\"\n",
    "Reestructuramos el resultado anterior como un marco de datos\n",
    "\"\"\"\n",
    "future_production = pd.DataFrame(future_production).set_index(t_range)\n",
    "future_production.tail()"
   ]
  },
  {
   "cell_type": "code",
   "execution_count": 132,
   "metadata": {},
   "outputs": [
    {
     "data": {
      "text/plain": [
       "<AxesSubplot:>"
      ]
     },
     "execution_count": 132,
     "metadata": {},
     "output_type": "execute_result"
    },
    {
     "data": {
      "image/png": "[encoded data removed]",
      "text/plain": [
       "<Figure size 432x288 with 1 Axes>"
      ]
     },
     "metadata": {
      "needs_background": "light"
     },
     "output_type": "display_data"
    }
   ],
   "source": [
    "\"\"\"\n",
    "Visualicemos nuestros resultados. \n",
    "\"\"\"\n",
    "future_production.plot()"
   ]
  },
  {
   "cell_type": "markdown",
   "metadata": {},
   "source": [
    "¿Qué aplicaciones crees que podrían tener nuestros resultados en una empresa productora de carne en México?"
   ]
  },
  {
   "cell_type": "markdown",
   "metadata": {},
   "source": []
  }
 ],
 "metadata": {
  "interpreter": {
   "hash": "c1ceec73d4e7042bc403b2b01a041491c3c25db7ed91d0579e35b4f4d25ee65b"
  },
  "kernelspec": {
   "display_name": "Python 3.8.11 ('workspace')",
   "language": "python",
   "name": "python3"
  },
  "language_info": {
   "codemirror_mode": {
    "name": "ipython",
    "version": 3
   },
   "file_extension": ".py",
   "mimetype": "text/x-python",
   "name": "python",
   "nbconvert_exporter": "python",
   "pygments_lexer": "ipython3",
   "version": "3.8.11"
  },
  "orig_nbformat": 4
 },
 "nbformat": 4,
 "nbformat_minor": 2
}
