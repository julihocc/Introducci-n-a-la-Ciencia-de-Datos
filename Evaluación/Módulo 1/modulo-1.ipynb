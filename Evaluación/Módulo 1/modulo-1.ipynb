{
 "cells": [
  {
   "cell_type": "markdown",
   "metadata": {},
   "source": [
    "# Introducción a la Ciencia de Datos\n",
    "## Módulo 1: Ciencias de la Computación\n",
    "\n",
    "**Dr. Juliho Castillo Colmenares, INFOTEC**\n"
   ]
  },
  {
   "cell_type": "markdown",
   "metadata": {},
   "source": [
    "* En este primer módulo, revisaremos los conceptos básicos sobre programación, que necesitaremos para nuestra práctica en ciencia de datos.  \n",
    "* Comenzaremos revisando las estructuras de datos más comunes, tales como los marcos de datos, las series, los vectores, las matrices, las listas y los diccionarios.  \n",
    "* Analizaremos el concepto de objeto, con sus atributos y métodos, que resulta fundamental en Python. \n",
    "* Para integrar estas habilidades, desarrollaremos un proyecto y aplicaremos estos conceptos y herramientas al análisis de un conjunto de datos, sobre la población mundial, que podrás encontrar en [World cities database](https://www.kaggle.com/datasets/juanmah/world-cities). \n",
    "* Nuestro objetivos es determinar la distribución geográfica de megaciudades en el mundo. "
   ]
  },
  {
   "cell_type": "markdown",
   "metadata": {},
   "source": [
    "### Marcos de datos\n",
    "\n",
    "* Los marcos de datos (dataframes) son objetos que se asemejan a las tablas de Excel, es decir, guardan la información de manera tabular.\n",
    "* Los marcos de datos poseen atributos y métodos que permiten manipular la información de manera más sencilla y rápida, desde una consola.\n",
    "\n",
    "#### Pero, ¿qué es un objeto?\n",
    "\n",
    "* En computación, un objeto es una colección de información, estructurada de una manera predeterminada, que se puede procesar con funciones propias llamadas métodos. \n",
    "* A la colección de objetos que tienen la misma estructura se le llama clase.\n",
    "* Podemos pensar en una clase como una plantilla para crear objetos del mismo tipo.\n",
    "* ¡En Python, todo es un objeto (hasta los números)!\n",
    "* A través de la siguiente práctica, te familiarizaras con los estos conceptos. "
   ]
  },
  {
   "cell_type": "code",
   "execution_count": 1,
   "metadata": {},
   "outputs": [
    {
     "data": {
      "text/plain": [
       "pandas.core.frame.DataFrame"
      ]
     },
     "execution_count": 1,
     "metadata": {},
     "output_type": "execute_result"
    }
   ],
   "source": [
    "\"\"\"\n",
    "Los paquetes son colecciones de programas que nos ayudarán a resolver tareas especificas.\n",
    "Por ejemplo, pandas es un paquete que nos ayudará a manejar conjuntos de datos en forma tabular.\n",
    "\"\"\"\n",
    "\n",
    "import pandas as pd\n",
    "\n",
    "# creamos un objeto de la clase DataFrame usando nuestra base de datos\n",
    "data = pd.read_csv(\"worldcities.csv\")\n",
    "type(data)"
   ]
  },
  {
   "cell_type": "code",
   "execution_count": 2,
   "metadata": {},
   "outputs": [
    {
     "data": {
      "text/plain": [
       "Index(['city', 'city_ascii', 'lat', 'lng', 'country', 'iso2', 'iso3',\n",
       "       'admin_name', 'capital', 'population', 'id'],\n",
       "      dtype='object')"
      ]
     },
     "execution_count": 2,
     "metadata": {},
     "output_type": "execute_result"
    }
   ],
   "source": [
    "\"\"\"\n",
    "Los objetos tienen atributos, es decir, información asociada. Por ejemplo, un dataframe \n",
    "posee el atributo columns, que es una lista con el nombre de las columnas. \n",
    "\"\"\"\n",
    "\n",
    "data.columns"
   ]
  },
  {
   "cell_type": "code",
   "execution_count": 3,
   "metadata": {},
   "outputs": [
    {
     "data": {
      "text/html": [
       "<div>\n",
       "<style scoped>\n",
       "    .dataframe tbody tr th:only-of-type {\n",
       "        vertical-align: middle;\n",
       "    }\n",
       "\n",
       "    .dataframe tbody tr th {\n",
       "        vertical-align: top;\n",
       "    }\n",
       "\n",
       "    .dataframe thead th {\n",
       "        text-align: right;\n",
       "    }\n",
       "</style>\n",
       "<table border=\"1\" class=\"dataframe\">\n",
       "  <thead>\n",
       "    <tr style=\"text-align: right;\">\n",
       "      <th></th>\n",
       "      <th>city</th>\n",
       "      <th>city_ascii</th>\n",
       "      <th>lat</th>\n",
       "      <th>lng</th>\n",
       "      <th>country</th>\n",
       "      <th>iso2</th>\n",
       "      <th>iso3</th>\n",
       "      <th>admin_name</th>\n",
       "      <th>capital</th>\n",
       "      <th>population</th>\n",
       "      <th>id</th>\n",
       "    </tr>\n",
       "  </thead>\n",
       "  <tbody>\n",
       "    <tr>\n",
       "      <th>0</th>\n",
       "      <td>Tokyo</td>\n",
       "      <td>Tokyo</td>\n",
       "      <td>35.6839</td>\n",
       "      <td>139.7744</td>\n",
       "      <td>Japan</td>\n",
       "      <td>JP</td>\n",
       "      <td>JPN</td>\n",
       "      <td>Tōkyō</td>\n",
       "      <td>primary</td>\n",
       "      <td>39105000.0</td>\n",
       "      <td>1392685764</td>\n",
       "    </tr>\n",
       "    <tr>\n",
       "      <th>1</th>\n",
       "      <td>Jakarta</td>\n",
       "      <td>Jakarta</td>\n",
       "      <td>-6.2146</td>\n",
       "      <td>106.8451</td>\n",
       "      <td>Indonesia</td>\n",
       "      <td>ID</td>\n",
       "      <td>IDN</td>\n",
       "      <td>Jakarta</td>\n",
       "      <td>primary</td>\n",
       "      <td>35362000.0</td>\n",
       "      <td>1360771077</td>\n",
       "    </tr>\n",
       "    <tr>\n",
       "      <th>2</th>\n",
       "      <td>Delhi</td>\n",
       "      <td>Delhi</td>\n",
       "      <td>28.6667</td>\n",
       "      <td>77.2167</td>\n",
       "      <td>India</td>\n",
       "      <td>IN</td>\n",
       "      <td>IND</td>\n",
       "      <td>Delhi</td>\n",
       "      <td>admin</td>\n",
       "      <td>31870000.0</td>\n",
       "      <td>1356872604</td>\n",
       "    </tr>\n",
       "    <tr>\n",
       "      <th>3</th>\n",
       "      <td>Manila</td>\n",
       "      <td>Manila</td>\n",
       "      <td>14.6000</td>\n",
       "      <td>120.9833</td>\n",
       "      <td>Philippines</td>\n",
       "      <td>PH</td>\n",
       "      <td>PHL</td>\n",
       "      <td>Manila</td>\n",
       "      <td>primary</td>\n",
       "      <td>23971000.0</td>\n",
       "      <td>1608618140</td>\n",
       "    </tr>\n",
       "    <tr>\n",
       "      <th>4</th>\n",
       "      <td>São Paulo</td>\n",
       "      <td>Sao Paulo</td>\n",
       "      <td>-23.5504</td>\n",
       "      <td>-46.6339</td>\n",
       "      <td>Brazil</td>\n",
       "      <td>BR</td>\n",
       "      <td>BRA</td>\n",
       "      <td>São Paulo</td>\n",
       "      <td>admin</td>\n",
       "      <td>22495000.0</td>\n",
       "      <td>1076532519</td>\n",
       "    </tr>\n",
       "  </tbody>\n",
       "</table>\n",
       "</div>"
      ],
      "text/plain": [
       "        city city_ascii      lat       lng      country iso2 iso3 admin_name  \\\n",
       "0      Tokyo      Tokyo  35.6839  139.7744        Japan   JP  JPN      Tōkyō   \n",
       "1    Jakarta    Jakarta  -6.2146  106.8451    Indonesia   ID  IDN    Jakarta   \n",
       "2      Delhi      Delhi  28.6667   77.2167        India   IN  IND      Delhi   \n",
       "3     Manila     Manila  14.6000  120.9833  Philippines   PH  PHL     Manila   \n",
       "4  São Paulo  Sao Paulo -23.5504  -46.6339       Brazil   BR  BRA  São Paulo   \n",
       "\n",
       "   capital  population          id  \n",
       "0  primary  39105000.0  1392685764  \n",
       "1  primary  35362000.0  1360771077  \n",
       "2    admin  31870000.0  1356872604  \n",
       "3  primary  23971000.0  1608618140  \n",
       "4    admin  22495000.0  1076532519  "
      ]
     },
     "execution_count": 3,
     "metadata": {},
     "output_type": "execute_result"
    }
   ],
   "source": [
    "\"\"\"\n",
    "Pero también poseen métodos, es decir, funciones propias para procesar la información.\n",
    "Por ejemplo, el método head() imprime los primeros registros en la pantalla. \n",
    "\"\"\"\n",
    "\n",
    "data.head()"
   ]
  },
  {
   "cell_type": "code",
   "execution_count": 4,
   "metadata": {},
   "outputs": [
    {
     "name": "stdout",
     "output_type": "stream",
     "text": [
      "<class 'pandas.core.frame.DataFrame'>\n",
      "RangeIndex: 42905 entries, 0 to 42904\n",
      "Data columns (total 11 columns):\n",
      " #   Column      Non-Null Count  Dtype  \n",
      "---  ------      --------------  -----  \n",
      " 0   city        42905 non-null  object \n",
      " 1   city_ascii  42905 non-null  object \n",
      " 2   lat         42905 non-null  float64\n",
      " 3   lng         42905 non-null  float64\n",
      " 4   country     42905 non-null  object \n",
      " 5   iso2        42873 non-null  object \n",
      " 6   iso3        42905 non-null  object \n",
      " 7   admin_name  42810 non-null  object \n",
      " 8   capital     9812 non-null   object \n",
      " 9   population  42180 non-null  float64\n",
      " 10  id          42905 non-null  int64  \n",
      "dtypes: float64(3), int64(1), object(7)\n",
      "memory usage: 3.6+ MB\n"
     ]
    }
   ],
   "source": [
    "\"\"\"\n",
    "Otro método muy utilizado es .info() que nos indica la cantidad de registros no nulos y el tipo de cada columna\n",
    "\"\"\"\n",
    "data.info()"
   ]
  },
  {
   "cell_type": "code",
   "execution_count": 5,
   "metadata": {},
   "outputs": [
    {
     "data": {
      "text/html": [
       "<div>\n",
       "<style scoped>\n",
       "    .dataframe tbody tr th:only-of-type {\n",
       "        vertical-align: middle;\n",
       "    }\n",
       "\n",
       "    .dataframe tbody tr th {\n",
       "        vertical-align: top;\n",
       "    }\n",
       "\n",
       "    .dataframe thead th {\n",
       "        text-align: right;\n",
       "    }\n",
       "</style>\n",
       "<table border=\"1\" class=\"dataframe\">\n",
       "  <thead>\n",
       "    <tr style=\"text-align: right;\">\n",
       "      <th></th>\n",
       "      <th>lat</th>\n",
       "      <th>lng</th>\n",
       "      <th>population</th>\n",
       "      <th>id</th>\n",
       "    </tr>\n",
       "  </thead>\n",
       "  <tbody>\n",
       "    <tr>\n",
       "      <th>count</th>\n",
       "      <td>42905.000000</td>\n",
       "      <td>42905.000000</td>\n",
       "      <td>4.218000e+04</td>\n",
       "      <td>4.290500e+04</td>\n",
       "    </tr>\n",
       "    <tr>\n",
       "      <th>mean</th>\n",
       "      <td>30.022893</td>\n",
       "      <td>0.457852</td>\n",
       "      <td>1.070539e+05</td>\n",
       "      <td>1.471166e+09</td>\n",
       "    </tr>\n",
       "    <tr>\n",
       "      <th>std</th>\n",
       "      <td>23.206570</td>\n",
       "      <td>71.040460</td>\n",
       "      <td>7.154036e+05</td>\n",
       "      <td>2.798714e+08</td>\n",
       "    </tr>\n",
       "    <tr>\n",
       "      <th>min</th>\n",
       "      <td>-54.934100</td>\n",
       "      <td>-179.590000</td>\n",
       "      <td>0.000000e+00</td>\n",
       "      <td>1.004003e+09</td>\n",
       "    </tr>\n",
       "    <tr>\n",
       "      <th>25%</th>\n",
       "      <td>17.769400</td>\n",
       "      <td>-70.568500</td>\n",
       "      <td>8.212000e+03</td>\n",
       "      <td>1.250211e+09</td>\n",
       "    </tr>\n",
       "    <tr>\n",
       "      <th>50%</th>\n",
       "      <td>38.704900</td>\n",
       "      <td>6.084200</td>\n",
       "      <td>1.577850e+04</td>\n",
       "      <td>1.398354e+09</td>\n",
       "    </tr>\n",
       "    <tr>\n",
       "      <th>75%</th>\n",
       "      <td>46.170600</td>\n",
       "      <td>34.932800</td>\n",
       "      <td>3.961325e+04</td>\n",
       "      <td>1.764392e+09</td>\n",
       "    </tr>\n",
       "    <tr>\n",
       "      <th>max</th>\n",
       "      <td>81.716600</td>\n",
       "      <td>179.366700</td>\n",
       "      <td>3.910500e+07</td>\n",
       "      <td>1.934000e+09</td>\n",
       "    </tr>\n",
       "  </tbody>\n",
       "</table>\n",
       "</div>"
      ],
      "text/plain": [
       "                lat           lng    population            id\n",
       "count  42905.000000  42905.000000  4.218000e+04  4.290500e+04\n",
       "mean      30.022893      0.457852  1.070539e+05  1.471166e+09\n",
       "std       23.206570     71.040460  7.154036e+05  2.798714e+08\n",
       "min      -54.934100   -179.590000  0.000000e+00  1.004003e+09\n",
       "25%       17.769400    -70.568500  8.212000e+03  1.250211e+09\n",
       "50%       38.704900      6.084200  1.577850e+04  1.398354e+09\n",
       "75%       46.170600     34.932800  3.961325e+04  1.764392e+09\n",
       "max       81.716600    179.366700  3.910500e+07  1.934000e+09"
      ]
     },
     "execution_count": 5,
     "metadata": {},
     "output_type": "execute_result"
    }
   ],
   "source": [
    "\"\"\"\n",
    "Finalmente, podemos acceder a una descripción estadística. \n",
    "\"\"\"\n",
    "data.describe()"
   ]
  },
  {
   "cell_type": "code",
   "execution_count": 6,
   "metadata": {},
   "outputs": [
    {
     "data": {
      "text/html": [
       "<div>\n",
       "<style scoped>\n",
       "    .dataframe tbody tr th:only-of-type {\n",
       "        vertical-align: middle;\n",
       "    }\n",
       "\n",
       "    .dataframe tbody tr th {\n",
       "        vertical-align: top;\n",
       "    }\n",
       "\n",
       "    .dataframe thead th {\n",
       "        text-align: right;\n",
       "    }\n",
       "</style>\n",
       "<table border=\"1\" class=\"dataframe\">\n",
       "  <thead>\n",
       "    <tr style=\"text-align: right;\">\n",
       "      <th></th>\n",
       "      <th>id</th>\n",
       "      <th>city_ascii</th>\n",
       "      <th>country</th>\n",
       "      <th>lat</th>\n",
       "      <th>lng</th>\n",
       "      <th>population</th>\n",
       "    </tr>\n",
       "  </thead>\n",
       "  <tbody>\n",
       "    <tr>\n",
       "      <th>0</th>\n",
       "      <td>1392685764</td>\n",
       "      <td>Tokyo</td>\n",
       "      <td>Japan</td>\n",
       "      <td>35.6839</td>\n",
       "      <td>139.7744</td>\n",
       "      <td>39105000.0</td>\n",
       "    </tr>\n",
       "    <tr>\n",
       "      <th>1</th>\n",
       "      <td>1360771077</td>\n",
       "      <td>Jakarta</td>\n",
       "      <td>Indonesia</td>\n",
       "      <td>-6.2146</td>\n",
       "      <td>106.8451</td>\n",
       "      <td>35362000.0</td>\n",
       "    </tr>\n",
       "    <tr>\n",
       "      <th>2</th>\n",
       "      <td>1356872604</td>\n",
       "      <td>Delhi</td>\n",
       "      <td>India</td>\n",
       "      <td>28.6667</td>\n",
       "      <td>77.2167</td>\n",
       "      <td>31870000.0</td>\n",
       "    </tr>\n",
       "    <tr>\n",
       "      <th>3</th>\n",
       "      <td>1608618140</td>\n",
       "      <td>Manila</td>\n",
       "      <td>Philippines</td>\n",
       "      <td>14.6000</td>\n",
       "      <td>120.9833</td>\n",
       "      <td>23971000.0</td>\n",
       "    </tr>\n",
       "    <tr>\n",
       "      <th>4</th>\n",
       "      <td>1076532519</td>\n",
       "      <td>Sao Paulo</td>\n",
       "      <td>Brazil</td>\n",
       "      <td>-23.5504</td>\n",
       "      <td>-46.6339</td>\n",
       "      <td>22495000.0</td>\n",
       "    </tr>\n",
       "  </tbody>\n",
       "</table>\n",
       "</div>"
      ],
      "text/plain": [
       "           id city_ascii      country      lat       lng  population\n",
       "0  1392685764      Tokyo        Japan  35.6839  139.7744  39105000.0\n",
       "1  1360771077    Jakarta    Indonesia  -6.2146  106.8451  35362000.0\n",
       "2  1356872604      Delhi        India  28.6667   77.2167  31870000.0\n",
       "3  1608618140     Manila  Philippines  14.6000  120.9833  23971000.0\n",
       "4  1076532519  Sao Paulo       Brazil -23.5504  -46.6339  22495000.0"
      ]
     },
     "execution_count": 6,
     "metadata": {},
     "output_type": "execute_result"
    }
   ],
   "source": [
    "\"\"\"\n",
    "Podemos subseleccionar una o más columna de nuestro interés\n",
    "\"\"\"\n",
    "columnas_de_interes = [\"id\", \"city_ascii\", \"country\", \"lat\", \"lng\", \"population\"]\n",
    "data = data[columnas_de_interes]\n",
    "data.head()"
   ]
  },
  {
   "cell_type": "code",
   "execution_count": 7,
   "metadata": {},
   "outputs": [
    {
     "name": "stdout",
     "output_type": "stream",
     "text": [
      "<class 'pandas.core.frame.DataFrame'>\n",
      "RangeIndex: 42905 entries, 0 to 42904\n",
      "Data columns (total 6 columns):\n",
      " #   Column      Non-Null Count  Dtype  \n",
      "---  ------      --------------  -----  \n",
      " 0   id          42905 non-null  int64  \n",
      " 1   city_ascii  42905 non-null  object \n",
      " 2   country     42905 non-null  object \n",
      " 3   lat         42905 non-null  float64\n",
      " 4   lng         42905 non-null  float64\n",
      " 5   population  42180 non-null  float64\n",
      "dtypes: float64(3), int64(1), object(2)\n",
      "memory usage: 2.0+ MB\n"
     ]
    }
   ],
   "source": [
    "\"\"\"\n",
    "El resultado será nuevamente un marco de datos.\n",
    "\"\"\"\n",
    "data.info()"
   ]
  },
  {
   "cell_type": "code",
   "execution_count": 8,
   "metadata": {},
   "outputs": [
    {
     "data": {
      "text/plain": [
       "id            1392685764\n",
       "city_ascii         Tokyo\n",
       "country            Japan\n",
       "lat              35.6839\n",
       "lng             139.7744\n",
       "population    39105000.0\n",
       "Name: 0, dtype: object"
      ]
     },
     "execution_count": 8,
     "metadata": {},
     "output_type": "execute_result"
    }
   ],
   "source": [
    "\"\"\"\n",
    "Cada registro tiene asociado un índice para acceder a el. La primera manera de acceder a este registro es utilizando el atributo .iloc\n",
    "\"\"\"\n",
    "\n",
    "data.iloc[0]"
   ]
  },
  {
   "cell_type": "code",
   "execution_count": 9,
   "metadata": {},
   "outputs": [
    {
     "data": {
      "text/html": [
       "<div>\n",
       "<style scoped>\n",
       "    .dataframe tbody tr th:only-of-type {\n",
       "        vertical-align: middle;\n",
       "    }\n",
       "\n",
       "    .dataframe tbody tr th {\n",
       "        vertical-align: top;\n",
       "    }\n",
       "\n",
       "    .dataframe thead th {\n",
       "        text-align: right;\n",
       "    }\n",
       "</style>\n",
       "<table border=\"1\" class=\"dataframe\">\n",
       "  <thead>\n",
       "    <tr style=\"text-align: right;\">\n",
       "      <th></th>\n",
       "      <th>city_ascii</th>\n",
       "      <th>country</th>\n",
       "      <th>lat</th>\n",
       "      <th>lng</th>\n",
       "      <th>population</th>\n",
       "    </tr>\n",
       "    <tr>\n",
       "      <th>id</th>\n",
       "      <th></th>\n",
       "      <th></th>\n",
       "      <th></th>\n",
       "      <th></th>\n",
       "      <th></th>\n",
       "    </tr>\n",
       "  </thead>\n",
       "  <tbody>\n",
       "    <tr>\n",
       "      <th>1392685764</th>\n",
       "      <td>Tokyo</td>\n",
       "      <td>Japan</td>\n",
       "      <td>35.6839</td>\n",
       "      <td>139.7744</td>\n",
       "      <td>39105000.0</td>\n",
       "    </tr>\n",
       "    <tr>\n",
       "      <th>1360771077</th>\n",
       "      <td>Jakarta</td>\n",
       "      <td>Indonesia</td>\n",
       "      <td>-6.2146</td>\n",
       "      <td>106.8451</td>\n",
       "      <td>35362000.0</td>\n",
       "    </tr>\n",
       "    <tr>\n",
       "      <th>1356872604</th>\n",
       "      <td>Delhi</td>\n",
       "      <td>India</td>\n",
       "      <td>28.6667</td>\n",
       "      <td>77.2167</td>\n",
       "      <td>31870000.0</td>\n",
       "    </tr>\n",
       "    <tr>\n",
       "      <th>1608618140</th>\n",
       "      <td>Manila</td>\n",
       "      <td>Philippines</td>\n",
       "      <td>14.6000</td>\n",
       "      <td>120.9833</td>\n",
       "      <td>23971000.0</td>\n",
       "    </tr>\n",
       "    <tr>\n",
       "      <th>1076532519</th>\n",
       "      <td>Sao Paulo</td>\n",
       "      <td>Brazil</td>\n",
       "      <td>-23.5504</td>\n",
       "      <td>-46.6339</td>\n",
       "      <td>22495000.0</td>\n",
       "    </tr>\n",
       "  </tbody>\n",
       "</table>\n",
       "</div>"
      ],
      "text/plain": [
       "           city_ascii      country      lat       lng  population\n",
       "id                                                               \n",
       "1392685764      Tokyo        Japan  35.6839  139.7744  39105000.0\n",
       "1360771077    Jakarta    Indonesia  -6.2146  106.8451  35362000.0\n",
       "1356872604      Delhi        India  28.6667   77.2167  31870000.0\n",
       "1608618140     Manila  Philippines  14.6000  120.9833  23971000.0\n",
       "1076532519  Sao Paulo       Brazil -23.5504  -46.6339  22495000.0"
      ]
     },
     "execution_count": 9,
     "metadata": {},
     "output_type": "execute_result"
    }
   ],
   "source": [
    "\"\"\"\n",
    "Sin embargo, en ocasiones nos es conveniente utilizar una columna como índice. \n",
    "\"\"\"\n",
    "\n",
    "data = data.set_index(\"id\")\n",
    "data.head()"
   ]
  },
  {
   "cell_type": "code",
   "execution_count": 10,
   "metadata": {},
   "outputs": [
    {
     "data": {
      "text/plain": [
       "city_ascii         Tokyo\n",
       "country            Japan\n",
       "lat              35.6839\n",
       "lng             139.7744\n",
       "population    39105000.0\n",
       "Name: 1392685764, dtype: object"
      ]
     },
     "execution_count": 10,
     "metadata": {},
     "output_type": "execute_result"
    }
   ],
   "source": [
    "\"\"\"\n",
    "Ahora podemos usar un segundo atributo, .loc, para acceder a un registro.\n",
    "\"\"\"\n",
    "data.loc[1392685764]"
   ]
  },
  {
   "cell_type": "code",
   "execution_count": 11,
   "metadata": {},
   "outputs": [
    {
     "data": {
      "text/plain": [
       "city_ascii         Tokyo\n",
       "country            Japan\n",
       "lat              35.6839\n",
       "lng             139.7744\n",
       "population    39105000.0\n",
       "Name: 1392685764, dtype: object"
      ]
     },
     "execution_count": 11,
     "metadata": {},
     "output_type": "execute_result"
    }
   ],
   "source": [
    "\"\"\"\n",
    "De cualquier manera, podemos seguir utilizando el atributo .iloc.\n",
    "\"\"\"\n",
    "data.iloc[0]"
   ]
  },
  {
   "cell_type": "code",
   "execution_count": 12,
   "metadata": {},
   "outputs": [
    {
     "data": {
      "text/plain": [
       "Index(['city_ascii', 'country', 'lat', 'lng', 'population'], dtype='object')"
      ]
     },
     "execution_count": 12,
     "metadata": {},
     "output_type": "execute_result"
    }
   ],
   "source": [
    "\"\"\"\n",
    "Nos gustaría cambiar los nombres de algunas columnas, por ejemplo, \n",
    "de city_ascii solo a city y lng a lon\n",
    "\"\"\"\n",
    "data.columns\n"
   ]
  },
  {
   "cell_type": "code",
   "execution_count": 13,
   "metadata": {},
   "outputs": [
    {
     "name": "stdout",
     "output_type": "stream",
     "text": [
      "Index does not support mutable operations\n"
     ]
    }
   ],
   "source": [
    "\"\"\"\n",
    "Intentemos primero cambiando directamente el nombre en la posición dada.\n",
    "\"\"\"\n",
    "try:\n",
    "    data.columns[0] = \"city\"\n",
    "    data.columns\n",
    "except TypeError as e:\n",
    "    print(e)"
   ]
  },
  {
   "cell_type": "code",
   "execution_count": 14,
   "metadata": {},
   "outputs": [
    {
     "data": {
      "text/html": [
       "<div>\n",
       "<style scoped>\n",
       "    .dataframe tbody tr th:only-of-type {\n",
       "        vertical-align: middle;\n",
       "    }\n",
       "\n",
       "    .dataframe tbody tr th {\n",
       "        vertical-align: top;\n",
       "    }\n",
       "\n",
       "    .dataframe thead th {\n",
       "        text-align: right;\n",
       "    }\n",
       "</style>\n",
       "<table border=\"1\" class=\"dataframe\">\n",
       "  <thead>\n",
       "    <tr style=\"text-align: right;\">\n",
       "      <th></th>\n",
       "      <th>city</th>\n",
       "      <th>country</th>\n",
       "      <th>lat</th>\n",
       "      <th>lon</th>\n",
       "      <th>population</th>\n",
       "    </tr>\n",
       "    <tr>\n",
       "      <th>id</th>\n",
       "      <th></th>\n",
       "      <th></th>\n",
       "      <th></th>\n",
       "      <th></th>\n",
       "      <th></th>\n",
       "    </tr>\n",
       "  </thead>\n",
       "  <tbody>\n",
       "    <tr>\n",
       "      <th>1392685764</th>\n",
       "      <td>Tokyo</td>\n",
       "      <td>Japan</td>\n",
       "      <td>35.6839</td>\n",
       "      <td>139.7744</td>\n",
       "      <td>39105000.0</td>\n",
       "    </tr>\n",
       "    <tr>\n",
       "      <th>1360771077</th>\n",
       "      <td>Jakarta</td>\n",
       "      <td>Indonesia</td>\n",
       "      <td>-6.2146</td>\n",
       "      <td>106.8451</td>\n",
       "      <td>35362000.0</td>\n",
       "    </tr>\n",
       "    <tr>\n",
       "      <th>1356872604</th>\n",
       "      <td>Delhi</td>\n",
       "      <td>India</td>\n",
       "      <td>28.6667</td>\n",
       "      <td>77.2167</td>\n",
       "      <td>31870000.0</td>\n",
       "    </tr>\n",
       "    <tr>\n",
       "      <th>1608618140</th>\n",
       "      <td>Manila</td>\n",
       "      <td>Philippines</td>\n",
       "      <td>14.6000</td>\n",
       "      <td>120.9833</td>\n",
       "      <td>23971000.0</td>\n",
       "    </tr>\n",
       "    <tr>\n",
       "      <th>1076532519</th>\n",
       "      <td>Sao Paulo</td>\n",
       "      <td>Brazil</td>\n",
       "      <td>-23.5504</td>\n",
       "      <td>-46.6339</td>\n",
       "      <td>22495000.0</td>\n",
       "    </tr>\n",
       "  </tbody>\n",
       "</table>\n",
       "</div>"
      ],
      "text/plain": [
       "                 city      country      lat       lon  population\n",
       "id                                                               \n",
       "1392685764      Tokyo        Japan  35.6839  139.7744  39105000.0\n",
       "1360771077    Jakarta    Indonesia  -6.2146  106.8451  35362000.0\n",
       "1356872604      Delhi        India  28.6667   77.2167  31870000.0\n",
       "1608618140     Manila  Philippines  14.6000  120.9833  23971000.0\n",
       "1076532519  Sao Paulo       Brazil -23.5504  -46.6339  22495000.0"
      ]
     },
     "execution_count": 14,
     "metadata": {},
     "output_type": "execute_result"
    }
   ],
   "source": [
    "\"\"\"\n",
    "Al se un objeto inmutable, no podemos realizar cambios en la información que contienen. \n",
    "En cambio, podemos sustituir todo el objeto Index por uno nuevo con la información requerida. \n",
    "Pero esto puede ser muy laborioso e implica el riesgo de modificar indebidamente algún nombre. \n",
    "Afortunadamente, pandas los dataframes proveen un método más seguro. \n",
    "\"\"\"\n",
    "data = data.rename(columns = {\"city_ascii\": \"city\", \"lng\":\"lon\"})\n",
    "data.head()"
   ]
  },
  {
   "cell_type": "code",
   "execution_count": 15,
   "metadata": {},
   "outputs": [
    {
     "data": {
      "text/plain": [
       "id\n",
       "1392685764        Tokyo\n",
       "1360771077      Jakarta\n",
       "1356872604        Delhi\n",
       "1608618140       Manila\n",
       "1076532519    Sao Paulo\n",
       "Name: city, dtype: object"
      ]
     },
     "execution_count": 15,
     "metadata": {},
     "output_type": "execute_result"
    }
   ],
   "source": [
    "\"\"\"\n",
    "Si bien, id resulta conveniente, es difícil recordar que id corresponde a cada ciudad. \n",
    "Entonces, podemos usar la información más natural, a saber, el nombre de la ciudad. \n",
    "\"\"\"\n",
    "\n",
    "data[\"city\"].head()"
   ]
  },
  {
   "cell_type": "code",
   "execution_count": 16,
   "metadata": {},
   "outputs": [
    {
     "data": {
      "text/plain": [
       "id\n",
       "1392685764    False\n",
       "1360771077    False\n",
       "1356872604    False\n",
       "1608618140    False\n",
       "1076532519    False\n",
       "              ...  \n",
       "1643472801    False\n",
       "1643985006    False\n",
       "1304217709    False\n",
       "1304206491    False\n",
       "1643587468    False\n",
       "Length: 42905, dtype: bool"
      ]
     },
     "execution_count": 16,
     "metadata": {},
     "output_type": "execute_result"
    }
   ],
   "source": [
    "\"\"\"\n",
    "Pero, ¿acaso no habrá algún nombre repetido para dos o más ciudades en países diferentes?\n",
    "Declaremos una \"máscara\" que nos indique que registros tienen un nombre de ciudad repetida.\n",
    "Para esto utilizaremos el método .duplicated()\n",
    "\"\"\"\n",
    "ciudades_duplicadas = data.duplicated(subset=\"city\")\n",
    "ciudades_duplicadas"
   ]
  },
  {
   "cell_type": "code",
   "execution_count": 17,
   "metadata": {},
   "outputs": [
    {
     "data": {
      "text/plain": [
       "pandas.core.series.Series"
      ]
     },
     "execution_count": 17,
     "metadata": {},
     "output_type": "execute_result"
    }
   ],
   "source": [
    "\"\"\"\n",
    "Observa que este es un objeto de una clase diferente. Ya tendremos oportunidad de platicar sobre los mismos.\n",
    "\"\"\"\n",
    "type(ciudades_duplicadas)"
   ]
  },
  {
   "cell_type": "code",
   "execution_count": 18,
   "metadata": {},
   "outputs": [
    {
     "data": {
      "text/plain": [
       "3718"
      ]
     },
     "execution_count": 18,
     "metadata": {},
     "output_type": "execute_result"
    }
   ],
   "source": [
    "\"\"\"\n",
    "El método anterior nos indica los registros para los cuales el nombre de una ciudad aparece repetido.\n",
    "Si sumamos todos los valores True, sabremos cuantas son.\n",
    "\"\"\"\n",
    "ciudades_duplicadas.sum()"
   ]
  },
  {
   "cell_type": "code",
   "execution_count": 19,
   "metadata": {},
   "outputs": [
    {
     "data": {
      "text/html": [
       "<div>\n",
       "<style scoped>\n",
       "    .dataframe tbody tr th:only-of-type {\n",
       "        vertical-align: middle;\n",
       "    }\n",
       "\n",
       "    .dataframe tbody tr th {\n",
       "        vertical-align: top;\n",
       "    }\n",
       "\n",
       "    .dataframe thead th {\n",
       "        text-align: right;\n",
       "    }\n",
       "</style>\n",
       "<table border=\"1\" class=\"dataframe\">\n",
       "  <thead>\n",
       "    <tr style=\"text-align: right;\">\n",
       "      <th></th>\n",
       "      <th>city</th>\n",
       "      <th>country</th>\n",
       "      <th>lat</th>\n",
       "      <th>lon</th>\n",
       "      <th>population</th>\n",
       "    </tr>\n",
       "    <tr>\n",
       "      <th>id</th>\n",
       "      <th></th>\n",
       "      <th></th>\n",
       "      <th></th>\n",
       "      <th></th>\n",
       "      <th></th>\n",
       "    </tr>\n",
       "  </thead>\n",
       "  <tbody>\n",
       "    <tr>\n",
       "      <th>1156029196</th>\n",
       "      <td>Suzhou</td>\n",
       "      <td>China</td>\n",
       "      <td>31.3040</td>\n",
       "      <td>120.6164</td>\n",
       "      <td>5103000.0</td>\n",
       "    </tr>\n",
       "    <tr>\n",
       "      <th>1156915325</th>\n",
       "      <td>Fuzhou</td>\n",
       "      <td>China</td>\n",
       "      <td>27.9814</td>\n",
       "      <td>116.3577</td>\n",
       "      <td>4047200.0</td>\n",
       "    </tr>\n",
       "    <tr>\n",
       "      <th>1156435764</th>\n",
       "      <td>Baicheng</td>\n",
       "      <td>China</td>\n",
       "      <td>45.6148</td>\n",
       "      <td>122.8320</td>\n",
       "      <td>2032356.0</td>\n",
       "    </tr>\n",
       "    <tr>\n",
       "      <th>1214985348</th>\n",
       "      <td>Santiago</td>\n",
       "      <td>Dominican Republic</td>\n",
       "      <td>19.4500</td>\n",
       "      <td>-70.7000</td>\n",
       "      <td>1343423.0</td>\n",
       "    </tr>\n",
       "    <tr>\n",
       "      <th>1156282637</th>\n",
       "      <td>Huazhou</td>\n",
       "      <td>China</td>\n",
       "      <td>21.6540</td>\n",
       "      <td>110.6294</td>\n",
       "      <td>1302100.0</td>\n",
       "    </tr>\n",
       "  </tbody>\n",
       "</table>\n",
       "</div>"
      ],
      "text/plain": [
       "                city             country      lat       lon  population\n",
       "id                                                                     \n",
       "1156029196    Suzhou               China  31.3040  120.6164   5103000.0\n",
       "1156915325    Fuzhou               China  27.9814  116.3577   4047200.0\n",
       "1156435764  Baicheng               China  45.6148  122.8320   2032356.0\n",
       "1214985348  Santiago  Dominican Republic  19.4500  -70.7000   1343423.0\n",
       "1156282637   Huazhou               China  21.6540  110.6294   1302100.0"
      ]
     },
     "execution_count": 19,
     "metadata": {},
     "output_type": "execute_result"
    }
   ],
   "source": [
    "\"\"\"\n",
    "Ahora bien, quisiéramos saber cuáles son estas ciudades. Ocuparemos la máscara anterior para\n",
    "realizar la subselección.\n",
    "\"\"\"\n",
    "\n",
    "data[ciudades_duplicadas].head()"
   ]
  },
  {
   "cell_type": "code",
   "execution_count": 20,
   "metadata": {},
   "outputs": [
    {
     "data": {
      "text/plain": [
       "id\n",
       "1392685764    False\n",
       "1360771077    False\n",
       "1356872604    False\n",
       "1608618140    False\n",
       "1076532519    False\n",
       "              ...  \n",
       "1643472801    False\n",
       "1643985006    False\n",
       "1304217709    False\n",
       "1304206491    False\n",
       "1643587468    False\n",
       "Name: city, Length: 42905, dtype: bool"
      ]
     },
     "execution_count": 20,
     "metadata": {},
     "output_type": "execute_result"
    }
   ],
   "source": [
    "\"\"\"\n",
    "Ahora podemos ver algunas ciudades con nombres repetidos.\n",
    "Por ejemplo, busquemos todas las ciudades que reciban el nombre de Santiago.\n",
    "Primero creamos una máscara. \n",
    "\"\"\"\n",
    "santiago = data[\"city\"] == \"Santiago\"\n",
    "santiago"
   ]
  },
  {
   "cell_type": "code",
   "execution_count": 21,
   "metadata": {},
   "outputs": [
    {
     "data": {
      "text/plain": [
       "11"
      ]
     },
     "execution_count": 21,
     "metadata": {},
     "output_type": "execute_result"
    }
   ],
   "source": [
    "\"\"\"\n",
    "Contemos ahora cuantas ciudades tienen el nombre de Santiago. \n",
    "\"\"\"\n",
    "santiago.sum()"
   ]
  },
  {
   "cell_type": "code",
   "execution_count": 22,
   "metadata": {},
   "outputs": [
    {
     "data": {
      "text/html": [
       "<div>\n",
       "<style scoped>\n",
       "    .dataframe tbody tr th:only-of-type {\n",
       "        vertical-align: middle;\n",
       "    }\n",
       "\n",
       "    .dataframe tbody tr th {\n",
       "        vertical-align: top;\n",
       "    }\n",
       "\n",
       "    .dataframe thead th {\n",
       "        text-align: right;\n",
       "    }\n",
       "</style>\n",
       "<table border=\"1\" class=\"dataframe\">\n",
       "  <thead>\n",
       "    <tr style=\"text-align: right;\">\n",
       "      <th></th>\n",
       "      <th>city</th>\n",
       "      <th>country</th>\n",
       "      <th>lat</th>\n",
       "      <th>lon</th>\n",
       "      <th>population</th>\n",
       "    </tr>\n",
       "    <tr>\n",
       "      <th>id</th>\n",
       "      <th></th>\n",
       "      <th></th>\n",
       "      <th></th>\n",
       "      <th></th>\n",
       "      <th></th>\n",
       "    </tr>\n",
       "  </thead>\n",
       "  <tbody>\n",
       "    <tr>\n",
       "      <th>1152554349</th>\n",
       "      <td>Santiago</td>\n",
       "      <td>Chile</td>\n",
       "      <td>-33.4500</td>\n",
       "      <td>-70.6667</td>\n",
       "      <td>7026000.0</td>\n",
       "    </tr>\n",
       "    <tr>\n",
       "      <th>1214985348</th>\n",
       "      <td>Santiago</td>\n",
       "      <td>Dominican Republic</td>\n",
       "      <td>19.4500</td>\n",
       "      <td>-70.7000</td>\n",
       "      <td>1343423.0</td>\n",
       "    </tr>\n",
       "    <tr>\n",
       "      <th>1608477470</th>\n",
       "      <td>Santiago</td>\n",
       "      <td>Philippines</td>\n",
       "      <td>16.6833</td>\n",
       "      <td>121.5500</td>\n",
       "      <td>148580.0</td>\n",
       "    </tr>\n",
       "    <tr>\n",
       "      <th>1591231138</th>\n",
       "      <td>Santiago</td>\n",
       "      <td>Panama</td>\n",
       "      <td>8.1004</td>\n",
       "      <td>-80.9833</td>\n",
       "      <td>45955.0</td>\n",
       "    </tr>\n",
       "    <tr>\n",
       "      <th>1076821990</th>\n",
       "      <td>Santiago</td>\n",
       "      <td>Brazil</td>\n",
       "      <td>-29.1919</td>\n",
       "      <td>-54.8669</td>\n",
       "      <td>50635.0</td>\n",
       "    </tr>\n",
       "    <tr>\n",
       "      <th>1484043921</th>\n",
       "      <td>Santiago</td>\n",
       "      <td>Mexico</td>\n",
       "      <td>25.4333</td>\n",
       "      <td>-100.1333</td>\n",
       "      <td>37886.0</td>\n",
       "    </tr>\n",
       "    <tr>\n",
       "      <th>1608671914</th>\n",
       "      <td>Santiago</td>\n",
       "      <td>Philippines</td>\n",
       "      <td>9.2654</td>\n",
       "      <td>125.5602</td>\n",
       "      <td>28657.0</td>\n",
       "    </tr>\n",
       "    <tr>\n",
       "      <th>1608306642</th>\n",
       "      <td>Santiago</td>\n",
       "      <td>Philippines</td>\n",
       "      <td>17.3000</td>\n",
       "      <td>120.4500</td>\n",
       "      <td>19471.0</td>\n",
       "    </tr>\n",
       "    <tr>\n",
       "      <th>1188768291</th>\n",
       "      <td>Santiago</td>\n",
       "      <td>Costa Rica</td>\n",
       "      <td>9.8291</td>\n",
       "      <td>-84.3044</td>\n",
       "      <td>12600.0</td>\n",
       "    </tr>\n",
       "    <tr>\n",
       "      <th>1604889626</th>\n",
       "      <td>Santiago</td>\n",
       "      <td>Peru</td>\n",
       "      <td>-14.1892</td>\n",
       "      <td>-75.7126</td>\n",
       "      <td>10449.0</td>\n",
       "    </tr>\n",
       "    <tr>\n",
       "      <th>1484197612</th>\n",
       "      <td>Santiago</td>\n",
       "      <td>Mexico</td>\n",
       "      <td>18.4500</td>\n",
       "      <td>-95.8333</td>\n",
       "      <td>5790.0</td>\n",
       "    </tr>\n",
       "  </tbody>\n",
       "</table>\n",
       "</div>"
      ],
      "text/plain": [
       "                city             country      lat       lon  population\n",
       "id                                                                     \n",
       "1152554349  Santiago               Chile -33.4500  -70.6667   7026000.0\n",
       "1214985348  Santiago  Dominican Republic  19.4500  -70.7000   1343423.0\n",
       "1608477470  Santiago         Philippines  16.6833  121.5500    148580.0\n",
       "1591231138  Santiago              Panama   8.1004  -80.9833     45955.0\n",
       "1076821990  Santiago              Brazil -29.1919  -54.8669     50635.0\n",
       "1484043921  Santiago              Mexico  25.4333 -100.1333     37886.0\n",
       "1608671914  Santiago         Philippines   9.2654  125.5602     28657.0\n",
       "1608306642  Santiago         Philippines  17.3000  120.4500     19471.0\n",
       "1188768291  Santiago          Costa Rica   9.8291  -84.3044     12600.0\n",
       "1604889626  Santiago                Peru -14.1892  -75.7126     10449.0\n",
       "1484197612  Santiago              Mexico  18.4500  -95.8333      5790.0"
      ]
     },
     "execution_count": 22,
     "metadata": {},
     "output_type": "execute_result"
    }
   ],
   "source": [
    "\"\"\"\n",
    "Revisemos la información con las ciudades con el nombre de Santiago\n",
    "\"\"\"\n",
    "data[santiago]"
   ]
  },
  {
   "cell_type": "code",
   "execution_count": 23,
   "metadata": {},
   "outputs": [
    {
     "data": {
      "text/plain": [
       "city          11\n",
       "country       11\n",
       "lat           11\n",
       "lon           11\n",
       "population    11\n",
       "dtype: int64"
      ]
     },
     "execution_count": 23,
     "metadata": {},
     "output_type": "execute_result"
    }
   ],
   "source": [
    "\"\"\"\n",
    "Contemos ahora, cuantas ciudades hemos obtenido.\n",
    "\"\"\"\n",
    "data[ data[\"city\"]==\"Santiago\" ].count()"
   ]
  },
  {
   "cell_type": "code",
   "execution_count": 24,
   "metadata": {},
   "outputs": [
    {
     "data": {
      "text/plain": [
       "2522"
      ]
     },
     "execution_count": 24,
     "metadata": {},
     "output_type": "execute_result"
    }
   ],
   "source": [
    "\"\"\"\n",
    "Como hemos visto, utilizar el nombre de una ciudad como id no es buena idea.\n",
    "Intentemos ahora con la combinación de ciudad+país. Creamos una máscara \n",
    "para saber que registros tienen esta combinación duplicada. \n",
    "\"\"\"\n",
    "cd_pais_duplicados = data.duplicated(subset = [\"city\", \"country\"])\n",
    "cd_pais_duplicados.sum()"
   ]
  },
  {
   "cell_type": "code",
   "execution_count": 25,
   "metadata": {},
   "outputs": [
    {
     "data": {
      "text/html": [
       "<div>\n",
       "<style scoped>\n",
       "    .dataframe tbody tr th:only-of-type {\n",
       "        vertical-align: middle;\n",
       "    }\n",
       "\n",
       "    .dataframe tbody tr th {\n",
       "        vertical-align: top;\n",
       "    }\n",
       "\n",
       "    .dataframe thead th {\n",
       "        text-align: right;\n",
       "    }\n",
       "</style>\n",
       "<table border=\"1\" class=\"dataframe\">\n",
       "  <thead>\n",
       "    <tr style=\"text-align: right;\">\n",
       "      <th></th>\n",
       "      <th>city</th>\n",
       "      <th>country</th>\n",
       "      <th>lat</th>\n",
       "      <th>lon</th>\n",
       "      <th>population</th>\n",
       "    </tr>\n",
       "    <tr>\n",
       "      <th>id</th>\n",
       "      <th></th>\n",
       "      <th></th>\n",
       "      <th></th>\n",
       "      <th></th>\n",
       "      <th></th>\n",
       "    </tr>\n",
       "  </thead>\n",
       "  <tbody>\n",
       "    <tr>\n",
       "      <th>1484491384</th>\n",
       "      <td>Abasolo</td>\n",
       "      <td>Mexico</td>\n",
       "      <td>24.0559</td>\n",
       "      <td>-98.3733</td>\n",
       "      <td>11862.0</td>\n",
       "    </tr>\n",
       "    <tr>\n",
       "      <th>1840013618</th>\n",
       "      <td>Abbeville</td>\n",
       "      <td>United States</td>\n",
       "      <td>34.1787</td>\n",
       "      <td>-82.3774</td>\n",
       "      <td>5019.0</td>\n",
       "    </tr>\n",
       "    <tr>\n",
       "      <th>1840081652</th>\n",
       "      <td>Aberdeen</td>\n",
       "      <td>United States</td>\n",
       "      <td>40.4165</td>\n",
       "      <td>-74.2249</td>\n",
       "      <td>18540.0</td>\n",
       "    </tr>\n",
       "    <tr>\n",
       "      <th>1840013685</th>\n",
       "      <td>Aberdeen</td>\n",
       "      <td>United States</td>\n",
       "      <td>33.8287</td>\n",
       "      <td>-88.5539</td>\n",
       "      <td>5205.0</td>\n",
       "    </tr>\n",
       "    <tr>\n",
       "      <th>1840015433</th>\n",
       "      <td>Aberdeen</td>\n",
       "      <td>United States</td>\n",
       "      <td>35.1350</td>\n",
       "      <td>-79.4326</td>\n",
       "      <td>7988.0</td>\n",
       "    </tr>\n",
       "    <tr>\n",
       "      <th>...</th>\n",
       "      <td>...</td>\n",
       "      <td>...</td>\n",
       "      <td>...</td>\n",
       "      <td>...</td>\n",
       "      <td>...</td>\n",
       "    </tr>\n",
       "    <tr>\n",
       "      <th>1156060807</th>\n",
       "      <td>Zhangjiazhuang</td>\n",
       "      <td>China</td>\n",
       "      <td>39.7804</td>\n",
       "      <td>118.2004</td>\n",
       "      <td>20227.0</td>\n",
       "    </tr>\n",
       "    <tr>\n",
       "      <th>1156359646</th>\n",
       "      <td>Zhangping</td>\n",
       "      <td>China</td>\n",
       "      <td>37.6339</td>\n",
       "      <td>112.8775</td>\n",
       "      <td>9477.0</td>\n",
       "    </tr>\n",
       "    <tr>\n",
       "      <th>1643824002</th>\n",
       "      <td>Zheleznogorsk</td>\n",
       "      <td>Russia</td>\n",
       "      <td>56.2500</td>\n",
       "      <td>93.5333</td>\n",
       "      <td>83857.0</td>\n",
       "    </tr>\n",
       "    <tr>\n",
       "      <th>1156128936</th>\n",
       "      <td>Zhijiang</td>\n",
       "      <td>China</td>\n",
       "      <td>27.4367</td>\n",
       "      <td>109.6780</td>\n",
       "      <td>113907.0</td>\n",
       "    </tr>\n",
       "    <tr>\n",
       "      <th>1156256431</th>\n",
       "      <td>Zhongshan</td>\n",
       "      <td>China</td>\n",
       "      <td>34.9430</td>\n",
       "      <td>105.8771</td>\n",
       "      <td>27147.0</td>\n",
       "    </tr>\n",
       "  </tbody>\n",
       "</table>\n",
       "<p>2522 rows × 5 columns</p>\n",
       "</div>"
      ],
      "text/plain": [
       "                      city        country      lat       lon  population\n",
       "id                                                                      \n",
       "1484491384         Abasolo         Mexico  24.0559  -98.3733     11862.0\n",
       "1840013618       Abbeville  United States  34.1787  -82.3774      5019.0\n",
       "1840081652        Aberdeen  United States  40.4165  -74.2249     18540.0\n",
       "1840013685        Aberdeen  United States  33.8287  -88.5539      5205.0\n",
       "1840015433        Aberdeen  United States  35.1350  -79.4326      7988.0\n",
       "...                    ...            ...      ...       ...         ...\n",
       "1156060807  Zhangjiazhuang          China  39.7804  118.2004     20227.0\n",
       "1156359646       Zhangping          China  37.6339  112.8775      9477.0\n",
       "1643824002   Zheleznogorsk         Russia  56.2500   93.5333     83857.0\n",
       "1156128936        Zhijiang          China  27.4367  109.6780    113907.0\n",
       "1156256431       Zhongshan          China  34.9430  105.8771     27147.0\n",
       "\n",
       "[2522 rows x 5 columns]"
      ]
     },
     "execution_count": 25,
     "metadata": {},
     "output_type": "execute_result"
    }
   ],
   "source": [
    "\"\"\"\n",
    "Imprimamos la información en pantalla, ordenandola por el nombre de la ciudad. \n",
    "\"\"\"\n",
    "data[cd_pais_duplicados].sort_values(\"city\")"
   ]
  },
  {
   "cell_type": "code",
   "execution_count": 26,
   "metadata": {},
   "outputs": [
    {
     "data": {
      "text/html": [
       "<div>\n",
       "<style scoped>\n",
       "    .dataframe tbody tr th:only-of-type {\n",
       "        vertical-align: middle;\n",
       "    }\n",
       "\n",
       "    .dataframe tbody tr th {\n",
       "        vertical-align: top;\n",
       "    }\n",
       "\n",
       "    .dataframe thead th {\n",
       "        text-align: right;\n",
       "    }\n",
       "</style>\n",
       "<table border=\"1\" class=\"dataframe\">\n",
       "  <thead>\n",
       "    <tr style=\"text-align: right;\">\n",
       "      <th></th>\n",
       "      <th>city</th>\n",
       "      <th>country</th>\n",
       "      <th>lat</th>\n",
       "      <th>lon</th>\n",
       "      <th>population</th>\n",
       "    </tr>\n",
       "    <tr>\n",
       "      <th>id</th>\n",
       "      <th></th>\n",
       "      <th></th>\n",
       "      <th></th>\n",
       "      <th></th>\n",
       "      <th></th>\n",
       "    </tr>\n",
       "  </thead>\n",
       "  <tbody>\n",
       "    <tr>\n",
       "      <th>1484491384</th>\n",
       "      <td>Abasolo</td>\n",
       "      <td>Mexico</td>\n",
       "      <td>24.0559</td>\n",
       "      <td>-98.3733</td>\n",
       "      <td>11862.0</td>\n",
       "    </tr>\n",
       "    <tr>\n",
       "      <th>1484064616</th>\n",
       "      <td>Abasolo</td>\n",
       "      <td>Mexico</td>\n",
       "      <td>20.4511</td>\n",
       "      <td>-101.5289</td>\n",
       "      <td>27389.0</td>\n",
       "    </tr>\n",
       "    <tr>\n",
       "      <th>1840013618</th>\n",
       "      <td>Abbeville</td>\n",
       "      <td>United States</td>\n",
       "      <td>34.1787</td>\n",
       "      <td>-82.3774</td>\n",
       "      <td>5019.0</td>\n",
       "    </tr>\n",
       "    <tr>\n",
       "      <th>1840014005</th>\n",
       "      <td>Abbeville</td>\n",
       "      <td>United States</td>\n",
       "      <td>29.9750</td>\n",
       "      <td>-92.1265</td>\n",
       "      <td>19470.0</td>\n",
       "    </tr>\n",
       "    <tr>\n",
       "      <th>1840018446</th>\n",
       "      <td>Aberdeen</td>\n",
       "      <td>United States</td>\n",
       "      <td>46.9757</td>\n",
       "      <td>-123.8094</td>\n",
       "      <td>29609.0</td>\n",
       "    </tr>\n",
       "    <tr>\n",
       "      <th>...</th>\n",
       "      <td>...</td>\n",
       "      <td>...</td>\n",
       "      <td>...</td>\n",
       "      <td>...</td>\n",
       "      <td>...</td>\n",
       "    </tr>\n",
       "    <tr>\n",
       "      <th>1643824002</th>\n",
       "      <td>Zheleznogorsk</td>\n",
       "      <td>Russia</td>\n",
       "      <td>56.2500</td>\n",
       "      <td>93.5333</td>\n",
       "      <td>83857.0</td>\n",
       "    </tr>\n",
       "    <tr>\n",
       "      <th>1156769646</th>\n",
       "      <td>Zhijiang</td>\n",
       "      <td>China</td>\n",
       "      <td>30.4271</td>\n",
       "      <td>111.7506</td>\n",
       "      <td>495995.0</td>\n",
       "    </tr>\n",
       "    <tr>\n",
       "      <th>1156128936</th>\n",
       "      <td>Zhijiang</td>\n",
       "      <td>China</td>\n",
       "      <td>27.4367</td>\n",
       "      <td>109.6780</td>\n",
       "      <td>113907.0</td>\n",
       "    </tr>\n",
       "    <tr>\n",
       "      <th>1156256431</th>\n",
       "      <td>Zhongshan</td>\n",
       "      <td>China</td>\n",
       "      <td>34.9430</td>\n",
       "      <td>105.8771</td>\n",
       "      <td>27147.0</td>\n",
       "    </tr>\n",
       "    <tr>\n",
       "      <th>1156579621</th>\n",
       "      <td>Zhongshan</td>\n",
       "      <td>China</td>\n",
       "      <td>22.5333</td>\n",
       "      <td>113.3500</td>\n",
       "      <td>3260000.0</td>\n",
       "    </tr>\n",
       "  </tbody>\n",
       "</table>\n",
       "<p>4025 rows × 5 columns</p>\n",
       "</div>"
      ],
      "text/plain": [
       "                     city        country      lat       lon  population\n",
       "id                                                                     \n",
       "1484491384        Abasolo         Mexico  24.0559  -98.3733     11862.0\n",
       "1484064616        Abasolo         Mexico  20.4511 -101.5289     27389.0\n",
       "1840013618      Abbeville  United States  34.1787  -82.3774      5019.0\n",
       "1840014005      Abbeville  United States  29.9750  -92.1265     19470.0\n",
       "1840018446       Aberdeen  United States  46.9757 -123.8094     29609.0\n",
       "...                   ...            ...      ...       ...         ...\n",
       "1643824002  Zheleznogorsk         Russia  56.2500   93.5333     83857.0\n",
       "1156769646       Zhijiang          China  30.4271  111.7506    495995.0\n",
       "1156128936       Zhijiang          China  27.4367  109.6780    113907.0\n",
       "1156256431      Zhongshan          China  34.9430  105.8771     27147.0\n",
       "1156579621      Zhongshan          China  22.5333  113.3500   3260000.0\n",
       "\n",
       "[4025 rows x 5 columns]"
      ]
     },
     "execution_count": 26,
     "metadata": {},
     "output_type": "execute_result"
    }
   ],
   "source": [
    "\"\"\"\n",
    "¿Pero que ha pasado? \"Abasolo\" está marcado como repetido, pero aparece una sola vez.\n",
    "\n",
    "El problema está con el comportamiento default del método .duplicated().\n",
    "Esto nos muestra que no debemos dar por hecho que una función o método\n",
    "hace lo que nosotros suponemos que debe hacer. \n",
    "\"\"\"\n",
    "cd_pais_duplicados_todos = data.duplicated(\n",
    "    subset=[\"city\", \"country\"],\n",
    "    keep=False)\n",
    "data[cd_pais_duplicados_todos].sort_values([\"city\"])"
   ]
  },
  {
   "cell_type": "code",
   "execution_count": 27,
   "metadata": {},
   "outputs": [
    {
     "data": {
      "text/html": [
       "<div>\n",
       "<style scoped>\n",
       "    .dataframe tbody tr th:only-of-type {\n",
       "        vertical-align: middle;\n",
       "    }\n",
       "\n",
       "    .dataframe tbody tr th {\n",
       "        vertical-align: top;\n",
       "    }\n",
       "\n",
       "    .dataframe thead th {\n",
       "        text-align: right;\n",
       "    }\n",
       "</style>\n",
       "<table border=\"1\" class=\"dataframe\">\n",
       "  <thead>\n",
       "    <tr style=\"text-align: right;\">\n",
       "      <th></th>\n",
       "      <th>city</th>\n",
       "      <th>country</th>\n",
       "      <th>lat</th>\n",
       "      <th>lon</th>\n",
       "      <th>population</th>\n",
       "    </tr>\n",
       "    <tr>\n",
       "      <th>id</th>\n",
       "      <th></th>\n",
       "      <th></th>\n",
       "      <th></th>\n",
       "      <th></th>\n",
       "      <th></th>\n",
       "    </tr>\n",
       "  </thead>\n",
       "  <tbody>\n",
       "    <tr>\n",
       "      <th>1643587468</th>\n",
       "      <td>Nordvik</td>\n",
       "      <td>Russia</td>\n",
       "      <td>74.0165</td>\n",
       "      <td>111.5100</td>\n",
       "      <td>0.0</td>\n",
       "    </tr>\n",
       "    <tr>\n",
       "      <th>1807754347</th>\n",
       "      <td>Lipkovo</td>\n",
       "      <td>Macedonia</td>\n",
       "      <td>42.1553</td>\n",
       "      <td>21.5875</td>\n",
       "      <td>0.0</td>\n",
       "    </tr>\n",
       "    <tr>\n",
       "      <th>1643050775</th>\n",
       "      <td>Logashkino</td>\n",
       "      <td>Russia</td>\n",
       "      <td>70.8536</td>\n",
       "      <td>153.8744</td>\n",
       "      <td>0.0</td>\n",
       "    </tr>\n",
       "    <tr>\n",
       "      <th>1031834023</th>\n",
       "      <td>Agdam</td>\n",
       "      <td>Azerbaijan</td>\n",
       "      <td>40.9053</td>\n",
       "      <td>45.5564</td>\n",
       "      <td>0.0</td>\n",
       "    </tr>\n",
       "    <tr>\n",
       "      <th>1152468996</th>\n",
       "      <td>Chuquicamata</td>\n",
       "      <td>Chile</td>\n",
       "      <td>-22.3169</td>\n",
       "      <td>-68.9301</td>\n",
       "      <td>0.0</td>\n",
       "    </tr>\n",
       "    <tr>\n",
       "      <th>...</th>\n",
       "      <td>...</td>\n",
       "      <td>...</td>\n",
       "      <td>...</td>\n",
       "      <td>...</td>\n",
       "      <td>...</td>\n",
       "    </tr>\n",
       "    <tr>\n",
       "      <th>1148071351</th>\n",
       "      <td>Bardai</td>\n",
       "      <td>Chad</td>\n",
       "      <td>21.3547</td>\n",
       "      <td>17.0016</td>\n",
       "      <td>NaN</td>\n",
       "    </tr>\n",
       "    <tr>\n",
       "      <th>1688970219</th>\n",
       "      <td>Presevo</td>\n",
       "      <td>Serbia</td>\n",
       "      <td>42.3067</td>\n",
       "      <td>21.6500</td>\n",
       "      <td>NaN</td>\n",
       "    </tr>\n",
       "    <tr>\n",
       "      <th>1688743477</th>\n",
       "      <td>Bujanovac</td>\n",
       "      <td>Serbia</td>\n",
       "      <td>42.4667</td>\n",
       "      <td>21.7667</td>\n",
       "      <td>NaN</td>\n",
       "    </tr>\n",
       "    <tr>\n",
       "      <th>1800610172</th>\n",
       "      <td>Kitamilo</td>\n",
       "      <td>Uganda</td>\n",
       "      <td>0.2222</td>\n",
       "      <td>33.2061</td>\n",
       "      <td>NaN</td>\n",
       "    </tr>\n",
       "    <tr>\n",
       "      <th>1850037473</th>\n",
       "      <td>Charlotte Amalie</td>\n",
       "      <td>U.S. Virgin Islands</td>\n",
       "      <td>18.3419</td>\n",
       "      <td>-64.9332</td>\n",
       "      <td>NaN</td>\n",
       "    </tr>\n",
       "  </tbody>\n",
       "</table>\n",
       "<p>42905 rows × 5 columns</p>\n",
       "</div>"
      ],
      "text/plain": [
       "                        city              country      lat       lon  \\\n",
       "id                                                                     \n",
       "1643587468           Nordvik               Russia  74.0165  111.5100   \n",
       "1807754347           Lipkovo            Macedonia  42.1553   21.5875   \n",
       "1643050775        Logashkino               Russia  70.8536  153.8744   \n",
       "1031834023             Agdam           Azerbaijan  40.9053   45.5564   \n",
       "1152468996      Chuquicamata                Chile -22.3169  -68.9301   \n",
       "...                      ...                  ...      ...       ...   \n",
       "1148071351            Bardai                 Chad  21.3547   17.0016   \n",
       "1688970219           Presevo               Serbia  42.3067   21.6500   \n",
       "1688743477         Bujanovac               Serbia  42.4667   21.7667   \n",
       "1800610172          Kitamilo               Uganda   0.2222   33.2061   \n",
       "1850037473  Charlotte Amalie  U.S. Virgin Islands  18.3419  -64.9332   \n",
       "\n",
       "            population  \n",
       "id                      \n",
       "1643587468         0.0  \n",
       "1807754347         0.0  \n",
       "1643050775         0.0  \n",
       "1031834023         0.0  \n",
       "1152468996         0.0  \n",
       "...                ...  \n",
       "1148071351         NaN  \n",
       "1688970219         NaN  \n",
       "1688743477         NaN  \n",
       "1800610172         NaN  \n",
       "1850037473         NaN  \n",
       "\n",
       "[42905 rows x 5 columns]"
      ]
     },
     "execution_count": 27,
     "metadata": {},
     "output_type": "execute_result"
    }
   ],
   "source": [
    "\"\"\"\n",
    "Si queremos utilizar city/country como id tenemos entonces que procesar\n",
    "de alguna manera los duplicados. Esto requiere de nuestra experiencia para\n",
    "tener criterios sensatos. \n",
    "\n",
    "En nuestro ejemplo, daremos prioridad a las ciudades con mayor población. \n",
    "Ordenemos los datos por este valor\n",
    "\"\"\"\n",
    "data.sort_values(\"population\")"
   ]
  },
  {
   "cell_type": "code",
   "execution_count": 28,
   "metadata": {},
   "outputs": [
    {
     "data": {
      "text/html": [
       "<div>\n",
       "<style scoped>\n",
       "    .dataframe tbody tr th:only-of-type {\n",
       "        vertical-align: middle;\n",
       "    }\n",
       "\n",
       "    .dataframe tbody tr th {\n",
       "        vertical-align: top;\n",
       "    }\n",
       "\n",
       "    .dataframe thead th {\n",
       "        text-align: right;\n",
       "    }\n",
       "</style>\n",
       "<table border=\"1\" class=\"dataframe\">\n",
       "  <thead>\n",
       "    <tr style=\"text-align: right;\">\n",
       "      <th></th>\n",
       "      <th>city</th>\n",
       "      <th>country</th>\n",
       "      <th>lat</th>\n",
       "      <th>lon</th>\n",
       "      <th>population</th>\n",
       "    </tr>\n",
       "    <tr>\n",
       "      <th>id</th>\n",
       "      <th></th>\n",
       "      <th></th>\n",
       "      <th></th>\n",
       "      <th></th>\n",
       "      <th></th>\n",
       "    </tr>\n",
       "  </thead>\n",
       "  <tbody>\n",
       "    <tr>\n",
       "      <th>1392685764</th>\n",
       "      <td>Tokyo</td>\n",
       "      <td>Japan</td>\n",
       "      <td>35.6839</td>\n",
       "      <td>139.7744</td>\n",
       "      <td>39105000.0</td>\n",
       "    </tr>\n",
       "    <tr>\n",
       "      <th>1360771077</th>\n",
       "      <td>Jakarta</td>\n",
       "      <td>Indonesia</td>\n",
       "      <td>-6.2146</td>\n",
       "      <td>106.8451</td>\n",
       "      <td>35362000.0</td>\n",
       "    </tr>\n",
       "    <tr>\n",
       "      <th>1356872604</th>\n",
       "      <td>Delhi</td>\n",
       "      <td>India</td>\n",
       "      <td>28.6667</td>\n",
       "      <td>77.2167</td>\n",
       "      <td>31870000.0</td>\n",
       "    </tr>\n",
       "    <tr>\n",
       "      <th>1608618140</th>\n",
       "      <td>Manila</td>\n",
       "      <td>Philippines</td>\n",
       "      <td>14.6000</td>\n",
       "      <td>120.9833</td>\n",
       "      <td>23971000.0</td>\n",
       "    </tr>\n",
       "    <tr>\n",
       "      <th>1076532519</th>\n",
       "      <td>Sao Paulo</td>\n",
       "      <td>Brazil</td>\n",
       "      <td>-23.5504</td>\n",
       "      <td>-46.6339</td>\n",
       "      <td>22495000.0</td>\n",
       "    </tr>\n",
       "    <tr>\n",
       "      <th>...</th>\n",
       "      <td>...</td>\n",
       "      <td>...</td>\n",
       "      <td>...</td>\n",
       "      <td>...</td>\n",
       "      <td>...</td>\n",
       "    </tr>\n",
       "    <tr>\n",
       "      <th>1148071351</th>\n",
       "      <td>Bardai</td>\n",
       "      <td>Chad</td>\n",
       "      <td>21.3547</td>\n",
       "      <td>17.0016</td>\n",
       "      <td>NaN</td>\n",
       "    </tr>\n",
       "    <tr>\n",
       "      <th>1688970219</th>\n",
       "      <td>Presevo</td>\n",
       "      <td>Serbia</td>\n",
       "      <td>42.3067</td>\n",
       "      <td>21.6500</td>\n",
       "      <td>NaN</td>\n",
       "    </tr>\n",
       "    <tr>\n",
       "      <th>1688743477</th>\n",
       "      <td>Bujanovac</td>\n",
       "      <td>Serbia</td>\n",
       "      <td>42.4667</td>\n",
       "      <td>21.7667</td>\n",
       "      <td>NaN</td>\n",
       "    </tr>\n",
       "    <tr>\n",
       "      <th>1800610172</th>\n",
       "      <td>Kitamilo</td>\n",
       "      <td>Uganda</td>\n",
       "      <td>0.2222</td>\n",
       "      <td>33.2061</td>\n",
       "      <td>NaN</td>\n",
       "    </tr>\n",
       "    <tr>\n",
       "      <th>1850037473</th>\n",
       "      <td>Charlotte Amalie</td>\n",
       "      <td>U.S. Virgin Islands</td>\n",
       "      <td>18.3419</td>\n",
       "      <td>-64.9332</td>\n",
       "      <td>NaN</td>\n",
       "    </tr>\n",
       "  </tbody>\n",
       "</table>\n",
       "<p>42905 rows × 5 columns</p>\n",
       "</div>"
      ],
      "text/plain": [
       "                        city              country      lat       lon  \\\n",
       "id                                                                     \n",
       "1392685764             Tokyo                Japan  35.6839  139.7744   \n",
       "1360771077           Jakarta            Indonesia  -6.2146  106.8451   \n",
       "1356872604             Delhi                India  28.6667   77.2167   \n",
       "1608618140            Manila          Philippines  14.6000  120.9833   \n",
       "1076532519         Sao Paulo               Brazil -23.5504  -46.6339   \n",
       "...                      ...                  ...      ...       ...   \n",
       "1148071351            Bardai                 Chad  21.3547   17.0016   \n",
       "1688970219           Presevo               Serbia  42.3067   21.6500   \n",
       "1688743477         Bujanovac               Serbia  42.4667   21.7667   \n",
       "1800610172          Kitamilo               Uganda   0.2222   33.2061   \n",
       "1850037473  Charlotte Amalie  U.S. Virgin Islands  18.3419  -64.9332   \n",
       "\n",
       "            population  \n",
       "id                      \n",
       "1392685764  39105000.0  \n",
       "1360771077  35362000.0  \n",
       "1356872604  31870000.0  \n",
       "1608618140  23971000.0  \n",
       "1076532519  22495000.0  \n",
       "...                ...  \n",
       "1148071351         NaN  \n",
       "1688970219         NaN  \n",
       "1688743477         NaN  \n",
       "1800610172         NaN  \n",
       "1850037473         NaN  \n",
       "\n",
       "[42905 rows x 5 columns]"
      ]
     },
     "execution_count": 28,
     "metadata": {},
     "output_type": "execute_result"
    }
   ],
   "source": [
    "\"\"\"\n",
    "Una vez más, debemos cuidar que la función realmente haga lo que esperamos.\n",
    "En este caso tenemos que modificar el comportamiento default de \n",
    ".sort_values() para que ordene de manera descendente  a la población. \n",
    "\"\"\"\n",
    "data.sort_values(\"population\", ascending=False)"
   ]
  },
  {
   "cell_type": "code",
   "execution_count": 29,
   "metadata": {},
   "outputs": [
    {
     "data": {
      "text/html": [
       "<div>\n",
       "<style scoped>\n",
       "    .dataframe tbody tr th:only-of-type {\n",
       "        vertical-align: middle;\n",
       "    }\n",
       "\n",
       "    .dataframe tbody tr th {\n",
       "        vertical-align: top;\n",
       "    }\n",
       "\n",
       "    .dataframe thead th {\n",
       "        text-align: right;\n",
       "    }\n",
       "</style>\n",
       "<table border=\"1\" class=\"dataframe\">\n",
       "  <thead>\n",
       "    <tr style=\"text-align: right;\">\n",
       "      <th></th>\n",
       "      <th>city</th>\n",
       "      <th>country</th>\n",
       "      <th>lat</th>\n",
       "      <th>lon</th>\n",
       "      <th>population</th>\n",
       "    </tr>\n",
       "    <tr>\n",
       "      <th>id</th>\n",
       "      <th></th>\n",
       "      <th></th>\n",
       "      <th></th>\n",
       "      <th></th>\n",
       "      <th></th>\n",
       "    </tr>\n",
       "  </thead>\n",
       "  <tbody>\n",
       "    <tr>\n",
       "      <th>1916116052</th>\n",
       "      <td>Gaza</td>\n",
       "      <td>Gaza Strip</td>\n",
       "      <td>31.5069</td>\n",
       "      <td>34.4560</td>\n",
       "      <td>NaN</td>\n",
       "    </tr>\n",
       "    <tr>\n",
       "      <th>1934000006</th>\n",
       "      <td>Al Quds</td>\n",
       "      <td>West Bank</td>\n",
       "      <td>31.7764</td>\n",
       "      <td>35.2269</td>\n",
       "      <td>NaN</td>\n",
       "    </tr>\n",
       "    <tr>\n",
       "      <th>1663133172</th>\n",
       "      <td>Marigot</td>\n",
       "      <td>Saint Martin</td>\n",
       "      <td>18.0706</td>\n",
       "      <td>-63.0847</td>\n",
       "      <td>NaN</td>\n",
       "    </tr>\n",
       "    <tr>\n",
       "      <th>1534859858</th>\n",
       "      <td>Philipsburg</td>\n",
       "      <td>Sint Maarten</td>\n",
       "      <td>18.0256</td>\n",
       "      <td>-63.0492</td>\n",
       "      <td>NaN</td>\n",
       "    </tr>\n",
       "    <tr>\n",
       "      <th>1520790128</th>\n",
       "      <td>Yaren</td>\n",
       "      <td>Nauru</td>\n",
       "      <td>-0.5477</td>\n",
       "      <td>166.9209</td>\n",
       "      <td>NaN</td>\n",
       "    </tr>\n",
       "  </tbody>\n",
       "</table>\n",
       "</div>"
      ],
      "text/plain": [
       "                   city       country      lat       lon  population\n",
       "id                                                                  \n",
       "1916116052         Gaza    Gaza Strip  31.5069   34.4560         NaN\n",
       "1934000006      Al Quds     West Bank  31.7764   35.2269         NaN\n",
       "1663133172      Marigot  Saint Martin  18.0706  -63.0847         NaN\n",
       "1534859858  Philipsburg  Sint Maarten  18.0256  -63.0492         NaN\n",
       "1520790128        Yaren         Nauru  -0.5477  166.9209         NaN"
      ]
     },
     "execution_count": 29,
     "metadata": {},
     "output_type": "execute_result"
    }
   ],
   "source": [
    "\"\"\"\n",
    "Antes de guardar el resultado, observamos que algunos registros no\n",
    "contienen un número, si no la expresión NaN que, convenientemente,\n",
    "significa \"Not a Number\".\n",
    "\n",
    "Identifiquemos los registros que carecen de un valor numérico para\n",
    "su población.\n",
    "\"\"\"\n",
    "\n",
    "pop_nan = data[\"population\"].isna()\n",
    "data[pop_nan].head()"
   ]
  },
  {
   "cell_type": "code",
   "execution_count": 30,
   "metadata": {},
   "outputs": [
    {
     "data": {
      "text/plain": [
       "725"
      ]
     },
     "execution_count": 30,
     "metadata": {},
     "output_type": "execute_result"
    }
   ],
   "source": [
    "\"\"\"\n",
    "Contemos cuantos registros existen sin un valor para la población.\n",
    "\"\"\"\n",
    "pop_nan.sum()"
   ]
  },
  {
   "cell_type": "code",
   "execution_count": 31,
   "metadata": {},
   "outputs": [
    {
     "data": {
      "text/html": [
       "<div>\n",
       "<style scoped>\n",
       "    .dataframe tbody tr th:only-of-type {\n",
       "        vertical-align: middle;\n",
       "    }\n",
       "\n",
       "    .dataframe tbody tr th {\n",
       "        vertical-align: top;\n",
       "    }\n",
       "\n",
       "    .dataframe thead th {\n",
       "        text-align: right;\n",
       "    }\n",
       "</style>\n",
       "<table border=\"1\" class=\"dataframe\">\n",
       "  <thead>\n",
       "    <tr style=\"text-align: right;\">\n",
       "      <th></th>\n",
       "      <th>city</th>\n",
       "      <th>country</th>\n",
       "      <th>lat</th>\n",
       "      <th>lon</th>\n",
       "      <th>population</th>\n",
       "    </tr>\n",
       "    <tr>\n",
       "      <th>id</th>\n",
       "      <th></th>\n",
       "      <th></th>\n",
       "      <th></th>\n",
       "      <th></th>\n",
       "      <th></th>\n",
       "    </tr>\n",
       "  </thead>\n",
       "  <tbody>\n",
       "    <tr>\n",
       "      <th>1392685764</th>\n",
       "      <td>Tokyo</td>\n",
       "      <td>Japan</td>\n",
       "      <td>35.6839</td>\n",
       "      <td>139.7744</td>\n",
       "      <td>39105000.0</td>\n",
       "    </tr>\n",
       "    <tr>\n",
       "      <th>1360771077</th>\n",
       "      <td>Jakarta</td>\n",
       "      <td>Indonesia</td>\n",
       "      <td>-6.2146</td>\n",
       "      <td>106.8451</td>\n",
       "      <td>35362000.0</td>\n",
       "    </tr>\n",
       "    <tr>\n",
       "      <th>1356872604</th>\n",
       "      <td>Delhi</td>\n",
       "      <td>India</td>\n",
       "      <td>28.6667</td>\n",
       "      <td>77.2167</td>\n",
       "      <td>31870000.0</td>\n",
       "    </tr>\n",
       "    <tr>\n",
       "      <th>1608618140</th>\n",
       "      <td>Manila</td>\n",
       "      <td>Philippines</td>\n",
       "      <td>14.6000</td>\n",
       "      <td>120.9833</td>\n",
       "      <td>23971000.0</td>\n",
       "    </tr>\n",
       "    <tr>\n",
       "      <th>1076532519</th>\n",
       "      <td>Sao Paulo</td>\n",
       "      <td>Brazil</td>\n",
       "      <td>-23.5504</td>\n",
       "      <td>-46.6339</td>\n",
       "      <td>22495000.0</td>\n",
       "    </tr>\n",
       "  </tbody>\n",
       "</table>\n",
       "</div>"
      ],
      "text/plain": [
       "                 city      country      lat       lon  population\n",
       "id                                                               \n",
       "1392685764      Tokyo        Japan  35.6839  139.7744  39105000.0\n",
       "1360771077    Jakarta    Indonesia  -6.2146  106.8451  35362000.0\n",
       "1356872604      Delhi        India  28.6667   77.2167  31870000.0\n",
       "1608618140     Manila  Philippines  14.6000  120.9833  23971000.0\n",
       "1076532519  Sao Paulo       Brazil -23.5504  -46.6339  22495000.0"
      ]
     },
     "execution_count": 31,
     "metadata": {},
     "output_type": "execute_result"
    }
   ],
   "source": [
    "\"\"\"\n",
    "Finalmente, transformaremos nuestros datos, ordenandolos de forma\n",
    "descendente respecto a su población y eliminando aquellos que \n",
    "carezcan de este valor. \n",
    "\"\"\"\n",
    "data = data[~pop_nan].sort_values(\"population\", ascending=False)\n",
    "data.head()"
   ]
  },
  {
   "cell_type": "code",
   "execution_count": 32,
   "metadata": {},
   "outputs": [
    {
     "data": {
      "text/html": [
       "<div>\n",
       "<style scoped>\n",
       "    .dataframe tbody tr th:only-of-type {\n",
       "        vertical-align: middle;\n",
       "    }\n",
       "\n",
       "    .dataframe tbody tr th {\n",
       "        vertical-align: top;\n",
       "    }\n",
       "\n",
       "    .dataframe thead th {\n",
       "        text-align: right;\n",
       "    }\n",
       "</style>\n",
       "<table border=\"1\" class=\"dataframe\">\n",
       "  <thead>\n",
       "    <tr style=\"text-align: right;\">\n",
       "      <th></th>\n",
       "      <th>city</th>\n",
       "      <th>country</th>\n",
       "      <th>lat</th>\n",
       "      <th>lon</th>\n",
       "      <th>population</th>\n",
       "    </tr>\n",
       "    <tr>\n",
       "      <th>id</th>\n",
       "      <th></th>\n",
       "      <th></th>\n",
       "      <th></th>\n",
       "      <th></th>\n",
       "      <th></th>\n",
       "    </tr>\n",
       "  </thead>\n",
       "  <tbody>\n",
       "    <tr>\n",
       "      <th>1392685764</th>\n",
       "      <td>Tokyo</td>\n",
       "      <td>Japan</td>\n",
       "      <td>35.6839</td>\n",
       "      <td>139.7744</td>\n",
       "      <td>39105000.0</td>\n",
       "    </tr>\n",
       "    <tr>\n",
       "      <th>1360771077</th>\n",
       "      <td>Jakarta</td>\n",
       "      <td>Indonesia</td>\n",
       "      <td>-6.2146</td>\n",
       "      <td>106.8451</td>\n",
       "      <td>35362000.0</td>\n",
       "    </tr>\n",
       "    <tr>\n",
       "      <th>1356872604</th>\n",
       "      <td>Delhi</td>\n",
       "      <td>India</td>\n",
       "      <td>28.6667</td>\n",
       "      <td>77.2167</td>\n",
       "      <td>31870000.0</td>\n",
       "    </tr>\n",
       "    <tr>\n",
       "      <th>1608618140</th>\n",
       "      <td>Manila</td>\n",
       "      <td>Philippines</td>\n",
       "      <td>14.6000</td>\n",
       "      <td>120.9833</td>\n",
       "      <td>23971000.0</td>\n",
       "    </tr>\n",
       "    <tr>\n",
       "      <th>1076532519</th>\n",
       "      <td>Sao Paulo</td>\n",
       "      <td>Brazil</td>\n",
       "      <td>-23.5504</td>\n",
       "      <td>-46.6339</td>\n",
       "      <td>22495000.0</td>\n",
       "    </tr>\n",
       "  </tbody>\n",
       "</table>\n",
       "</div>"
      ],
      "text/plain": [
       "                 city      country      lat       lon  population\n",
       "id                                                               \n",
       "1392685764      Tokyo        Japan  35.6839  139.7744  39105000.0\n",
       "1360771077    Jakarta    Indonesia  -6.2146  106.8451  35362000.0\n",
       "1356872604      Delhi        India  28.6667   77.2167  31870000.0\n",
       "1608618140     Manila  Philippines  14.6000  120.9833  23971000.0\n",
       "1076532519  Sao Paulo       Brazil -23.5504  -46.6339  22495000.0"
      ]
     },
     "execution_count": 32,
     "metadata": {},
     "output_type": "execute_result"
    }
   ],
   "source": [
    "\"\"\"\n",
    "Ahora, eliminemos los registros que duplicados, excepto la \n",
    "primera instancia de los mismos. \n",
    "\n",
    "En nuestro proyecto, esto significa que si varias ciudad en \n",
    "el mismo país, tienen el mismo nombre, nos quedaremos solo\n",
    "con la que tiene mayor población. \n",
    "\"\"\"\n",
    "data = data[~data.duplicated(subset=[\"city\", \"country\"])]\n",
    "data.head()"
   ]
  },
  {
   "cell_type": "code",
   "execution_count": 33,
   "metadata": {},
   "outputs": [
    {
     "data": {
      "text/plain": [
       "0"
      ]
     },
     "execution_count": 33,
     "metadata": {},
     "output_type": "execute_result"
    }
   ],
   "source": [
    "\"\"\"\n",
    "Revisemos ahora cuandos registros duplicados tenemos. \n",
    "\"\"\"\n",
    "data.duplicated(subset=[\"city\", \"country\"]).sum()"
   ]
  },
  {
   "cell_type": "code",
   "execution_count": 34,
   "metadata": {},
   "outputs": [
    {
     "data": {
      "text/html": [
       "<div>\n",
       "<style scoped>\n",
       "    .dataframe tbody tr th:only-of-type {\n",
       "        vertical-align: middle;\n",
       "    }\n",
       "\n",
       "    .dataframe tbody tr th {\n",
       "        vertical-align: top;\n",
       "    }\n",
       "\n",
       "    .dataframe thead th {\n",
       "        text-align: right;\n",
       "    }\n",
       "</style>\n",
       "<table border=\"1\" class=\"dataframe\">\n",
       "  <thead>\n",
       "    <tr style=\"text-align: right;\">\n",
       "      <th></th>\n",
       "      <th></th>\n",
       "      <th>lat</th>\n",
       "      <th>lon</th>\n",
       "      <th>population</th>\n",
       "    </tr>\n",
       "    <tr>\n",
       "      <th>city</th>\n",
       "      <th>country</th>\n",
       "      <th></th>\n",
       "      <th></th>\n",
       "      <th></th>\n",
       "    </tr>\n",
       "  </thead>\n",
       "  <tbody>\n",
       "    <tr>\n",
       "      <th>Tokyo</th>\n",
       "      <th>Japan</th>\n",
       "      <td>35.6839</td>\n",
       "      <td>139.7744</td>\n",
       "      <td>39105000.0</td>\n",
       "    </tr>\n",
       "    <tr>\n",
       "      <th>Jakarta</th>\n",
       "      <th>Indonesia</th>\n",
       "      <td>-6.2146</td>\n",
       "      <td>106.8451</td>\n",
       "      <td>35362000.0</td>\n",
       "    </tr>\n",
       "    <tr>\n",
       "      <th>Delhi</th>\n",
       "      <th>India</th>\n",
       "      <td>28.6667</td>\n",
       "      <td>77.2167</td>\n",
       "      <td>31870000.0</td>\n",
       "    </tr>\n",
       "    <tr>\n",
       "      <th>Manila</th>\n",
       "      <th>Philippines</th>\n",
       "      <td>14.6000</td>\n",
       "      <td>120.9833</td>\n",
       "      <td>23971000.0</td>\n",
       "    </tr>\n",
       "    <tr>\n",
       "      <th>Sao Paulo</th>\n",
       "      <th>Brazil</th>\n",
       "      <td>-23.5504</td>\n",
       "      <td>-46.6339</td>\n",
       "      <td>22495000.0</td>\n",
       "    </tr>\n",
       "  </tbody>\n",
       "</table>\n",
       "</div>"
      ],
      "text/plain": [
       "                           lat       lon  population\n",
       "city      country                                   \n",
       "Tokyo     Japan        35.6839  139.7744  39105000.0\n",
       "Jakarta   Indonesia    -6.2146  106.8451  35362000.0\n",
       "Delhi     India        28.6667   77.2167  31870000.0\n",
       "Manila    Philippines  14.6000  120.9833  23971000.0\n",
       "Sao Paulo Brazil      -23.5504  -46.6339  22495000.0"
      ]
     },
     "execution_count": 34,
     "metadata": {},
     "output_type": "execute_result"
    }
   ],
   "source": [
    "\"\"\"\n",
    "Si bien esta no es la mejor práctica, por el momento ya podemos\n",
    "usar las columnas city/country como identificadores. \n",
    "\"\"\"\n",
    "data = data.set_index([\"city\", \"country\"], drop=True)\n",
    "data.head()"
   ]
  },
  {
   "cell_type": "code",
   "execution_count": 35,
   "metadata": {},
   "outputs": [
    {
     "data": {
      "text/plain": [
       "lat           3.568390e+01\n",
       "lon           1.397744e+02\n",
       "population    3.910500e+07\n",
       "Name: (Tokyo, Japan), dtype: float64"
      ]
     },
     "execution_count": 35,
     "metadata": {},
     "output_type": "execute_result"
    }
   ],
   "source": [
    "\"\"\"\n",
    "De esta manera, ya podemos acceder a los registros de una \n",
    "ciudad, con su nombre y el país al que pertenece.\n",
    "\"\"\"\n",
    "data.loc[\"Tokyo\", \"Japan\"]"
   ]
  },
  {
   "cell_type": "markdown",
   "metadata": {},
   "source": [
    "### Series y arrays\n",
    "\n",
    "Cómo observaste en ejercicios anteriores, algunos de los objetos que nos devuelven las funciones y métodos de pandas, aunque tienen cierta forma tabular, no son dataframes sino series. Las series son una clase especial de arrays, sobrecargados con más atributos y métodos. \n",
    "\n",
    "Los arrays son a su vez lista con super poderes, que corren mucho más rápido y que poseen atributos y métodos que hacen más fáciles los cálculos numéricos. "
   ]
  },
  {
   "cell_type": "code",
   "execution_count": 36,
   "metadata": {},
   "outputs": [],
   "source": [
    "\"\"\"\n",
    "En esta sección utilizaremos Numpy, un módulo dedicado a la computación científica. \n",
    "\"\"\"\n",
    "import numpy as np"
   ]
  },
  {
   "cell_type": "code",
   "execution_count": 37,
   "metadata": {},
   "outputs": [
    {
     "data": {
      "text/plain": [
       "city       country    \n",
       "Tokyo      Japan          39105000.0\n",
       "Jakarta    Indonesia      35362000.0\n",
       "Delhi      India          31870000.0\n",
       "Manila     Philippines    23971000.0\n",
       "Sao Paulo  Brazil         22495000.0\n",
       "Name: population, dtype: float64"
      ]
     },
     "execution_count": 37,
     "metadata": {},
     "output_type": "execute_result"
    }
   ],
   "source": [
    "\"\"\"\n",
    "Nos interesa analizar la población de cada ciudad, por lo que subseleccionamos solo esa columna.\n",
    "\"\"\"\n",
    "pop = data[\"population\"]\n",
    "pop.head()"
   ]
  },
  {
   "cell_type": "code",
   "execution_count": 38,
   "metadata": {},
   "outputs": [
    {
     "data": {
      "text/plain": [
       "pandas.core.series.Series"
      ]
     },
     "execution_count": 38,
     "metadata": {},
     "output_type": "execute_result"
    }
   ],
   "source": [
    "\"\"\"\n",
    "Sin embargo, a diferencia de lo que ocurre cuando subseleccionamos varias columnas, el nuevo\n",
    "objeto no es un marco de datos. \n",
    "\"\"\"\n",
    "type(pop)"
   ]
  },
  {
   "cell_type": "code",
   "execution_count": 39,
   "metadata": {},
   "outputs": [
    {
     "name": "stdout",
     "output_type": "stream",
     "text": [
      "                       population\n",
      "city      country                \n",
      "Tokyo     Japan        39105000.0\n",
      "Jakarta   Indonesia    35362000.0\n",
      "Delhi     India        31870000.0\n",
      "Manila    Philippines  23971000.0\n",
      "Sao Paulo Brazil       22495000.0\n",
      "<class 'pandas.core.frame.DataFrame'>\n"
     ]
    }
   ],
   "source": [
    "\"\"\"\n",
    "¡Cuidado! Si nosotros subseleccionamos utilizando una lista con un solo elemento, \n",
    "el resultado no será una serie, si no un dataframe.\n",
    "\"\"\"\n",
    "pop_df = data[['population']]\n",
    "print(pop_df.head())\n",
    "print(type(pop_df))"
   ]
  },
  {
   "cell_type": "code",
   "execution_count": 40,
   "metadata": {},
   "outputs": [
    {
     "name": "stdout",
     "output_type": "stream",
     "text": [
      "0\n"
     ]
    }
   ],
   "source": [
    "\"\"\"\n",
    "La clase Series tienen algunas diferencias con DateFrame, con las cuales es importante familiarizarnos. \n",
    "Por ejemplo, en un marco de datos, yo no puedo acceder a un registro subseleccionando con el índice. \n",
    "\"\"\"\n",
    "try:\n",
    "    data[0]\n",
    "except KeyError as e:\n",
    "    print(e)"
   ]
  },
  {
   "cell_type": "code",
   "execution_count": 41,
   "metadata": {},
   "outputs": [
    {
     "data": {
      "text/plain": [
       "39105000.0"
      ]
     },
     "execution_count": 41,
     "metadata": {},
     "output_type": "execute_result"
    }
   ],
   "source": [
    "\"\"\"\n",
    "En cambio en una serie, sí que lo podemos hacer. \n",
    "\"\"\"\n",
    "pop[0]"
   ]
  },
  {
   "cell_type": "code",
   "execution_count": 42,
   "metadata": {},
   "outputs": [
    {
     "data": {
      "text/plain": [
       "city         country    \n",
       "Tokyo        Japan          39105000.0\n",
       "Jakarta      Indonesia      35362000.0\n",
       "Delhi        India          31870000.0\n",
       "Manila       Philippines    23971000.0\n",
       "Sao Paulo    Brazil         22495000.0\n",
       "Seoul        South Korea    22394000.0\n",
       "Mumbai       India          22186000.0\n",
       "Shanghai     China          22118000.0\n",
       "Mexico City  Mexico         21505000.0\n",
       "Guangzhou    China          21489000.0\n",
       "Name: population, dtype: float64"
      ]
     },
     "execution_count": 42,
     "metadata": {},
     "output_type": "execute_result"
    }
   ],
   "source": [
    "\"\"\"\n",
    "Utilizando los índices, podemos subseleccionar fácilmente un rango. Por ejemplo,\n",
    "los primeros 10 registros.\n",
    "\"\"\"\n",
    "pop[:10]"
   ]
  },
  {
   "cell_type": "code",
   "execution_count": 43,
   "metadata": {},
   "outputs": [
    {
     "data": {
      "text/plain": [
       "city          country  \n",
       "Lagunas       Chile        10.0\n",
       "Andoas        Peru         10.0\n",
       "Puca Urco     Peru         10.0\n",
       "Zillah        Libya        10.0\n",
       "Ambarchik     Russia        4.0\n",
       "Mawlamyine    Myanmar       2.0\n",
       "Lipkovo       Macedonia     0.0\n",
       "Chuquicamata  Chile         0.0\n",
       "Logashkino    Russia        0.0\n",
       "Nordvik       Russia        0.0\n",
       "Name: population, dtype: float64"
      ]
     },
     "execution_count": 43,
     "metadata": {},
     "output_type": "execute_result"
    }
   ],
   "source": [
    "\"\"\"\n",
    "O bien, los últimos 10. \n",
    "\"\"\"\n",
    "pop[-10:]"
   ]
  },
  {
   "cell_type": "code",
   "execution_count": 44,
   "metadata": {},
   "outputs": [
    {
     "name": "stdout",
     "output_type": "stream",
     "text": [
      "'Series' object has no attribute 'info'\n"
     ]
    }
   ],
   "source": [
    "\"\"\"\n",
    "Sin embargo, algunos métodos de dataframes no estarán disponibles para las series. \n",
    "\"\"\"\n",
    "try:\n",
    "    pop.info()\n",
    "except Exception as e:\n",
    "    print(e)"
   ]
  },
  {
   "cell_type": "code",
   "execution_count": 45,
   "metadata": {},
   "outputs": [
    {
     "data": {
      "text/plain": [
       "count    3.966900e+04\n",
       "mean     1.118859e+05\n",
       "std      7.363877e+05\n",
       "min      0.000000e+00\n",
       "25%      8.310000e+03\n",
       "50%      1.617900e+04\n",
       "75%      4.133300e+04\n",
       "max      3.910500e+07\n",
       "Name: population, dtype: float64"
      ]
     },
     "execution_count": 45,
     "metadata": {},
     "output_type": "execute_result"
    }
   ],
   "source": [
    "\"\"\"\n",
    "Aunque otros los podremos seguir usando. \n",
    "\"\"\"\n",
    "pop.describe()"
   ]
  },
  {
   "cell_type": "code",
   "execution_count": 46,
   "metadata": {},
   "outputs": [
    {
     "data": {
      "text/plain": [
       "3057436.5691589224"
      ]
     },
     "execution_count": 46,
     "metadata": {},
     "output_type": "execute_result"
    }
   ],
   "source": [
    "\"\"\"\n",
    "Podmos realizar cálculos estadísticos rápidamente, obteniendo los valores, \n",
    "sin necesidad de extraerlos con algún método. \n",
    "\"\"\"\n",
    "pop.mean() + 4*pop.std()"
   ]
  },
  {
   "cell_type": "code",
   "execution_count": 47,
   "metadata": {},
   "outputs": [
    {
     "data": {
      "text/plain": [
       "lat           1.241715e+02\n",
       "lon           2.820971e+02\n",
       "population    3.057437e+06\n",
       "dtype: float64"
      ]
     },
     "execution_count": 47,
     "metadata": {},
     "output_type": "execute_result"
    }
   ],
   "source": [
    "\"\"\"\n",
    "Observa la diferencia cuando hacemos la misma operación con DataFrame\n",
    "\"\"\"\n",
    "data.mean() + 4*data.std()"
   ]
  },
  {
   "cell_type": "code",
   "execution_count": 48,
   "metadata": {},
   "outputs": [
    {
     "data": {
      "text/plain": [
       "<AxesSubplot:ylabel='Frequency'>"
      ]
     },
     "execution_count": 48,
     "metadata": {},
     "output_type": "execute_result"
    },
    {
     "data": {
      "image/png": "[encoded data removed]",
      "text/plain": [
       "<Figure size 432x288 with 1 Axes>"
      ]
     },
     "metadata": {
      "needs_background": "light"
     },
     "output_type": "display_data"
    }
   ],
   "source": [
    "\"\"\"\n",
    "Como en la series solo se registra un único dato, es más sencillo realizar visualizaciones. \n",
    "\"\"\"\n",
    "pop.plot.hist()"
   ]
  },
  {
   "cell_type": "markdown",
   "metadata": {},
   "source": [
    "* Ahora, vamos a realizar un análisis rápido de las poblaciones. \n",
    "* Recordemos que nuestro objetivo es determinar la distribución de megaciudades y su distribución de geográfica. \n",
    "* Pero, primero tendríamos que definir una megaciudad. \n",
    "* En el gráfico anterior, observamos que la gran mayoría de ciudades tienen menos de 5 millones de habitantes.\n",
    "* Aquellas que tienen un mayor número, a penas son visibles en nuestro gráfico. \n",
    "* El problema principal radica en que pocas ciudades tienen más de cinco millones de habitantes\n",
    "* Pero como veremos, tienen un gran peso en la población mundial. \n",
    "* Entonces, necesitamos escalar los datos y nos fijaremos no el total de la población, si no en el *orden de magnitud* de este valor. "
   ]
  },
  {
   "cell_type": "code",
   "execution_count": 49,
   "metadata": {},
   "outputs": [
    {
     "name": "stderr",
     "output_type": "stream",
     "text": [
      "C:\\Users\\julih\\anaconda3\\envs\\workspace\\lib\\site-packages\\pandas\\core\\arraylike.py:364: RuntimeWarning: divide by zero encountered in log10\n",
      "  result = getattr(ufunc, method)(*inputs, **kwargs)\n"
     ]
    },
    {
     "data": {
      "text/plain": [
       "pandas.core.series.Series"
      ]
     },
     "execution_count": 49,
     "metadata": {},
     "output_type": "execute_result"
    }
   ],
   "source": [
    "\"\"\"\n",
    "Transformamos los datos aplicando el logaritmo base 10. Aunque parece una transformación extraña, la ocupamos (al menos en México) cotidianamente cuando hablamos de la magnitud de un sismo. \n",
    "\n",
    "En nuestro caso, una ciudad con 10 habitantes, tendría un orden magnitud 1; una con 100, un orden de magnitud 2; una de 1000, un orden de magnitud 3 y así sucesivamenten.\n",
    "\n",
    "Aplicaremos el logaritmo base 10 implementado en Numpy, pero debemos ser cuidadosos de verificar que clase de objeto nos regresa dicha función. \n",
    "\"\"\"\n",
    "pop_log = np.log10(pop)\n",
    "type(pop_log)"
   ]
  },
  {
   "cell_type": "code",
   "execution_count": 50,
   "metadata": {},
   "outputs": [
    {
     "data": {
      "text/plain": [
       "city       country    \n",
       "Tokyo      Japan          7.592232\n",
       "Jakarta    Indonesia      7.548537\n",
       "Delhi      India          7.503382\n",
       "Manila     Philippines    7.379686\n",
       "Sao Paulo  Brazil         7.352086\n",
       "Name: population, dtype: float64"
      ]
     },
     "execution_count": 50,
     "metadata": {},
     "output_type": "execute_result"
    }
   ],
   "source": [
    "\"\"\"\n",
    "Como viste, pop_log es una serie, por lo que podemos echar mano de los métodos ya conocidos. \n",
    "\n",
    "Veamos los primeros registros de esta serie. \n",
    "\"\"\"\n",
    "pop_log.head()"
   ]
  },
  {
   "cell_type": "code",
   "execution_count": 51,
   "metadata": {},
   "outputs": [
    {
     "data": {
      "text/plain": [
       "39105000.0"
      ]
     },
     "execution_count": 51,
     "metadata": {},
     "output_type": "execute_result"
    }
   ],
   "source": [
    "\"\"\"\n",
    "Recordemos cuál es la población de Tokyo, Japón antes de la transformación...\n",
    "\"\"\"\n",
    "pop[0]"
   ]
  },
  {
   "cell_type": "code",
   "execution_count": 52,
   "metadata": {},
   "outputs": [
    {
     "data": {
      "text/plain": [
       "7.59223229022401"
      ]
     },
     "execution_count": 52,
     "metadata": {},
     "output_type": "execute_result"
    }
   ],
   "source": [
    "\"\"\"\n",
    "...y después de esta. \n",
    "\"\"\"\n",
    "pop_log[0]"
   ]
  },
  {
   "cell_type": "code",
   "execution_count": 53,
   "metadata": {},
   "outputs": [
    {
     "data": {
      "text/plain": [
       "39105000.00000001"
      ]
     },
     "execution_count": 53,
     "metadata": {},
     "output_type": "execute_result"
    }
   ],
   "source": [
    "\"\"\"\n",
    "Verifiquemos la relación entre estas dos cantidades. Como podrás ver, existe un \n",
    "pequeño error numérico, debido a la forma en que se implementan los decimales en \n",
    "los diferentes lenguajes de programación. \n",
    "\"\"\"\n",
    "10**pop_log[0]"
   ]
  },
  {
   "cell_type": "code",
   "execution_count": 54,
   "metadata": {},
   "outputs": [
    {
     "data": {
      "text/plain": [
       "True"
      ]
     },
     "execution_count": 54,
     "metadata": {},
     "output_type": "execute_result"
    }
   ],
   "source": [
    "\"\"\"\n",
    "Pero esta diferencia no es significativa\n",
    "\"\"\"\n",
    "np.isclose(pop[0], 10**pop_log[0])"
   ]
  },
  {
   "cell_type": "code",
   "execution_count": 55,
   "metadata": {},
   "outputs": [
    {
     "data": {
      "text/plain": [
       "city         country    \n",
       "Tokyo        Japan          7.592232\n",
       "Jakarta      Indonesia      7.548537\n",
       "Delhi        India          7.503382\n",
       "Manila       Philippines    7.379686\n",
       "Sao Paulo    Brazil         7.352086\n",
       "Seoul        South Korea    7.350132\n",
       "Mumbai       India          7.346079\n",
       "Shanghai     China          7.344746\n",
       "Mexico City  Mexico         7.332539\n",
       "Guangzhou    China          7.332216\n",
       "Name: population, dtype: float64"
      ]
     },
     "execution_count": 55,
     "metadata": {},
     "output_type": "execute_result"
    }
   ],
   "source": [
    "\"\"\"\n",
    "Revisemos ahora el top-10 de megaciudades y su orden de magnitud. Con base en este dato, \n",
    "¿cuántos habitantes tiene aproximadamente cada una de estas ciudades? \n",
    "\"\"\"\n",
    "pop_log[:10]"
   ]
  },
  {
   "cell_type": "code",
   "execution_count": 56,
   "metadata": {},
   "outputs": [
    {
     "data": {
      "text/plain": [
       "city          country  \n",
       "Lagunas       Chile        1.00000\n",
       "Andoas        Peru         1.00000\n",
       "Puca Urco     Peru         1.00000\n",
       "Zillah        Libya        1.00000\n",
       "Ambarchik     Russia       0.60206\n",
       "Mawlamyine    Myanmar      0.30103\n",
       "Lipkovo       Macedonia       -inf\n",
       "Chuquicamata  Chile           -inf\n",
       "Logashkino    Russia          -inf\n",
       "Nordvik       Russia          -inf\n",
       "Name: population, dtype: float64"
      ]
     },
     "execution_count": 56,
     "metadata": {},
     "output_type": "execute_result"
    }
   ],
   "source": [
    "\"\"\"\n",
    "Veamos ahora las poblaciones más pequeñas en nuestra lista. Algunas tienen órdenes de \n",
    "magnitud que nos indican que hay menos de 10 habitantes.\n",
    "\n",
    "Pero de manera sorpresiva aparece ¡un infinito negativo! ¿Por qué?\n",
    "\"\"\"\n",
    "pop_log[-10:]"
   ]
  },
  {
   "cell_type": "code",
   "execution_count": 57,
   "metadata": {},
   "outputs": [
    {
     "data": {
      "text/plain": [
       "numpy.float64"
      ]
     },
     "execution_count": 57,
     "metadata": {},
     "output_type": "execute_result"
    }
   ],
   "source": [
    "\"\"\"\n",
    "Verifiquemos a que clase pertenece este número tan peculiar. \n",
    "\"\"\"\n",
    "type(pop_log[-1])"
   ]
  },
  {
   "cell_type": "code",
   "execution_count": 58,
   "metadata": {},
   "outputs": [
    {
     "name": "stderr",
     "output_type": "stream",
     "text": [
      "C:\\Users\\julih\\AppData\\Local\\Temp/ipykernel_20208/1957202995.py:8: RuntimeWarning: divide by zero encountered in log10\n",
      "  np.log10(0)\n"
     ]
    },
    {
     "data": {
      "text/plain": [
       "-inf"
      ]
     },
     "execution_count": 58,
     "metadata": {},
     "output_type": "execute_result"
    }
   ],
   "source": [
    "\"\"\"\n",
    "Pero, ¿por qué aparece este valor? La respuesta es que cualquier logaritmo \n",
    "tiende a menos infinito cuando el argumento tiende a cero por la derecha. \n",
    "\n",
    "Esto se abstrae en Numpy definiendo log10(0) como infinito negativo.\n",
    "\"\"\"\n",
    "\n",
    "np.log10(0)"
   ]
  },
  {
   "cell_type": "code",
   "execution_count": 59,
   "metadata": {},
   "outputs": [
    {
     "name": "stdout",
     "output_type": "stream",
     "text": [
      "name 'inf' is not defined\n"
     ]
    },
    {
     "name": "stderr",
     "output_type": "stream",
     "text": [
      "C:\\Users\\julih\\AppData\\Local\\Temp/ipykernel_20208/3404737117.py:6: RuntimeWarning: divide by zero encountered in log10\n",
      "  np.log10(0)==-inf\n"
     ]
    }
   ],
   "source": [
    "\"\"\"\n",
    "Algo que resultará confuso es que en nuestra pantalla, este número se imprimirá\n",
    "como -inf, pero si tratamos de utilizar esta expresión en nuestro código no funcioonará.\n",
    "\"\"\"\n",
    "try:\n",
    "    np.log10(0)==-inf\n",
    "except Exception as e:\n",
    "    print(e)"
   ]
  },
  {
   "cell_type": "code",
   "execution_count": 60,
   "metadata": {},
   "outputs": [
    {
     "data": {
      "text/plain": [
       "-inf"
      ]
     },
     "execution_count": 60,
     "metadata": {},
     "output_type": "execute_result"
    }
   ],
   "source": [
    "\"\"\"\n",
    "Esto es por la manera en que se representan los resultados,  tratando de hacerlos más \"amigables\".\n",
    "En este caso, será mejor buscar la implementación de infinito en Numpy y entender su comportamiento.\n",
    "\"\"\"\n",
    "-np.inf\n"
   ]
  },
  {
   "cell_type": "code",
   "execution_count": 61,
   "metadata": {},
   "outputs": [
    {
     "data": {
      "text/plain": [
       "city          country    \n",
       "Tokyo         Japan           True\n",
       "Jakarta       Indonesia       True\n",
       "Delhi         India           True\n",
       "Manila        Philippines     True\n",
       "Sao Paulo     Brazil          True\n",
       "                             ...  \n",
       "Mawlamyine    Myanmar         True\n",
       "Lipkovo       Macedonia      False\n",
       "Chuquicamata  Chile          False\n",
       "Logashkino    Russia         False\n",
       "Nordvik       Russia         False\n",
       "Name: population, Length: 39669, dtype: bool"
      ]
     },
     "execution_count": 61,
     "metadata": {},
     "output_type": "execute_result"
    }
   ],
   "source": [
    "\"\"\"\n",
    "Ahora sí, creemos una máscara para ubicar las poblaciones con población no nula. \n",
    "\"\"\"\n",
    "pop_not_null = pop_log != -np.inf\n",
    "pop_not_null"
   ]
  },
  {
   "cell_type": "code",
   "execution_count": 62,
   "metadata": {},
   "outputs": [
    {
     "data": {
      "text/plain": [
       "city          country   \n",
       "Bir Mogrein   Mauritania    1.00000\n",
       "Yessey        Russia        1.00000\n",
       "Peregrebnoye  Russia        1.00000\n",
       "Puerto Heath  Bolivia       1.00000\n",
       "Lagunas       Chile         1.00000\n",
       "Andoas        Peru          1.00000\n",
       "Puca Urco     Peru          1.00000\n",
       "Zillah        Libya         1.00000\n",
       "Ambarchik     Russia        0.60206\n",
       "Mawlamyine    Myanmar       0.30103\n",
       "Name: population, dtype: float64"
      ]
     },
     "execution_count": 62,
     "metadata": {},
     "output_type": "execute_result"
    }
   ],
   "source": [
    "\"\"\"\n",
    "Ahora subseleccionemos los datos con orden de magnitud positivo. \n",
    "\"\"\"\n",
    "pop_log = pop_log[pop_not_null]\n",
    "pop_log[-10:]"
   ]
  },
  {
   "cell_type": "code",
   "execution_count": 63,
   "metadata": {},
   "outputs": [
    {
     "data": {
      "text/plain": [
       "<AxesSubplot:ylabel='Frequency'>"
      ]
     },
     "execution_count": 63,
     "metadata": {},
     "output_type": "execute_result"
    },
    {
     "data": {
      "image/png": "[encoded data removed]",
      "text/plain": [
       "<Figure size 432x288 with 1 Axes>"
      ]
     },
     "metadata": {
      "needs_background": "light"
     },
     "output_type": "display_data"
    }
   ],
   "source": [
    "\"\"\"\n",
    "Tracemos el histograma correspondiente. Como podrás observar, esta transformación nos permite apreciar mejor\n",
    "la diferencia en la distribución de las poblaciones. \n",
    "\"\"\"\n",
    "pop_log.plot.hist()"
   ]
  },
  {
   "cell_type": "code",
   "execution_count": 64,
   "metadata": {},
   "outputs": [
    {
     "data": {
      "text/plain": [
       "<AxesSubplot:ylabel='Frequency'>"
      ]
     },
     "execution_count": 64,
     "metadata": {},
     "output_type": "execute_result"
    },
    {
     "data": {
      "image/png": "[encoded data removed]",
      "text/plain": [
       "<Figure size 432x288 with 1 Axes>"
      ]
     },
     "metadata": {
      "needs_background": "light"
     },
     "output_type": "display_data"
    }
   ],
   "source": [
    "\"\"\"\n",
    "Sin embargo, el número de clases es algo arbitrario. El método crea por default 10 clases.\n",
    "\n",
    "Sin embargo, en nuestro ejemplo, Como el orden más pequeño es poco menor que 1 y el más alto, \n",
    "es poco mayor que 7, dividiremos nuestros datos en 7 clases. \n",
    "\"\"\"\n",
    "pop_log.plot.hist(bins=7)"
   ]
  },
  {
   "cell_type": "code",
   "execution_count": 65,
   "metadata": {},
   "outputs": [
    {
     "data": {
      "text/plain": [
       "(array([   57,    53,   366, 26251, 11118,  1606,   214], dtype=int64),\n",
       " array([0.30103   , 1.34263032, 2.38423065, 3.42583098, 4.46743131,\n",
       "        5.50903163, 6.55063196, 7.59223229]))"
      ]
     },
     "execution_count": 65,
     "metadata": {},
     "output_type": "execute_result"
    }
   ],
   "source": [
    "\"\"\"\n",
    "Aunque la visualización es útil para ver el panorama completo, deseamos tener las marcas precisas\n",
    "que separan a una clase otra y también su frecuencia. \n",
    "\n",
    "Para esto utilizaremos la función histogram() de Numpy. \n",
    "\"\"\"\n",
    "np.histogram(pop_log, bins = 7)"
   ]
  },
  {
   "cell_type": "code",
   "execution_count": 66,
   "metadata": {},
   "outputs": [
    {
     "name": "stdout",
     "output_type": "stream",
     "text": [
      "Help on function histogram in module numpy:\n",
      "\n",
      "histogram(a, bins=10, range=None, normed=None, weights=None, density=None)\n",
      "    Compute the histogram of a set of data.\n",
      "    \n",
      "    Parameters\n",
      "    ----------\n",
      "    a : array_like\n",
      "        Input data. The histogram is computed over the flattened array.\n",
      "    bins : int or sequence of scalars or str, optional\n",
      "        If `bins` is an int, it defines the number of equal-width\n",
      "        bins in the given range (10, by default). If `bins` is a\n",
      "        sequence, it defines a monotonically increasing array of bin edges,\n",
      "        including the rightmost edge, allowing for non-uniform bin widths.\n",
      "    \n",
      "        .. versionadded:: 1.11.0\n",
      "    \n",
      "        If `bins` is a string, it defines the method used to calculate the\n",
      "        optimal bin width, as defined by `histogram_bin_edges`.\n",
      "    \n",
      "    range : (float, float), optional\n",
      "        The lower and upper range of the bins.  If not provided, range\n",
      "        is simply ``(a.min(), a.max())``.  Values outside the range are\n",
      "        ignored. The first element of the range must be less than or\n",
      "        equal to the second. `range` affects the automatic bin\n",
      "        computation as well. While bin width is computed to be optimal\n",
      "        based on the actual data within `range`, the bin count will fill\n",
      "        the entire range including portions containing no data.\n",
      "    normed : bool, optional\n",
      "    \n",
      "        .. deprecated:: 1.6.0\n",
      "    \n",
      "        This is equivalent to the `density` argument, but produces incorrect\n",
      "        results for unequal bin widths. It should not be used.\n",
      "    \n",
      "        .. versionchanged:: 1.15.0\n",
      "            DeprecationWarnings are actually emitted.\n",
      "    \n",
      "    weights : array_like, optional\n",
      "        An array of weights, of the same shape as `a`.  Each value in\n",
      "        `a` only contributes its associated weight towards the bin count\n",
      "        (instead of 1). If `density` is True, the weights are\n",
      "        normalized, so that the integral of the density over the range\n",
      "        remains 1.\n",
      "    density : bool, optional\n",
      "        If ``False``, the result will contain the number of samples in\n",
      "        each bin. If ``True``, the result is the value of the\n",
      "        probability *density* function at the bin, normalized such that\n",
      "        the *integral* over the range is 1. Note that the sum of the\n",
      "        histogram values will not be equal to 1 unless bins of unity\n",
      "        width are chosen; it is not a probability *mass* function.\n",
      "    \n",
      "        Overrides the ``normed`` keyword if given.\n",
      "    \n",
      "    Returns\n",
      "    -------\n",
      "    hist : array\n",
      "        The values of the histogram. See `density` and `weights` for a\n",
      "        description of the possible semantics.\n",
      "    bin_edges : array of dtype float\n",
      "        Return the bin edges ``(length(hist)+1)``.\n",
      "    \n",
      "    \n",
      "    See Also\n",
      "    --------\n",
      "    histogramdd, bincount, searchsorted, digitize, histogram_bin_edges\n",
      "    \n",
      "    Notes\n",
      "    -----\n",
      "    All but the last (righthand-most) bin is half-open.  In other words,\n",
      "    if `bins` is::\n",
      "    \n",
      "      [1, 2, 3, 4]\n",
      "    \n",
      "    then the first bin is ``[1, 2)`` (including 1, but excluding 2) and\n",
      "    the second ``[2, 3)``.  The last bin, however, is ``[3, 4]``, which\n",
      "    *includes* 4.\n",
      "    \n",
      "    \n",
      "    Examples\n",
      "    --------\n",
      "    >>> np.histogram([1, 2, 1], bins=[0, 1, 2, 3])\n",
      "    (array([0, 2, 1]), array([0, 1, 2, 3]))\n",
      "    >>> np.histogram(np.arange(4), bins=np.arange(5), density=True)\n",
      "    (array([0.25, 0.25, 0.25, 0.25]), array([0, 1, 2, 3, 4]))\n",
      "    >>> np.histogram([[1, 2, 1], [1, 0, 1]], bins=[0,1,2,3])\n",
      "    (array([1, 4, 1]), array([0, 1, 2, 3]))\n",
      "    \n",
      "    >>> a = np.arange(5)\n",
      "    >>> hist, bin_edges = np.histogram(a, density=True)\n",
      "    >>> hist\n",
      "    array([0.5, 0. , 0.5, 0. , 0. , 0.5, 0. , 0.5, 0. , 0.5])\n",
      "    >>> hist.sum()\n",
      "    2.4999999999999996\n",
      "    >>> np.sum(hist * np.diff(bin_edges))\n",
      "    1.0\n",
      "    \n",
      "    .. versionadded:: 1.11.0\n",
      "    \n",
      "    Automated Bin Selection Methods example, using 2 peak random data\n",
      "    with 2000 points:\n",
      "    \n",
      "    >>> import matplotlib.pyplot as plt\n",
      "    >>> rng = np.random.RandomState(10)  # deterministic random data\n",
      "    >>> a = np.hstack((rng.normal(size=1000),\n",
      "    ...                rng.normal(loc=5, scale=2, size=1000)))\n",
      "    >>> _ = plt.hist(a, bins='auto')  # arguments are passed to np.histogram\n",
      "    >>> plt.title(\"Histogram with 'auto' bins\")\n",
      "    Text(0.5, 1.0, \"Histogram with 'auto' bins\")\n",
      "    >>> plt.show()\n",
      "\n"
     ]
    }
   ],
   "source": [
    "'''\n",
    "Observa que esto nos devuelve dos arrays\n",
    "y no una gráfica.\n",
    "'''\n",
    "help(np.histogram)"
   ]
  },
  {
   "cell_type": "code",
   "execution_count": 67,
   "metadata": {},
   "outputs": [],
   "source": [
    "\"\"\"\n",
    "Guardamos el resultado de la función anterior en dos arrays.\n",
    "\"\"\"\n",
    "frecuencia, marca = np.histogram(pop_log, bins = 7)"
   ]
  },
  {
   "cell_type": "code",
   "execution_count": 68,
   "metadata": {},
   "outputs": [
    {
     "data": {
      "text/plain": [
       "(7, 8)"
      ]
     },
     "execution_count": 68,
     "metadata": {},
     "output_type": "execute_result"
    }
   ],
   "source": [
    "\"\"\"\n",
    "Observa que hay una frecuencia menos que el total de marcas. \n",
    "Esto es porque cada frecuencia corresponde con una clase diferente\n",
    "delimitada por dos marcas sucesivas. \n",
    "\"\"\"\n",
    "len(frecuencia), len(marca) "
   ]
  },
  {
   "cell_type": "code",
   "execution_count": 69,
   "metadata": {},
   "outputs": [
    {
     "data": {
      "text/plain": [
       "array([6.55063196, 7.59223229])"
      ]
     },
     "execution_count": 69,
     "metadata": {},
     "output_type": "execute_result"
    }
   ],
   "source": [
    "\"\"\"\n",
    "Para acceder a las marcas podemos usar los índices que van del 0 al 7.\n",
    "Por ejemplo, la última clase está delimitada pde la siguiente manera.\n",
    "\"\"\"\n",
    "marca[[len(marca)-2,len(marca)-1]]"
   ]
  },
  {
   "cell_type": "code",
   "execution_count": 70,
   "metadata": {},
   "outputs": [
    {
     "data": {
      "text/plain": [
       "array([6.55063196, 7.59223229])"
      ]
     },
     "execution_count": 70,
     "metadata": {},
     "output_type": "execute_result"
    }
   ],
   "source": [
    "\"\"\"\n",
    "Sin embargo, a veces es más sencillo contar del final al inicio. Por \n",
    "ejemplo, la última clase se puede determinar de la siguiente manera.\n",
    "\"\"\"\n",
    "marca[[-2, -1]]"
   ]
  },
  {
   "cell_type": "code",
   "execution_count": 71,
   "metadata": {},
   "outputs": [
    {
     "data": {
      "text/plain": [
       "214"
      ]
     },
     "execution_count": 71,
     "metadata": {},
     "output_type": "execute_result"
    }
   ],
   "source": [
    "\"\"\"\n",
    "De manera similar, podemos acceder a la frecuencia de la última clase \n",
    "con índices negativos.\n",
    "\"\"\"\n",
    "frecuencia[-1]"
   ]
  },
  {
   "cell_type": "code",
   "execution_count": 72,
   "metadata": {},
   "outputs": [
    {
     "data": {
      "text/plain": [
       "214"
      ]
     },
     "execution_count": 72,
     "metadata": {},
     "output_type": "execute_result"
    }
   ],
   "source": [
    "\"\"\"\n",
    "Averigüemos ahora cuantos países están en esta última clase.\n",
    "\"\"\"\n",
    "(pop_log >= marca[-2]).sum()"
   ]
  },
  {
   "cell_type": "code",
   "execution_count": 73,
   "metadata": {},
   "outputs": [
    {
     "data": {
      "text/plain": [
       "214"
      ]
     },
     "execution_count": 73,
     "metadata": {},
     "output_type": "execute_result"
    }
   ],
   "source": [
    "\"\"\"\n",
    "De manera alternativa, podemos usar la función sum de Numpy\n",
    "\"\"\"\n",
    "np.sum(pop_log >= marca[-2])"
   ]
  },
  {
   "cell_type": "code",
   "execution_count": 74,
   "metadata": {},
   "outputs": [
    {
     "data": {
      "text/plain": [
       "3553301.0"
      ]
     },
     "execution_count": 74,
     "metadata": {},
     "output_type": "execute_result"
    }
   ],
   "source": [
    "\"\"\"\n",
    "Veamos aproximadamente cuál es el límite inferior de esta clase\n",
    "\"\"\"\n",
    "np.round(10**marca[-2], 0)"
   ]
  },
  {
   "cell_type": "code",
   "execution_count": 75,
   "metadata": {},
   "outputs": [
    {
     "data": {
      "text/plain": [
       "39105000.0"
      ]
     },
     "execution_count": 75,
     "metadata": {},
     "output_type": "execute_result"
    }
   ],
   "source": [
    "\"\"\"\n",
    "Hagamos el cálculo ahora para la marca superior\n",
    "\"\"\"\n",
    "np.round(10**marca[-1], 0)"
   ]
  },
  {
   "cell_type": "code",
   "execution_count": 76,
   "metadata": {},
   "outputs": [
    {
     "data": {
      "text/plain": [
       "city       country    \n",
       "Tokyo      Japan          39105000.0\n",
       "Jakarta    Indonesia      35362000.0\n",
       "Delhi      India          31870000.0\n",
       "Manila     Philippines    23971000.0\n",
       "Sao Paulo  Brazil         22495000.0\n",
       "Name: population, dtype: float64"
      ]
     },
     "execution_count": 76,
     "metadata": {},
     "output_type": "execute_result"
    }
   ],
   "source": [
    "\"\"\"\n",
    "Ahora sí estamos listos para definir nuestra lista de megaciudades.\n",
    "\"\"\"\n",
    "megacities_pop = pop[pop!=0][(pop_log >= marca[-2])]\n",
    "megacities_pop.head()"
   ]
  },
  {
   "cell_type": "code",
   "execution_count": 77,
   "metadata": {},
   "outputs": [
    {
     "data": {
      "text/plain": [
       "pandas.core.series.Series"
      ]
     },
     "execution_count": 77,
     "metadata": {},
     "output_type": "execute_result"
    }
   ],
   "source": [
    "\"\"\"\n",
    "Revisemos que clase de objeto obtuvimos con estas operaciones\n",
    "\"\"\"\n",
    "type(megacities_pop)"
   ]
  },
  {
   "cell_type": "code",
   "execution_count": 78,
   "metadata": {},
   "outputs": [
    {
     "data": {
      "text/plain": [
       "1686.0"
      ]
     },
     "execution_count": 78,
     "metadata": {},
     "output_type": "execute_result"
    }
   ],
   "source": [
    "\"\"\"\n",
    "Averigüemos cuál es la población total de estas megaciudades, en millones de habitantes\n",
    "\"\"\"\n",
    "megacities_pop.sum()//10**6"
   ]
  },
  {
   "cell_type": "code",
   "execution_count": 79,
   "metadata": {},
   "outputs": [
    {
     "data": {
      "text/plain": [
       "38.00624727610634"
      ]
     },
     "execution_count": 79,
     "metadata": {},
     "output_type": "execute_result"
    }
   ],
   "source": [
    "\"\"\"\n",
    "Comparemos con el total de la población considerada en la base de datos.\n",
    "\"\"\"\n",
    "megacities_pop.sum()/pop.sum()*100"
   ]
  },
  {
   "cell_type": "code",
   "execution_count": 80,
   "metadata": {},
   "outputs": [
    {
     "data": {
      "text/plain": [
       "0.5394640651390255"
      ]
     },
     "execution_count": 80,
     "metadata": {},
     "output_type": "execute_result"
    }
   ],
   "source": [
    "\"\"\"\n",
    "Esto es bastante impresionante considerando el porcentaje de ciudades que están \n",
    "en esta categoría.\n",
    "\"\"\"\n",
    "len(megacities_pop)/len(data)*100"
   ]
  },
  {
   "cell_type": "markdown",
   "metadata": {},
   "source": [
    "### Listas, tuplas, conjuntos y diccionarios\n",
    "\n",
    "En esta secciones, revisaremos algunas otras estructuras de datos que son frecuentemente utilizadas en Python, y aplicaremos su uso en el análisis más detallado de los resultados. También aprenderemos a trazar gráficas para visualizar nuestros resultados. "
   ]
  },
  {
   "cell_type": "code",
   "execution_count": 81,
   "metadata": {},
   "outputs": [],
   "source": [
    "\"\"\"\n",
    "Importamos pyplot, la librería más popular para trazar gráficas y que sirve de base para \n",
    "otras librerías avanzadas, como Seaborn. \n",
    "\"\"\"\n",
    "import matplotlib.pyplot as plt"
   ]
  },
  {
   "cell_type": "code",
   "execution_count": 82,
   "metadata": {},
   "outputs": [
    {
     "data": {
      "text/plain": [
       "MultiIndex([(        'Tokyo',         'Japan'),\n",
       "            (      'Jakarta',     'Indonesia'),\n",
       "            (        'Delhi',         'India'),\n",
       "            (       'Manila',   'Philippines'),\n",
       "            (    'Sao Paulo',        'Brazil'),\n",
       "            (        'Seoul',   'South Korea'),\n",
       "            (       'Mumbai',         'India'),\n",
       "            (     'Shanghai',         'China'),\n",
       "            (  'Mexico City',        'Mexico'),\n",
       "            (    'Guangzhou',         'China'),\n",
       "            ...\n",
       "            (     'Baojishi',         'China'),\n",
       "            (    'Zaozhuang',         'China'),\n",
       "            (     'Neijiang',         'China'),\n",
       "            (     'Baicheng',         'China'),\n",
       "            (       'Berlin',       'Germany'),\n",
       "            (       'Anshan',         'China'),\n",
       "            (      'Lanzhou',         'China'),\n",
       "            (       'Puyang',         'China'),\n",
       "            ('San Francisco', 'United States'),\n",
       "            (      'Jiaozuo',         'China')],\n",
       "           names=['city', 'country'], length=214)"
      ]
     },
     "execution_count": 82,
     "metadata": {},
     "output_type": "execute_result"
    }
   ],
   "source": [
    "\"\"\"\n",
    "Repasemos la lista de ciudades en nuestra serie de megaciudades.\n",
    "\"\"\"\n",
    "megacities_pop.index\n"
   ]
  },
  {
   "cell_type": "code",
   "execution_count": 83,
   "metadata": {},
   "outputs": [
    {
     "data": {
      "text/plain": [
       "pandas.core.indexes.multi.MultiIndex"
      ]
     },
     "execution_count": 83,
     "metadata": {},
     "output_type": "execute_result"
    }
   ],
   "source": [
    "\"\"\"\n",
    "Este índice es de una clase especial en Pandas, construida sobre otra clase más básica pero también más frecuente de encontrar, que son las listas. \n",
    "\"\"\"\n",
    "type(megacities_pop.index)"
   ]
  },
  {
   "cell_type": "code",
   "execution_count": 84,
   "metadata": {},
   "outputs": [
    {
     "data": {
      "text/plain": [
       "list"
      ]
     },
     "execution_count": 84,
     "metadata": {},
     "output_type": "execute_result"
    }
   ],
   "source": [
    "\"\"\"\n",
    "Para los fines pedagógicos de este proyecto, degradaremos el índice a la clase de listas, a fin de aprenderlas a utilizar en otros contextos.\n",
    "\"\"\"\n",
    "megacities = list(megacities_pop.index)\n",
    "type(megacities)"
   ]
  },
  {
   "cell_type": "code",
   "execution_count": 85,
   "metadata": {},
   "outputs": [
    {
     "data": {
      "text/plain": [
       "[('Tokyo', 'Japan'),\n",
       " ('Jakarta', 'Indonesia'),\n",
       " ('Delhi', 'India'),\n",
       " ('Manila', 'Philippines'),\n",
       " ('Sao Paulo', 'Brazil'),\n",
       " ('Seoul', 'South Korea'),\n",
       " ('Mumbai', 'India'),\n",
       " ('Shanghai', 'China'),\n",
       " ('Mexico City', 'Mexico'),\n",
       " ('Guangzhou', 'China')]"
      ]
     },
     "execution_count": 85,
     "metadata": {},
     "output_type": "execute_result"
    }
   ],
   "source": [
    "\"\"\"\n",
    "Por ejemplo, podemos subseleccionar elementos de la lista usando indexación. \n",
    "\"\"\"\n",
    "megacities[:10]"
   ]
  },
  {
   "cell_type": "code",
   "execution_count": 86,
   "metadata": {},
   "outputs": [
    {
     "data": {
      "text/plain": [
       "tuple"
      ]
     },
     "execution_count": 86,
     "metadata": {},
     "output_type": "execute_result"
    }
   ],
   "source": [
    "\"\"\"\n",
    "Las listas pueden contener elementos de todo tipo. Por ejemplo, nuestra lista contiene\n",
    "objetos de otra clase, a saber, las tuplas.\n",
    "\"\"\"\n",
    "type(megacities[0])"
   ]
  },
  {
   "cell_type": "code",
   "execution_count": 87,
   "metadata": {},
   "outputs": [
    {
     "data": {
      "text/plain": [
       "'Tokyo'"
      ]
     },
     "execution_count": 87,
     "metadata": {},
     "output_type": "execute_result"
    }
   ],
   "source": [
    "\"\"\"\n",
    "Las tuplas son colecciones ordenadas inmutables. Podemos acceder a sus elementos también\n",
    "a través de índices o simplemente asignando los diferentes elementos a diferentes variables\n",
    "\"\"\"\n",
    "\n",
    "ciudad, pais = megacities[0]\n",
    "ciudad"
   ]
  },
  {
   "cell_type": "code",
   "execution_count": 88,
   "metadata": {},
   "outputs": [
    {
     "name": "stdout",
     "output_type": "stream",
     "text": [
      "Mexico City\n",
      "Guadalajara\n"
     ]
    }
   ],
   "source": [
    "\"\"\"\n",
    "Ahora podemos recorrer esta lista, extrayendo la información de sus elementos, para \n",
    "procesarla. Por ejemplo, enlistemos las megaciudades que están en México. \n",
    "\"\"\"\n",
    "for city, country in megacities:\n",
    "    if country == \"Mexico\":\n",
    "        print(city)"
   ]
  },
  {
   "cell_type": "code",
   "execution_count": 89,
   "metadata": {},
   "outputs": [
    {
     "name": "stdout",
     "output_type": "stream",
     "text": [
      "134\n"
     ]
    }
   ],
   "source": [
    "\"\"\"\n",
    "Repitamos el ejercicio, pero ahora contando las megaciudades que están en China. \n",
    "\"\"\"\n",
    "china_total = 0\n",
    "\n",
    "for city, country in megacities:\n",
    "    if country==\"China\":\n",
    "        china_total += 1\n",
    "\n",
    "print(china_total)"
   ]
  },
  {
   "cell_type": "code",
   "execution_count": 90,
   "metadata": {},
   "outputs": [
    {
     "data": {
      "text/plain": [
       "0.6261682242990654"
      ]
     },
     "execution_count": 90,
     "metadata": {},
     "output_type": "execute_result"
    }
   ],
   "source": [
    "\"\"\"\n",
    "Como puedes observar, la absoluta mayoría de nuestras megaciudades están en China. \n",
    "\"\"\"\n",
    "china_total/len(megacities)"
   ]
  },
  {
   "cell_type": "code",
   "execution_count": 91,
   "metadata": {},
   "outputs": [],
   "source": [
    "\"\"\"\n",
    "Otra estructura muy útil es el conjunto, que como su análogo matemático, no admite \n",
    "elementos repetidos. \n",
    "\n",
    "Construyamos un conjunto y una lista con los países en nuestra lista de megaciudades.\n",
    "\"\"\"\n",
    "countries_set = set()\n",
    "countries_list = list()\n",
    "\n",
    "for city, country in megacities:\n",
    "    countries_set.add(country)\n",
    "    countries_list.append(country)"
   ]
  },
  {
   "cell_type": "code",
   "execution_count": 92,
   "metadata": {},
   "outputs": [
    {
     "data": {
      "text/plain": [
       "{'Afghanistan',\n",
       " 'Angola',\n",
       " 'Argentina',\n",
       " 'Australia',\n",
       " 'Bangladesh',\n",
       " 'Brazil',\n",
       " 'Canada',\n",
       " 'Chile',\n",
       " 'China',\n",
       " 'Colombia',\n",
       " 'Congo (Kinshasa)',\n",
       " \"Côte d'Ivoire\",\n",
       " 'Egypt',\n",
       " 'France',\n",
       " 'Germany',\n",
       " 'Hong Kong',\n",
       " 'India',\n",
       " 'Indonesia',\n",
       " 'Iran',\n",
       " 'Iraq',\n",
       " 'Japan',\n",
       " 'Jordan',\n",
       " 'Kenya',\n",
       " 'Malaysia',\n",
       " 'Mexico',\n",
       " 'Morocco',\n",
       " 'Myanmar',\n",
       " 'Nigeria',\n",
       " 'Pakistan',\n",
       " 'Peru',\n",
       " 'Philippines',\n",
       " 'Russia',\n",
       " 'Saudi Arabia',\n",
       " 'Singapore',\n",
       " 'South Africa',\n",
       " 'South Korea',\n",
       " 'Spain',\n",
       " 'Sudan',\n",
       " 'Tanzania',\n",
       " 'Thailand',\n",
       " 'Turkey',\n",
       " 'United Kingdom',\n",
       " 'United States',\n",
       " 'Vietnam'}"
      ]
     },
     "execution_count": 92,
     "metadata": {},
     "output_type": "execute_result"
    }
   ],
   "source": [
    "\"\"\"\n",
    "Como puedes observar, cada país aparece una y solo una vez. Esto es especialmente útil \n",
    "cuando necesitamos saber las categorías únicas en un conjunto de datos. \n",
    "\"\"\"\n",
    "countries_set"
   ]
  },
  {
   "cell_type": "code",
   "execution_count": 93,
   "metadata": {},
   "outputs": [
    {
     "data": {
      "text/plain": [
       "['Japan',\n",
       " 'Indonesia',\n",
       " 'India',\n",
       " 'Philippines',\n",
       " 'Brazil',\n",
       " 'South Korea',\n",
       " 'India',\n",
       " 'China',\n",
       " 'Mexico',\n",
       " 'China',\n",
       " 'Egypt',\n",
       " 'China',\n",
       " 'United States',\n",
       " 'India',\n",
       " 'Russia',\n",
       " 'Thailand',\n",
       " 'Bangladesh',\n",
       " 'Argentina',\n",
       " 'Japan',\n",
       " 'Nigeria',\n",
       " 'Turkey',\n",
       " 'Pakistan',\n",
       " 'Congo (Kinshasa)',\n",
       " 'China',\n",
       " 'India',\n",
       " 'Vietnam',\n",
       " 'Iran',\n",
       " 'United States',\n",
       " 'Brazil',\n",
       " 'China',\n",
       " 'China',\n",
       " 'India',\n",
       " 'Pakistan',\n",
       " 'United Kingdom',\n",
       " 'France',\n",
       " 'China',\n",
       " 'China',\n",
       " 'China',\n",
       " 'China',\n",
       " 'China',\n",
       " 'India',\n",
       " 'China',\n",
       " 'China',\n",
       " 'Japan',\n",
       " 'China',\n",
       " 'Peru',\n",
       " 'China',\n",
       " 'Angola',\n",
       " 'China',\n",
       " 'China',\n",
       " 'Malaysia',\n",
       " 'United States',\n",
       " 'China',\n",
       " 'China',\n",
       " 'Vietnam',\n",
       " 'China',\n",
       " 'China',\n",
       " 'China',\n",
       " 'China',\n",
       " 'China',\n",
       " 'India',\n",
       " 'China',\n",
       " 'Colombia',\n",
       " 'China',\n",
       " 'India',\n",
       " 'China',\n",
       " 'China',\n",
       " 'China',\n",
       " 'Tanzania',\n",
       " 'China',\n",
       " 'Hong Kong',\n",
       " 'China',\n",
       " 'China',\n",
       " 'China',\n",
       " 'China',\n",
       " 'China',\n",
       " 'China',\n",
       " 'China',\n",
       " 'China',\n",
       " 'China',\n",
       " 'China',\n",
       " 'China',\n",
       " 'Chile',\n",
       " 'China',\n",
       " 'Saudi Arabia',\n",
       " 'China',\n",
       " 'China',\n",
       " 'China',\n",
       " 'China',\n",
       " 'China',\n",
       " 'China',\n",
       " 'United States',\n",
       " 'China',\n",
       " 'China',\n",
       " 'China',\n",
       " 'China',\n",
       " 'China',\n",
       " 'China',\n",
       " 'China',\n",
       " 'Iraq',\n",
       " 'China',\n",
       " 'Sudan',\n",
       " 'Spain',\n",
       " 'India',\n",
       " 'China',\n",
       " 'China',\n",
       " 'China',\n",
       " 'China',\n",
       " 'United States',\n",
       " 'China',\n",
       " 'China',\n",
       " 'United States',\n",
       " 'China',\n",
       " 'Egypt',\n",
       " 'China',\n",
       " 'China',\n",
       " 'China',\n",
       " 'China',\n",
       " 'Kenya',\n",
       " 'China',\n",
       " 'China',\n",
       " 'United States',\n",
       " 'China',\n",
       " 'United States',\n",
       " 'Mexico',\n",
       " 'Myanmar',\n",
       " 'Canada',\n",
       " 'China',\n",
       " 'Russia',\n",
       " 'United States',\n",
       " 'China',\n",
       " 'China',\n",
       " 'China',\n",
       " 'China',\n",
       " 'China',\n",
       " 'Singapore',\n",
       " 'China',\n",
       " 'China',\n",
       " 'Brazil',\n",
       " 'China',\n",
       " 'China',\n",
       " 'China',\n",
       " 'China',\n",
       " 'China',\n",
       " \"Côte d'Ivoire\",\n",
       " 'China',\n",
       " 'China',\n",
       " 'China',\n",
       " 'China',\n",
       " 'China',\n",
       " 'China',\n",
       " 'India',\n",
       " 'Egypt',\n",
       " 'China',\n",
       " 'Australia',\n",
       " 'China',\n",
       " 'China',\n",
       " 'China',\n",
       " 'Spain',\n",
       " 'China',\n",
       " 'China',\n",
       " 'United States',\n",
       " 'China',\n",
       " 'China',\n",
       " 'China',\n",
       " 'China',\n",
       " 'China',\n",
       " 'Australia',\n",
       " 'China',\n",
       " 'China',\n",
       " 'China',\n",
       " 'China',\n",
       " 'Colombia',\n",
       " 'South Africa',\n",
       " 'China',\n",
       " 'China',\n",
       " 'China',\n",
       " 'China',\n",
       " 'Morocco',\n",
       " 'China',\n",
       " 'China',\n",
       " 'China',\n",
       " 'China',\n",
       " 'China',\n",
       " 'Afghanistan',\n",
       " 'United States',\n",
       " 'China',\n",
       " 'China',\n",
       " 'China',\n",
       " 'China',\n",
       " 'China',\n",
       " 'China',\n",
       " 'China',\n",
       " 'Jordan',\n",
       " 'Saudi Arabia',\n",
       " 'China',\n",
       " 'China',\n",
       " 'China',\n",
       " 'China',\n",
       " 'Nigeria',\n",
       " 'China',\n",
       " 'United States',\n",
       " 'Japan',\n",
       " 'China',\n",
       " 'China',\n",
       " 'China',\n",
       " 'China',\n",
       " 'China',\n",
       " 'Germany',\n",
       " 'China',\n",
       " 'China',\n",
       " 'China',\n",
       " 'United States',\n",
       " 'China']"
      ]
     },
     "execution_count": 93,
     "metadata": {},
     "output_type": "execute_result"
    }
   ],
   "source": [
    "\"\"\"\n",
    "Por el otro lado, las listas son útiles para hacer conteos precisamente porque admiten \n",
    "datos repetidos. \n",
    "\"\"\"\n",
    "countries_list"
   ]
  },
  {
   "cell_type": "code",
   "execution_count": 94,
   "metadata": {},
   "outputs": [
    {
     "data": {
      "text/plain": [
       "44"
      ]
     },
     "execution_count": 94,
     "metadata": {},
     "output_type": "execute_result"
    }
   ],
   "source": [
    "\"\"\"\n",
    "Contemos el número de países diferentes que aparecen en nuestro listado. \n",
    "\"\"\"\n",
    "len(countries_set)"
   ]
  },
  {
   "cell_type": "code",
   "execution_count": 95,
   "metadata": {},
   "outputs": [
    {
     "data": {
      "text/plain": [
       "{'Jordan': 0,\n",
       " 'China': 0,\n",
       " 'Hong Kong': 0,\n",
       " 'Afghanistan': 0,\n",
       " 'Bangladesh': 0,\n",
       " 'Turkey': 0,\n",
       " \"Côte d'Ivoire\": 0,\n",
       " 'Brazil': 0,\n",
       " 'United Kingdom': 0,\n",
       " 'Nigeria': 0,\n",
       " 'Mexico': 0,\n",
       " 'Iraq': 0,\n",
       " 'Peru': 0,\n",
       " 'Pakistan': 0,\n",
       " 'Indonesia': 0,\n",
       " 'Morocco': 0,\n",
       " 'Kenya': 0,\n",
       " 'Congo (Kinshasa)': 0,\n",
       " 'Saudi Arabia': 0,\n",
       " 'Germany': 0,\n",
       " 'Tanzania': 0,\n",
       " 'Chile': 0,\n",
       " 'Canada': 0,\n",
       " 'Japan': 0,\n",
       " 'South Africa': 0,\n",
       " 'Russia': 0,\n",
       " 'Singapore': 0,\n",
       " 'Malaysia': 0,\n",
       " 'Spain': 0,\n",
       " 'Myanmar': 0,\n",
       " 'Vietnam': 0,\n",
       " 'Egypt': 0,\n",
       " 'France': 0,\n",
       " 'Philippines': 0,\n",
       " 'South Korea': 0,\n",
       " 'Thailand': 0,\n",
       " 'Sudan': 0,\n",
       " 'India': 0,\n",
       " 'Angola': 0,\n",
       " 'Colombia': 0,\n",
       " 'Australia': 0,\n",
       " 'Iran': 0,\n",
       " 'United States': 0,\n",
       " 'Argentina': 0}"
      ]
     },
     "execution_count": 95,
     "metadata": {},
     "output_type": "execute_result"
    }
   ],
   "source": [
    "\"\"\"\n",
    "Finalmente introduciremos una última estructura que es mi favorita: los diccionarios. \n",
    "Crudamente, es una colección de elementos llamados claves que tienen asociados valores. \n",
    "Utilicemos nuestras tres estructuras para contabilizar el número de megaciudades por país.\n",
    "\"\"\"\n",
    "frequency = dict()\n",
    "\n",
    "for country in countries_set:\n",
    "    frequency[country] = 0\n",
    "\n",
    "frequency"
   ]
  },
  {
   "cell_type": "code",
   "execution_count": 96,
   "metadata": {},
   "outputs": [
    {
     "data": {
      "text/plain": [
       "{'Jordan': 0,\n",
       " 'China': 0,\n",
       " 'Hong Kong': 0,\n",
       " 'Afghanistan': 0,\n",
       " 'Bangladesh': 0,\n",
       " 'Turkey': 0,\n",
       " \"Côte d'Ivoire\": 0,\n",
       " 'Brazil': 0,\n",
       " 'United Kingdom': 0,\n",
       " 'Nigeria': 0,\n",
       " 'Mexico': 0,\n",
       " 'Iraq': 0,\n",
       " 'Peru': 0,\n",
       " 'Pakistan': 0,\n",
       " 'Indonesia': 0,\n",
       " 'Morocco': 0,\n",
       " 'Kenya': 0,\n",
       " 'Congo (Kinshasa)': 0,\n",
       " 'Saudi Arabia': 0,\n",
       " 'Germany': 0,\n",
       " 'Tanzania': 0,\n",
       " 'Chile': 0,\n",
       " 'Canada': 0,\n",
       " 'Japan': 0,\n",
       " 'South Africa': 0,\n",
       " 'Russia': 0,\n",
       " 'Singapore': 0,\n",
       " 'Malaysia': 0,\n",
       " 'Spain': 0,\n",
       " 'Myanmar': 0,\n",
       " 'Vietnam': 0,\n",
       " 'Egypt': 0,\n",
       " 'France': 0,\n",
       " 'Philippines': 0,\n",
       " 'South Korea': 0,\n",
       " 'Thailand': 0,\n",
       " 'Sudan': 0,\n",
       " 'India': 0,\n",
       " 'Angola': 0,\n",
       " 'Colombia': 0,\n",
       " 'Australia': 0,\n",
       " 'Iran': 0,\n",
       " 'United States': 0,\n",
       " 'Argentina': 0}"
      ]
     },
     "execution_count": 96,
     "metadata": {},
     "output_type": "execute_result"
    }
   ],
   "source": [
    "frequency = {country:0 for country in countries_set}\n",
    "frequency"
   ]
  },
  {
   "cell_type": "code",
   "execution_count": 97,
   "metadata": {},
   "outputs": [
    {
     "data": {
      "text/plain": [
       "{'Jordan': 1,\n",
       " 'China': 134,\n",
       " 'Hong Kong': 1,\n",
       " 'Afghanistan': 1,\n",
       " 'Bangladesh': 1,\n",
       " 'Turkey': 1,\n",
       " \"Côte d'Ivoire\": 1,\n",
       " 'Brazil': 3,\n",
       " 'United Kingdom': 1,\n",
       " 'Nigeria': 2,\n",
       " 'Mexico': 2,\n",
       " 'Iraq': 1,\n",
       " 'Peru': 1,\n",
       " 'Pakistan': 2,\n",
       " 'Indonesia': 1,\n",
       " 'Morocco': 1,\n",
       " 'Kenya': 1,\n",
       " 'Congo (Kinshasa)': 1,\n",
       " 'Saudi Arabia': 2,\n",
       " 'Germany': 1,\n",
       " 'Tanzania': 1,\n",
       " 'Chile': 1,\n",
       " 'Canada': 1,\n",
       " 'Japan': 4,\n",
       " 'South Africa': 1,\n",
       " 'Russia': 2,\n",
       " 'Singapore': 1,\n",
       " 'Malaysia': 1,\n",
       " 'Spain': 2,\n",
       " 'Myanmar': 1,\n",
       " 'Vietnam': 2,\n",
       " 'Egypt': 3,\n",
       " 'France': 1,\n",
       " 'Philippines': 1,\n",
       " 'South Korea': 1,\n",
       " 'Thailand': 1,\n",
       " 'Sudan': 1,\n",
       " 'India': 10,\n",
       " 'Angola': 1,\n",
       " 'Colombia': 2,\n",
       " 'Australia': 2,\n",
       " 'Iran': 1,\n",
       " 'United States': 13,\n",
       " 'Argentina': 1}"
      ]
     },
     "execution_count": 97,
     "metadata": {},
     "output_type": "execute_result"
    }
   ],
   "source": [
    "for country in countries_list:\n",
    "    frequency[country] +=1 \n",
    "\n",
    "frequency"
   ]
  },
  {
   "cell_type": "code",
   "execution_count": 98,
   "metadata": {},
   "outputs": [],
   "source": [
    "\"\"\"\n",
    "Con el método .keys() podemos acceder a los valores.\n",
    "\"\"\"\n",
    "x_range = frequency.keys()"
   ]
  },
  {
   "cell_type": "code",
   "execution_count": 99,
   "metadata": {},
   "outputs": [
    {
     "data": {
      "text/plain": [
       "dict_values([1, 134, 1, 1, 1, 1, 1, 3, 1, 2, 2, 1, 1, 2, 1, 1, 1, 1, 2, 1, 1, 1, 1, 4, 1, 2, 1, 1, 2, 1, 2, 3, 1, 1, 1, 1, 1, 10, 1, 2, 2, 1, 13, 1])"
      ]
     },
     "execution_count": 99,
     "metadata": {},
     "output_type": "execute_result"
    }
   ],
   "source": [
    "\"\"\"\n",
    "Mientras que con el método .values(), accederemos a los valores. \n",
    "\"\"\"\n",
    "y_range = frequency.values()\n",
    "y_range"
   ]
  },
  {
   "cell_type": "code",
   "execution_count": 100,
   "metadata": {},
   "outputs": [
    {
     "data": {
      "image/png": "[encoded data removed]",
      "text/plain": [
       "<Figure size 1080x216 with 1 Axes>"
      ]
     },
     "metadata": {
      "needs_background": "light"
     },
     "output_type": "display_data"
    }
   ],
   "source": [
    "\"\"\"\n",
    "Finalmente, visualicemos nuestros resultados a través de un diagrama de dispersión\n",
    "\"\"\"\n",
    "plt.figure(figsize=(15,3))\n",
    "plt.scatter(x_range, y_range)\n",
    "plt.xticks(rotation = 90)\n",
    "plt.show()"
   ]
  },
  {
   "cell_type": "code",
   "execution_count": 101,
   "metadata": {},
   "outputs": [
    {
     "name": "stdout",
     "output_type": "stream",
     "text": [
      "Counter({'China': 134, 'United States': 13, 'India': 10, 'Japan': 4, 'Brazil': 3, 'Egypt': 3, 'Mexico': 2, 'Russia': 2, 'Nigeria': 2, 'Pakistan': 2, 'Vietnam': 2, 'Colombia': 2, 'Saudi Arabia': 2, 'Spain': 2, 'Australia': 2, 'Indonesia': 1, 'Philippines': 1, 'South Korea': 1, 'Thailand': 1, 'Bangladesh': 1, 'Argentina': 1, 'Turkey': 1, 'Congo (Kinshasa)': 1, 'Iran': 1, 'United Kingdom': 1, 'France': 1, 'Peru': 1, 'Angola': 1, 'Malaysia': 1, 'Tanzania': 1, 'Hong Kong': 1, 'Chile': 1, 'Iraq': 1, 'Sudan': 1, 'Kenya': 1, 'Myanmar': 1, 'Canada': 1, 'Singapore': 1, \"Côte d'Ivoire\": 1, 'South Africa': 1, 'Morocco': 1, 'Afghanistan': 1, 'Jordan': 1, 'Germany': 1})\n"
     ]
    }
   ],
   "source": [
    "\"\"\"\n",
    "Existen otras muchas estructuras muy útiles definidas en diferentes módulos de Python. \n",
    "Por ejemplo, el análisis anterior de puede simplificar con la clase Counter. \n",
    "\"\"\"\n",
    "from collections import Counter\n",
    "\n",
    "countries_count = Counter(countries_list)\n",
    "print(countries_count)"
   ]
  },
  {
   "cell_type": "code",
   "execution_count": 102,
   "metadata": {},
   "outputs": [
    {
     "data": {
      "text/plain": [
       "[('China', 134),\n",
       " ('United States', 13),\n",
       " ('India', 10),\n",
       " ('Japan', 4),\n",
       " ('Brazil', 3),\n",
       " ('Egypt', 3),\n",
       " ('Mexico', 2),\n",
       " ('Russia', 2),\n",
       " ('Nigeria', 2),\n",
       " ('Pakistan', 2)]"
      ]
     },
     "execution_count": 102,
     "metadata": {},
     "output_type": "execute_result"
    }
   ],
   "source": [
    "\"\"\"\n",
    "Estos objetos tienen algunos otros métodos que no poseen los diccionarios. Por lo que \n",
    "resulta muy útil averiguar todas las opciones que tenemos en Python para realizar \n",
    "nuestros proyectos. \n",
    "\n",
    "Después de todo, Python viene con las baterías incluidas. \n",
    "\"\"\"\n",
    "countries_count.most_common(10)"
   ]
  },
  {
   "cell_type": "code",
   "execution_count": 103,
   "metadata": {},
   "outputs": [
    {
     "data": {
      "text/plain": [
       "0.0093"
      ]
     },
     "execution_count": 103,
     "metadata": {},
     "output_type": "execute_result"
    }
   ],
   "source": [
    "\"\"\"\n",
    "Un análisis que nos resultará interesante es saber la frecuencia relativa con las que\n",
    "un país posee megaciudades. \n",
    "\n",
    "Como este análisis lo tenemos que realizar país por país, nos conviene escribir una \n",
    "función que encapsule nuestra idea y la repita con una sola llamada. \n",
    "\"\"\"\n",
    "def calc_rel_freq(country):\n",
    "    freq = frequency[country]\n",
    "    rel_freq = np.round(freq/len(countries_list), 4)\n",
    "    return rel_freq\n",
    "    \n",
    "calc_rel_freq(\"Mexico\")"
   ]
  },
  {
   "cell_type": "code",
   "execution_count": 104,
   "metadata": {},
   "outputs": [
    {
     "name": "stdout",
     "output_type": "stream",
     "text": [
      "{'Japan': 0.0187, 'Indonesia': 0.0047, 'India': 0.0467, 'Philippines': 0.0047, 'Brazil': 0.014, 'South Korea': 0.0047, 'China': 0.6262, 'Mexico': 0.0093, 'Egypt': 0.014, 'United States': 0.0607, 'Russia': 0.0093, 'Thailand': 0.0047, 'Bangladesh': 0.0047, 'Argentina': 0.0047, 'Nigeria': 0.0093, 'Turkey': 0.0047, 'Pakistan': 0.0093, 'Congo (Kinshasa)': 0.0047, 'Vietnam': 0.0093, 'Iran': 0.0047, 'United Kingdom': 0.0047, 'France': 0.0047, 'Peru': 0.0047, 'Angola': 0.0047, 'Malaysia': 0.0047, 'Colombia': 0.0093, 'Tanzania': 0.0047, 'Hong Kong': 0.0047, 'Chile': 0.0047, 'Saudi Arabia': 0.0093, 'Iraq': 0.0047, 'Sudan': 0.0047, 'Spain': 0.0093, 'Kenya': 0.0047, 'Myanmar': 0.0047, 'Canada': 0.0047, 'Singapore': 0.0047, \"Côte d'Ivoire\": 0.0047, 'Australia': 0.0093, 'South Africa': 0.0047, 'Morocco': 0.0047, 'Afghanistan': 0.0047, 'Jordan': 0.0047, 'Germany': 0.0047}\n"
     ]
    }
   ],
   "source": [
    "\"\"\"\n",
    "De esta manera podemos crear un diccionario para guardar las parejas de países con sus \n",
    "frecuencias relativas. Si bien podemos usar un ciclo, en Python resulta más sencillo y\n",
    "agradable para el lector, usar la comprensión.\n",
    "\"\"\"\n",
    "countries_rel_freq = {country:calc_rel_freq(country) for country in countries_list}\n",
    "\n",
    "print(countries_rel_freq)"
   ]
  },
  {
   "cell_type": "code",
   "execution_count": 105,
   "metadata": {},
   "outputs": [
    {
     "data": {
      "text/plain": [
       "dict_values([0.0187, 0.0047, 0.0467, 0.0047, 0.014, 0.0047, 0.6262, 0.0093, 0.014, 0.0607, 0.0093, 0.0047, 0.0047, 0.0047, 0.0093, 0.0047, 0.0093, 0.0047, 0.0093, 0.0047, 0.0047, 0.0047, 0.0047, 0.0047, 0.0047, 0.0093, 0.0047, 0.0047, 0.0047, 0.0093, 0.0047, 0.0047, 0.0093, 0.0047, 0.0047, 0.0047, 0.0047, 0.0047, 0.0093, 0.0047, 0.0047, 0.0047, 0.0047, 0.0047])"
      ]
     },
     "execution_count": 105,
     "metadata": {},
     "output_type": "execute_result"
    }
   ],
   "source": [
    "\"\"\"\n",
    "Intentemos usar la función sum de Numpy para verificar si el total es igual con 1.00\n",
    "\"\"\"\n",
    "np.sum(countries_rel_freq.values())"
   ]
  },
  {
   "cell_type": "code",
   "execution_count": 106,
   "metadata": {},
   "outputs": [
    {
     "data": {
      "text/plain": [
       "1.0003"
      ]
     },
     "execution_count": 106,
     "metadata": {},
     "output_type": "execute_result"
    }
   ],
   "source": [
    "\"\"\"\n",
    "Este ejemplos nos debe prevenir sobre los resultados inesperados que podríamos obtener \n",
    "al aplicar una misma función sobre objetos de clases diferente. \n",
    "\n",
    "Convirtamos nuestra objeto de la clase dict_values a una lista y realicemos el cálculo. \n",
    "\"\"\"\n",
    "np.sum(list(countries_rel_freq.values()))"
   ]
  },
  {
   "cell_type": "code",
   "execution_count": 107,
   "metadata": {},
   "outputs": [
    {
     "data": {
      "text/plain": [
       "Jordan           1\n",
       "China          134\n",
       "Hong Kong        1\n",
       "Afghanistan      1\n",
       "Bangladesh       1\n",
       "dtype: int64"
      ]
     },
     "execution_count": 107,
     "metadata": {},
     "output_type": "execute_result"
    }
   ],
   "source": [
    "\"\"\"\n",
    "Finalmente, con esta información, podemos crear una serie para sacar todo el provecho a sus\n",
    "métodos preconstruidos y facilitar nuestro análisis. \n",
    "\"\"\"\n",
    "megacities_per_country = pd.Series(frequency)\n",
    "megacities_per_country.head()"
   ]
  },
  {
   "cell_type": "code",
   "execution_count": 108,
   "metadata": {},
   "outputs": [
    {
     "data": {
      "text/plain": [
       "<AxesSubplot:>"
      ]
     },
     "execution_count": 108,
     "metadata": {},
     "output_type": "execute_result"
    },
    {
     "data": {
      "image/png": "[encoded data removed]",
      "text/plain": [
       "<Figure size 432x288 with 1 Axes>"
      ]
     },
     "metadata": {
      "needs_background": "light"
     },
     "output_type": "display_data"
    }
   ],
   "source": [
    "\"\"\"\n",
    "Por ejemplo, un diagrama de barras. \n",
    "\"\"\"\n",
    "megacities_per_country.plot.bar()"
   ]
  },
  {
   "cell_type": "code",
   "execution_count": 109,
   "metadata": {},
   "outputs": [
    {
     "data": {
      "text/plain": [
       "Japan          0.0187\n",
       "Indonesia      0.0047\n",
       "India          0.0467\n",
       "Philippines    0.0047\n",
       "Brazil         0.0140\n",
       "dtype: float64"
      ]
     },
     "execution_count": 109,
     "metadata": {},
     "output_type": "execute_result"
    }
   ],
   "source": [
    "\"\"\"\n",
    "Podemos hacer lo mismo con las frecuencias relativas.\n",
    "\"\"\"\n",
    "megacities_per_country_rel = pd.Series(countries_rel_freq)\n",
    "megacities_per_country_rel.head()"
   ]
  },
  {
   "cell_type": "code",
   "execution_count": 110,
   "metadata": {},
   "outputs": [
    {
     "data": {
      "text/html": [
       "<div>\n",
       "<style scoped>\n",
       "    .dataframe tbody tr th:only-of-type {\n",
       "        vertical-align: middle;\n",
       "    }\n",
       "\n",
       "    .dataframe tbody tr th {\n",
       "        vertical-align: top;\n",
       "    }\n",
       "\n",
       "    .dataframe thead th {\n",
       "        text-align: right;\n",
       "    }\n",
       "</style>\n",
       "<table border=\"1\" class=\"dataframe\">\n",
       "  <thead>\n",
       "    <tr style=\"text-align: right;\">\n",
       "      <th></th>\n",
       "      <th>Frecuencia</th>\n",
       "      <th>Frecuencia relativa</th>\n",
       "    </tr>\n",
       "  </thead>\n",
       "  <tbody>\n",
       "    <tr>\n",
       "      <th>Jordan</th>\n",
       "      <td>1</td>\n",
       "      <td>0.0047</td>\n",
       "    </tr>\n",
       "    <tr>\n",
       "      <th>China</th>\n",
       "      <td>134</td>\n",
       "      <td>0.6262</td>\n",
       "    </tr>\n",
       "    <tr>\n",
       "      <th>Hong Kong</th>\n",
       "      <td>1</td>\n",
       "      <td>0.0047</td>\n",
       "    </tr>\n",
       "    <tr>\n",
       "      <th>Afghanistan</th>\n",
       "      <td>1</td>\n",
       "      <td>0.0047</td>\n",
       "    </tr>\n",
       "    <tr>\n",
       "      <th>Bangladesh</th>\n",
       "      <td>1</td>\n",
       "      <td>0.0047</td>\n",
       "    </tr>\n",
       "    <tr>\n",
       "      <th>Turkey</th>\n",
       "      <td>1</td>\n",
       "      <td>0.0047</td>\n",
       "    </tr>\n",
       "    <tr>\n",
       "      <th>Côte d'Ivoire</th>\n",
       "      <td>1</td>\n",
       "      <td>0.0047</td>\n",
       "    </tr>\n",
       "    <tr>\n",
       "      <th>Brazil</th>\n",
       "      <td>3</td>\n",
       "      <td>0.0140</td>\n",
       "    </tr>\n",
       "    <tr>\n",
       "      <th>United Kingdom</th>\n",
       "      <td>1</td>\n",
       "      <td>0.0047</td>\n",
       "    </tr>\n",
       "    <tr>\n",
       "      <th>Nigeria</th>\n",
       "      <td>2</td>\n",
       "      <td>0.0093</td>\n",
       "    </tr>\n",
       "    <tr>\n",
       "      <th>Mexico</th>\n",
       "      <td>2</td>\n",
       "      <td>0.0093</td>\n",
       "    </tr>\n",
       "    <tr>\n",
       "      <th>Iraq</th>\n",
       "      <td>1</td>\n",
       "      <td>0.0047</td>\n",
       "    </tr>\n",
       "    <tr>\n",
       "      <th>Peru</th>\n",
       "      <td>1</td>\n",
       "      <td>0.0047</td>\n",
       "    </tr>\n",
       "    <tr>\n",
       "      <th>Pakistan</th>\n",
       "      <td>2</td>\n",
       "      <td>0.0093</td>\n",
       "    </tr>\n",
       "    <tr>\n",
       "      <th>Indonesia</th>\n",
       "      <td>1</td>\n",
       "      <td>0.0047</td>\n",
       "    </tr>\n",
       "    <tr>\n",
       "      <th>Morocco</th>\n",
       "      <td>1</td>\n",
       "      <td>0.0047</td>\n",
       "    </tr>\n",
       "    <tr>\n",
       "      <th>Kenya</th>\n",
       "      <td>1</td>\n",
       "      <td>0.0047</td>\n",
       "    </tr>\n",
       "    <tr>\n",
       "      <th>Congo (Kinshasa)</th>\n",
       "      <td>1</td>\n",
       "      <td>0.0047</td>\n",
       "    </tr>\n",
       "    <tr>\n",
       "      <th>Saudi Arabia</th>\n",
       "      <td>2</td>\n",
       "      <td>0.0093</td>\n",
       "    </tr>\n",
       "    <tr>\n",
       "      <th>Germany</th>\n",
       "      <td>1</td>\n",
       "      <td>0.0047</td>\n",
       "    </tr>\n",
       "    <tr>\n",
       "      <th>Tanzania</th>\n",
       "      <td>1</td>\n",
       "      <td>0.0047</td>\n",
       "    </tr>\n",
       "    <tr>\n",
       "      <th>Chile</th>\n",
       "      <td>1</td>\n",
       "      <td>0.0047</td>\n",
       "    </tr>\n",
       "    <tr>\n",
       "      <th>Canada</th>\n",
       "      <td>1</td>\n",
       "      <td>0.0047</td>\n",
       "    </tr>\n",
       "    <tr>\n",
       "      <th>Japan</th>\n",
       "      <td>4</td>\n",
       "      <td>0.0187</td>\n",
       "    </tr>\n",
       "    <tr>\n",
       "      <th>South Africa</th>\n",
       "      <td>1</td>\n",
       "      <td>0.0047</td>\n",
       "    </tr>\n",
       "    <tr>\n",
       "      <th>Russia</th>\n",
       "      <td>2</td>\n",
       "      <td>0.0093</td>\n",
       "    </tr>\n",
       "    <tr>\n",
       "      <th>Singapore</th>\n",
       "      <td>1</td>\n",
       "      <td>0.0047</td>\n",
       "    </tr>\n",
       "    <tr>\n",
       "      <th>Malaysia</th>\n",
       "      <td>1</td>\n",
       "      <td>0.0047</td>\n",
       "    </tr>\n",
       "    <tr>\n",
       "      <th>Spain</th>\n",
       "      <td>2</td>\n",
       "      <td>0.0093</td>\n",
       "    </tr>\n",
       "    <tr>\n",
       "      <th>Myanmar</th>\n",
       "      <td>1</td>\n",
       "      <td>0.0047</td>\n",
       "    </tr>\n",
       "    <tr>\n",
       "      <th>Vietnam</th>\n",
       "      <td>2</td>\n",
       "      <td>0.0093</td>\n",
       "    </tr>\n",
       "    <tr>\n",
       "      <th>Egypt</th>\n",
       "      <td>3</td>\n",
       "      <td>0.0140</td>\n",
       "    </tr>\n",
       "    <tr>\n",
       "      <th>France</th>\n",
       "      <td>1</td>\n",
       "      <td>0.0047</td>\n",
       "    </tr>\n",
       "    <tr>\n",
       "      <th>Philippines</th>\n",
       "      <td>1</td>\n",
       "      <td>0.0047</td>\n",
       "    </tr>\n",
       "    <tr>\n",
       "      <th>South Korea</th>\n",
       "      <td>1</td>\n",
       "      <td>0.0047</td>\n",
       "    </tr>\n",
       "    <tr>\n",
       "      <th>Thailand</th>\n",
       "      <td>1</td>\n",
       "      <td>0.0047</td>\n",
       "    </tr>\n",
       "    <tr>\n",
       "      <th>Sudan</th>\n",
       "      <td>1</td>\n",
       "      <td>0.0047</td>\n",
       "    </tr>\n",
       "    <tr>\n",
       "      <th>India</th>\n",
       "      <td>10</td>\n",
       "      <td>0.0467</td>\n",
       "    </tr>\n",
       "    <tr>\n",
       "      <th>Angola</th>\n",
       "      <td>1</td>\n",
       "      <td>0.0047</td>\n",
       "    </tr>\n",
       "    <tr>\n",
       "      <th>Colombia</th>\n",
       "      <td>2</td>\n",
       "      <td>0.0093</td>\n",
       "    </tr>\n",
       "    <tr>\n",
       "      <th>Australia</th>\n",
       "      <td>2</td>\n",
       "      <td>0.0093</td>\n",
       "    </tr>\n",
       "    <tr>\n",
       "      <th>Iran</th>\n",
       "      <td>1</td>\n",
       "      <td>0.0047</td>\n",
       "    </tr>\n",
       "    <tr>\n",
       "      <th>United States</th>\n",
       "      <td>13</td>\n",
       "      <td>0.0607</td>\n",
       "    </tr>\n",
       "    <tr>\n",
       "      <th>Argentina</th>\n",
       "      <td>1</td>\n",
       "      <td>0.0047</td>\n",
       "    </tr>\n",
       "  </tbody>\n",
       "</table>\n",
       "</div>"
      ],
      "text/plain": [
       "                  Frecuencia  Frecuencia relativa\n",
       "Jordan                     1               0.0047\n",
       "China                    134               0.6262\n",
       "Hong Kong                  1               0.0047\n",
       "Afghanistan                1               0.0047\n",
       "Bangladesh                 1               0.0047\n",
       "Turkey                     1               0.0047\n",
       "Côte d'Ivoire              1               0.0047\n",
       "Brazil                     3               0.0140\n",
       "United Kingdom             1               0.0047\n",
       "Nigeria                    2               0.0093\n",
       "Mexico                     2               0.0093\n",
       "Iraq                       1               0.0047\n",
       "Peru                       1               0.0047\n",
       "Pakistan                   2               0.0093\n",
       "Indonesia                  1               0.0047\n",
       "Morocco                    1               0.0047\n",
       "Kenya                      1               0.0047\n",
       "Congo (Kinshasa)           1               0.0047\n",
       "Saudi Arabia               2               0.0093\n",
       "Germany                    1               0.0047\n",
       "Tanzania                   1               0.0047\n",
       "Chile                      1               0.0047\n",
       "Canada                     1               0.0047\n",
       "Japan                      4               0.0187\n",
       "South Africa               1               0.0047\n",
       "Russia                     2               0.0093\n",
       "Singapore                  1               0.0047\n",
       "Malaysia                   1               0.0047\n",
       "Spain                      2               0.0093\n",
       "Myanmar                    1               0.0047\n",
       "Vietnam                    2               0.0093\n",
       "Egypt                      3               0.0140\n",
       "France                     1               0.0047\n",
       "Philippines                1               0.0047\n",
       "South Korea                1               0.0047\n",
       "Thailand                   1               0.0047\n",
       "Sudan                      1               0.0047\n",
       "India                     10               0.0467\n",
       "Angola                     1               0.0047\n",
       "Colombia                   2               0.0093\n",
       "Australia                  2               0.0093\n",
       "Iran                       1               0.0047\n",
       "United States             13               0.0607\n",
       "Argentina                  1               0.0047"
      ]
     },
     "execution_count": 110,
     "metadata": {},
     "output_type": "execute_result"
    }
   ],
   "source": [
    "\"\"\"\n",
    "Para finalmente crear un marco de datos con la información obtenida en ambos análisis.\n",
    "\"\"\"\n",
    "datos_para_combinar = [megacities_per_country, megacities_per_country_rel]\n",
    "nuevos_nombres = {0:\"Frecuencia\", 1:\"Frecuencia relativa\"}\n",
    "pd.concat(datos_para_combinar, axis=\"columns\").rename(columns=nuevos_nombres)"
   ]
  }
 ],
 "metadata": {
  "interpreter": {
   "hash": "25403150d5a7477468ba738a5bbd28a07f1d4c30690d3f249803c8b45e484235"
  },
  "kernelspec": {
   "display_name": "Python 3.9.7 ('base')",
   "language": "python",
   "name": "python3"
  },
  "language_info": {
   "codemirror_mode": {
    "name": "ipython",
    "version": 3
   },
   "file_extension": ".py",
   "mimetype": "text/x-python",
   "name": "python",
   "nbconvert_exporter": "python",
   "pygments_lexer": "ipython3",
   "version": "3.8.11"
  },
  "orig_nbformat": 4
 },
 "nbformat": 4,
 "nbformat_minor": 2
}
